{
 "cells": [
  {
   "cell_type": "code",
   "execution_count": 1,
   "metadata": {},
   "outputs": [],
   "source": [
    "import xgboost as xgb\n",
    "\n",
    "import numpy as np\n",
    "import pandas as pd\n",
    "import matplotlib.pyplot as plt\n",
    "from sklearn.metrics import mean_squared_error\n",
    "from sklearn.model_selection import TimeSeriesSplit\n",
    "from numba import jit\n",
    "import math\n",
    "import mlflow\n",
    "\n",
    "import xgboost as xgb\n",
    "\n",
    "from libs.metrics import smape_fast\n",
    "from libs.data_engineering import prepareDataXGBoost\n",
    "import time"
   ]
  },
  {
   "cell_type": "code",
   "execution_count": 2,
   "metadata": {},
   "outputs": [],
   "source": [
    "size_data = 1000\n",
    "encoding = \"oneHotEncoding\"#oneHotEncoding, label\n",
    "model = 'XGBoost'"
   ]
  },
  {
   "cell_type": "code",
   "execution_count": 3,
   "metadata": {},
   "outputs": [],
   "source": [
    "train_1 = pd.read_csv('../Data/train_1.csv')\n",
    "train_1_reduce = train_1"
   ]
  },
  {
   "cell_type": "code",
   "execution_count": 4,
   "metadata": {},
   "outputs": [
    {
     "name": "stderr",
     "output_type": "stream",
     "text": [
      "/opt/anaconda3/lib/python3.7/site-packages/ipykernel_launcher.py:1: DeprecationWarning: time.clock has been deprecated in Python 3.3 and will be removed from Python 3.8: use time.perf_counter or time.process_time instead\n",
      "  \"\"\"Entry point for launching an IPython kernel.\n"
     ]
    },
    {
     "name": "stdout",
     "output_type": "stream",
     "text": [
      "Temps d'exécution total: 963.9912039999999 secondes\n"
     ]
    }
   ],
   "source": [
    "tps1= time.clock()\n",
    "data = prepareDataXGBoost(train_1_reduce, encoding)\n",
    "tps2= time.clock()\n",
    "print(\"Temps d'exécution total: \" + str(tps2-tps1) + \" secondes\")"
   ]
  },
  {
   "cell_type": "code",
   "execution_count": 5,
   "metadata": {},
   "outputs": [
    {
     "data": {
      "text/html": [
       "<div>\n",
       "<style scoped>\n",
       "    .dataframe tbody tr th:only-of-type {\n",
       "        vertical-align: middle;\n",
       "    }\n",
       "\n",
       "    .dataframe tbody tr th {\n",
       "        vertical-align: top;\n",
       "    }\n",
       "\n",
       "    .dataframe thead th {\n",
       "        text-align: right;\n",
       "    }\n",
       "</style>\n",
       "<table border=\"1\" class=\"dataframe\">\n",
       "  <thead>\n",
       "    <tr style=\"text-align: right;\">\n",
       "      <th></th>\n",
       "      <th></th>\n",
       "      <th>Visitors</th>\n",
       "      <th>Visitors_shift_1</th>\n",
       "      <th>Visitors_shift_2</th>\n",
       "      <th>Visitors_shift_3</th>\n",
       "      <th>Visitors_shift_4</th>\n",
       "      <th>Visitors_shift_5</th>\n",
       "      <th>Visitors_shift_6</th>\n",
       "      <th>Visitors_shift_7</th>\n",
       "      <th>Visitors_shift_90</th>\n",
       "      <th>agent_all-access_all-agents</th>\n",
       "      <th>...</th>\n",
       "      <th>site_commons.wikimedia.org</th>\n",
       "      <th>site_wikipedia.org</th>\n",
       "      <th>site_www.mediawiki.org</th>\n",
       "      <th>country_de</th>\n",
       "      <th>country_en</th>\n",
       "      <th>country_es</th>\n",
       "      <th>country_fr</th>\n",
       "      <th>country_ja</th>\n",
       "      <th>country_ru</th>\n",
       "      <th>country_zh</th>\n",
       "    </tr>\n",
       "    <tr>\n",
       "      <th>Page</th>\n",
       "      <th>Dates</th>\n",
       "      <th></th>\n",
       "      <th></th>\n",
       "      <th></th>\n",
       "      <th></th>\n",
       "      <th></th>\n",
       "      <th></th>\n",
       "      <th></th>\n",
       "      <th></th>\n",
       "      <th></th>\n",
       "      <th></th>\n",
       "      <th></th>\n",
       "      <th></th>\n",
       "      <th></th>\n",
       "      <th></th>\n",
       "      <th></th>\n",
       "      <th></th>\n",
       "      <th></th>\n",
       "      <th></th>\n",
       "      <th></th>\n",
       "      <th></th>\n",
       "      <th></th>\n",
       "    </tr>\n",
       "  </thead>\n",
       "  <tbody>\n",
       "    <tr>\n",
       "      <th rowspan=\"5\" valign=\"top\">!vote_en.wikipedia.org_all-access_all-agents</th>\n",
       "      <th>2015-07-01</th>\n",
       "      <td>3.0</td>\n",
       "      <td>NaN</td>\n",
       "      <td>NaN</td>\n",
       "      <td>NaN</td>\n",
       "      <td>NaN</td>\n",
       "      <td>NaN</td>\n",
       "      <td>NaN</td>\n",
       "      <td>NaN</td>\n",
       "      <td>NaN</td>\n",
       "      <td>1</td>\n",
       "      <td>...</td>\n",
       "      <td>0</td>\n",
       "      <td>1</td>\n",
       "      <td>0</td>\n",
       "      <td>0</td>\n",
       "      <td>1</td>\n",
       "      <td>0</td>\n",
       "      <td>0</td>\n",
       "      <td>0</td>\n",
       "      <td>0</td>\n",
       "      <td>0</td>\n",
       "    </tr>\n",
       "    <tr>\n",
       "      <th>2015-07-02</th>\n",
       "      <td>4.0</td>\n",
       "      <td>3.0</td>\n",
       "      <td>NaN</td>\n",
       "      <td>NaN</td>\n",
       "      <td>NaN</td>\n",
       "      <td>NaN</td>\n",
       "      <td>NaN</td>\n",
       "      <td>NaN</td>\n",
       "      <td>NaN</td>\n",
       "      <td>1</td>\n",
       "      <td>...</td>\n",
       "      <td>0</td>\n",
       "      <td>1</td>\n",
       "      <td>0</td>\n",
       "      <td>0</td>\n",
       "      <td>1</td>\n",
       "      <td>0</td>\n",
       "      <td>0</td>\n",
       "      <td>0</td>\n",
       "      <td>0</td>\n",
       "      <td>0</td>\n",
       "    </tr>\n",
       "    <tr>\n",
       "      <th>2015-07-03</th>\n",
       "      <td>7.0</td>\n",
       "      <td>4.0</td>\n",
       "      <td>3.0</td>\n",
       "      <td>NaN</td>\n",
       "      <td>NaN</td>\n",
       "      <td>NaN</td>\n",
       "      <td>NaN</td>\n",
       "      <td>NaN</td>\n",
       "      <td>NaN</td>\n",
       "      <td>1</td>\n",
       "      <td>...</td>\n",
       "      <td>0</td>\n",
       "      <td>1</td>\n",
       "      <td>0</td>\n",
       "      <td>0</td>\n",
       "      <td>1</td>\n",
       "      <td>0</td>\n",
       "      <td>0</td>\n",
       "      <td>0</td>\n",
       "      <td>0</td>\n",
       "      <td>0</td>\n",
       "    </tr>\n",
       "    <tr>\n",
       "      <th>2015-07-04</th>\n",
       "      <td>4.0</td>\n",
       "      <td>7.0</td>\n",
       "      <td>4.0</td>\n",
       "      <td>3.0</td>\n",
       "      <td>NaN</td>\n",
       "      <td>NaN</td>\n",
       "      <td>NaN</td>\n",
       "      <td>NaN</td>\n",
       "      <td>NaN</td>\n",
       "      <td>1</td>\n",
       "      <td>...</td>\n",
       "      <td>0</td>\n",
       "      <td>1</td>\n",
       "      <td>0</td>\n",
       "      <td>0</td>\n",
       "      <td>1</td>\n",
       "      <td>0</td>\n",
       "      <td>0</td>\n",
       "      <td>0</td>\n",
       "      <td>0</td>\n",
       "      <td>0</td>\n",
       "    </tr>\n",
       "    <tr>\n",
       "      <th>2015-07-05</th>\n",
       "      <td>4.0</td>\n",
       "      <td>4.0</td>\n",
       "      <td>7.0</td>\n",
       "      <td>4.0</td>\n",
       "      <td>3.0</td>\n",
       "      <td>NaN</td>\n",
       "      <td>NaN</td>\n",
       "      <td>NaN</td>\n",
       "      <td>NaN</td>\n",
       "      <td>1</td>\n",
       "      <td>...</td>\n",
       "      <td>0</td>\n",
       "      <td>1</td>\n",
       "      <td>0</td>\n",
       "      <td>0</td>\n",
       "      <td>1</td>\n",
       "      <td>0</td>\n",
       "      <td>0</td>\n",
       "      <td>0</td>\n",
       "      <td>0</td>\n",
       "      <td>0</td>\n",
       "    </tr>\n",
       "  </tbody>\n",
       "</table>\n",
       "<p>5 rows × 23 columns</p>\n",
       "</div>"
      ],
      "text/plain": [
       "                                                         Visitors  \\\n",
       "Page                                         Dates                  \n",
       "!vote_en.wikipedia.org_all-access_all-agents 2015-07-01       3.0   \n",
       "                                             2015-07-02       4.0   \n",
       "                                             2015-07-03       7.0   \n",
       "                                             2015-07-04       4.0   \n",
       "                                             2015-07-05       4.0   \n",
       "\n",
       "                                                         Visitors_shift_1  \\\n",
       "Page                                         Dates                          \n",
       "!vote_en.wikipedia.org_all-access_all-agents 2015-07-01               NaN   \n",
       "                                             2015-07-02               3.0   \n",
       "                                             2015-07-03               4.0   \n",
       "                                             2015-07-04               7.0   \n",
       "                                             2015-07-05               4.0   \n",
       "\n",
       "                                                         Visitors_shift_2  \\\n",
       "Page                                         Dates                          \n",
       "!vote_en.wikipedia.org_all-access_all-agents 2015-07-01               NaN   \n",
       "                                             2015-07-02               NaN   \n",
       "                                             2015-07-03               3.0   \n",
       "                                             2015-07-04               4.0   \n",
       "                                             2015-07-05               7.0   \n",
       "\n",
       "                                                         Visitors_shift_3  \\\n",
       "Page                                         Dates                          \n",
       "!vote_en.wikipedia.org_all-access_all-agents 2015-07-01               NaN   \n",
       "                                             2015-07-02               NaN   \n",
       "                                             2015-07-03               NaN   \n",
       "                                             2015-07-04               3.0   \n",
       "                                             2015-07-05               4.0   \n",
       "\n",
       "                                                         Visitors_shift_4  \\\n",
       "Page                                         Dates                          \n",
       "!vote_en.wikipedia.org_all-access_all-agents 2015-07-01               NaN   \n",
       "                                             2015-07-02               NaN   \n",
       "                                             2015-07-03               NaN   \n",
       "                                             2015-07-04               NaN   \n",
       "                                             2015-07-05               3.0   \n",
       "\n",
       "                                                         Visitors_shift_5  \\\n",
       "Page                                         Dates                          \n",
       "!vote_en.wikipedia.org_all-access_all-agents 2015-07-01               NaN   \n",
       "                                             2015-07-02               NaN   \n",
       "                                             2015-07-03               NaN   \n",
       "                                             2015-07-04               NaN   \n",
       "                                             2015-07-05               NaN   \n",
       "\n",
       "                                                         Visitors_shift_6  \\\n",
       "Page                                         Dates                          \n",
       "!vote_en.wikipedia.org_all-access_all-agents 2015-07-01               NaN   \n",
       "                                             2015-07-02               NaN   \n",
       "                                             2015-07-03               NaN   \n",
       "                                             2015-07-04               NaN   \n",
       "                                             2015-07-05               NaN   \n",
       "\n",
       "                                                         Visitors_shift_7  \\\n",
       "Page                                         Dates                          \n",
       "!vote_en.wikipedia.org_all-access_all-agents 2015-07-01               NaN   \n",
       "                                             2015-07-02               NaN   \n",
       "                                             2015-07-03               NaN   \n",
       "                                             2015-07-04               NaN   \n",
       "                                             2015-07-05               NaN   \n",
       "\n",
       "                                                         Visitors_shift_90  \\\n",
       "Page                                         Dates                           \n",
       "!vote_en.wikipedia.org_all-access_all-agents 2015-07-01                NaN   \n",
       "                                             2015-07-02                NaN   \n",
       "                                             2015-07-03                NaN   \n",
       "                                             2015-07-04                NaN   \n",
       "                                             2015-07-05                NaN   \n",
       "\n",
       "                                                         agent_all-access_all-agents  \\\n",
       "Page                                         Dates                                     \n",
       "!vote_en.wikipedia.org_all-access_all-agents 2015-07-01                            1   \n",
       "                                             2015-07-02                            1   \n",
       "                                             2015-07-03                            1   \n",
       "                                             2015-07-04                            1   \n",
       "                                             2015-07-05                            1   \n",
       "\n",
       "                                                         ...  \\\n",
       "Page                                         Dates       ...   \n",
       "!vote_en.wikipedia.org_all-access_all-agents 2015-07-01  ...   \n",
       "                                             2015-07-02  ...   \n",
       "                                             2015-07-03  ...   \n",
       "                                             2015-07-04  ...   \n",
       "                                             2015-07-05  ...   \n",
       "\n",
       "                                                         site_commons.wikimedia.org  \\\n",
       "Page                                         Dates                                    \n",
       "!vote_en.wikipedia.org_all-access_all-agents 2015-07-01                           0   \n",
       "                                             2015-07-02                           0   \n",
       "                                             2015-07-03                           0   \n",
       "                                             2015-07-04                           0   \n",
       "                                             2015-07-05                           0   \n",
       "\n",
       "                                                         site_wikipedia.org  \\\n",
       "Page                                         Dates                            \n",
       "!vote_en.wikipedia.org_all-access_all-agents 2015-07-01                   1   \n",
       "                                             2015-07-02                   1   \n",
       "                                             2015-07-03                   1   \n",
       "                                             2015-07-04                   1   \n",
       "                                             2015-07-05                   1   \n",
       "\n",
       "                                                         site_www.mediawiki.org  \\\n",
       "Page                                         Dates                                \n",
       "!vote_en.wikipedia.org_all-access_all-agents 2015-07-01                       0   \n",
       "                                             2015-07-02                       0   \n",
       "                                             2015-07-03                       0   \n",
       "                                             2015-07-04                       0   \n",
       "                                             2015-07-05                       0   \n",
       "\n",
       "                                                         country_de  \\\n",
       "Page                                         Dates                    \n",
       "!vote_en.wikipedia.org_all-access_all-agents 2015-07-01           0   \n",
       "                                             2015-07-02           0   \n",
       "                                             2015-07-03           0   \n",
       "                                             2015-07-04           0   \n",
       "                                             2015-07-05           0   \n",
       "\n",
       "                                                         country_en  \\\n",
       "Page                                         Dates                    \n",
       "!vote_en.wikipedia.org_all-access_all-agents 2015-07-01           1   \n",
       "                                             2015-07-02           1   \n",
       "                                             2015-07-03           1   \n",
       "                                             2015-07-04           1   \n",
       "                                             2015-07-05           1   \n",
       "\n",
       "                                                         country_es  \\\n",
       "Page                                         Dates                    \n",
       "!vote_en.wikipedia.org_all-access_all-agents 2015-07-01           0   \n",
       "                                             2015-07-02           0   \n",
       "                                             2015-07-03           0   \n",
       "                                             2015-07-04           0   \n",
       "                                             2015-07-05           0   \n",
       "\n",
       "                                                         country_fr  \\\n",
       "Page                                         Dates                    \n",
       "!vote_en.wikipedia.org_all-access_all-agents 2015-07-01           0   \n",
       "                                             2015-07-02           0   \n",
       "                                             2015-07-03           0   \n",
       "                                             2015-07-04           0   \n",
       "                                             2015-07-05           0   \n",
       "\n",
       "                                                         country_ja  \\\n",
       "Page                                         Dates                    \n",
       "!vote_en.wikipedia.org_all-access_all-agents 2015-07-01           0   \n",
       "                                             2015-07-02           0   \n",
       "                                             2015-07-03           0   \n",
       "                                             2015-07-04           0   \n",
       "                                             2015-07-05           0   \n",
       "\n",
       "                                                         country_ru  \\\n",
       "Page                                         Dates                    \n",
       "!vote_en.wikipedia.org_all-access_all-agents 2015-07-01           0   \n",
       "                                             2015-07-02           0   \n",
       "                                             2015-07-03           0   \n",
       "                                             2015-07-04           0   \n",
       "                                             2015-07-05           0   \n",
       "\n",
       "                                                         country_zh  \n",
       "Page                                         Dates                   \n",
       "!vote_en.wikipedia.org_all-access_all-agents 2015-07-01           0  \n",
       "                                             2015-07-02           0  \n",
       "                                             2015-07-03           0  \n",
       "                                             2015-07-04           0  \n",
       "                                             2015-07-05           0  \n",
       "\n",
       "[5 rows x 23 columns]"
      ]
     },
     "execution_count": 5,
     "metadata": {},
     "output_type": "execute_result"
    }
   ],
   "source": [
    "data.head()"
   ]
  },
  {
   "cell_type": "code",
   "execution_count": 6,
   "metadata": {},
   "outputs": [
    {
     "data": {
      "text/plain": [
       "(79784650, 23)"
      ]
     },
     "execution_count": 6,
     "metadata": {},
     "output_type": "execute_result"
    }
   ],
   "source": [
    "data.shape"
   ]
  },
  {
   "cell_type": "code",
   "execution_count": 7,
   "metadata": {},
   "outputs": [
    {
     "data": {
      "text/plain": [
       "Index(['Visitors', 'Visitors_shift_1', 'Visitors_shift_2', 'Visitors_shift_3',\n",
       "       'Visitors_shift_4', 'Visitors_shift_5', 'Visitors_shift_6',\n",
       "       'Visitors_shift_7', 'Visitors_shift_90', 'agent_all-access_all-agents',\n",
       "       'agent_all-access_spider', 'agent_desktop_all-agents',\n",
       "       'agent_mobile-web_all-agents', 'site_commons.wikimedia.org',\n",
       "       'site_wikipedia.org', 'site_www.mediawiki.org', 'country_de',\n",
       "       'country_en', 'country_es', 'country_fr', 'country_ja', 'country_ru',\n",
       "       'country_zh'],\n",
       "      dtype='object')"
      ]
     },
     "execution_count": 7,
     "metadata": {},
     "output_type": "execute_result"
    }
   ],
   "source": [
    "data.columns"
   ]
  },
  {
   "cell_type": "code",
   "execution_count": 10,
   "metadata": {},
   "outputs": [],
   "source": [
    "data.to_csv('../Data/prepared_data.csv')"
   ]
  },
  {
   "cell_type": "markdown",
   "metadata": {},
   "source": [
    "<h1>Training</h1>"
   ]
  },
  {
   "cell_type": "code",
   "execution_count": 12,
   "metadata": {},
   "outputs": [],
   "source": [
    "prepared_data = pd.read_csv('../Data/prepared_data.csv')"
   ]
  },
  {
   "cell_type": "code",
   "execution_count": 16,
   "metadata": {},
   "outputs": [
    {
     "data": {
      "text/plain": [
       "(79784650, 23)"
      ]
     },
     "execution_count": 16,
     "metadata": {},
     "output_type": "execute_result"
    }
   ],
   "source": [
    "prepared_data = prepared_data.set_index(['Page','Dates'])\n",
    "prepared_data.shape"
   ]
  },
  {
   "cell_type": "code",
   "execution_count": null,
   "metadata": {},
   "outputs": [
    {
     "name": "stdout",
     "output_type": "stream",
     "text": [
      "TimeSeriesSplit(max_train_size=None, n_splits=5)\n",
      "TRAIN: [       0        1        2 ... 13297442 13297443 13297444] TEST: [13297445 13297446 13297447 ... 26594883 26594884 26594885]\n",
      "2\n",
      "1\n",
      "[18:25:00] WARNING: /Users/travis/build/dmlc/xgboost/src/learner.cc:516: \n",
      "Parameters: { objective=reg } might not be used.\n",
      "\n",
      "  This may not be accurate due to some parameters are only used in language bindings but\n",
      "  passed down to XGBoost core.  Or some parameters are not used but slip through this\n",
      "  verification. Please open an issue if you find above cases.\n",
      "\n",
      "\n",
      "[18:25:00] WARNING: /Users/travis/build/dmlc/xgboost/src/gbm/gbtree.cc:139: Tree method is automatically selected to be 'approx' for faster speed. To use old behavior (exact greedy algorithm on single machine), set tree_method to 'exact'.\n"
     ]
    },
    {
     "name": "stderr",
     "output_type": "stream",
     "text": [
      "/opt/anaconda3/lib/python3.7/site-packages/ipykernel_launcher.py:29: RuntimeWarning: divide by zero encountered in true_divide\n"
     ]
    },
    {
     "name": "stdout",
     "output_type": "stream",
     "text": [
      "Test RMSE: 6576.314\n",
      "Test SMAPE: 99.964\n",
      "Test MAPE: inf\n",
      "4\n",
      "1\n",
      "[18:58:53] WARNING: /Users/travis/build/dmlc/xgboost/src/learner.cc:516: \n",
      "Parameters: { objective=reg } might not be used.\n",
      "\n",
      "  This may not be accurate due to some parameters are only used in language bindings but\n",
      "  passed down to XGBoost core.  Or some parameters are not used but slip through this\n",
      "  verification. Please open an issue if you find above cases.\n",
      "\n",
      "\n",
      "[18:58:54] WARNING: /Users/travis/build/dmlc/xgboost/src/gbm/gbtree.cc:139: Tree method is automatically selected to be 'approx' for faster speed. To use old behavior (exact greedy algorithm on single machine), set tree_method to 'exact'.\n"
     ]
    },
    {
     "name": "stderr",
     "output_type": "stream",
     "text": [
      "/opt/anaconda3/lib/python3.7/site-packages/ipykernel_launcher.py:29: RuntimeWarning: divide by zero encountered in true_divide\n"
     ]
    },
    {
     "name": "stdout",
     "output_type": "stream",
     "text": [
      "Test RMSE: 6551.573\n",
      "Test SMAPE: 98.248\n",
      "Test MAPE: inf\n",
      "6\n",
      "1\n",
      "[19:14:11] WARNING: /Users/travis/build/dmlc/xgboost/src/learner.cc:516: \n",
      "Parameters: { objective=reg } might not be used.\n",
      "\n",
      "  This may not be accurate due to some parameters are only used in language bindings but\n",
      "  passed down to XGBoost core.  Or some parameters are not used but slip through this\n",
      "  verification. Please open an issue if you find above cases.\n",
      "\n",
      "\n",
      "[19:14:11] WARNING: /Users/travis/build/dmlc/xgboost/src/gbm/gbtree.cc:139: Tree method is automatically selected to be 'approx' for faster speed. To use old behavior (exact greedy algorithm on single machine), set tree_method to 'exact'.\n"
     ]
    },
    {
     "name": "stderr",
     "output_type": "stream",
     "text": [
      "/opt/anaconda3/lib/python3.7/site-packages/ipykernel_launcher.py:29: RuntimeWarning: divide by zero encountered in true_divide\n"
     ]
    },
    {
     "name": "stdout",
     "output_type": "stream",
     "text": [
      "Test RMSE: 6525.175\n",
      "Test SMAPE: 70.719\n",
      "Test MAPE: inf\n",
      "TRAIN: [       0        1        2 ... 26594883 26594884 26594885] TEST: [26594886 26594887 26594888 ... 39892324 39892325 39892326]\n",
      "2\n",
      "1\n",
      "[19:17:42] WARNING: /Users/travis/build/dmlc/xgboost/src/learner.cc:516: \n",
      "Parameters: { objective=reg } might not be used.\n",
      "\n",
      "  This may not be accurate due to some parameters are only used in language bindings but\n",
      "  passed down to XGBoost core.  Or some parameters are not used but slip through this\n",
      "  verification. Please open an issue if you find above cases.\n",
      "\n",
      "\n",
      "[19:17:43] WARNING: /Users/travis/build/dmlc/xgboost/src/gbm/gbtree.cc:139: Tree method is automatically selected to be 'approx' for faster speed. To use old behavior (exact greedy algorithm on single machine), set tree_method to 'exact'.\n"
     ]
    },
    {
     "name": "stderr",
     "output_type": "stream",
     "text": [
      "/opt/anaconda3/lib/python3.7/site-packages/ipykernel_launcher.py:29: RuntimeWarning: divide by zero encountered in true_divide\n"
     ]
    },
    {
     "name": "stdout",
     "output_type": "stream",
     "text": [
      "Test RMSE: 186489.386\n",
      "Test SMAPE: 92.732\n",
      "Test MAPE: inf\n",
      "4\n",
      "1\n",
      "[19:20:35] WARNING: /Users/travis/build/dmlc/xgboost/src/learner.cc:516: \n",
      "Parameters: { objective=reg } might not be used.\n",
      "\n",
      "  This may not be accurate due to some parameters are only used in language bindings but\n",
      "  passed down to XGBoost core.  Or some parameters are not used but slip through this\n",
      "  verification. Please open an issue if you find above cases.\n",
      "\n",
      "\n",
      "[19:20:36] WARNING: /Users/travis/build/dmlc/xgboost/src/gbm/gbtree.cc:139: Tree method is automatically selected to be 'approx' for faster speed. To use old behavior (exact greedy algorithm on single machine), set tree_method to 'exact'.\n"
     ]
    },
    {
     "name": "stderr",
     "output_type": "stream",
     "text": [
      "/opt/anaconda3/lib/python3.7/site-packages/ipykernel_launcher.py:29: RuntimeWarning: divide by zero encountered in true_divide\n"
     ]
    },
    {
     "name": "stdout",
     "output_type": "stream",
     "text": [
      "Test RMSE: 181159.900\n",
      "Test SMAPE: 75.865\n",
      "Test MAPE: inf\n",
      "6\n",
      "1\n",
      "[19:22:58] WARNING: /Users/travis/build/dmlc/xgboost/src/learner.cc:516: \n",
      "Parameters: { objective=reg } might not be used.\n",
      "\n",
      "  This may not be accurate due to some parameters are only used in language bindings but\n",
      "  passed down to XGBoost core.  Or some parameters are not used but slip through this\n",
      "  verification. Please open an issue if you find above cases.\n",
      "\n",
      "\n",
      "[19:22:59] WARNING: /Users/travis/build/dmlc/xgboost/src/gbm/gbtree.cc:139: Tree method is automatically selected to be 'approx' for faster speed. To use old behavior (exact greedy algorithm on single machine), set tree_method to 'exact'.\n"
     ]
    },
    {
     "name": "stderr",
     "output_type": "stream",
     "text": [
      "/opt/anaconda3/lib/python3.7/site-packages/ipykernel_launcher.py:29: RuntimeWarning: divide by zero encountered in true_divide\n"
     ]
    },
    {
     "name": "stdout",
     "output_type": "stream",
     "text": [
      "Test RMSE: 181147.172\n",
      "Test SMAPE: 62.069\n",
      "Test MAPE: inf\n",
      "TRAIN: [       0        1        2 ... 39892324 39892325 39892326] TEST: [39892327 39892328 39892329 ... 53189765 53189766 53189767]\n",
      "2\n",
      "1\n",
      "[19:29:04] WARNING: /Users/travis/build/dmlc/xgboost/src/learner.cc:516: \n",
      "Parameters: { objective=reg } might not be used.\n",
      "\n",
      "  This may not be accurate due to some parameters are only used in language bindings but\n",
      "  passed down to XGBoost core.  Or some parameters are not used but slip through this\n",
      "  verification. Please open an issue if you find above cases.\n",
      "\n",
      "\n",
      "[19:29:06] WARNING: /Users/travis/build/dmlc/xgboost/src/gbm/gbtree.cc:139: Tree method is automatically selected to be 'approx' for faster speed. To use old behavior (exact greedy algorithm on single machine), set tree_method to 'exact'.\n"
     ]
    },
    {
     "name": "stderr",
     "output_type": "stream",
     "text": [
      "/opt/anaconda3/lib/python3.7/site-packages/ipykernel_launcher.py:29: RuntimeWarning: divide by zero encountered in true_divide\n"
     ]
    },
    {
     "name": "stdout",
     "output_type": "stream",
     "text": [
      "Test RMSE: 36826.392\n",
      "Test SMAPE: 136.273\n",
      "Test MAPE: inf\n",
      "4\n",
      "1\n",
      "[19:53:21] WARNING: /Users/travis/build/dmlc/xgboost/src/learner.cc:516: \n",
      "Parameters: { objective=reg } might not be used.\n",
      "\n",
      "  This may not be accurate due to some parameters are only used in language bindings but\n",
      "  passed down to XGBoost core.  Or some parameters are not used but slip through this\n",
      "  verification. Please open an issue if you find above cases.\n",
      "\n",
      "\n",
      "[19:53:23] WARNING: /Users/travis/build/dmlc/xgboost/src/gbm/gbtree.cc:139: Tree method is automatically selected to be 'approx' for faster speed. To use old behavior (exact greedy algorithm on single machine), set tree_method to 'exact'.\n"
     ]
    },
    {
     "name": "stderr",
     "output_type": "stream",
     "text": [
      "/opt/anaconda3/lib/python3.7/site-packages/ipykernel_launcher.py:29: RuntimeWarning: divide by zero encountered in true_divide\n"
     ]
    },
    {
     "name": "stdout",
     "output_type": "stream",
     "text": [
      "Test RMSE: 36826.230\n",
      "Test SMAPE: 136.245\n",
      "Test MAPE: inf\n",
      "6\n",
      "1\n",
      "[19:58:38] WARNING: /Users/travis/build/dmlc/xgboost/src/learner.cc:516: \n",
      "Parameters: { objective=reg } might not be used.\n",
      "\n",
      "  This may not be accurate due to some parameters are only used in language bindings but\n",
      "  passed down to XGBoost core.  Or some parameters are not used but slip through this\n",
      "  verification. Please open an issue if you find above cases.\n",
      "\n",
      "\n",
      "[19:58:39] WARNING: /Users/travis/build/dmlc/xgboost/src/gbm/gbtree.cc:139: Tree method is automatically selected to be 'approx' for faster speed. To use old behavior (exact greedy algorithm on single machine), set tree_method to 'exact'.\n"
     ]
    },
    {
     "name": "stderr",
     "output_type": "stream",
     "text": [
      "/opt/anaconda3/lib/python3.7/site-packages/ipykernel_launcher.py:29: RuntimeWarning: divide by zero encountered in true_divide\n"
     ]
    },
    {
     "name": "stdout",
     "output_type": "stream",
     "text": [
      "Test RMSE: 36803.761\n",
      "Test SMAPE: 107.063\n",
      "Test MAPE: inf\n",
      "TRAIN: [       0        1        2 ... 53189765 53189766 53189767] TEST: [53189768 53189769 53189770 ... 66487206 66487207 66487208]\n"
     ]
    }
   ],
   "source": [
    "metrics_df = pd.DataFrame(columns=['RMSE','SMAPE','MAPE'])\n",
    "\n",
    "X = prepared_data.drop('Visitors', axis = 1).values\n",
    "y = prepared_data['Visitors'].values\n",
    "\n",
    "tscv = TimeSeriesSplit()\n",
    "print(tscv)\n",
    "\n",
    "for train_index, test_index in tscv.split(X):\n",
    "    print(\"TRAIN:\", train_index, \"TEST:\", test_index)\n",
    "    X_train, X_test = X[train_index], X[test_index]\n",
    "    y_train, y_test = y[train_index], y[test_index]\n",
    "    \n",
    "    dtrain = xgb.DMatrix(X_train, label=y_train)\n",
    "    dtest = xgb.DMatrix(X_test, label=y_test)\n",
    "    paramSearch = {'max_depth':[2,4,6], 'eta':[1]}\n",
    "    for max_depth in paramSearch['max_depth']:\n",
    "        print(max_depth)\n",
    "        for eta in paramSearch['eta']:\n",
    "            print(eta)\n",
    "            with mlflow.start_run():\n",
    "                num_round = 2\n",
    "                param = {'max_depth': max_depth, 'eta': eta, 'objective=reg' :'tweedie'}\n",
    "                bst = xgb.train(param, dtrain, num_round)\n",
    "                preds = bst.predict(dtest)\n",
    "\n",
    "                rmse = np.sqrt(mean_squared_error(y_test, preds))\n",
    "                smape = smape_fast(y_test, preds)\n",
    "                mape = np.mean(np.abs(preds - y_test)/np.abs(y_test))\n",
    "                print(\"Test RMSE: %.3f\" % rmse)\n",
    "                print(\"Test SMAPE: %.3f\" % smape)\n",
    "                print(\"Test MAPE: %.3f\" % mape)\n",
    "                new_metrics = pd.DataFrame([(rmse,smape,mape)], columns = ['RMSE','SMAPE','MAPE'])\n",
    "                metrics_df= metrics_df.append(new_metrics, ignore_index=True)\n",
    "                \n",
    "                mean_RMSE = metrics_df['RMSE'].mean()\n",
    "                sum_RMSE = metrics_df['RMSE'].sum()\n",
    "                mean_SMAPE = metrics_df['SMAPE'].mean()\n",
    "                mean_MAPE = metrics_df['MAPE'].mean()\n",
    "                \n",
    "                mlflow.log_param(\"encoding\",encoding)\n",
    "                mlflow.log_param(\"model\",model)\n",
    "                mlflow.log_param(\"max_depth\",param['max_depth'])\n",
    "                mlflow.log_param(\"eta\",param['eta'])\n",
    "                mlflow.log_param(\"objective\",param['objective=reg'])\n",
    "                mlflow.log_metric('mean_RMSE', mean_RMSE)\n",
    "                mlflow.log_metric('sum_RMSE', sum_RMSE)\n",
    "                mlflow.log_metric('mean_SMAPE', mean_SMAPE)\n",
    "                mlflow.end_run()"
   ]
  }
 ],
 "metadata": {
  "kernelspec": {
   "display_name": "Python 3",
   "language": "python",
   "name": "python3"
  },
  "language_info": {
   "codemirror_mode": {
    "name": "ipython",
    "version": 3
   },
   "file_extension": ".py",
   "mimetype": "text/x-python",
   "name": "python",
   "nbconvert_exporter": "python",
   "pygments_lexer": "ipython3",
   "version": "3.7.6"
  }
 },
 "nbformat": 4,
 "nbformat_minor": 4
}
