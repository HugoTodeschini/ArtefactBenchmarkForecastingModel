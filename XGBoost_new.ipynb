{
 "cells": [
  {
   "cell_type": "code",
   "execution_count": 1,
   "metadata": {},
   "outputs": [
    {
     "name": "stderr",
     "output_type": "stream",
     "text": [
      "/Users/hugotodeschini/Documents/Benchmark forecasting model/ArtefactBenchmarkForecastingModel/libs/data_engineering.py:9: DeprecationWarning: invalid escape sequence \\.\n",
      "  '(.+)_([a-z][a-z]\\.)?((?:wikipedia\\.org)|(?:commons\\.wikimedia\\.org)|(?:www\\.mediawiki\\.org))_([a-z_-]+?)$')\n"
     ]
    }
   ],
   "source": [
    "import xgboost as xgb\n",
    "\n",
    "import numpy as np\n",
    "import pandas as pd\n",
    "import matplotlib.pyplot as plt\n",
    "from sklearn.metrics import mean_squared_error\n",
    "from sklearn.model_selection import TimeSeriesSplit\n",
    "from numba import jit\n",
    "import math\n",
    "import mlflow\n",
    "\n",
    "import xgboost as xgb\n",
    "\n",
    "from libs.metrics import smape_fast\n",
    "from libs.data_engineering import prepareDataXGBoost\n",
    "import time"
   ]
  },
  {
   "cell_type": "code",
   "execution_count": 2,
   "metadata": {},
   "outputs": [],
   "source": [
    "size_data = 1000\n",
    "encoding = \"oneHotEncoding\"#oneHotEncoding, label\n",
    "model = 'XGBoost'"
   ]
  },
  {
   "cell_type": "code",
   "execution_count": 3,
   "metadata": {},
   "outputs": [],
   "source": [
    "train_1 = pd.read_csv('../Data/train_1.csv')\n",
    "train_1_reduce = train_1[0:size_data]"
   ]
  },
  {
   "cell_type": "code",
   "execution_count": 4,
   "metadata": {},
   "outputs": [
    {
     "name": "stderr",
     "output_type": "stream",
     "text": [
      "/opt/anaconda3/lib/python3.7/site-packages/ipykernel_launcher.py:1: DeprecationWarning: time.clock has been deprecated in Python 3.3 and will be removed from Python 3.8: use time.perf_counter or time.process_time instead\n",
      "  \"\"\"Entry point for launching an IPython kernel.\n"
     ]
    },
    {
     "name": "stdout",
     "output_type": "stream",
     "text": [
      "Temps d'exécution total:2.044507000000001 secondes\n"
     ]
    }
   ],
   "source": [
    "tps1= time.clock()\n",
    "data = prepareDataXGBoost(train_1_reduce, encoding)\n",
    "tps2= time.clock()\n",
    "print(\"Temps d'exécution total:\" + str(tps2-tps1) + \" secondes\")"
   ]
  },
  {
   "cell_type": "code",
   "execution_count": 5,
   "metadata": {},
   "outputs": [
    {
     "data": {
      "text/html": [
       "<div>\n",
       "<style scoped>\n",
       "    .dataframe tbody tr th:only-of-type {\n",
       "        vertical-align: middle;\n",
       "    }\n",
       "\n",
       "    .dataframe tbody tr th {\n",
       "        vertical-align: top;\n",
       "    }\n",
       "\n",
       "    .dataframe thead th {\n",
       "        text-align: right;\n",
       "    }\n",
       "</style>\n",
       "<table border=\"1\" class=\"dataframe\">\n",
       "  <thead>\n",
       "    <tr style=\"text-align: right;\">\n",
       "      <th></th>\n",
       "      <th></th>\n",
       "      <th>Visitors</th>\n",
       "      <th>Visitors_shift_1</th>\n",
       "      <th>Visitors_shift_2</th>\n",
       "      <th>Visitors_shift_3</th>\n",
       "      <th>Visitors_shift_4</th>\n",
       "      <th>Visitors_shift_5</th>\n",
       "      <th>Visitors_shift_6</th>\n",
       "      <th>Visitors_shift_7</th>\n",
       "      <th>Visitors_shift_90</th>\n",
       "      <th>agent_all-access_spider</th>\n",
       "      <th>site_wikipedia.org</th>\n",
       "      <th>country_zh</th>\n",
       "    </tr>\n",
       "    <tr>\n",
       "      <th>Page</th>\n",
       "      <th>Dates</th>\n",
       "      <th></th>\n",
       "      <th></th>\n",
       "      <th></th>\n",
       "      <th></th>\n",
       "      <th></th>\n",
       "      <th></th>\n",
       "      <th></th>\n",
       "      <th></th>\n",
       "      <th></th>\n",
       "      <th></th>\n",
       "      <th></th>\n",
       "      <th></th>\n",
       "    </tr>\n",
       "  </thead>\n",
       "  <tbody>\n",
       "    <tr>\n",
       "      <th rowspan=\"5\" valign=\"top\">100毛_zh.wikipedia.org_all-access_spider</th>\n",
       "      <th>2015-07-01</th>\n",
       "      <td>14.0</td>\n",
       "      <td>NaN</td>\n",
       "      <td>NaN</td>\n",
       "      <td>NaN</td>\n",
       "      <td>NaN</td>\n",
       "      <td>NaN</td>\n",
       "      <td>NaN</td>\n",
       "      <td>NaN</td>\n",
       "      <td>NaN</td>\n",
       "      <td>1</td>\n",
       "      <td>1</td>\n",
       "      <td>1</td>\n",
       "    </tr>\n",
       "    <tr>\n",
       "      <th>2015-07-02</th>\n",
       "      <td>6.0</td>\n",
       "      <td>14.0</td>\n",
       "      <td>NaN</td>\n",
       "      <td>NaN</td>\n",
       "      <td>NaN</td>\n",
       "      <td>NaN</td>\n",
       "      <td>NaN</td>\n",
       "      <td>NaN</td>\n",
       "      <td>NaN</td>\n",
       "      <td>1</td>\n",
       "      <td>1</td>\n",
       "      <td>1</td>\n",
       "    </tr>\n",
       "    <tr>\n",
       "      <th>2015-07-03</th>\n",
       "      <td>14.0</td>\n",
       "      <td>6.0</td>\n",
       "      <td>14.0</td>\n",
       "      <td>NaN</td>\n",
       "      <td>NaN</td>\n",
       "      <td>NaN</td>\n",
       "      <td>NaN</td>\n",
       "      <td>NaN</td>\n",
       "      <td>NaN</td>\n",
       "      <td>1</td>\n",
       "      <td>1</td>\n",
       "      <td>1</td>\n",
       "    </tr>\n",
       "    <tr>\n",
       "      <th>2015-07-04</th>\n",
       "      <td>10.0</td>\n",
       "      <td>14.0</td>\n",
       "      <td>6.0</td>\n",
       "      <td>14.0</td>\n",
       "      <td>NaN</td>\n",
       "      <td>NaN</td>\n",
       "      <td>NaN</td>\n",
       "      <td>NaN</td>\n",
       "      <td>NaN</td>\n",
       "      <td>1</td>\n",
       "      <td>1</td>\n",
       "      <td>1</td>\n",
       "    </tr>\n",
       "    <tr>\n",
       "      <th>2015-07-05</th>\n",
       "      <td>5.0</td>\n",
       "      <td>10.0</td>\n",
       "      <td>14.0</td>\n",
       "      <td>6.0</td>\n",
       "      <td>14.0</td>\n",
       "      <td>NaN</td>\n",
       "      <td>NaN</td>\n",
       "      <td>NaN</td>\n",
       "      <td>NaN</td>\n",
       "      <td>1</td>\n",
       "      <td>1</td>\n",
       "      <td>1</td>\n",
       "    </tr>\n",
       "  </tbody>\n",
       "</table>\n",
       "</div>"
      ],
      "text/plain": [
       "                                                    Visitors  \\\n",
       "Page                                    Dates                  \n",
       "100毛_zh.wikipedia.org_all-access_spider 2015-07-01      14.0   \n",
       "                                        2015-07-02       6.0   \n",
       "                                        2015-07-03      14.0   \n",
       "                                        2015-07-04      10.0   \n",
       "                                        2015-07-05       5.0   \n",
       "\n",
       "                                                    Visitors_shift_1  \\\n",
       "Page                                    Dates                          \n",
       "100毛_zh.wikipedia.org_all-access_spider 2015-07-01               NaN   \n",
       "                                        2015-07-02              14.0   \n",
       "                                        2015-07-03               6.0   \n",
       "                                        2015-07-04              14.0   \n",
       "                                        2015-07-05              10.0   \n",
       "\n",
       "                                                    Visitors_shift_2  \\\n",
       "Page                                    Dates                          \n",
       "100毛_zh.wikipedia.org_all-access_spider 2015-07-01               NaN   \n",
       "                                        2015-07-02               NaN   \n",
       "                                        2015-07-03              14.0   \n",
       "                                        2015-07-04               6.0   \n",
       "                                        2015-07-05              14.0   \n",
       "\n",
       "                                                    Visitors_shift_3  \\\n",
       "Page                                    Dates                          \n",
       "100毛_zh.wikipedia.org_all-access_spider 2015-07-01               NaN   \n",
       "                                        2015-07-02               NaN   \n",
       "                                        2015-07-03               NaN   \n",
       "                                        2015-07-04              14.0   \n",
       "                                        2015-07-05               6.0   \n",
       "\n",
       "                                                    Visitors_shift_4  \\\n",
       "Page                                    Dates                          \n",
       "100毛_zh.wikipedia.org_all-access_spider 2015-07-01               NaN   \n",
       "                                        2015-07-02               NaN   \n",
       "                                        2015-07-03               NaN   \n",
       "                                        2015-07-04               NaN   \n",
       "                                        2015-07-05              14.0   \n",
       "\n",
       "                                                    Visitors_shift_5  \\\n",
       "Page                                    Dates                          \n",
       "100毛_zh.wikipedia.org_all-access_spider 2015-07-01               NaN   \n",
       "                                        2015-07-02               NaN   \n",
       "                                        2015-07-03               NaN   \n",
       "                                        2015-07-04               NaN   \n",
       "                                        2015-07-05               NaN   \n",
       "\n",
       "                                                    Visitors_shift_6  \\\n",
       "Page                                    Dates                          \n",
       "100毛_zh.wikipedia.org_all-access_spider 2015-07-01               NaN   \n",
       "                                        2015-07-02               NaN   \n",
       "                                        2015-07-03               NaN   \n",
       "                                        2015-07-04               NaN   \n",
       "                                        2015-07-05               NaN   \n",
       "\n",
       "                                                    Visitors_shift_7  \\\n",
       "Page                                    Dates                          \n",
       "100毛_zh.wikipedia.org_all-access_spider 2015-07-01               NaN   \n",
       "                                        2015-07-02               NaN   \n",
       "                                        2015-07-03               NaN   \n",
       "                                        2015-07-04               NaN   \n",
       "                                        2015-07-05               NaN   \n",
       "\n",
       "                                                    Visitors_shift_90  \\\n",
       "Page                                    Dates                           \n",
       "100毛_zh.wikipedia.org_all-access_spider 2015-07-01                NaN   \n",
       "                                        2015-07-02                NaN   \n",
       "                                        2015-07-03                NaN   \n",
       "                                        2015-07-04                NaN   \n",
       "                                        2015-07-05                NaN   \n",
       "\n",
       "                                                    agent_all-access_spider  \\\n",
       "Page                                    Dates                                 \n",
       "100毛_zh.wikipedia.org_all-access_spider 2015-07-01                        1   \n",
       "                                        2015-07-02                        1   \n",
       "                                        2015-07-03                        1   \n",
       "                                        2015-07-04                        1   \n",
       "                                        2015-07-05                        1   \n",
       "\n",
       "                                                    site_wikipedia.org  \\\n",
       "Page                                    Dates                            \n",
       "100毛_zh.wikipedia.org_all-access_spider 2015-07-01                   1   \n",
       "                                        2015-07-02                   1   \n",
       "                                        2015-07-03                   1   \n",
       "                                        2015-07-04                   1   \n",
       "                                        2015-07-05                   1   \n",
       "\n",
       "                                                    country_zh  \n",
       "Page                                    Dates                   \n",
       "100毛_zh.wikipedia.org_all-access_spider 2015-07-01           1  \n",
       "                                        2015-07-02           1  \n",
       "                                        2015-07-03           1  \n",
       "                                        2015-07-04           1  \n",
       "                                        2015-07-05           1  "
      ]
     },
     "execution_count": 5,
     "metadata": {},
     "output_type": "execute_result"
    }
   ],
   "source": [
    "data.head()"
   ]
  },
  {
   "cell_type": "code",
   "execution_count": 6,
   "metadata": {},
   "outputs": [
    {
     "data": {
      "text/plain": [
       "(550000, 12)"
      ]
     },
     "execution_count": 6,
     "metadata": {},
     "output_type": "execute_result"
    }
   ],
   "source": [
    "data.shape"
   ]
  },
  {
   "cell_type": "code",
   "execution_count": 7,
   "metadata": {},
   "outputs": [
    {
     "data": {
      "text/plain": [
       "Index(['Visitors', 'Visitors_shift_1', 'Visitors_shift_2', 'Visitors_shift_3',\n",
       "       'Visitors_shift_4', 'Visitors_shift_5', 'Visitors_shift_6',\n",
       "       'Visitors_shift_7', 'Visitors_shift_90', 'agent_all-access_spider',\n",
       "       'site_wikipedia.org', 'country_zh'],\n",
       "      dtype='object')"
      ]
     },
     "execution_count": 7,
     "metadata": {},
     "output_type": "execute_result"
    }
   ],
   "source": [
    "data.columns"
   ]
  },
  {
   "cell_type": "code",
   "execution_count": 8,
   "metadata": {},
   "outputs": [
    {
     "name": "stdout",
     "output_type": "stream",
     "text": [
      "TimeSeriesSplit(max_train_size=None, n_splits=5)\n",
      "TRAIN: [    0     1     2 ... 91667 91668 91669] TEST: [ 91670  91671  91672 ... 183333 183334 183335]\n",
      "2\n",
      "1\n",
      "[17:48:06] WARNING: /Users/travis/build/dmlc/xgboost/src/learner.cc:516: \n",
      "Parameters: { objective=reg } might not be used.\n",
      "\n",
      "  This may not be accurate due to some parameters are only used in language bindings but\n",
      "  passed down to XGBoost core.  Or some parameters are not used but slip through this\n",
      "  verification. Please open an issue if you find above cases.\n",
      "\n",
      "\n"
     ]
    },
    {
     "name": "stderr",
     "output_type": "stream",
     "text": [
      "/opt/anaconda3/lib/python3.7/site-packages/ipykernel_launcher.py:29: RuntimeWarning: divide by zero encountered in true_divide\n"
     ]
    },
    {
     "name": "stdout",
     "output_type": "stream",
     "text": [
      "Test RMSE: 1203.233\n",
      "Test SMAPE: 71.438\n",
      "Test MAPE: inf\n",
      "4\n",
      "1\n",
      "[17:48:06] WARNING: /Users/travis/build/dmlc/xgboost/src/learner.cc:516: \n",
      "Parameters: { objective=reg } might not be used.\n",
      "\n",
      "  This may not be accurate due to some parameters are only used in language bindings but\n",
      "  passed down to XGBoost core.  Or some parameters are not used but slip through this\n",
      "  verification. Please open an issue if you find above cases.\n",
      "\n",
      "\n"
     ]
    },
    {
     "name": "stderr",
     "output_type": "stream",
     "text": [
      "/opt/anaconda3/lib/python3.7/site-packages/ipykernel_launcher.py:29: RuntimeWarning: divide by zero encountered in true_divide\n"
     ]
    },
    {
     "name": "stdout",
     "output_type": "stream",
     "text": [
      "Test RMSE: 1238.879\n",
      "Test SMAPE: 70.860\n",
      "Test MAPE: inf\n",
      "6\n",
      "1\n",
      "[17:48:07] WARNING: /Users/travis/build/dmlc/xgboost/src/learner.cc:516: \n",
      "Parameters: { objective=reg } might not be used.\n",
      "\n",
      "  This may not be accurate due to some parameters are only used in language bindings but\n",
      "  passed down to XGBoost core.  Or some parameters are not used but slip through this\n",
      "  verification. Please open an issue if you find above cases.\n",
      "\n",
      "\n"
     ]
    },
    {
     "name": "stderr",
     "output_type": "stream",
     "text": [
      "/opt/anaconda3/lib/python3.7/site-packages/ipykernel_launcher.py:29: RuntimeWarning: divide by zero encountered in true_divide\n"
     ]
    },
    {
     "name": "stdout",
     "output_type": "stream",
     "text": [
      "Test RMSE: 1184.894\n",
      "Test SMAPE: 63.564\n",
      "Test MAPE: inf\n",
      "TRAIN: [     0      1      2 ... 183333 183334 183335] TEST: [183336 183337 183338 ... 274999 275000 275001]\n",
      "2\n",
      "1\n",
      "[17:48:07] WARNING: /Users/travis/build/dmlc/xgboost/src/learner.cc:516: \n",
      "Parameters: { objective=reg } might not be used.\n",
      "\n",
      "  This may not be accurate due to some parameters are only used in language bindings but\n",
      "  passed down to XGBoost core.  Or some parameters are not used but slip through this\n",
      "  verification. Please open an issue if you find above cases.\n",
      "\n",
      "\n"
     ]
    },
    {
     "name": "stderr",
     "output_type": "stream",
     "text": [
      "/opt/anaconda3/lib/python3.7/site-packages/ipykernel_launcher.py:29: RuntimeWarning: divide by zero encountered in true_divide\n"
     ]
    },
    {
     "name": "stdout",
     "output_type": "stream",
     "text": [
      "Test RMSE: 29.227\n",
      "Test SMAPE: 95.957\n",
      "Test MAPE: inf\n",
      "4\n",
      "1\n",
      "[17:48:08] WARNING: /Users/travis/build/dmlc/xgboost/src/learner.cc:516: \n",
      "Parameters: { objective=reg } might not be used.\n",
      "\n",
      "  This may not be accurate due to some parameters are only used in language bindings but\n",
      "  passed down to XGBoost core.  Or some parameters are not used but slip through this\n",
      "  verification. Please open an issue if you find above cases.\n",
      "\n",
      "\n"
     ]
    },
    {
     "name": "stderr",
     "output_type": "stream",
     "text": [
      "/opt/anaconda3/lib/python3.7/site-packages/ipykernel_launcher.py:29: RuntimeWarning: divide by zero encountered in true_divide\n"
     ]
    },
    {
     "name": "stdout",
     "output_type": "stream",
     "text": [
      "Test RMSE: 72.990\n",
      "Test SMAPE: 77.351\n",
      "Test MAPE: inf\n",
      "6\n",
      "1\n",
      "[17:48:09] WARNING: /Users/travis/build/dmlc/xgboost/src/learner.cc:516: \n",
      "Parameters: { objective=reg } might not be used.\n",
      "\n",
      "  This may not be accurate due to some parameters are only used in language bindings but\n",
      "  passed down to XGBoost core.  Or some parameters are not used but slip through this\n",
      "  verification. Please open an issue if you find above cases.\n",
      "\n",
      "\n"
     ]
    },
    {
     "name": "stderr",
     "output_type": "stream",
     "text": [
      "/opt/anaconda3/lib/python3.7/site-packages/ipykernel_launcher.py:29: RuntimeWarning: divide by zero encountered in true_divide\n"
     ]
    },
    {
     "name": "stdout",
     "output_type": "stream",
     "text": [
      "Test RMSE: 70.948\n",
      "Test SMAPE: 57.585\n",
      "Test MAPE: inf\n",
      "TRAIN: [     0      1      2 ... 274999 275000 275001] TEST: [275002 275003 275004 ... 366665 366666 366667]\n",
      "2\n",
      "1\n",
      "[17:48:10] WARNING: /Users/travis/build/dmlc/xgboost/src/learner.cc:516: \n",
      "Parameters: { objective=reg } might not be used.\n",
      "\n",
      "  This may not be accurate due to some parameters are only used in language bindings but\n",
      "  passed down to XGBoost core.  Or some parameters are not used but slip through this\n",
      "  verification. Please open an issue if you find above cases.\n",
      "\n",
      "\n"
     ]
    },
    {
     "name": "stderr",
     "output_type": "stream",
     "text": [
      "/opt/anaconda3/lib/python3.7/site-packages/ipykernel_launcher.py:29: RuntimeWarning: divide by zero encountered in true_divide\n"
     ]
    },
    {
     "name": "stdout",
     "output_type": "stream",
     "text": [
      "Test RMSE: 30.653\n",
      "Test SMAPE: 83.169\n",
      "Test MAPE: inf\n",
      "4\n",
      "1\n",
      "[17:48:10] WARNING: /Users/travis/build/dmlc/xgboost/src/learner.cc:516: \n",
      "Parameters: { objective=reg } might not be used.\n",
      "\n",
      "  This may not be accurate due to some parameters are only used in language bindings but\n",
      "  passed down to XGBoost core.  Or some parameters are not used but slip through this\n",
      "  verification. Please open an issue if you find above cases.\n",
      "\n",
      "\n"
     ]
    },
    {
     "name": "stderr",
     "output_type": "stream",
     "text": [
      "/opt/anaconda3/lib/python3.7/site-packages/ipykernel_launcher.py:29: RuntimeWarning: divide by zero encountered in true_divide\n"
     ]
    },
    {
     "name": "stdout",
     "output_type": "stream",
     "text": [
      "Test RMSE: 30.698\n",
      "Test SMAPE: 69.493\n",
      "Test MAPE: inf\n",
      "6\n",
      "1\n",
      "[17:48:11] WARNING: /Users/travis/build/dmlc/xgboost/src/learner.cc:516: \n",
      "Parameters: { objective=reg } might not be used.\n",
      "\n",
      "  This may not be accurate due to some parameters are only used in language bindings but\n",
      "  passed down to XGBoost core.  Or some parameters are not used but slip through this\n",
      "  verification. Please open an issue if you find above cases.\n",
      "\n",
      "\n"
     ]
    },
    {
     "name": "stderr",
     "output_type": "stream",
     "text": [
      "/opt/anaconda3/lib/python3.7/site-packages/ipykernel_launcher.py:29: RuntimeWarning: divide by zero encountered in true_divide\n"
     ]
    },
    {
     "name": "stdout",
     "output_type": "stream",
     "text": [
      "Test RMSE: 27.531\n",
      "Test SMAPE: 55.788\n",
      "Test MAPE: inf\n",
      "TRAIN: [     0      1      2 ... 366665 366666 366667] TEST: [366668 366669 366670 ... 458331 458332 458333]\n",
      "2\n",
      "1\n",
      "[17:48:12] WARNING: /Users/travis/build/dmlc/xgboost/src/learner.cc:516: \n",
      "Parameters: { objective=reg } might not be used.\n",
      "\n",
      "  This may not be accurate due to some parameters are only used in language bindings but\n",
      "  passed down to XGBoost core.  Or some parameters are not used but slip through this\n",
      "  verification. Please open an issue if you find above cases.\n",
      "\n",
      "\n"
     ]
    },
    {
     "name": "stderr",
     "output_type": "stream",
     "text": [
      "/opt/anaconda3/lib/python3.7/site-packages/ipykernel_launcher.py:29: RuntimeWarning: divide by zero encountered in true_divide\n"
     ]
    },
    {
     "name": "stdout",
     "output_type": "stream",
     "text": [
      "Test RMSE: 25.978\n",
      "Test SMAPE: 79.401\n",
      "Test MAPE: inf\n",
      "4\n",
      "1\n",
      "[17:48:13] WARNING: /Users/travis/build/dmlc/xgboost/src/learner.cc:516: \n",
      "Parameters: { objective=reg } might not be used.\n",
      "\n",
      "  This may not be accurate due to some parameters are only used in language bindings but\n",
      "  passed down to XGBoost core.  Or some parameters are not used but slip through this\n",
      "  verification. Please open an issue if you find above cases.\n",
      "\n",
      "\n"
     ]
    },
    {
     "name": "stderr",
     "output_type": "stream",
     "text": [
      "/opt/anaconda3/lib/python3.7/site-packages/ipykernel_launcher.py:29: RuntimeWarning: divide by zero encountered in true_divide\n"
     ]
    },
    {
     "name": "stdout",
     "output_type": "stream",
     "text": [
      "Test RMSE: 27.639\n",
      "Test SMAPE: 68.325\n",
      "Test MAPE: inf\n",
      "6\n",
      "1\n",
      "[17:48:14] WARNING: /Users/travis/build/dmlc/xgboost/src/learner.cc:516: \n",
      "Parameters: { objective=reg } might not be used.\n",
      "\n",
      "  This may not be accurate due to some parameters are only used in language bindings but\n",
      "  passed down to XGBoost core.  Or some parameters are not used but slip through this\n",
      "  verification. Please open an issue if you find above cases.\n",
      "\n",
      "\n"
     ]
    },
    {
     "name": "stderr",
     "output_type": "stream",
     "text": [
      "/opt/anaconda3/lib/python3.7/site-packages/ipykernel_launcher.py:29: RuntimeWarning: divide by zero encountered in true_divide\n"
     ]
    },
    {
     "name": "stdout",
     "output_type": "stream",
     "text": [
      "Test RMSE: 22.951\n",
      "Test SMAPE: 55.004\n",
      "Test MAPE: inf\n",
      "TRAIN: [     0      1      2 ... 458331 458332 458333] TEST: [458334 458335 458336 ... 549997 549998 549999]\n",
      "2\n",
      "1\n",
      "[17:48:15] WARNING: /Users/travis/build/dmlc/xgboost/src/learner.cc:516: \n",
      "Parameters: { objective=reg } might not be used.\n",
      "\n",
      "  This may not be accurate due to some parameters are only used in language bindings but\n",
      "  passed down to XGBoost core.  Or some parameters are not used but slip through this\n",
      "  verification. Please open an issue if you find above cases.\n",
      "\n",
      "\n"
     ]
    },
    {
     "name": "stderr",
     "output_type": "stream",
     "text": [
      "/opt/anaconda3/lib/python3.7/site-packages/ipykernel_launcher.py:29: RuntimeWarning: divide by zero encountered in true_divide\n"
     ]
    },
    {
     "name": "stdout",
     "output_type": "stream",
     "text": [
      "Test RMSE: 56.689\n",
      "Test SMAPE: 80.959\n",
      "Test MAPE: inf\n",
      "4\n",
      "1\n",
      "[17:48:16] WARNING: /Users/travis/build/dmlc/xgboost/src/learner.cc:516: \n",
      "Parameters: { objective=reg } might not be used.\n",
      "\n",
      "  This may not be accurate due to some parameters are only used in language bindings but\n",
      "  passed down to XGBoost core.  Or some parameters are not used but slip through this\n",
      "  verification. Please open an issue if you find above cases.\n",
      "\n",
      "\n"
     ]
    },
    {
     "name": "stderr",
     "output_type": "stream",
     "text": [
      "/opt/anaconda3/lib/python3.7/site-packages/ipykernel_launcher.py:29: RuntimeWarning: divide by zero encountered in true_divide\n"
     ]
    },
    {
     "name": "stdout",
     "output_type": "stream",
     "text": [
      "Test RMSE: 65.205\n",
      "Test SMAPE: 68.338\n",
      "Test MAPE: inf\n",
      "6\n",
      "1\n",
      "[17:48:17] WARNING: /Users/travis/build/dmlc/xgboost/src/learner.cc:516: \n",
      "Parameters: { objective=reg } might not be used.\n",
      "\n",
      "  This may not be accurate due to some parameters are only used in language bindings but\n",
      "  passed down to XGBoost core.  Or some parameters are not used but slip through this\n",
      "  verification. Please open an issue if you find above cases.\n",
      "\n",
      "\n",
      "Test RMSE: 44.565\n",
      "Test SMAPE: 55.901\n",
      "Test MAPE: inf\n"
     ]
    },
    {
     "name": "stderr",
     "output_type": "stream",
     "text": [
      "/opt/anaconda3/lib/python3.7/site-packages/ipykernel_launcher.py:29: RuntimeWarning: divide by zero encountered in true_divide\n"
     ]
    }
   ],
   "source": [
    "metrics_df = pd.DataFrame(columns=['RMSE','SMAPE','MAPE'])\n",
    "\n",
    "X = data.drop('Visitors', axis = 1).values\n",
    "y = data['Visitors'].values\n",
    "\n",
    "tscv = TimeSeriesSplit()\n",
    "print(tscv)\n",
    "\n",
    "for train_index, test_index in tscv.split(X):\n",
    "    print(\"TRAIN:\", train_index, \"TEST:\", test_index)\n",
    "    X_train, X_test = X[train_index], X[test_index]\n",
    "    y_train, y_test = y[train_index], y[test_index]\n",
    "    \n",
    "    dtrain = xgb.DMatrix(X_train, label=y_train)\n",
    "    dtest = xgb.DMatrix(X_test, label=y_test)\n",
    "    paramSearch = {'max_depth':[2,4,6], 'eta':[1]}\n",
    "    for max_depth in paramSearch['max_depth']:\n",
    "        print(max_depth)\n",
    "        for eta in paramSearch['eta']:\n",
    "            print(eta)\n",
    "            with mlflow.start_run():\n",
    "                num_round = 2\n",
    "                param = {'max_depth': max_depth, 'eta': eta, 'objective=reg' :'tweedie'}\n",
    "                bst = xgb.train(param, dtrain, num_round)\n",
    "                preds = bst.predict(dtest)\n",
    "\n",
    "                rmse = np.sqrt(mean_squared_error(y_test, preds))\n",
    "                smape = smape_fast(y_test, preds)\n",
    "                mape = np.mean(np.abs(preds - y_test)/np.abs(y_test))\n",
    "                print(\"Test RMSE: %.3f\" % rmse)\n",
    "                print(\"Test SMAPE: %.3f\" % smape)\n",
    "                print(\"Test MAPE: %.3f\" % mape)\n",
    "                new_metrics = pd.DataFrame([(rmse,smape,mape)], columns = ['RMSE','SMAPE','MAPE'])\n",
    "                metrics_df= metrics_df.append(new_metrics, ignore_index=True)\n",
    "                \n",
    "                mean_RMSE = metrics_df['RMSE'].mean()\n",
    "                sum_RMSE = metrics_df['RMSE'].sum()\n",
    "                mean_SMAPE = metrics_df['SMAPE'].mean()\n",
    "                mean_MAPE = metrics_df['MAPE'].mean()\n",
    "                \n",
    "                mlflow.log_param(\"encoding\",encoding)\n",
    "                mlflow.log_param(\"model\",model)\n",
    "                mlflow.log_param(\"max_depth\",param['max_depth'])\n",
    "                mlflow.log_param(\"eta\",param['eta'])\n",
    "                mlflow.log_param(\"objective\",param['objective=reg'])\n",
    "                mlflow.log_metric('mean_RMSE', mean_RMSE)\n",
    "                mlflow.log_metric('sum_RMSE', sum_RMSE)\n",
    "                mlflow.log_metric('mean_SMAPE', mean_SMAPE)\n",
    "                mlflow.end_run()"
   ]
  }
 ],
 "metadata": {
  "kernelspec": {
   "display_name": "Python 3",
   "language": "python",
   "name": "python3"
  },
  "language_info": {
   "codemirror_mode": {
    "name": "ipython",
    "version": 3
   },
   "file_extension": ".py",
   "mimetype": "text/x-python",
   "name": "python",
   "nbconvert_exporter": "python",
   "pygments_lexer": "ipython3",
   "version": "3.7.6"
  }
 },
 "nbformat": 4,
 "nbformat_minor": 4
}
