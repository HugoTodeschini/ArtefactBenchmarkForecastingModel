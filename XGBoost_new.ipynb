{
 "cells": [
  {
   "cell_type": "code",
   "execution_count": 1,
   "metadata": {},
   "outputs": [
    {
     "name": "stderr",
     "output_type": "stream",
     "text": [
      "/Users/hugotodeschini/Documents/Benchmark forecasting model/ArtefactBenchmarkForecastingModel/libs/data_engineering.py:25: DeprecationWarning: invalid escape sequence \\.\n",
      "  '(.+)_([a-z][a-z]\\.)?((?:wikipedia\\.org)|(?:commons\\.wikimedia\\.org)|(?:www\\.mediawiki\\.org))_([a-z_-]+?)$')\n"
     ]
    }
   ],
   "source": [
    "import xgboost as xgb\n",
    "\n",
    "import numpy as np\n",
    "import pandas as pd\n",
    "import matplotlib.pyplot as plt\n",
    "from sklearn.metrics import mean_squared_error\n",
    "from sklearn.model_selection import TimeSeriesSplit\n",
    "from numba import jit\n",
    "import math\n",
    "import mlflow\n",
    "\n",
    "import xgboost as xgb\n",
    "\n",
    "from libs.extract import extract_url\n",
    "from libs.metrics import smape_fast\n",
    "from libs.data_engineering import prepareDataXGBoost\n",
    "import time"
   ]
  },
  {
   "cell_type": "code",
   "execution_count": 2,
   "metadata": {},
   "outputs": [],
   "source": [
    "size_data = 1000\n",
    "lag = 8\n",
    "encoding = \"oneHotEncoding\"#oneHotEncoding, label\n",
    "model = 'XGBoost'"
   ]
  },
  {
   "cell_type": "code",
   "execution_count": 3,
   "metadata": {},
   "outputs": [],
   "source": [
    "train_1 = pd.read_csv('../Data/train_1.csv')\n",
    "train_1_reduce = train_1[0:size_data]"
   ]
  },
  {
   "cell_type": "code",
   "execution_count": 4,
   "metadata": {},
   "outputs": [
    {
     "name": "stderr",
     "output_type": "stream",
     "text": [
      "/opt/anaconda3/lib/python3.7/site-packages/ipykernel_launcher.py:1: DeprecationWarning: time.clock has been deprecated in Python 3.3 and will be removed from Python 3.8: use time.perf_counter or time.process_time instead\n",
      "  \"\"\"Entry point for launching an IPython kernel.\n",
      "/Users/hugotodeschini/Documents/Benchmark forecasting model/ArtefactBenchmarkForecastingModel/libs/data_engineering.py:86: DeprecationWarning: time.clock has been deprecated in Python 3.3 and will be removed from Python 3.8: use time.perf_counter or time.process_time instead\n",
      "  tps1 = time.clock()\n"
     ]
    },
    {
     "name": "stdout",
     "output_type": "stream",
     "text": [
      "Temps d'exécution de la fonction extract:0.017981999999999942 secondes\n",
      "Temps d'exécution de la réorganisation des colonnes0.008966000000000918 secondes\n",
      "Temps d'exécution du calcul du lag:92.309861 secondes\n",
      "Temps d'exécution du calcul du shift:0.25137400000001264 secondes\n",
      "Temps d'exécution du changement d'index:0.9389159999999919 secondes\n",
      "Temps d'exécution de l'encoding:0.16391699999999787 secondes\n",
      "Temps d'exécution du calcul du lag:93.70568 secondes\n"
     ]
    }
   ],
   "source": [
    "tps1= time.clock()\n",
    "data = prepareDataXGBoost(train_1_reduce,lag, encoding)\n",
    "tps2= time.clock()\n",
    "print(\"Temps d'exécution du calcul du lag:\" + str(tps2-tps1) + \" secondes\")"
   ]
  },
  {
   "cell_type": "code",
   "execution_count": 5,
   "metadata": {},
   "outputs": [
    {
     "data": {
      "text/plain": [
       "Index(['diff1', 'diff2', 'diff3', 'diff4', 'diff5', 'diff6', 'diff7', 'diff8',\n",
       "       'Visitors', 'Visitors_shift_7', 'Visitors_shift_90',\n",
       "       'agent_all-access_spider', 'site_wikipedia.org', 'country_zh'],\n",
       "      dtype='object')"
      ]
     },
     "execution_count": 5,
     "metadata": {},
     "output_type": "execute_result"
    }
   ],
   "source": [
    "data.columns"
   ]
  },
  {
   "cell_type": "code",
   "execution_count": 6,
   "metadata": {},
   "outputs": [
    {
     "name": "stdout",
     "output_type": "stream",
     "text": [
      "TimeSeriesSplit(max_train_size=None, n_splits=5)\n",
      "TRAIN: [    0     1     2 ... 91667 91668 91669] TEST: [ 91670  91671  91672 ... 183333 183334 183335]\n",
      "2\n",
      "1\n",
      "[14:00:57] WARNING: /Users/travis/build/dmlc/xgboost/src/learner.cc:516: \n",
      "Parameters: { objective=reg } might not be used.\n",
      "\n",
      "  This may not be accurate due to some parameters are only used in language bindings but\n",
      "  passed down to XGBoost core.  Or some parameters are not used but slip through this\n",
      "  verification. Please open an issue if you find above cases.\n",
      "\n",
      "\n"
     ]
    },
    {
     "name": "stderr",
     "output_type": "stream",
     "text": [
      "/opt/anaconda3/lib/python3.7/site-packages/ipykernel_launcher.py:29: RuntimeWarning: divide by zero encountered in true_divide\n"
     ]
    },
    {
     "name": "stdout",
     "output_type": "stream",
     "text": [
      "Test RMSE: 142.262\n",
      "Test SMAPE: 77.118\n",
      "Test MAPE: inf\n",
      "4\n",
      "1\n",
      "[14:00:57] WARNING: /Users/travis/build/dmlc/xgboost/src/learner.cc:516: \n",
      "Parameters: { objective=reg } might not be used.\n",
      "\n",
      "  This may not be accurate due to some parameters are only used in language bindings but\n",
      "  passed down to XGBoost core.  Or some parameters are not used but slip through this\n",
      "  verification. Please open an issue if you find above cases.\n",
      "\n",
      "\n"
     ]
    },
    {
     "name": "stderr",
     "output_type": "stream",
     "text": [
      "/opt/anaconda3/lib/python3.7/site-packages/ipykernel_launcher.py:29: RuntimeWarning: divide by zero encountered in true_divide\n"
     ]
    },
    {
     "name": "stdout",
     "output_type": "stream",
     "text": [
      "Test RMSE: 166.061\n",
      "Test SMAPE: 69.297\n",
      "Test MAPE: inf\n",
      "6\n",
      "1\n",
      "[14:00:58] WARNING: /Users/travis/build/dmlc/xgboost/src/learner.cc:516: \n",
      "Parameters: { objective=reg } might not be used.\n",
      "\n",
      "  This may not be accurate due to some parameters are only used in language bindings but\n",
      "  passed down to XGBoost core.  Or some parameters are not used but slip through this\n",
      "  verification. Please open an issue if you find above cases.\n",
      "\n",
      "\n"
     ]
    },
    {
     "name": "stderr",
     "output_type": "stream",
     "text": [
      "/opt/anaconda3/lib/python3.7/site-packages/ipykernel_launcher.py:29: RuntimeWarning: divide by zero encountered in true_divide\n"
     ]
    },
    {
     "name": "stdout",
     "output_type": "stream",
     "text": [
      "Test RMSE: 156.197\n",
      "Test SMAPE: 70.909\n",
      "Test MAPE: inf\n",
      "TRAIN: [     0      1      2 ... 183333 183334 183335] TEST: [183336 183337 183338 ... 274999 275000 275001]\n",
      "2\n",
      "1\n",
      "[14:00:59] WARNING: /Users/travis/build/dmlc/xgboost/src/learner.cc:516: \n",
      "Parameters: { objective=reg } might not be used.\n",
      "\n",
      "  This may not be accurate due to some parameters are only used in language bindings but\n",
      "  passed down to XGBoost core.  Or some parameters are not used but slip through this\n",
      "  verification. Please open an issue if you find above cases.\n",
      "\n",
      "\n"
     ]
    },
    {
     "name": "stderr",
     "output_type": "stream",
     "text": [
      "/opt/anaconda3/lib/python3.7/site-packages/ipykernel_launcher.py:29: RuntimeWarning: divide by zero encountered in true_divide\n"
     ]
    },
    {
     "name": "stdout",
     "output_type": "stream",
     "text": [
      "Test RMSE: 126.281\n",
      "Test SMAPE: 71.179\n",
      "Test MAPE: inf\n",
      "4\n",
      "1\n",
      "[14:00:59] WARNING: /Users/travis/build/dmlc/xgboost/src/learner.cc:516: \n",
      "Parameters: { objective=reg } might not be used.\n",
      "\n",
      "  This may not be accurate due to some parameters are only used in language bindings but\n",
      "  passed down to XGBoost core.  Or some parameters are not used but slip through this\n",
      "  verification. Please open an issue if you find above cases.\n",
      "\n",
      "\n"
     ]
    },
    {
     "name": "stderr",
     "output_type": "stream",
     "text": [
      "/opt/anaconda3/lib/python3.7/site-packages/ipykernel_launcher.py:29: RuntimeWarning: divide by zero encountered in true_divide\n"
     ]
    },
    {
     "name": "stdout",
     "output_type": "stream",
     "text": [
      "Test RMSE: 142.438\n",
      "Test SMAPE: 66.100\n",
      "Test MAPE: inf\n",
      "6\n",
      "1\n",
      "[14:01:00] WARNING: /Users/travis/build/dmlc/xgboost/src/learner.cc:516: \n",
      "Parameters: { objective=reg } might not be used.\n",
      "\n",
      "  This may not be accurate due to some parameters are only used in language bindings but\n",
      "  passed down to XGBoost core.  Or some parameters are not used but slip through this\n",
      "  verification. Please open an issue if you find above cases.\n",
      "\n",
      "\n"
     ]
    },
    {
     "name": "stderr",
     "output_type": "stream",
     "text": [
      "/opt/anaconda3/lib/python3.7/site-packages/ipykernel_launcher.py:29: RuntimeWarning: divide by zero encountered in true_divide\n"
     ]
    },
    {
     "name": "stdout",
     "output_type": "stream",
     "text": [
      "Test RMSE: 129.544\n",
      "Test SMAPE: 57.674\n",
      "Test MAPE: inf\n",
      "TRAIN: [     0      1      2 ... 274999 275000 275001] TEST: [275002 275003 275004 ... 366665 366666 366667]\n",
      "2\n",
      "1\n",
      "[14:01:01] WARNING: /Users/travis/build/dmlc/xgboost/src/learner.cc:516: \n",
      "Parameters: { objective=reg } might not be used.\n",
      "\n",
      "  This may not be accurate due to some parameters are only used in language bindings but\n",
      "  passed down to XGBoost core.  Or some parameters are not used but slip through this\n",
      "  verification. Please open an issue if you find above cases.\n",
      "\n",
      "\n"
     ]
    },
    {
     "name": "stderr",
     "output_type": "stream",
     "text": [
      "/opt/anaconda3/lib/python3.7/site-packages/ipykernel_launcher.py:29: RuntimeWarning: divide by zero encountered in true_divide\n"
     ]
    },
    {
     "name": "stdout",
     "output_type": "stream",
     "text": [
      "Test RMSE: 734.452\n",
      "Test SMAPE: 63.373\n",
      "Test MAPE: inf\n",
      "4\n",
      "1\n",
      "[14:01:01] WARNING: /Users/travis/build/dmlc/xgboost/src/learner.cc:516: \n",
      "Parameters: { objective=reg } might not be used.\n",
      "\n",
      "  This may not be accurate due to some parameters are only used in language bindings but\n",
      "  passed down to XGBoost core.  Or some parameters are not used but slip through this\n",
      "  verification. Please open an issue if you find above cases.\n",
      "\n",
      "\n"
     ]
    },
    {
     "name": "stderr",
     "output_type": "stream",
     "text": [
      "/opt/anaconda3/lib/python3.7/site-packages/ipykernel_launcher.py:29: RuntimeWarning: divide by zero encountered in true_divide\n"
     ]
    },
    {
     "name": "stdout",
     "output_type": "stream",
     "text": [
      "Test RMSE: 732.652\n",
      "Test SMAPE: 56.136\n",
      "Test MAPE: inf\n",
      "6\n",
      "1\n",
      "[14:01:02] WARNING: /Users/travis/build/dmlc/xgboost/src/learner.cc:516: \n",
      "Parameters: { objective=reg } might not be used.\n",
      "\n",
      "  This may not be accurate due to some parameters are only used in language bindings but\n",
      "  passed down to XGBoost core.  Or some parameters are not used but slip through this\n",
      "  verification. Please open an issue if you find above cases.\n",
      "\n",
      "\n"
     ]
    },
    {
     "name": "stderr",
     "output_type": "stream",
     "text": [
      "/opt/anaconda3/lib/python3.7/site-packages/ipykernel_launcher.py:29: RuntimeWarning: divide by zero encountered in true_divide\n"
     ]
    },
    {
     "name": "stdout",
     "output_type": "stream",
     "text": [
      "Test RMSE: 750.287\n",
      "Test SMAPE: 56.655\n",
      "Test MAPE: inf\n",
      "TRAIN: [     0      1      2 ... 366665 366666 366667] TEST: [366668 366669 366670 ... 458331 458332 458333]\n",
      "2\n",
      "1\n",
      "[14:01:04] WARNING: /Users/travis/build/dmlc/xgboost/src/learner.cc:516: \n",
      "Parameters: { objective=reg } might not be used.\n",
      "\n",
      "  This may not be accurate due to some parameters are only used in language bindings but\n",
      "  passed down to XGBoost core.  Or some parameters are not used but slip through this\n",
      "  verification. Please open an issue if you find above cases.\n",
      "\n",
      "\n"
     ]
    },
    {
     "name": "stderr",
     "output_type": "stream",
     "text": [
      "/opt/anaconda3/lib/python3.7/site-packages/ipykernel_launcher.py:29: RuntimeWarning: divide by zero encountered in true_divide\n"
     ]
    },
    {
     "name": "stdout",
     "output_type": "stream",
     "text": [
      "Test RMSE: 226.559\n",
      "Test SMAPE: 63.057\n",
      "Test MAPE: inf\n",
      "4\n",
      "1\n",
      "[14:01:04] WARNING: /Users/travis/build/dmlc/xgboost/src/learner.cc:516: \n",
      "Parameters: { objective=reg } might not be used.\n",
      "\n",
      "  This may not be accurate due to some parameters are only used in language bindings but\n",
      "  passed down to XGBoost core.  Or some parameters are not used but slip through this\n",
      "  verification. Please open an issue if you find above cases.\n",
      "\n",
      "\n"
     ]
    },
    {
     "name": "stderr",
     "output_type": "stream",
     "text": [
      "/opt/anaconda3/lib/python3.7/site-packages/ipykernel_launcher.py:29: RuntimeWarning: divide by zero encountered in true_divide\n"
     ]
    },
    {
     "name": "stdout",
     "output_type": "stream",
     "text": [
      "Test RMSE: 285.100\n",
      "Test SMAPE: 62.511\n",
      "Test MAPE: inf\n",
      "6\n",
      "1\n",
      "[14:01:05] WARNING: /Users/travis/build/dmlc/xgboost/src/learner.cc:516: \n",
      "Parameters: { objective=reg } might not be used.\n",
      "\n",
      "  This may not be accurate due to some parameters are only used in language bindings but\n",
      "  passed down to XGBoost core.  Or some parameters are not used but slip through this\n",
      "  verification. Please open an issue if you find above cases.\n",
      "\n",
      "\n"
     ]
    },
    {
     "name": "stderr",
     "output_type": "stream",
     "text": [
      "/opt/anaconda3/lib/python3.7/site-packages/ipykernel_launcher.py:29: RuntimeWarning: divide by zero encountered in true_divide\n"
     ]
    },
    {
     "name": "stdout",
     "output_type": "stream",
     "text": [
      "Test RMSE: 257.337\n",
      "Test SMAPE: 56.452\n",
      "Test MAPE: inf\n",
      "TRAIN: [     0      1      2 ... 458331 458332 458333] TEST: [458334 458335 458336 ... 549997 549998 549999]\n",
      "2\n",
      "1\n",
      "[14:01:07] WARNING: /Users/travis/build/dmlc/xgboost/src/learner.cc:516: \n",
      "Parameters: { objective=reg } might not be used.\n",
      "\n",
      "  This may not be accurate due to some parameters are only used in language bindings but\n",
      "  passed down to XGBoost core.  Or some parameters are not used but slip through this\n",
      "  verification. Please open an issue if you find above cases.\n",
      "\n",
      "\n"
     ]
    },
    {
     "name": "stderr",
     "output_type": "stream",
     "text": [
      "/opt/anaconda3/lib/python3.7/site-packages/ipykernel_launcher.py:29: RuntimeWarning: divide by zero encountered in true_divide\n"
     ]
    },
    {
     "name": "stdout",
     "output_type": "stream",
     "text": [
      "Test RMSE: 88.728\n",
      "Test SMAPE: 65.968\n",
      "Test MAPE: inf\n",
      "4\n",
      "1\n",
      "[14:01:08] WARNING: /Users/travis/build/dmlc/xgboost/src/learner.cc:516: \n",
      "Parameters: { objective=reg } might not be used.\n",
      "\n",
      "  This may not be accurate due to some parameters are only used in language bindings but\n",
      "  passed down to XGBoost core.  Or some parameters are not used but slip through this\n",
      "  verification. Please open an issue if you find above cases.\n",
      "\n",
      "\n"
     ]
    },
    {
     "name": "stderr",
     "output_type": "stream",
     "text": [
      "/opt/anaconda3/lib/python3.7/site-packages/ipykernel_launcher.py:29: RuntimeWarning: divide by zero encountered in true_divide\n"
     ]
    },
    {
     "name": "stdout",
     "output_type": "stream",
     "text": [
      "Test RMSE: 67.493\n",
      "Test SMAPE: 64.241\n",
      "Test MAPE: inf\n",
      "6\n",
      "1\n",
      "[14:01:09] WARNING: /Users/travis/build/dmlc/xgboost/src/learner.cc:516: \n",
      "Parameters: { objective=reg } might not be used.\n",
      "\n",
      "  This may not be accurate due to some parameters are only used in language bindings but\n",
      "  passed down to XGBoost core.  Or some parameters are not used but slip through this\n",
      "  verification. Please open an issue if you find above cases.\n",
      "\n",
      "\n",
      "Test RMSE: 59.448\n",
      "Test SMAPE: 57.588\n",
      "Test MAPE: inf\n"
     ]
    },
    {
     "name": "stderr",
     "output_type": "stream",
     "text": [
      "/opt/anaconda3/lib/python3.7/site-packages/ipykernel_launcher.py:29: RuntimeWarning: divide by zero encountered in true_divide\n"
     ]
    }
   ],
   "source": [
    "metrics_df = pd.DataFrame(columns=['RMSE','SMAPE','MAPE'])\n",
    "\n",
    "X = data.drop('Visitors', axis = 1).values\n",
    "y = data['Visitors'].values\n",
    "\n",
    "tscv = TimeSeriesSplit()\n",
    "print(tscv)\n",
    "\n",
    "for train_index, test_index in tscv.split(X):\n",
    "    print(\"TRAIN:\", train_index, \"TEST:\", test_index)\n",
    "    X_train, X_test = X[train_index], X[test_index]\n",
    "    y_train, y_test = y[train_index], y[test_index]\n",
    "    \n",
    "    dtrain = xgb.DMatrix(X_train, label=y_train)\n",
    "    dtest = xgb.DMatrix(X_test, label=y_test)\n",
    "    paramSearch = {'max_depth':[2,4,6], 'eta':[1]}\n",
    "    for max_depth in paramSearch['max_depth']:\n",
    "        print(max_depth)\n",
    "        for eta in paramSearch['eta']:\n",
    "            print(eta)\n",
    "            with mlflow.start_run():\n",
    "                num_round = 2\n",
    "                param = {'max_depth': max_depth, 'eta': eta, 'objective=reg' :'tweedie'}\n",
    "                bst = xgb.train(param, dtrain, num_round)\n",
    "                preds = bst.predict(dtest)\n",
    "\n",
    "                rmse = np.sqrt(mean_squared_error(y_test, preds))\n",
    "                smape = smape_fast(y_test, preds)\n",
    "                mape = np.mean(np.abs(preds - y_test)/np.abs(y_test))\n",
    "                print(\"Test RMSE: %.3f\" % rmse)\n",
    "                print(\"Test SMAPE: %.3f\" % smape)\n",
    "                print(\"Test MAPE: %.3f\" % mape)\n",
    "                new_metrics = pd.DataFrame([(rmse,smape,mape)], columns = ['RMSE','SMAPE','MAPE'])\n",
    "                metrics_df= metrics_df.append(new_metrics, ignore_index=True)\n",
    "                \n",
    "                mean_RMSE = metrics_df['RMSE'].mean()\n",
    "                sum_RMSE = metrics_df['RMSE'].sum()\n",
    "                mean_SMAPE = metrics_df['SMAPE'].mean()\n",
    "                mean_MAPE = metrics_df['MAPE'].mean()\n",
    "                \n",
    "                mlflow.log_param(\"lag\",lag)\n",
    "                mlflow.log_param(\"encoding\",encoding)\n",
    "                mlflow.log_param(\"model\",model)\n",
    "                mlflow.log_param(\"max_depth\",param['max_depth'])\n",
    "                mlflow.log_param(\"eta\",param['eta'])\n",
    "                mlflow.log_param(\"objective\",param['objective=reg'])\n",
    "                mlflow.log_metric('mean_RMSE', mean_RMSE)\n",
    "                mlflow.log_metric('sum_RMSE', sum_RMSE)\n",
    "                mlflow.log_metric('mean_SMAPE', mean_SMAPE)\n",
    "                mlflow.end_run()"
   ]
  }
 ],
 "metadata": {
  "kernelspec": {
   "display_name": "Python 3",
   "language": "python",
   "name": "python3"
  },
  "language_info": {
   "codemirror_mode": {
    "name": "ipython",
    "version": 3
   },
   "file_extension": ".py",
   "mimetype": "text/x-python",
   "name": "python",
   "nbconvert_exporter": "python",
   "pygments_lexer": "ipython3",
   "version": "3.7.6"
  }
 },
 "nbformat": 4,
 "nbformat_minor": 4
}
