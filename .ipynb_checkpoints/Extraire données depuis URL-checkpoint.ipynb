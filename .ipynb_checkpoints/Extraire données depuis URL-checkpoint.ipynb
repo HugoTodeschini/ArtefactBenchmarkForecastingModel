{
 "cells": [
  {
   "cell_type": "markdown",
   "metadata": {},
   "source": [
    "<h1>Extraite données de l'url</h1>"
   ]
  },
  {
   "cell_type": "code",
   "execution_count": 1,
   "metadata": {},
   "outputs": [],
   "source": [
    "#Solutions trouvées ici https://github.com/Arturus/kaggle-web-traffic/blob/master/extractor.py\n",
    "\n",
    "import re\n",
    "import pandas as pd\n",
    "import numpy as np\n",
    "\n",
    "term_pat = re.compile('(.+?):(.+)')\n",
    "pat = re.compile(\n",
    "    '(.+)_([a-z][a-z]\\.)?((?:wikipedia\\.org)|(?:commons\\.wikimedia\\.org)|(?:www\\.mediawiki\\.org))_([a-z_-]+?)$')\n",
    "\n",
    "# Debug output to ensure pattern still works\n",
    "# print(pat.fullmatch('BLEACH_zh.wikipedia.org_all-accessspider').groups())\n",
    "# print(pat.fullmatch('Accueil_commons.wikimedia.org_all-access_spider').groups())\n",
    "\n",
    "\n",
    "def extract(source) -> pd.DataFrame:\n",
    "    \"\"\"\n",
    "    Extracts features from url. Features: agent, site, country, term, marker\n",
    "    :param source: urls\n",
    "    :return: DataFrame, one column per feature\n",
    "    \"\"\"\n",
    "    if isinstance(source, pd.Series):\n",
    "        source = source.values\n",
    "    agents = np.full_like(source, np.NaN)\n",
    "    sites = np.full_like(source, np.NaN)\n",
    "    countries = np.full_like(source, np.NaN)\n",
    "    terms = np.full_like(source, np.NaN)\n",
    "    markers = np.full_like(source, np.NaN)\n",
    "\n",
    "    for i in range(len(source)):\n",
    "        l = source[i]\n",
    "        match = pat.fullmatch(l)\n",
    "        assert match, \"Non-matched string %s\" % l\n",
    "        term = match.group(1)\n",
    "        country = match.group(2)\n",
    "        if country:\n",
    "            countries[i] = country[:-1]\n",
    "        site = match.group(3)\n",
    "        sites[i] = site\n",
    "        agents[i] = match.group(4)\n",
    "        if site != 'wikipedia.org':\n",
    "            term_match = term_pat.match(term)\n",
    "            if term_match:\n",
    "                markers[i] = term_match.group(1)\n",
    "                term = term_match.group(2)\n",
    "        terms[i] = term\n",
    "\n",
    "    return pd.DataFrame({\n",
    "        'agent': agents,\n",
    "        'site': sites,\n",
    "        'country': countries,\n",
    "        'term': terms,\n",
    "        'marker': markers,\n",
    "        'page': source\n",
    "    })"
   ]
  },
  {
   "cell_type": "code",
   "execution_count": 2,
   "metadata": {},
   "outputs": [
    {
     "ename": "AssertionError",
     "evalue": "Non-matched string 2",
     "output_type": "error",
     "traceback": [
      "\u001b[1;31m---------------------------------------------------------------------------\u001b[0m",
      "\u001b[1;31mAssertionError\u001b[0m                            Traceback (most recent call last)",
      "\u001b[1;32m<ipython-input-2-7ed5bcf3594e>\u001b[0m in \u001b[0;36m<module>\u001b[1;34m\u001b[0m\n\u001b[1;32m----> 1\u001b[1;33m \u001b[0mextract\u001b[0m\u001b[1;33m(\u001b[0m\u001b[1;34m\"2NE1_zh.wikipedia.org_all-access_spider\"\u001b[0m\u001b[1;33m)\u001b[0m\u001b[1;33m\u001b[0m\u001b[1;33m\u001b[0m\u001b[0m\n\u001b[0m",
      "\u001b[1;32m<ipython-input-1-8fa15a0bb243>\u001b[0m in \u001b[0;36mextract\u001b[1;34m(source)\u001b[0m\n\u001b[0;32m     29\u001b[0m         \u001b[0ml\u001b[0m \u001b[1;33m=\u001b[0m \u001b[0msource\u001b[0m\u001b[1;33m[\u001b[0m\u001b[0mi\u001b[0m\u001b[1;33m]\u001b[0m\u001b[1;33m\u001b[0m\u001b[1;33m\u001b[0m\u001b[0m\n\u001b[0;32m     30\u001b[0m         \u001b[0mmatch\u001b[0m \u001b[1;33m=\u001b[0m \u001b[0mpat\u001b[0m\u001b[1;33m.\u001b[0m\u001b[0mfullmatch\u001b[0m\u001b[1;33m(\u001b[0m\u001b[0ml\u001b[0m\u001b[1;33m)\u001b[0m\u001b[1;33m\u001b[0m\u001b[1;33m\u001b[0m\u001b[0m\n\u001b[1;32m---> 31\u001b[1;33m         \u001b[1;32massert\u001b[0m \u001b[0mmatch\u001b[0m\u001b[1;33m,\u001b[0m \u001b[1;34m\"Non-matched string %s\"\u001b[0m \u001b[1;33m%\u001b[0m \u001b[0ml\u001b[0m\u001b[1;33m\u001b[0m\u001b[1;33m\u001b[0m\u001b[0m\n\u001b[0m\u001b[0;32m     32\u001b[0m         \u001b[0mterm\u001b[0m \u001b[1;33m=\u001b[0m \u001b[0mmatch\u001b[0m\u001b[1;33m.\u001b[0m\u001b[0mgroup\u001b[0m\u001b[1;33m(\u001b[0m\u001b[1;36m1\u001b[0m\u001b[1;33m)\u001b[0m\u001b[1;33m\u001b[0m\u001b[1;33m\u001b[0m\u001b[0m\n\u001b[0;32m     33\u001b[0m         \u001b[0mcountry\u001b[0m \u001b[1;33m=\u001b[0m \u001b[0mmatch\u001b[0m\u001b[1;33m.\u001b[0m\u001b[0mgroup\u001b[0m\u001b[1;33m(\u001b[0m\u001b[1;36m2\u001b[0m\u001b[1;33m)\u001b[0m\u001b[1;33m\u001b[0m\u001b[1;33m\u001b[0m\u001b[0m\n",
      "\u001b[1;31mAssertionError\u001b[0m: Non-matched string 2"
     ]
    }
   ],
   "source": [
    "extract(\"2NE1_zh.wikipedia.org_all-access_spider\")"
   ]
  }
 ],
 "metadata": {
  "kernelspec": {
   "display_name": "Python 3",
   "language": "python",
   "name": "python3"
  },
  "language_info": {
   "codemirror_mode": {
    "name": "ipython",
    "version": 3
   },
   "file_extension": ".py",
   "mimetype": "text/x-python",
   "name": "python",
   "nbconvert_exporter": "python",
   "pygments_lexer": "ipython3",
   "version": "3.8.3"
  }
 },
 "nbformat": 4,
 "nbformat_minor": 4
}
