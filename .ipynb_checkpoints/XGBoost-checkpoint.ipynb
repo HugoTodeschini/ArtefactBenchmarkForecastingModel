{
 "cells": [
  {
   "cell_type": "code",
   "execution_count": null,
   "metadata": {},
   "outputs": [],
   "source": [
    "import numpy as np\n",
    "import pandas as pd\n",
    "import matplotlib.pyplot as plt\n",
    "from sklearn.metrics import mean_squared_error\n",
    "from numba import jit\n",
    "import math"
   ]
  },
  {
   "cell_type": "code",
   "execution_count": null,
   "metadata": {},
   "outputs": [],
   "source": [
    "train_1 = pd.read_csv('../Data/train_1.csv')\n",
    "train_1.head()"
   ]
  },
  {
   "cell_type": "code",
   "execution_count": null,
   "metadata": {},
   "outputs": [],
   "source": [
    "train_1_reduce = train_1[0:4]\n",
    "train_1_reduce = train_1_reduce.fillna(0)\n",
    "train_1_reduce = train_1_reduce.set_index('Page')\n",
    "train_1_reduce = train_1_reduce.T.rename_axis('Dates')\n",
    "train_1_reduce.head()"
   ]
  },
  {
   "cell_type": "code",
   "execution_count": null,
   "metadata": {},
   "outputs": [],
   "source": [
    "def smape_fast(y_true, y_pred):\n",
    "    out = 0\n",
    "    for i in range(y_true.shape[0]):\n",
    "        a = y_true[i]\n",
    "        b = y_pred[i]\n",
    "        c = a+b\n",
    "        if c == 0:\n",
    "            continue\n",
    "        out += math.fabs(a - b) / c\n",
    "    out *= (200.0 / y_true.shape[0])\n",
    "    return out"
   ]
  },
  {
   "cell_type": "code",
   "execution_count": null,
   "metadata": {},
   "outputs": [],
   "source": [
    "metrics_df = pd.DataFrame(columns=['RMSE','SMAPE'])\n",
    "\n",
    "for column in train_1_reduce.columns:\n",
    "    df = pd.DataFrame(train_1_reduce['column'])\n",
    "    lag = 8\n",
    "    for i in range(lag):\n",
    "        print(i)\n",
    "        df['diff' + str(i+1)] = 0\n",
    "        df['diff' + str(i+1)] = df['column'].diff(i+1)\n",
    "    X = df.iloc[:,1:9]\n",
    "    Y = df.iloc[:,0]\n",
    "    Xtrain = X[0:500]\n",
    "    Xtest = X[500:550]\n",
    "    Ytrain = Y[0:500]\n",
    "    Ytest = Y[500:550]\n",
    "    dtrain = xgb.DMatrix(Xtrain, label=Ytrain)\n",
    "    dtest = xgb.DMatrix(Xtest, label=Ytest)\n",
    "    param = {'max_depth':2, 'eta':1, 'objective=reg' :' tweedie'}\n",
    "    num_round = 2\n",
    "    bst = xgb.train(param, dtrain, num_round)\n",
    "    preds = bst.predict(dtest)\n",
    "    dfPredictions = pd.DataFrame(Ytest)\n",
    "    dfPredictions['predictions'] = preds\n",
    "    print(\"Test RMSE: %.3f\" % np.sqrt(mean_squared_error(dfPredictions[column], dfPredictions['predictions'])))"
   ]
  },
  {
   "cell_type": "code",
   "execution_count": null,
   "metadata": {},
   "outputs": [],
   "source": [
    "metrics_df = pd.DataFrame(columns=['RMSE','SMAPE'])\n",
    "\n",
    "for column in train_1_reduce.columns:\n",
    "    print(column)\n",
    "    df = pd.DataFrame(train_1_reduce[column])\n",
    "    df = df.reset_index()\n",
    "    df.columns = ['ds', 'y']\n",
    "    dftrain = df[0:500]\n",
    "    dftest = df[500:550]\n",
    "    m = Prophet()\n",
    "    m.fit(dftrain)\n",
    "    future = m.make_future_dataframe(periods=50)\n",
    "    future.tail()\n",
    "    forecast = m.predict(future)\n",
    "    forecast[['ds', 'yhat', 'yhat_lower', 'yhat_upper']]\n",
    "    predictions = forecast['yhat'][500:550]\n",
    "    rmse = np.sqrt(mean_squared_error(dftest['y'], predictions))\n",
    "    smape = smape_fast(dftest['y'].values, predictions.values)\n",
    "    print(\"Test RMSE: %.3f\" % rmse)\n",
    "    print(\"Test SMAPE: %.3f\" % smape)\n",
    "    metrics_df.loc[column] = [rmse,smape]"
   ]
  },
  {
   "cell_type": "code",
   "execution_count": null,
   "metadata": {},
   "outputs": [],
   "source": [
    "metrics_df"
   ]
  },
  {
   "cell_type": "code",
   "execution_count": null,
   "metadata": {},
   "outputs": [],
   "source": [
    "moyenne_RMSE = metrics_df['RMSE'].mean()\n",
    "somme_RMSE = metrics_df['RMSE'].sum()\n",
    "moyenne_SMAPE = metrics_df['SMAPE'].mean()"
   ]
  },
  {
   "cell_type": "code",
   "execution_count": null,
   "metadata": {},
   "outputs": [],
   "source": [
    "print(\"Test moyenne RMSE: %.3f\" % moyenne_RMSE)\n",
    "print(\"Test somme RMSE: %.3f\" % somme_RMSE)\n",
    "print(\"Test moyenne SMAPE: %.3f\" % moyenne_SMAPE)"
   ]
  },
  {
   "cell_type": "code",
   "execution_count": null,
   "metadata": {},
   "outputs": [],
   "source": []
  },
  {
   "cell_type": "code",
   "execution_count": null,
   "metadata": {},
   "outputs": [],
   "source": []
  },
  {
   "cell_type": "code",
   "execution_count": null,
   "metadata": {},
   "outputs": [],
   "source": []
  }
 ],
 "metadata": {
  "kernelspec": {
   "display_name": "Python 3",
   "language": "python",
   "name": "python3"
  },
  "language_info": {
   "codemirror_mode": {
    "name": "ipython",
    "version": 3
   },
   "file_extension": ".py",
   "mimetype": "text/x-python",
   "name": "python",
   "nbconvert_exporter": "python",
   "pygments_lexer": "ipython3",
   "version": "3.8.3"
  }
 },
 "nbformat": 4,
 "nbformat_minor": 4
}
