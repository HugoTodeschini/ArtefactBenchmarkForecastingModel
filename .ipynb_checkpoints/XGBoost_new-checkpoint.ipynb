{
 "cells": [
  {
   "cell_type": "code",
   "execution_count": 1,
   "metadata": {},
   "outputs": [
    {
     "name": "stderr",
     "output_type": "stream",
     "text": [
      "/Users/hugotodeschini/Documents/Benchmark forecasting model/ArtefactBenchmarkForecastingModel/libs/data_engineering.py:9: DeprecationWarning: invalid escape sequence \\.\n",
      "  '(.+)_([a-z][a-z]\\.)?((?:wikipedia\\.org)|(?:commons\\.wikimedia\\.org)|(?:www\\.mediawiki\\.org))_([a-z_-]+?)$')\n"
     ]
    }
   ],
   "source": [
    "import xgboost as xgb\n",
    "\n",
    "import numpy as np\n",
    "import pandas as pd\n",
    "import matplotlib.pyplot as plt\n",
    "from sklearn.metrics import mean_squared_error\n",
    "from sklearn.model_selection import TimeSeriesSplit\n",
    "from numba import jit\n",
    "import math\n",
    "import mlflow\n",
    "\n",
    "import xgboost as xgb\n",
    "\n",
    "from libs.metrics import smape_fast\n",
    "from libs.data_engineering import prepareDataXGBoost\n",
    "import time"
   ]
  },
  {
   "cell_type": "code",
   "execution_count": 2,
   "metadata": {},
   "outputs": [],
   "source": [
    "size_data = 1000\n",
    "encoding = \"oneHotEncoding\"#oneHotEncoding, label\n",
    "model = 'XGBoost'"
   ]
  },
  {
   "cell_type": "code",
   "execution_count": 3,
   "metadata": {},
   "outputs": [],
   "source": [
    "train_1 = pd.read_csv('../Data/train_1.csv')\n",
    "train_1_reduce = train_1[0:size_data]"
   ]
  },
  {
   "cell_type": "code",
   "execution_count": 4,
   "metadata": {},
   "outputs": [
    {
     "name": "stderr",
     "output_type": "stream",
     "text": [
      "/opt/anaconda3/lib/python3.7/site-packages/ipykernel_launcher.py:1: DeprecationWarning: time.clock has been deprecated in Python 3.3 and will be removed from Python 3.8: use time.perf_counter or time.process_time instead\n",
      "  \"\"\"Entry point for launching an IPython kernel.\n"
     ]
    },
    {
     "name": "stdout",
     "output_type": "stream",
     "text": [
      "Temps d'exécution total:1.7627620000000022 secondes\n"
     ]
    }
   ],
   "source": [
    "tps1= time.clock()\n",
    "data = prepareDataXGBoost(train_1_reduce, encoding)\n",
    "tps2= time.clock()\n",
    "print(\"Temps d'exécution total:\" + str(tps2-tps1) + \" secondes\")"
   ]
  },
  {
   "cell_type": "code",
   "execution_count": 7,
   "metadata": {},
   "outputs": [
    {
     "data": {
      "text/html": [
       "<div>\n",
       "<style scoped>\n",
       "    .dataframe tbody tr th:only-of-type {\n",
       "        vertical-align: middle;\n",
       "    }\n",
       "\n",
       "    .dataframe tbody tr th {\n",
       "        vertical-align: top;\n",
       "    }\n",
       "\n",
       "    .dataframe thead th {\n",
       "        text-align: right;\n",
       "    }\n",
       "</style>\n",
       "<table border=\"1\" class=\"dataframe\">\n",
       "  <thead>\n",
       "    <tr style=\"text-align: right;\">\n",
       "      <th></th>\n",
       "      <th></th>\n",
       "      <th>Visitors</th>\n",
       "      <th>Visitors_shift_1</th>\n",
       "      <th>Visitors_shift_2</th>\n",
       "      <th>Visitors_shift_3</th>\n",
       "      <th>Visitors_shift_4</th>\n",
       "      <th>Visitors_shift_5</th>\n",
       "      <th>Visitors_shift_6</th>\n",
       "      <th>Visitors_shift_7</th>\n",
       "      <th>Visitors_shift_90</th>\n",
       "      <th>agent_all-access_all-agents</th>\n",
       "      <th>...</th>\n",
       "      <th>agent_desktop_all-agents</th>\n",
       "      <th>agent_mobile-web_all-agents</th>\n",
       "      <th>site_commons.wikimedia.org</th>\n",
       "      <th>site_wikipedia.org</th>\n",
       "      <th>site_www.mediawiki.org</th>\n",
       "      <th>country_de</th>\n",
       "      <th>country_en</th>\n",
       "      <th>country_fr</th>\n",
       "      <th>country_ru</th>\n",
       "      <th>country_zh</th>\n",
       "    </tr>\n",
       "    <tr>\n",
       "      <th>Dates</th>\n",
       "      <th>Page</th>\n",
       "      <th></th>\n",
       "      <th></th>\n",
       "      <th></th>\n",
       "      <th></th>\n",
       "      <th></th>\n",
       "      <th></th>\n",
       "      <th></th>\n",
       "      <th></th>\n",
       "      <th></th>\n",
       "      <th></th>\n",
       "      <th></th>\n",
       "      <th></th>\n",
       "      <th></th>\n",
       "      <th></th>\n",
       "      <th></th>\n",
       "      <th></th>\n",
       "      <th></th>\n",
       "      <th></th>\n",
       "      <th></th>\n",
       "      <th></th>\n",
       "      <th></th>\n",
       "    </tr>\n",
       "  </thead>\n",
       "  <tbody>\n",
       "    <tr>\n",
       "      <th rowspan=\"5\" valign=\"top\">2015-07-01</th>\n",
       "      <th>!vote_en.wikipedia.org_all-access_all-agents</th>\n",
       "      <td>3.0</td>\n",
       "      <td>NaN</td>\n",
       "      <td>NaN</td>\n",
       "      <td>NaN</td>\n",
       "      <td>NaN</td>\n",
       "      <td>NaN</td>\n",
       "      <td>NaN</td>\n",
       "      <td>NaN</td>\n",
       "      <td>NaN</td>\n",
       "      <td>1</td>\n",
       "      <td>...</td>\n",
       "      <td>0</td>\n",
       "      <td>0</td>\n",
       "      <td>0</td>\n",
       "      <td>1</td>\n",
       "      <td>0</td>\n",
       "      <td>0</td>\n",
       "      <td>1</td>\n",
       "      <td>0</td>\n",
       "      <td>0</td>\n",
       "      <td>0</td>\n",
       "    </tr>\n",
       "    <tr>\n",
       "      <th>!vote_en.wikipedia.org_all-access_spider</th>\n",
       "      <td>0.0</td>\n",
       "      <td>NaN</td>\n",
       "      <td>NaN</td>\n",
       "      <td>NaN</td>\n",
       "      <td>NaN</td>\n",
       "      <td>NaN</td>\n",
       "      <td>NaN</td>\n",
       "      <td>NaN</td>\n",
       "      <td>NaN</td>\n",
       "      <td>0</td>\n",
       "      <td>...</td>\n",
       "      <td>0</td>\n",
       "      <td>0</td>\n",
       "      <td>0</td>\n",
       "      <td>1</td>\n",
       "      <td>0</td>\n",
       "      <td>0</td>\n",
       "      <td>1</td>\n",
       "      <td>0</td>\n",
       "      <td>0</td>\n",
       "      <td>0</td>\n",
       "    </tr>\n",
       "    <tr>\n",
       "      <th>!vote_en.wikipedia.org_desktop_all-agents</th>\n",
       "      <td>3.0</td>\n",
       "      <td>NaN</td>\n",
       "      <td>NaN</td>\n",
       "      <td>NaN</td>\n",
       "      <td>NaN</td>\n",
       "      <td>NaN</td>\n",
       "      <td>NaN</td>\n",
       "      <td>NaN</td>\n",
       "      <td>NaN</td>\n",
       "      <td>0</td>\n",
       "      <td>...</td>\n",
       "      <td>1</td>\n",
       "      <td>0</td>\n",
       "      <td>0</td>\n",
       "      <td>1</td>\n",
       "      <td>0</td>\n",
       "      <td>0</td>\n",
       "      <td>1</td>\n",
       "      <td>0</td>\n",
       "      <td>0</td>\n",
       "      <td>0</td>\n",
       "    </tr>\n",
       "    <tr>\n",
       "      <th>\"Awaken,_My_Love!\"_en.wikipedia.org_all-access_all-agents</th>\n",
       "      <td>0.0</td>\n",
       "      <td>NaN</td>\n",
       "      <td>NaN</td>\n",
       "      <td>NaN</td>\n",
       "      <td>NaN</td>\n",
       "      <td>NaN</td>\n",
       "      <td>NaN</td>\n",
       "      <td>NaN</td>\n",
       "      <td>NaN</td>\n",
       "      <td>1</td>\n",
       "      <td>...</td>\n",
       "      <td>0</td>\n",
       "      <td>0</td>\n",
       "      <td>0</td>\n",
       "      <td>1</td>\n",
       "      <td>0</td>\n",
       "      <td>0</td>\n",
       "      <td>1</td>\n",
       "      <td>0</td>\n",
       "      <td>0</td>\n",
       "      <td>0</td>\n",
       "    </tr>\n",
       "    <tr>\n",
       "      <th>\"Awaken,_My_Love!\"_en.wikipedia.org_all-access_spider</th>\n",
       "      <td>0.0</td>\n",
       "      <td>NaN</td>\n",
       "      <td>NaN</td>\n",
       "      <td>NaN</td>\n",
       "      <td>NaN</td>\n",
       "      <td>NaN</td>\n",
       "      <td>NaN</td>\n",
       "      <td>NaN</td>\n",
       "      <td>NaN</td>\n",
       "      <td>0</td>\n",
       "      <td>...</td>\n",
       "      <td>0</td>\n",
       "      <td>0</td>\n",
       "      <td>0</td>\n",
       "      <td>1</td>\n",
       "      <td>0</td>\n",
       "      <td>0</td>\n",
       "      <td>1</td>\n",
       "      <td>0</td>\n",
       "      <td>0</td>\n",
       "      <td>0</td>\n",
       "    </tr>\n",
       "  </tbody>\n",
       "</table>\n",
       "<p>5 rows × 21 columns</p>\n",
       "</div>"
      ],
      "text/plain": [
       "                                                               Visitors  \\\n",
       "Dates      Page                                                           \n",
       "2015-07-01 !vote_en.wikipedia.org_all-access_all-agents             3.0   \n",
       "           !vote_en.wikipedia.org_all-access_spider                 0.0   \n",
       "           !vote_en.wikipedia.org_desktop_all-agents                3.0   \n",
       "           \"Awaken,_My_Love!\"_en.wikipedia.org_all-access_...       0.0   \n",
       "           \"Awaken,_My_Love!\"_en.wikipedia.org_all-access_...       0.0   \n",
       "\n",
       "                                                               Visitors_shift_1  \\\n",
       "Dates      Page                                                                   \n",
       "2015-07-01 !vote_en.wikipedia.org_all-access_all-agents                     NaN   \n",
       "           !vote_en.wikipedia.org_all-access_spider                         NaN   \n",
       "           !vote_en.wikipedia.org_desktop_all-agents                        NaN   \n",
       "           \"Awaken,_My_Love!\"_en.wikipedia.org_all-access_...               NaN   \n",
       "           \"Awaken,_My_Love!\"_en.wikipedia.org_all-access_...               NaN   \n",
       "\n",
       "                                                               Visitors_shift_2  \\\n",
       "Dates      Page                                                                   \n",
       "2015-07-01 !vote_en.wikipedia.org_all-access_all-agents                     NaN   \n",
       "           !vote_en.wikipedia.org_all-access_spider                         NaN   \n",
       "           !vote_en.wikipedia.org_desktop_all-agents                        NaN   \n",
       "           \"Awaken,_My_Love!\"_en.wikipedia.org_all-access_...               NaN   \n",
       "           \"Awaken,_My_Love!\"_en.wikipedia.org_all-access_...               NaN   \n",
       "\n",
       "                                                               Visitors_shift_3  \\\n",
       "Dates      Page                                                                   \n",
       "2015-07-01 !vote_en.wikipedia.org_all-access_all-agents                     NaN   \n",
       "           !vote_en.wikipedia.org_all-access_spider                         NaN   \n",
       "           !vote_en.wikipedia.org_desktop_all-agents                        NaN   \n",
       "           \"Awaken,_My_Love!\"_en.wikipedia.org_all-access_...               NaN   \n",
       "           \"Awaken,_My_Love!\"_en.wikipedia.org_all-access_...               NaN   \n",
       "\n",
       "                                                               Visitors_shift_4  \\\n",
       "Dates      Page                                                                   \n",
       "2015-07-01 !vote_en.wikipedia.org_all-access_all-agents                     NaN   \n",
       "           !vote_en.wikipedia.org_all-access_spider                         NaN   \n",
       "           !vote_en.wikipedia.org_desktop_all-agents                        NaN   \n",
       "           \"Awaken,_My_Love!\"_en.wikipedia.org_all-access_...               NaN   \n",
       "           \"Awaken,_My_Love!\"_en.wikipedia.org_all-access_...               NaN   \n",
       "\n",
       "                                                               Visitors_shift_5  \\\n",
       "Dates      Page                                                                   \n",
       "2015-07-01 !vote_en.wikipedia.org_all-access_all-agents                     NaN   \n",
       "           !vote_en.wikipedia.org_all-access_spider                         NaN   \n",
       "           !vote_en.wikipedia.org_desktop_all-agents                        NaN   \n",
       "           \"Awaken,_My_Love!\"_en.wikipedia.org_all-access_...               NaN   \n",
       "           \"Awaken,_My_Love!\"_en.wikipedia.org_all-access_...               NaN   \n",
       "\n",
       "                                                               Visitors_shift_6  \\\n",
       "Dates      Page                                                                   \n",
       "2015-07-01 !vote_en.wikipedia.org_all-access_all-agents                     NaN   \n",
       "           !vote_en.wikipedia.org_all-access_spider                         NaN   \n",
       "           !vote_en.wikipedia.org_desktop_all-agents                        NaN   \n",
       "           \"Awaken,_My_Love!\"_en.wikipedia.org_all-access_...               NaN   \n",
       "           \"Awaken,_My_Love!\"_en.wikipedia.org_all-access_...               NaN   \n",
       "\n",
       "                                                               Visitors_shift_7  \\\n",
       "Dates      Page                                                                   \n",
       "2015-07-01 !vote_en.wikipedia.org_all-access_all-agents                     NaN   \n",
       "           !vote_en.wikipedia.org_all-access_spider                         NaN   \n",
       "           !vote_en.wikipedia.org_desktop_all-agents                        NaN   \n",
       "           \"Awaken,_My_Love!\"_en.wikipedia.org_all-access_...               NaN   \n",
       "           \"Awaken,_My_Love!\"_en.wikipedia.org_all-access_...               NaN   \n",
       "\n",
       "                                                               Visitors_shift_90  \\\n",
       "Dates      Page                                                                    \n",
       "2015-07-01 !vote_en.wikipedia.org_all-access_all-agents                      NaN   \n",
       "           !vote_en.wikipedia.org_all-access_spider                          NaN   \n",
       "           !vote_en.wikipedia.org_desktop_all-agents                         NaN   \n",
       "           \"Awaken,_My_Love!\"_en.wikipedia.org_all-access_...                NaN   \n",
       "           \"Awaken,_My_Love!\"_en.wikipedia.org_all-access_...                NaN   \n",
       "\n",
       "                                                               agent_all-access_all-agents  \\\n",
       "Dates      Page                                                                              \n",
       "2015-07-01 !vote_en.wikipedia.org_all-access_all-agents                                  1   \n",
       "           !vote_en.wikipedia.org_all-access_spider                                      0   \n",
       "           !vote_en.wikipedia.org_desktop_all-agents                                     0   \n",
       "           \"Awaken,_My_Love!\"_en.wikipedia.org_all-access_...                            1   \n",
       "           \"Awaken,_My_Love!\"_en.wikipedia.org_all-access_...                            0   \n",
       "\n",
       "                                                               ...  \\\n",
       "Dates      Page                                                ...   \n",
       "2015-07-01 !vote_en.wikipedia.org_all-access_all-agents        ...   \n",
       "           !vote_en.wikipedia.org_all-access_spider            ...   \n",
       "           !vote_en.wikipedia.org_desktop_all-agents           ...   \n",
       "           \"Awaken,_My_Love!\"_en.wikipedia.org_all-access_...  ...   \n",
       "           \"Awaken,_My_Love!\"_en.wikipedia.org_all-access_...  ...   \n",
       "\n",
       "                                                               agent_desktop_all-agents  \\\n",
       "Dates      Page                                                                           \n",
       "2015-07-01 !vote_en.wikipedia.org_all-access_all-agents                               0   \n",
       "           !vote_en.wikipedia.org_all-access_spider                                   0   \n",
       "           !vote_en.wikipedia.org_desktop_all-agents                                  1   \n",
       "           \"Awaken,_My_Love!\"_en.wikipedia.org_all-access_...                         0   \n",
       "           \"Awaken,_My_Love!\"_en.wikipedia.org_all-access_...                         0   \n",
       "\n",
       "                                                               agent_mobile-web_all-agents  \\\n",
       "Dates      Page                                                                              \n",
       "2015-07-01 !vote_en.wikipedia.org_all-access_all-agents                                  0   \n",
       "           !vote_en.wikipedia.org_all-access_spider                                      0   \n",
       "           !vote_en.wikipedia.org_desktop_all-agents                                     0   \n",
       "           \"Awaken,_My_Love!\"_en.wikipedia.org_all-access_...                            0   \n",
       "           \"Awaken,_My_Love!\"_en.wikipedia.org_all-access_...                            0   \n",
       "\n",
       "                                                               site_commons.wikimedia.org  \\\n",
       "Dates      Page                                                                             \n",
       "2015-07-01 !vote_en.wikipedia.org_all-access_all-agents                                 0   \n",
       "           !vote_en.wikipedia.org_all-access_spider                                     0   \n",
       "           !vote_en.wikipedia.org_desktop_all-agents                                    0   \n",
       "           \"Awaken,_My_Love!\"_en.wikipedia.org_all-access_...                           0   \n",
       "           \"Awaken,_My_Love!\"_en.wikipedia.org_all-access_...                           0   \n",
       "\n",
       "                                                               site_wikipedia.org  \\\n",
       "Dates      Page                                                                     \n",
       "2015-07-01 !vote_en.wikipedia.org_all-access_all-agents                         1   \n",
       "           !vote_en.wikipedia.org_all-access_spider                             1   \n",
       "           !vote_en.wikipedia.org_desktop_all-agents                            1   \n",
       "           \"Awaken,_My_Love!\"_en.wikipedia.org_all-access_...                   1   \n",
       "           \"Awaken,_My_Love!\"_en.wikipedia.org_all-access_...                   1   \n",
       "\n",
       "                                                               site_www.mediawiki.org  \\\n",
       "Dates      Page                                                                         \n",
       "2015-07-01 !vote_en.wikipedia.org_all-access_all-agents                             0   \n",
       "           !vote_en.wikipedia.org_all-access_spider                                 0   \n",
       "           !vote_en.wikipedia.org_desktop_all-agents                                0   \n",
       "           \"Awaken,_My_Love!\"_en.wikipedia.org_all-access_...                       0   \n",
       "           \"Awaken,_My_Love!\"_en.wikipedia.org_all-access_...                       0   \n",
       "\n",
       "                                                               country_de  \\\n",
       "Dates      Page                                                             \n",
       "2015-07-01 !vote_en.wikipedia.org_all-access_all-agents                 0   \n",
       "           !vote_en.wikipedia.org_all-access_spider                     0   \n",
       "           !vote_en.wikipedia.org_desktop_all-agents                    0   \n",
       "           \"Awaken,_My_Love!\"_en.wikipedia.org_all-access_...           0   \n",
       "           \"Awaken,_My_Love!\"_en.wikipedia.org_all-access_...           0   \n",
       "\n",
       "                                                               country_en  \\\n",
       "Dates      Page                                                             \n",
       "2015-07-01 !vote_en.wikipedia.org_all-access_all-agents                 1   \n",
       "           !vote_en.wikipedia.org_all-access_spider                     1   \n",
       "           !vote_en.wikipedia.org_desktop_all-agents                    1   \n",
       "           \"Awaken,_My_Love!\"_en.wikipedia.org_all-access_...           1   \n",
       "           \"Awaken,_My_Love!\"_en.wikipedia.org_all-access_...           1   \n",
       "\n",
       "                                                               country_fr  \\\n",
       "Dates      Page                                                             \n",
       "2015-07-01 !vote_en.wikipedia.org_all-access_all-agents                 0   \n",
       "           !vote_en.wikipedia.org_all-access_spider                     0   \n",
       "           !vote_en.wikipedia.org_desktop_all-agents                    0   \n",
       "           \"Awaken,_My_Love!\"_en.wikipedia.org_all-access_...           0   \n",
       "           \"Awaken,_My_Love!\"_en.wikipedia.org_all-access_...           0   \n",
       "\n",
       "                                                               country_ru  \\\n",
       "Dates      Page                                                             \n",
       "2015-07-01 !vote_en.wikipedia.org_all-access_all-agents                 0   \n",
       "           !vote_en.wikipedia.org_all-access_spider                     0   \n",
       "           !vote_en.wikipedia.org_desktop_all-agents                    0   \n",
       "           \"Awaken,_My_Love!\"_en.wikipedia.org_all-access_...           0   \n",
       "           \"Awaken,_My_Love!\"_en.wikipedia.org_all-access_...           0   \n",
       "\n",
       "                                                               country_zh  \n",
       "Dates      Page                                                            \n",
       "2015-07-01 !vote_en.wikipedia.org_all-access_all-agents                 0  \n",
       "           !vote_en.wikipedia.org_all-access_spider                     0  \n",
       "           !vote_en.wikipedia.org_desktop_all-agents                    0  \n",
       "           \"Awaken,_My_Love!\"_en.wikipedia.org_all-access_...           0  \n",
       "           \"Awaken,_My_Love!\"_en.wikipedia.org_all-access_...           0  \n",
       "\n",
       "[5 rows x 21 columns]"
      ]
     },
     "execution_count": 7,
     "metadata": {},
     "output_type": "execute_result"
    }
   ],
   "source": [
    "data.head()"
   ]
  },
  {
   "cell_type": "code",
   "execution_count": 8,
   "metadata": {},
   "outputs": [
    {
     "data": {
      "text/plain": [
       "(27500000, 21)"
      ]
     },
     "execution_count": 8,
     "metadata": {},
     "output_type": "execute_result"
    }
   ],
   "source": [
    "data.shape"
   ]
  },
  {
   "cell_type": "code",
   "execution_count": 5,
   "metadata": {},
   "outputs": [
    {
     "data": {
      "text/plain": [
       "Index(['Visitors', 'Visitors_shift_1', 'Visitors_shift_2', 'Visitors_shift_3',\n",
       "       'Visitors_shift_4', 'Visitors_shift_5', 'Visitors_shift_6',\n",
       "       'Visitors_shift_7', 'Visitors_shift_90', 'agent_all-access_all-agents',\n",
       "       'agent_all-access_spider', 'agent_desktop_all-agents',\n",
       "       'agent_mobile-web_all-agents', 'site_commons.wikimedia.org',\n",
       "       'site_wikipedia.org', 'site_www.mediawiki.org', 'country_de',\n",
       "       'country_en', 'country_fr', 'country_ru', 'country_zh'],\n",
       "      dtype='object')"
      ]
     },
     "execution_count": 5,
     "metadata": {},
     "output_type": "execute_result"
    }
   ],
   "source": [
    "data.columns"
   ]
  },
  {
   "cell_type": "code",
   "execution_count": 18,
   "metadata": {},
   "outputs": [
    {
     "name": "stdout",
     "output_type": "stream",
     "text": [
      "TimeSeriesSplit(max_train_size=None, n_splits=5)\n",
      "TRAIN: [     0      1      2 ... 916667 916668 916669] TEST: [ 916670  916671  916672 ... 1833333 1833334 1833335]\n",
      "2\n",
      "1\n",
      "[15:58:50] WARNING: /Users/travis/build/dmlc/xgboost/src/learner.cc:516: \n",
      "Parameters: { objective=reg } might not be used.\n",
      "\n",
      "  This may not be accurate due to some parameters are only used in language bindings but\n",
      "  passed down to XGBoost core.  Or some parameters are not used but slip through this\n",
      "  verification. Please open an issue if you find above cases.\n",
      "\n",
      "\n"
     ]
    },
    {
     "name": "stderr",
     "output_type": "stream",
     "text": [
      "/opt/anaconda3/lib/python3.7/site-packages/ipykernel_launcher.py:29: RuntimeWarning: divide by zero encountered in true_divide\n"
     ]
    },
    {
     "name": "stdout",
     "output_type": "stream",
     "text": [
      "Test RMSE: 116555.326\n",
      "Test SMAPE: 149.426\n",
      "Test MAPE: inf\n",
      "4\n",
      "1\n",
      "[15:58:54] WARNING: /Users/travis/build/dmlc/xgboost/src/learner.cc:516: \n",
      "Parameters: { objective=reg } might not be used.\n",
      "\n",
      "  This may not be accurate due to some parameters are only used in language bindings but\n",
      "  passed down to XGBoost core.  Or some parameters are not used but slip through this\n",
      "  verification. Please open an issue if you find above cases.\n",
      "\n",
      "\n"
     ]
    },
    {
     "name": "stderr",
     "output_type": "stream",
     "text": [
      "/opt/anaconda3/lib/python3.7/site-packages/ipykernel_launcher.py:29: RuntimeWarning: divide by zero encountered in true_divide\n"
     ]
    },
    {
     "name": "stdout",
     "output_type": "stream",
     "text": [
      "Test RMSE: 113975.229\n",
      "Test SMAPE: 87.662\n",
      "Test MAPE: inf\n",
      "6\n",
      "1\n",
      "[15:58:58] WARNING: /Users/travis/build/dmlc/xgboost/src/learner.cc:516: \n",
      "Parameters: { objective=reg } might not be used.\n",
      "\n",
      "  This may not be accurate due to some parameters are only used in language bindings but\n",
      "  passed down to XGBoost core.  Or some parameters are not used but slip through this\n",
      "  verification. Please open an issue if you find above cases.\n",
      "\n",
      "\n"
     ]
    },
    {
     "name": "stderr",
     "output_type": "stream",
     "text": [
      "/opt/anaconda3/lib/python3.7/site-packages/ipykernel_launcher.py:29: RuntimeWarning: divide by zero encountered in true_divide\n"
     ]
    },
    {
     "name": "stdout",
     "output_type": "stream",
     "text": [
      "Test RMSE: 103654.595\n",
      "Test SMAPE: 281.890\n",
      "Test MAPE: inf\n",
      "TRAIN: [      0       1       2 ... 1833333 1833334 1833335] TEST: [1833336 1833337 1833338 ... 2749999 2750000 2750001]\n",
      "2\n",
      "1\n",
      "[15:59:05] WARNING: /Users/travis/build/dmlc/xgboost/src/learner.cc:516: \n",
      "Parameters: { objective=reg } might not be used.\n",
      "\n",
      "  This may not be accurate due to some parameters are only used in language bindings but\n",
      "  passed down to XGBoost core.  Or some parameters are not used but slip through this\n",
      "  verification. Please open an issue if you find above cases.\n",
      "\n",
      "\n"
     ]
    },
    {
     "name": "stderr",
     "output_type": "stream",
     "text": [
      "/opt/anaconda3/lib/python3.7/site-packages/ipykernel_launcher.py:29: RuntimeWarning: divide by zero encountered in true_divide\n"
     ]
    },
    {
     "name": "stdout",
     "output_type": "stream",
     "text": [
      "Test RMSE: 117149.308\n",
      "Test SMAPE: 136.987\n",
      "Test MAPE: inf\n",
      "4\n",
      "1\n",
      "[15:59:11] WARNING: /Users/travis/build/dmlc/xgboost/src/learner.cc:516: \n",
      "Parameters: { objective=reg } might not be used.\n",
      "\n",
      "  This may not be accurate due to some parameters are only used in language bindings but\n",
      "  passed down to XGBoost core.  Or some parameters are not used but slip through this\n",
      "  verification. Please open an issue if you find above cases.\n",
      "\n",
      "\n"
     ]
    },
    {
     "name": "stderr",
     "output_type": "stream",
     "text": [
      "/opt/anaconda3/lib/python3.7/site-packages/ipykernel_launcher.py:29: RuntimeWarning: divide by zero encountered in true_divide\n"
     ]
    },
    {
     "name": "stdout",
     "output_type": "stream",
     "text": [
      "Test RMSE: 116599.681\n",
      "Test SMAPE: 95.122\n",
      "Test MAPE: inf\n",
      "6\n",
      "1\n",
      "[15:59:17] WARNING: /Users/travis/build/dmlc/xgboost/src/learner.cc:516: \n",
      "Parameters: { objective=reg } might not be used.\n",
      "\n",
      "  This may not be accurate due to some parameters are only used in language bindings but\n",
      "  passed down to XGBoost core.  Or some parameters are not used but slip through this\n",
      "  verification. Please open an issue if you find above cases.\n",
      "\n",
      "\n"
     ]
    },
    {
     "name": "stderr",
     "output_type": "stream",
     "text": [
      "/opt/anaconda3/lib/python3.7/site-packages/ipykernel_launcher.py:29: RuntimeWarning: divide by zero encountered in true_divide\n"
     ]
    },
    {
     "name": "stdout",
     "output_type": "stream",
     "text": [
      "Test RMSE: 127630.337\n",
      "Test SMAPE: 73.369\n",
      "Test MAPE: inf\n",
      "TRAIN: [      0       1       2 ... 2749999 2750000 2750001] TEST: [2750002 2750003 2750004 ... 3666665 3666666 3666667]\n",
      "2\n",
      "1\n",
      "[15:59:29] WARNING: /Users/travis/build/dmlc/xgboost/src/learner.cc:516: \n",
      "Parameters: { objective=reg } might not be used.\n",
      "\n",
      "  This may not be accurate due to some parameters are only used in language bindings but\n",
      "  passed down to XGBoost core.  Or some parameters are not used but slip through this\n",
      "  verification. Please open an issue if you find above cases.\n",
      "\n",
      "\n"
     ]
    },
    {
     "name": "stderr",
     "output_type": "stream",
     "text": [
      "/opt/anaconda3/lib/python3.7/site-packages/ipykernel_launcher.py:29: RuntimeWarning: divide by zero encountered in true_divide\n"
     ]
    },
    {
     "name": "stdout",
     "output_type": "stream",
     "text": [
      "Test RMSE: 127887.020\n",
      "Test SMAPE: -22.455\n",
      "Test MAPE: inf\n",
      "4\n",
      "1\n",
      "[15:59:35] WARNING: /Users/travis/build/dmlc/xgboost/src/learner.cc:516: \n",
      "Parameters: { objective=reg } might not be used.\n",
      "\n",
      "  This may not be accurate due to some parameters are only used in language bindings but\n",
      "  passed down to XGBoost core.  Or some parameters are not used but slip through this\n",
      "  verification. Please open an issue if you find above cases.\n",
      "\n",
      "\n"
     ]
    },
    {
     "name": "stderr",
     "output_type": "stream",
     "text": [
      "/opt/anaconda3/lib/python3.7/site-packages/ipykernel_launcher.py:29: RuntimeWarning: divide by zero encountered in true_divide\n"
     ]
    },
    {
     "name": "stdout",
     "output_type": "stream",
     "text": [
      "Test RMSE: 128016.003\n",
      "Test SMAPE: 96.726\n",
      "Test MAPE: inf\n",
      "6\n",
      "1\n",
      "[15:59:44] WARNING: /Users/travis/build/dmlc/xgboost/src/learner.cc:516: \n",
      "Parameters: { objective=reg } might not be used.\n",
      "\n",
      "  This may not be accurate due to some parameters are only used in language bindings but\n",
      "  passed down to XGBoost core.  Or some parameters are not used but slip through this\n",
      "  verification. Please open an issue if you find above cases.\n",
      "\n",
      "\n"
     ]
    },
    {
     "name": "stderr",
     "output_type": "stream",
     "text": [
      "/opt/anaconda3/lib/python3.7/site-packages/ipykernel_launcher.py:29: RuntimeWarning: divide by zero encountered in true_divide\n"
     ]
    },
    {
     "name": "stdout",
     "output_type": "stream",
     "text": [
      "Test RMSE: 126482.835\n",
      "Test SMAPE: 69.028\n",
      "Test MAPE: inf\n",
      "TRAIN: [      0       1       2 ... 3666665 3666666 3666667] TEST: [3666668 3666669 3666670 ... 4583331 4583332 4583333]\n",
      "2\n",
      "1\n",
      "[16:00:00] WARNING: /Users/travis/build/dmlc/xgboost/src/learner.cc:516: \n",
      "Parameters: { objective=reg } might not be used.\n",
      "\n",
      "  This may not be accurate due to some parameters are only used in language bindings but\n",
      "  passed down to XGBoost core.  Or some parameters are not used but slip through this\n",
      "  verification. Please open an issue if you find above cases.\n",
      "\n",
      "\n"
     ]
    },
    {
     "name": "stderr",
     "output_type": "stream",
     "text": [
      "/opt/anaconda3/lib/python3.7/site-packages/ipykernel_launcher.py:29: RuntimeWarning: divide by zero encountered in true_divide\n"
     ]
    },
    {
     "name": "stdout",
     "output_type": "stream",
     "text": [
      "Test RMSE: 334833.537\n",
      "Test SMAPE: -175.815\n",
      "Test MAPE: inf\n",
      "4\n",
      "1\n",
      "[16:00:09] WARNING: /Users/travis/build/dmlc/xgboost/src/learner.cc:516: \n",
      "Parameters: { objective=reg } might not be used.\n",
      "\n",
      "  This may not be accurate due to some parameters are only used in language bindings but\n",
      "  passed down to XGBoost core.  Or some parameters are not used but slip through this\n",
      "  verification. Please open an issue if you find above cases.\n",
      "\n",
      "\n"
     ]
    },
    {
     "name": "stderr",
     "output_type": "stream",
     "text": [
      "/opt/anaconda3/lib/python3.7/site-packages/ipykernel_launcher.py:29: RuntimeWarning: divide by zero encountered in true_divide\n"
     ]
    },
    {
     "name": "stdout",
     "output_type": "stream",
     "text": [
      "Test RMSE: 333268.844\n",
      "Test SMAPE: 86.400\n",
      "Test MAPE: inf\n",
      "6\n",
      "1\n",
      "[16:00:20] WARNING: /Users/travis/build/dmlc/xgboost/src/learner.cc:516: \n",
      "Parameters: { objective=reg } might not be used.\n",
      "\n",
      "  This may not be accurate due to some parameters are only used in language bindings but\n",
      "  passed down to XGBoost core.  Or some parameters are not used but slip through this\n",
      "  verification. Please open an issue if you find above cases.\n",
      "\n",
      "\n"
     ]
    },
    {
     "name": "stderr",
     "output_type": "stream",
     "text": [
      "/opt/anaconda3/lib/python3.7/site-packages/ipykernel_launcher.py:29: RuntimeWarning: divide by zero encountered in true_divide\n"
     ]
    },
    {
     "name": "stdout",
     "output_type": "stream",
     "text": [
      "Test RMSE: 326666.881\n",
      "Test SMAPE: 77.438\n",
      "Test MAPE: inf\n",
      "TRAIN: [      0       1       2 ... 4583331 4583332 4583333] TEST: [4583334 4583335 4583336 ... 5499997 5499998 5499999]\n",
      "2\n",
      "1\n",
      "[16:00:42] WARNING: /Users/travis/build/dmlc/xgboost/src/learner.cc:516: \n",
      "Parameters: { objective=reg } might not be used.\n",
      "\n",
      "  This may not be accurate due to some parameters are only used in language bindings but\n",
      "  passed down to XGBoost core.  Or some parameters are not used but slip through this\n",
      "  verification. Please open an issue if you find above cases.\n",
      "\n",
      "\n",
      "[16:00:42] WARNING: /Users/travis/build/dmlc/xgboost/src/gbm/gbtree.cc:139: Tree method is automatically selected to be 'approx' for faster speed. To use old behavior (exact greedy algorithm on single machine), set tree_method to 'exact'.\n"
     ]
    },
    {
     "name": "stderr",
     "output_type": "stream",
     "text": [
      "/opt/anaconda3/lib/python3.7/site-packages/ipykernel_launcher.py:29: RuntimeWarning: divide by zero encountered in true_divide\n"
     ]
    },
    {
     "name": "stdout",
     "output_type": "stream",
     "text": [
      "Test RMSE: 192593.250\n",
      "Test SMAPE: 2.023\n",
      "Test MAPE: inf\n",
      "4\n",
      "1\n",
      "[16:00:53] WARNING: /Users/travis/build/dmlc/xgboost/src/learner.cc:516: \n",
      "Parameters: { objective=reg } might not be used.\n",
      "\n",
      "  This may not be accurate due to some parameters are only used in language bindings but\n",
      "  passed down to XGBoost core.  Or some parameters are not used but slip through this\n",
      "  verification. Please open an issue if you find above cases.\n",
      "\n",
      "\n",
      "[16:00:53] WARNING: /Users/travis/build/dmlc/xgboost/src/gbm/gbtree.cc:139: Tree method is automatically selected to be 'approx' for faster speed. To use old behavior (exact greedy algorithm on single machine), set tree_method to 'exact'.\n"
     ]
    },
    {
     "name": "stderr",
     "output_type": "stream",
     "text": [
      "/opt/anaconda3/lib/python3.7/site-packages/ipykernel_launcher.py:29: RuntimeWarning: divide by zero encountered in true_divide\n"
     ]
    },
    {
     "name": "stdout",
     "output_type": "stream",
     "text": [
      "Test RMSE: 189000.154\n",
      "Test SMAPE: 79.586\n",
      "Test MAPE: inf\n",
      "6\n",
      "1\n",
      "[16:01:06] WARNING: /Users/travis/build/dmlc/xgboost/src/learner.cc:516: \n",
      "Parameters: { objective=reg } might not be used.\n",
      "\n",
      "  This may not be accurate due to some parameters are only used in language bindings but\n",
      "  passed down to XGBoost core.  Or some parameters are not used but slip through this\n",
      "  verification. Please open an issue if you find above cases.\n",
      "\n",
      "\n",
      "[16:01:06] WARNING: /Users/travis/build/dmlc/xgboost/src/gbm/gbtree.cc:139: Tree method is automatically selected to be 'approx' for faster speed. To use old behavior (exact greedy algorithm on single machine), set tree_method to 'exact'.\n",
      "Test RMSE: 180275.111\n",
      "Test SMAPE: 76.651\n",
      "Test MAPE: inf\n"
     ]
    },
    {
     "name": "stderr",
     "output_type": "stream",
     "text": [
      "/opt/anaconda3/lib/python3.7/site-packages/ipykernel_launcher.py:29: RuntimeWarning: divide by zero encountered in true_divide\n"
     ]
    }
   ],
   "source": [
    "metrics_df = pd.DataFrame(columns=['RMSE','SMAPE','MAPE'])\n",
    "\n",
    "X = data.drop('Visitors', axis = 1).values\n",
    "y = data['Visitors'].values\n",
    "\n",
    "tscv = TimeSeriesSplit()\n",
    "print(tscv)\n",
    "\n",
    "for train_index, test_index in tscv.split(X):\n",
    "    print(\"TRAIN:\", train_index, \"TEST:\", test_index)\n",
    "    X_train, X_test = X[train_index], X[test_index]\n",
    "    y_train, y_test = y[train_index], y[test_index]\n",
    "    \n",
    "    dtrain = xgb.DMatrix(X_train, label=y_train)\n",
    "    dtest = xgb.DMatrix(X_test, label=y_test)\n",
    "    paramSearch = {'max_depth':[2,4,6], 'eta':[1]}\n",
    "    for max_depth in paramSearch['max_depth']:\n",
    "        print(max_depth)\n",
    "        for eta in paramSearch['eta']:\n",
    "            print(eta)\n",
    "            with mlflow.start_run():\n",
    "                num_round = 2\n",
    "                param = {'max_depth': max_depth, 'eta': eta, 'objective=reg' :'tweedie'}\n",
    "                bst = xgb.train(param, dtrain, num_round)\n",
    "                preds = bst.predict(dtest)\n",
    "\n",
    "                rmse = np.sqrt(mean_squared_error(y_test, preds))\n",
    "                smape = smape_fast(y_test, preds)\n",
    "                mape = np.mean(np.abs(preds - y_test)/np.abs(y_test))\n",
    "                print(\"Test RMSE: %.3f\" % rmse)\n",
    "                print(\"Test SMAPE: %.3f\" % smape)\n",
    "                print(\"Test MAPE: %.3f\" % mape)\n",
    "                new_metrics = pd.DataFrame([(rmse,smape,mape)], columns = ['RMSE','SMAPE','MAPE'])\n",
    "                metrics_df= metrics_df.append(new_metrics, ignore_index=True)\n",
    "                \n",
    "                mean_RMSE = metrics_df['RMSE'].mean()\n",
    "                sum_RMSE = metrics_df['RMSE'].sum()\n",
    "                mean_SMAPE = metrics_df['SMAPE'].mean()\n",
    "                mean_MAPE = metrics_df['MAPE'].mean()\n",
    "                \n",
    "                mlflow.log_param(\"lag\",lag)\n",
    "                mlflow.log_param(\"encoding\",encoding)\n",
    "                mlflow.log_param(\"model\",model)\n",
    "                mlflow.log_param(\"max_depth\",param['max_depth'])\n",
    "                mlflow.log_param(\"eta\",param['eta'])\n",
    "                mlflow.log_param(\"objective\",param['objective=reg'])\n",
    "                mlflow.log_metric('mean_RMSE', mean_RMSE)\n",
    "                mlflow.log_metric('sum_RMSE', sum_RMSE)\n",
    "                mlflow.log_metric('mean_SMAPE', mean_SMAPE)\n",
    "                mlflow.end_run()"
   ]
  }
 ],
 "metadata": {
  "kernelspec": {
   "display_name": "Python 3",
   "language": "python",
   "name": "python3"
  },
  "language_info": {
   "codemirror_mode": {
    "name": "ipython",
    "version": 3
   },
   "file_extension": ".py",
   "mimetype": "text/x-python",
   "name": "python",
   "nbconvert_exporter": "python",
   "pygments_lexer": "ipython3",
   "version": "3.7.6"
  }
 },
 "nbformat": 4,
 "nbformat_minor": 4
}
