{
 "cells": [
  {
   "cell_type": "markdown",
   "metadata": {},
   "source": [
    "<h1>Prophet</h1>"
   ]
  },
  {
   "cell_type": "code",
   "execution_count": 1,
   "metadata": {},
   "outputs": [],
   "source": [
    "import numpy as np\n",
    "import pandas as pd\n",
    "import matplotlib.pyplot as plt\n",
    "from fbprophet import Prophet\n",
    "from sklearn.metrics import mean_squared_error\n",
    "from numba import jit\n",
    "import math"
   ]
  },
  {
   "cell_type": "code",
   "execution_count": 2,
   "metadata": {},
   "outputs": [
    {
     "data": {
      "text/html": [
       "<div>\n",
       "<style scoped>\n",
       "    .dataframe tbody tr th:only-of-type {\n",
       "        vertical-align: middle;\n",
       "    }\n",
       "\n",
       "    .dataframe tbody tr th {\n",
       "        vertical-align: top;\n",
       "    }\n",
       "\n",
       "    .dataframe thead th {\n",
       "        text-align: right;\n",
       "    }\n",
       "</style>\n",
       "<table border=\"1\" class=\"dataframe\">\n",
       "  <thead>\n",
       "    <tr style=\"text-align: right;\">\n",
       "      <th></th>\n",
       "      <th>Page</th>\n",
       "      <th>2015-07-01</th>\n",
       "      <th>2015-07-02</th>\n",
       "      <th>2015-07-03</th>\n",
       "      <th>2015-07-04</th>\n",
       "      <th>2015-07-05</th>\n",
       "      <th>2015-07-06</th>\n",
       "      <th>2015-07-07</th>\n",
       "      <th>2015-07-08</th>\n",
       "      <th>2015-07-09</th>\n",
       "      <th>...</th>\n",
       "      <th>2016-12-22</th>\n",
       "      <th>2016-12-23</th>\n",
       "      <th>2016-12-24</th>\n",
       "      <th>2016-12-25</th>\n",
       "      <th>2016-12-26</th>\n",
       "      <th>2016-12-27</th>\n",
       "      <th>2016-12-28</th>\n",
       "      <th>2016-12-29</th>\n",
       "      <th>2016-12-30</th>\n",
       "      <th>2016-12-31</th>\n",
       "    </tr>\n",
       "  </thead>\n",
       "  <tbody>\n",
       "    <tr>\n",
       "      <th>0</th>\n",
       "      <td>2NE1_zh.wikipedia.org_all-access_spider</td>\n",
       "      <td>18.0</td>\n",
       "      <td>11.0</td>\n",
       "      <td>5.0</td>\n",
       "      <td>13.0</td>\n",
       "      <td>14.0</td>\n",
       "      <td>9.0</td>\n",
       "      <td>9.0</td>\n",
       "      <td>22.0</td>\n",
       "      <td>26.0</td>\n",
       "      <td>...</td>\n",
       "      <td>32.0</td>\n",
       "      <td>63.0</td>\n",
       "      <td>15.0</td>\n",
       "      <td>26.0</td>\n",
       "      <td>14.0</td>\n",
       "      <td>20.0</td>\n",
       "      <td>22.0</td>\n",
       "      <td>19.0</td>\n",
       "      <td>18.0</td>\n",
       "      <td>20.0</td>\n",
       "    </tr>\n",
       "    <tr>\n",
       "      <th>1</th>\n",
       "      <td>2PM_zh.wikipedia.org_all-access_spider</td>\n",
       "      <td>11.0</td>\n",
       "      <td>14.0</td>\n",
       "      <td>15.0</td>\n",
       "      <td>18.0</td>\n",
       "      <td>11.0</td>\n",
       "      <td>13.0</td>\n",
       "      <td>22.0</td>\n",
       "      <td>11.0</td>\n",
       "      <td>10.0</td>\n",
       "      <td>...</td>\n",
       "      <td>17.0</td>\n",
       "      <td>42.0</td>\n",
       "      <td>28.0</td>\n",
       "      <td>15.0</td>\n",
       "      <td>9.0</td>\n",
       "      <td>30.0</td>\n",
       "      <td>52.0</td>\n",
       "      <td>45.0</td>\n",
       "      <td>26.0</td>\n",
       "      <td>20.0</td>\n",
       "    </tr>\n",
       "    <tr>\n",
       "      <th>2</th>\n",
       "      <td>3C_zh.wikipedia.org_all-access_spider</td>\n",
       "      <td>1.0</td>\n",
       "      <td>0.0</td>\n",
       "      <td>1.0</td>\n",
       "      <td>1.0</td>\n",
       "      <td>0.0</td>\n",
       "      <td>4.0</td>\n",
       "      <td>0.0</td>\n",
       "      <td>3.0</td>\n",
       "      <td>4.0</td>\n",
       "      <td>...</td>\n",
       "      <td>3.0</td>\n",
       "      <td>1.0</td>\n",
       "      <td>1.0</td>\n",
       "      <td>7.0</td>\n",
       "      <td>4.0</td>\n",
       "      <td>4.0</td>\n",
       "      <td>6.0</td>\n",
       "      <td>3.0</td>\n",
       "      <td>4.0</td>\n",
       "      <td>17.0</td>\n",
       "    </tr>\n",
       "    <tr>\n",
       "      <th>3</th>\n",
       "      <td>4minute_zh.wikipedia.org_all-access_spider</td>\n",
       "      <td>35.0</td>\n",
       "      <td>13.0</td>\n",
       "      <td>10.0</td>\n",
       "      <td>94.0</td>\n",
       "      <td>4.0</td>\n",
       "      <td>26.0</td>\n",
       "      <td>14.0</td>\n",
       "      <td>9.0</td>\n",
       "      <td>11.0</td>\n",
       "      <td>...</td>\n",
       "      <td>32.0</td>\n",
       "      <td>10.0</td>\n",
       "      <td>26.0</td>\n",
       "      <td>27.0</td>\n",
       "      <td>16.0</td>\n",
       "      <td>11.0</td>\n",
       "      <td>17.0</td>\n",
       "      <td>19.0</td>\n",
       "      <td>10.0</td>\n",
       "      <td>11.0</td>\n",
       "    </tr>\n",
       "    <tr>\n",
       "      <th>4</th>\n",
       "      <td>52_Hz_I_Love_You_zh.wikipedia.org_all-access_s...</td>\n",
       "      <td>NaN</td>\n",
       "      <td>NaN</td>\n",
       "      <td>NaN</td>\n",
       "      <td>NaN</td>\n",
       "      <td>NaN</td>\n",
       "      <td>NaN</td>\n",
       "      <td>NaN</td>\n",
       "      <td>NaN</td>\n",
       "      <td>NaN</td>\n",
       "      <td>...</td>\n",
       "      <td>48.0</td>\n",
       "      <td>9.0</td>\n",
       "      <td>25.0</td>\n",
       "      <td>13.0</td>\n",
       "      <td>3.0</td>\n",
       "      <td>11.0</td>\n",
       "      <td>27.0</td>\n",
       "      <td>13.0</td>\n",
       "      <td>36.0</td>\n",
       "      <td>10.0</td>\n",
       "    </tr>\n",
       "  </tbody>\n",
       "</table>\n",
       "<p>5 rows × 551 columns</p>\n",
       "</div>"
      ],
      "text/plain": [
       "                                                Page  2015-07-01  2015-07-02  \\\n",
       "0            2NE1_zh.wikipedia.org_all-access_spider        18.0        11.0   \n",
       "1             2PM_zh.wikipedia.org_all-access_spider        11.0        14.0   \n",
       "2              3C_zh.wikipedia.org_all-access_spider         1.0         0.0   \n",
       "3         4minute_zh.wikipedia.org_all-access_spider        35.0        13.0   \n",
       "4  52_Hz_I_Love_You_zh.wikipedia.org_all-access_s...         NaN         NaN   \n",
       "\n",
       "   2015-07-03  2015-07-04  2015-07-05  2015-07-06  2015-07-07  2015-07-08  \\\n",
       "0         5.0        13.0        14.0         9.0         9.0        22.0   \n",
       "1        15.0        18.0        11.0        13.0        22.0        11.0   \n",
       "2         1.0         1.0         0.0         4.0         0.0         3.0   \n",
       "3        10.0        94.0         4.0        26.0        14.0         9.0   \n",
       "4         NaN         NaN         NaN         NaN         NaN         NaN   \n",
       "\n",
       "   2015-07-09  ...  2016-12-22  2016-12-23  2016-12-24  2016-12-25  \\\n",
       "0        26.0  ...        32.0        63.0        15.0        26.0   \n",
       "1        10.0  ...        17.0        42.0        28.0        15.0   \n",
       "2         4.0  ...         3.0         1.0         1.0         7.0   \n",
       "3        11.0  ...        32.0        10.0        26.0        27.0   \n",
       "4         NaN  ...        48.0         9.0        25.0        13.0   \n",
       "\n",
       "   2016-12-26  2016-12-27  2016-12-28  2016-12-29  2016-12-30  2016-12-31  \n",
       "0        14.0        20.0        22.0        19.0        18.0        20.0  \n",
       "1         9.0        30.0        52.0        45.0        26.0        20.0  \n",
       "2         4.0         4.0         6.0         3.0         4.0        17.0  \n",
       "3        16.0        11.0        17.0        19.0        10.0        11.0  \n",
       "4         3.0        11.0        27.0        13.0        36.0        10.0  \n",
       "\n",
       "[5 rows x 551 columns]"
      ]
     },
     "execution_count": 2,
     "metadata": {},
     "output_type": "execute_result"
    }
   ],
   "source": [
    "train_1 = pd.read_csv('../Data/train_1.csv')\n",
    "train_1.head()"
   ]
  },
  {
   "cell_type": "code",
   "execution_count": 3,
   "metadata": {},
   "outputs": [
    {
     "data": {
      "text/html": [
       "<div>\n",
       "<style scoped>\n",
       "    .dataframe tbody tr th:only-of-type {\n",
       "        vertical-align: middle;\n",
       "    }\n",
       "\n",
       "    .dataframe tbody tr th {\n",
       "        vertical-align: top;\n",
       "    }\n",
       "\n",
       "    .dataframe thead th {\n",
       "        text-align: right;\n",
       "    }\n",
       "</style>\n",
       "<table border=\"1\" class=\"dataframe\">\n",
       "  <thead>\n",
       "    <tr style=\"text-align: right;\">\n",
       "      <th>Page</th>\n",
       "      <th>2NE1_zh.wikipedia.org_all-access_spider</th>\n",
       "      <th>2PM_zh.wikipedia.org_all-access_spider</th>\n",
       "      <th>3C_zh.wikipedia.org_all-access_spider</th>\n",
       "      <th>4minute_zh.wikipedia.org_all-access_spider</th>\n",
       "      <th>52_Hz_I_Love_You_zh.wikipedia.org_all-access_spider</th>\n",
       "      <th>5566_zh.wikipedia.org_all-access_spider</th>\n",
       "      <th>91Days_zh.wikipedia.org_all-access_spider</th>\n",
       "      <th>A'N'D_zh.wikipedia.org_all-access_spider</th>\n",
       "      <th>AKB48_zh.wikipedia.org_all-access_spider</th>\n",
       "      <th>ASCII_zh.wikipedia.org_all-access_spider</th>\n",
       "      <th>...</th>\n",
       "      <th>Lovelyz_zh.wikipedia.org_all-access_spider</th>\n",
       "      <th>Lulu_zh.wikipedia.org_all-access_spider</th>\n",
       "      <th>MADTOWN_zh.wikipedia.org_all-access_spider</th>\n",
       "      <th>MAMAMOO_zh.wikipedia.org_all-access_spider</th>\n",
       "      <th>MONSTA_X_zh.wikipedia.org_all-access_spider</th>\n",
       "      <th>Madame_Antoine_zh.wikipedia.org_all-access_spider</th>\n",
       "      <th>Mamamoo_zh.wikipedia.org_all-access_spider</th>\n",
       "      <th>Mike_D._Angelo_zh.wikipedia.org_all-access_spider</th>\n",
       "      <th>Miss_A_zh.wikipedia.org_all-access_spider</th>\n",
       "      <th>Missing9_zh.wikipedia.org_all-access_spider</th>\n",
       "    </tr>\n",
       "    <tr>\n",
       "      <th>Dates</th>\n",
       "      <th></th>\n",
       "      <th></th>\n",
       "      <th></th>\n",
       "      <th></th>\n",
       "      <th></th>\n",
       "      <th></th>\n",
       "      <th></th>\n",
       "      <th></th>\n",
       "      <th></th>\n",
       "      <th></th>\n",
       "      <th></th>\n",
       "      <th></th>\n",
       "      <th></th>\n",
       "      <th></th>\n",
       "      <th></th>\n",
       "      <th></th>\n",
       "      <th></th>\n",
       "      <th></th>\n",
       "      <th></th>\n",
       "      <th></th>\n",
       "      <th></th>\n",
       "    </tr>\n",
       "  </thead>\n",
       "  <tbody>\n",
       "    <tr>\n",
       "      <th>2015-07-01</th>\n",
       "      <td>18.0</td>\n",
       "      <td>11.0</td>\n",
       "      <td>1.0</td>\n",
       "      <td>35.0</td>\n",
       "      <td>0.0</td>\n",
       "      <td>12.0</td>\n",
       "      <td>0.0</td>\n",
       "      <td>118.0</td>\n",
       "      <td>5.0</td>\n",
       "      <td>6.0</td>\n",
       "      <td>...</td>\n",
       "      <td>2.0</td>\n",
       "      <td>0.0</td>\n",
       "      <td>0.0</td>\n",
       "      <td>8.0</td>\n",
       "      <td>0.0</td>\n",
       "      <td>0.0</td>\n",
       "      <td>0.0</td>\n",
       "      <td>0.0</td>\n",
       "      <td>3.0</td>\n",
       "      <td>0.0</td>\n",
       "    </tr>\n",
       "    <tr>\n",
       "      <th>2015-07-02</th>\n",
       "      <td>11.0</td>\n",
       "      <td>14.0</td>\n",
       "      <td>0.0</td>\n",
       "      <td>13.0</td>\n",
       "      <td>0.0</td>\n",
       "      <td>7.0</td>\n",
       "      <td>0.0</td>\n",
       "      <td>26.0</td>\n",
       "      <td>23.0</td>\n",
       "      <td>3.0</td>\n",
       "      <td>...</td>\n",
       "      <td>6.0</td>\n",
       "      <td>0.0</td>\n",
       "      <td>0.0</td>\n",
       "      <td>7.0</td>\n",
       "      <td>0.0</td>\n",
       "      <td>0.0</td>\n",
       "      <td>0.0</td>\n",
       "      <td>0.0</td>\n",
       "      <td>9.0</td>\n",
       "      <td>0.0</td>\n",
       "    </tr>\n",
       "    <tr>\n",
       "      <th>2015-07-03</th>\n",
       "      <td>5.0</td>\n",
       "      <td>15.0</td>\n",
       "      <td>1.0</td>\n",
       "      <td>10.0</td>\n",
       "      <td>0.0</td>\n",
       "      <td>4.0</td>\n",
       "      <td>0.0</td>\n",
       "      <td>30.0</td>\n",
       "      <td>14.0</td>\n",
       "      <td>5.0</td>\n",
       "      <td>...</td>\n",
       "      <td>5.0</td>\n",
       "      <td>0.0</td>\n",
       "      <td>1.0</td>\n",
       "      <td>17.0</td>\n",
       "      <td>0.0</td>\n",
       "      <td>0.0</td>\n",
       "      <td>0.0</td>\n",
       "      <td>0.0</td>\n",
       "      <td>12.0</td>\n",
       "      <td>0.0</td>\n",
       "    </tr>\n",
       "    <tr>\n",
       "      <th>2015-07-04</th>\n",
       "      <td>13.0</td>\n",
       "      <td>18.0</td>\n",
       "      <td>1.0</td>\n",
       "      <td>94.0</td>\n",
       "      <td>0.0</td>\n",
       "      <td>5.0</td>\n",
       "      <td>0.0</td>\n",
       "      <td>24.0</td>\n",
       "      <td>12.0</td>\n",
       "      <td>12.0</td>\n",
       "      <td>...</td>\n",
       "      <td>21.0</td>\n",
       "      <td>0.0</td>\n",
       "      <td>0.0</td>\n",
       "      <td>11.0</td>\n",
       "      <td>0.0</td>\n",
       "      <td>0.0</td>\n",
       "      <td>0.0</td>\n",
       "      <td>0.0</td>\n",
       "      <td>14.0</td>\n",
       "      <td>0.0</td>\n",
       "    </tr>\n",
       "    <tr>\n",
       "      <th>2015-07-05</th>\n",
       "      <td>14.0</td>\n",
       "      <td>11.0</td>\n",
       "      <td>0.0</td>\n",
       "      <td>4.0</td>\n",
       "      <td>0.0</td>\n",
       "      <td>20.0</td>\n",
       "      <td>0.0</td>\n",
       "      <td>29.0</td>\n",
       "      <td>9.0</td>\n",
       "      <td>6.0</td>\n",
       "      <td>...</td>\n",
       "      <td>4.0</td>\n",
       "      <td>0.0</td>\n",
       "      <td>0.0</td>\n",
       "      <td>8.0</td>\n",
       "      <td>0.0</td>\n",
       "      <td>0.0</td>\n",
       "      <td>0.0</td>\n",
       "      <td>0.0</td>\n",
       "      <td>6.0</td>\n",
       "      <td>0.0</td>\n",
       "    </tr>\n",
       "  </tbody>\n",
       "</table>\n",
       "<p>5 rows × 100 columns</p>\n",
       "</div>"
      ],
      "text/plain": [
       "Page        2NE1_zh.wikipedia.org_all-access_spider  \\\n",
       "Dates                                                 \n",
       "2015-07-01                                     18.0   \n",
       "2015-07-02                                     11.0   \n",
       "2015-07-03                                      5.0   \n",
       "2015-07-04                                     13.0   \n",
       "2015-07-05                                     14.0   \n",
       "\n",
       "Page        2PM_zh.wikipedia.org_all-access_spider  \\\n",
       "Dates                                                \n",
       "2015-07-01                                    11.0   \n",
       "2015-07-02                                    14.0   \n",
       "2015-07-03                                    15.0   \n",
       "2015-07-04                                    18.0   \n",
       "2015-07-05                                    11.0   \n",
       "\n",
       "Page        3C_zh.wikipedia.org_all-access_spider  \\\n",
       "Dates                                               \n",
       "2015-07-01                                    1.0   \n",
       "2015-07-02                                    0.0   \n",
       "2015-07-03                                    1.0   \n",
       "2015-07-04                                    1.0   \n",
       "2015-07-05                                    0.0   \n",
       "\n",
       "Page        4minute_zh.wikipedia.org_all-access_spider  \\\n",
       "Dates                                                    \n",
       "2015-07-01                                        35.0   \n",
       "2015-07-02                                        13.0   \n",
       "2015-07-03                                        10.0   \n",
       "2015-07-04                                        94.0   \n",
       "2015-07-05                                         4.0   \n",
       "\n",
       "Page        52_Hz_I_Love_You_zh.wikipedia.org_all-access_spider  \\\n",
       "Dates                                                             \n",
       "2015-07-01                                                0.0     \n",
       "2015-07-02                                                0.0     \n",
       "2015-07-03                                                0.0     \n",
       "2015-07-04                                                0.0     \n",
       "2015-07-05                                                0.0     \n",
       "\n",
       "Page        5566_zh.wikipedia.org_all-access_spider  \\\n",
       "Dates                                                 \n",
       "2015-07-01                                     12.0   \n",
       "2015-07-02                                      7.0   \n",
       "2015-07-03                                      4.0   \n",
       "2015-07-04                                      5.0   \n",
       "2015-07-05                                     20.0   \n",
       "\n",
       "Page        91Days_zh.wikipedia.org_all-access_spider  \\\n",
       "Dates                                                   \n",
       "2015-07-01                                        0.0   \n",
       "2015-07-02                                        0.0   \n",
       "2015-07-03                                        0.0   \n",
       "2015-07-04                                        0.0   \n",
       "2015-07-05                                        0.0   \n",
       "\n",
       "Page        A'N'D_zh.wikipedia.org_all-access_spider  \\\n",
       "Dates                                                  \n",
       "2015-07-01                                     118.0   \n",
       "2015-07-02                                      26.0   \n",
       "2015-07-03                                      30.0   \n",
       "2015-07-04                                      24.0   \n",
       "2015-07-05                                      29.0   \n",
       "\n",
       "Page        AKB48_zh.wikipedia.org_all-access_spider  \\\n",
       "Dates                                                  \n",
       "2015-07-01                                       5.0   \n",
       "2015-07-02                                      23.0   \n",
       "2015-07-03                                      14.0   \n",
       "2015-07-04                                      12.0   \n",
       "2015-07-05                                       9.0   \n",
       "\n",
       "Page        ASCII_zh.wikipedia.org_all-access_spider  ...  \\\n",
       "Dates                                                 ...   \n",
       "2015-07-01                                       6.0  ...   \n",
       "2015-07-02                                       3.0  ...   \n",
       "2015-07-03                                       5.0  ...   \n",
       "2015-07-04                                      12.0  ...   \n",
       "2015-07-05                                       6.0  ...   \n",
       "\n",
       "Page        Lovelyz_zh.wikipedia.org_all-access_spider  \\\n",
       "Dates                                                    \n",
       "2015-07-01                                         2.0   \n",
       "2015-07-02                                         6.0   \n",
       "2015-07-03                                         5.0   \n",
       "2015-07-04                                        21.0   \n",
       "2015-07-05                                         4.0   \n",
       "\n",
       "Page        Lulu_zh.wikipedia.org_all-access_spider  \\\n",
       "Dates                                                 \n",
       "2015-07-01                                      0.0   \n",
       "2015-07-02                                      0.0   \n",
       "2015-07-03                                      0.0   \n",
       "2015-07-04                                      0.0   \n",
       "2015-07-05                                      0.0   \n",
       "\n",
       "Page        MADTOWN_zh.wikipedia.org_all-access_spider  \\\n",
       "Dates                                                    \n",
       "2015-07-01                                         0.0   \n",
       "2015-07-02                                         0.0   \n",
       "2015-07-03                                         1.0   \n",
       "2015-07-04                                         0.0   \n",
       "2015-07-05                                         0.0   \n",
       "\n",
       "Page        MAMAMOO_zh.wikipedia.org_all-access_spider  \\\n",
       "Dates                                                    \n",
       "2015-07-01                                         8.0   \n",
       "2015-07-02                                         7.0   \n",
       "2015-07-03                                        17.0   \n",
       "2015-07-04                                        11.0   \n",
       "2015-07-05                                         8.0   \n",
       "\n",
       "Page        MONSTA_X_zh.wikipedia.org_all-access_spider  \\\n",
       "Dates                                                     \n",
       "2015-07-01                                          0.0   \n",
       "2015-07-02                                          0.0   \n",
       "2015-07-03                                          0.0   \n",
       "2015-07-04                                          0.0   \n",
       "2015-07-05                                          0.0   \n",
       "\n",
       "Page        Madame_Antoine_zh.wikipedia.org_all-access_spider  \\\n",
       "Dates                                                           \n",
       "2015-07-01                                                0.0   \n",
       "2015-07-02                                                0.0   \n",
       "2015-07-03                                                0.0   \n",
       "2015-07-04                                                0.0   \n",
       "2015-07-05                                                0.0   \n",
       "\n",
       "Page        Mamamoo_zh.wikipedia.org_all-access_spider  \\\n",
       "Dates                                                    \n",
       "2015-07-01                                         0.0   \n",
       "2015-07-02                                         0.0   \n",
       "2015-07-03                                         0.0   \n",
       "2015-07-04                                         0.0   \n",
       "2015-07-05                                         0.0   \n",
       "\n",
       "Page        Mike_D._Angelo_zh.wikipedia.org_all-access_spider  \\\n",
       "Dates                                                           \n",
       "2015-07-01                                                0.0   \n",
       "2015-07-02                                                0.0   \n",
       "2015-07-03                                                0.0   \n",
       "2015-07-04                                                0.0   \n",
       "2015-07-05                                                0.0   \n",
       "\n",
       "Page        Miss_A_zh.wikipedia.org_all-access_spider  \\\n",
       "Dates                                                   \n",
       "2015-07-01                                        3.0   \n",
       "2015-07-02                                        9.0   \n",
       "2015-07-03                                       12.0   \n",
       "2015-07-04                                       14.0   \n",
       "2015-07-05                                        6.0   \n",
       "\n",
       "Page        Missing9_zh.wikipedia.org_all-access_spider  \n",
       "Dates                                                    \n",
       "2015-07-01                                          0.0  \n",
       "2015-07-02                                          0.0  \n",
       "2015-07-03                                          0.0  \n",
       "2015-07-04                                          0.0  \n",
       "2015-07-05                                          0.0  \n",
       "\n",
       "[5 rows x 100 columns]"
      ]
     },
     "execution_count": 3,
     "metadata": {},
     "output_type": "execute_result"
    }
   ],
   "source": [
    "train_1_reduce = train_1[0:100]\n",
    "train_1_reduce = train_1_reduce.fillna(0)\n",
    "train_1_reduce = train_1_reduce.set_index('Page')\n",
    "train_1_reduce = train_1_reduce.T.rename_axis('Dates')\n",
    "train_1_reduce.head()"
   ]
  },
  {
   "cell_type": "code",
   "execution_count": 4,
   "metadata": {},
   "outputs": [],
   "source": [
    "def smape_fast(y_true, y_pred):\n",
    "    out = 0\n",
    "    for i in range(y_true.shape[0]):\n",
    "        a = y_true[i]\n",
    "        b = y_pred[i]\n",
    "        c = a+b\n",
    "        if c == 0:\n",
    "            continue\n",
    "        out += math.fabs(a - b) / c\n",
    "    out *= (200.0 / y_true.shape[0])\n",
    "    return out"
   ]
  },
  {
   "cell_type": "code",
   "execution_count": 10,
   "metadata": {},
   "outputs": [
    {
     "name": "stderr",
     "output_type": "stream",
     "text": [
      "INFO:fbprophet:Disabling daily seasonality. Run prophet with daily_seasonality=True to override this.\n"
     ]
    },
    {
     "name": "stdout",
     "output_type": "stream",
     "text": [
      "2NE1_zh.wikipedia.org_all-access_spider\n"
     ]
    },
    {
     "name": "stderr",
     "output_type": "stream",
     "text": [
      "INFO:fbprophet:Disabling daily seasonality. Run prophet with daily_seasonality=True to override this.\n"
     ]
    },
    {
     "name": "stdout",
     "output_type": "stream",
     "text": [
      "Test RMSE: 30.039\n",
      "Test SMAPE: 45.023\n",
      "Test MAPE: 0.469\n",
      "2PM_zh.wikipedia.org_all-access_spider\n"
     ]
    },
    {
     "name": "stderr",
     "output_type": "stream",
     "text": [
      "INFO:fbprophet:Disabling daily seasonality. Run prophet with daily_seasonality=True to override this.\n"
     ]
    },
    {
     "name": "stdout",
     "output_type": "stream",
     "text": [
      "Test RMSE: 84.680\n",
      "Test SMAPE: 59.967\n",
      "Test MAPE: 0.891\n",
      "3C_zh.wikipedia.org_all-access_spider\n"
     ]
    },
    {
     "name": "stderr",
     "output_type": "stream",
     "text": [
      "<ipython-input-10-744462e54ee1>:21: RuntimeWarning: divide by zero encountered in true_divide\n",
      "  mape = np.mean(np.abs(predictions.values - dftest['y'].values)/np.abs(dftest['y'].values))\n",
      "INFO:fbprophet:Disabling daily seasonality. Run prophet with daily_seasonality=True to override this.\n"
     ]
    },
    {
     "name": "stdout",
     "output_type": "stream",
     "text": [
      "Test RMSE: 29.717\n",
      "Test SMAPE: 83.469\n",
      "Test MAPE: inf\n",
      "4minute_zh.wikipedia.org_all-access_spider\n"
     ]
    },
    {
     "name": "stderr",
     "output_type": "stream",
     "text": [
      "INFO:fbprophet:Disabling daily seasonality. Run prophet with daily_seasonality=True to override this.\n"
     ]
    },
    {
     "name": "stdout",
     "output_type": "stream",
     "text": [
      "Test RMSE: 8.850\n",
      "Test SMAPE: 41.378\n",
      "Test MAPE: 0.520\n",
      "52_Hz_I_Love_You_zh.wikipedia.org_all-access_spider\n"
     ]
    },
    {
     "name": "stderr",
     "output_type": "stream",
     "text": [
      "INFO:fbprophet:Disabling daily seasonality. Run prophet with daily_seasonality=True to override this.\n"
     ]
    },
    {
     "name": "stdout",
     "output_type": "stream",
     "text": [
      "Test RMSE: 26.648\n",
      "Test SMAPE: 50.565\n",
      "Test MAPE: 0.482\n",
      "5566_zh.wikipedia.org_all-access_spider\n"
     ]
    },
    {
     "name": "stderr",
     "output_type": "stream",
     "text": [
      "INFO:fbprophet:Disabling daily seasonality. Run prophet with daily_seasonality=True to override this.\n"
     ]
    },
    {
     "name": "stdout",
     "output_type": "stream",
     "text": [
      "Test RMSE: 23.464\n",
      "Test SMAPE: 52.671\n",
      "Test MAPE: 0.789\n",
      "91Days_zh.wikipedia.org_all-access_spider\n"
     ]
    },
    {
     "name": "stderr",
     "output_type": "stream",
     "text": [
      "INFO:fbprophet:Disabling daily seasonality. Run prophet with daily_seasonality=True to override this.\n"
     ]
    },
    {
     "name": "stdout",
     "output_type": "stream",
     "text": [
      "Test RMSE: 23.607\n",
      "Test SMAPE: 115.644\n",
      "Test MAPE: 4.068\n",
      "A'N'D_zh.wikipedia.org_all-access_spider\n"
     ]
    },
    {
     "name": "stderr",
     "output_type": "stream",
     "text": [
      "INFO:fbprophet:Disabling daily seasonality. Run prophet with daily_seasonality=True to override this.\n"
     ]
    },
    {
     "name": "stdout",
     "output_type": "stream",
     "text": [
      "Test RMSE: 52.699\n",
      "Test SMAPE: 74.582\n",
      "Test MAPE: 1.560\n",
      "AKB48_zh.wikipedia.org_all-access_spider\n"
     ]
    },
    {
     "name": "stderr",
     "output_type": "stream",
     "text": [
      "INFO:fbprophet:Disabling daily seasonality. Run prophet with daily_seasonality=True to override this.\n"
     ]
    },
    {
     "name": "stdout",
     "output_type": "stream",
     "text": [
      "Test RMSE: 29.891\n",
      "Test SMAPE: 38.186\n",
      "Test MAPE: 0.323\n",
      "ASCII_zh.wikipedia.org_all-access_spider\n"
     ]
    },
    {
     "name": "stderr",
     "output_type": "stream",
     "text": [
      "INFO:fbprophet:Disabling daily seasonality. Run prophet with daily_seasonality=True to override this.\n"
     ]
    },
    {
     "name": "stdout",
     "output_type": "stream",
     "text": [
      "Test RMSE: 8.840\n",
      "Test SMAPE: 23.065\n",
      "Test MAPE: 0.232\n",
      "ASTRO_zh.wikipedia.org_all-access_spider\n"
     ]
    },
    {
     "name": "stderr",
     "output_type": "stream",
     "text": [
      "INFO:fbprophet:Disabling daily seasonality. Run prophet with daily_seasonality=True to override this.\n"
     ]
    },
    {
     "name": "stdout",
     "output_type": "stream",
     "text": [
      "Test RMSE: 24.326\n",
      "Test SMAPE: 62.870\n",
      "Test MAPE: 1.131\n",
      "Ahq_e-Sports_Club_zh.wikipedia.org_all-access_spider\n"
     ]
    },
    {
     "name": "stderr",
     "output_type": "stream",
     "text": [
      "INFO:fbprophet:Disabling daily seasonality. Run prophet with daily_seasonality=True to override this.\n"
     ]
    },
    {
     "name": "stdout",
     "output_type": "stream",
     "text": [
      "Test RMSE: 14.726\n",
      "Test SMAPE: 47.292\n",
      "Test MAPE: 0.478\n",
      "All_your_base_are_belong_to_us_zh.wikipedia.org_all-access_spider\n"
     ]
    },
    {
     "name": "stderr",
     "output_type": "stream",
     "text": [
      "<ipython-input-10-744462e54ee1>:21: RuntimeWarning: divide by zero encountered in true_divide\n",
      "  mape = np.mean(np.abs(predictions.values - dftest['y'].values)/np.abs(dftest['y'].values))\n",
      "INFO:fbprophet:Disabling daily seasonality. Run prophet with daily_seasonality=True to override this.\n"
     ]
    },
    {
     "name": "stdout",
     "output_type": "stream",
     "text": [
      "Test RMSE: 3.111\n",
      "Test SMAPE: 57.780\n",
      "Test MAPE: inf\n",
      "AlphaGo_zh.wikipedia.org_all-access_spider\n"
     ]
    },
    {
     "name": "stderr",
     "output_type": "stream",
     "text": [
      "INFO:fbprophet:Disabling daily seasonality. Run prophet with daily_seasonality=True to override this.\n"
     ]
    },
    {
     "name": "stdout",
     "output_type": "stream",
     "text": [
      "Test RMSE: 26.844\n",
      "Test SMAPE: -3.426\n",
      "Test MAPE: 1.997\n",
      "Android_zh.wikipedia.org_all-access_spider\n"
     ]
    },
    {
     "name": "stderr",
     "output_type": "stream",
     "text": [
      "INFO:fbprophet:Disabling daily seasonality. Run prophet with daily_seasonality=True to override this.\n"
     ]
    },
    {
     "name": "stdout",
     "output_type": "stream",
     "text": [
      "Test RMSE: 20.345\n",
      "Test SMAPE: 33.554\n",
      "Test MAPE: 0.359\n",
      "Angelababy_zh.wikipedia.org_all-access_spider\n"
     ]
    },
    {
     "name": "stderr",
     "output_type": "stream",
     "text": [
      "INFO:fbprophet:Disabling daily seasonality. Run prophet with daily_seasonality=True to override this.\n"
     ]
    },
    {
     "name": "stdout",
     "output_type": "stream",
     "text": [
      "Test RMSE: 21.210\n",
      "Test SMAPE: 51.716\n",
      "Test MAPE: 0.797\n",
      "Apink_zh.wikipedia.org_all-access_spider\n"
     ]
    },
    {
     "name": "stderr",
     "output_type": "stream",
     "text": [
      "INFO:fbprophet:Disabling daily seasonality. Run prophet with daily_seasonality=True to override this.\n"
     ]
    },
    {
     "name": "stdout",
     "output_type": "stream",
     "text": [
      "Test RMSE: 65.037\n",
      "Test SMAPE: 64.823\n",
      "Test MAPE: 0.794\n",
      "Apple_II_zh.wikipedia.org_all-access_spider\n"
     ]
    },
    {
     "name": "stderr",
     "output_type": "stream",
     "text": [
      "INFO:fbprophet:Disabling daily seasonality. Run prophet with daily_seasonality=True to override this.\n"
     ]
    },
    {
     "name": "stdout",
     "output_type": "stream",
     "text": [
      "Test RMSE: 3.764\n",
      "Test SMAPE: 34.979\n",
      "Test MAPE: 0.606\n",
      "As_One_zh.wikipedia.org_all-access_spider\n"
     ]
    },
    {
     "name": "stderr",
     "output_type": "stream",
     "text": [
      "INFO:fbprophet:Disabling daily seasonality. Run prophet with daily_seasonality=True to override this.\n"
     ]
    },
    {
     "name": "stdout",
     "output_type": "stream",
     "text": [
      "Test RMSE: 11.888\n",
      "Test SMAPE: 98.163\n",
      "Test MAPE: 0.777\n",
      "B-PROJECT_zh.wikipedia.org_all-access_spider\n"
     ]
    },
    {
     "name": "stderr",
     "output_type": "stream",
     "text": [
      "INFO:fbprophet:Disabling daily seasonality. Run prophet with daily_seasonality=True to override this.\n"
     ]
    },
    {
     "name": "stdout",
     "output_type": "stream",
     "text": [
      "Test RMSE: 16.373\n",
      "Test SMAPE: 89.600\n",
      "Test MAPE: 2.383\n",
      "B1A4_zh.wikipedia.org_all-access_spider\n"
     ]
    },
    {
     "name": "stderr",
     "output_type": "stream",
     "text": [
      "INFO:fbprophet:Disabling daily seasonality. Run prophet with daily_seasonality=True to override this.\n"
     ]
    },
    {
     "name": "stdout",
     "output_type": "stream",
     "text": [
      "Test RMSE: 53.328\n",
      "Test SMAPE: 56.295\n",
      "Test MAPE: 0.485\n",
      "BDSM_zh.wikipedia.org_all-access_spider\n"
     ]
    },
    {
     "name": "stderr",
     "output_type": "stream",
     "text": [
      "INFO:fbprophet:Disabling daily seasonality. Run prophet with daily_seasonality=True to override this.\n"
     ]
    },
    {
     "name": "stdout",
     "output_type": "stream",
     "text": [
      "Test RMSE: 11.039\n",
      "Test SMAPE: 40.905\n",
      "Test MAPE: 0.472\n",
      "BEAST_zh.wikipedia.org_all-access_spider\n"
     ]
    },
    {
     "name": "stderr",
     "output_type": "stream",
     "text": [
      "INFO:fbprophet:Disabling daily seasonality. Run prophet with daily_seasonality=True to override this.\n"
     ]
    },
    {
     "name": "stdout",
     "output_type": "stream",
     "text": [
      "Test RMSE: 34.830\n",
      "Test SMAPE: 60.110\n",
      "Test MAPE: 0.493\n",
      "BIGBANG_zh.wikipedia.org_all-access_spider\n"
     ]
    },
    {
     "name": "stderr",
     "output_type": "stream",
     "text": [
      "INFO:fbprophet:Disabling daily seasonality. Run prophet with daily_seasonality=True to override this.\n"
     ]
    },
    {
     "name": "stdout",
     "output_type": "stream",
     "text": [
      "Test RMSE: 26.235\n",
      "Test SMAPE: 48.234\n",
      "Test MAPE: 0.447\n",
      "BLACK_PINK_zh.wikipedia.org_all-access_spider\n"
     ]
    },
    {
     "name": "stderr",
     "output_type": "stream",
     "text": [
      "INFO:fbprophet:Disabling daily seasonality. Run prophet with daily_seasonality=True to override this.\n"
     ]
    },
    {
     "name": "stdout",
     "output_type": "stream",
     "text": [
      "Test RMSE: 106.669\n",
      "Test SMAPE: 65.029\n",
      "Test MAPE: 1.045\n",
      "BLEACH_zh.wikipedia.org_all-access_spider\n"
     ]
    },
    {
     "name": "stderr",
     "output_type": "stream",
     "text": [
      "INFO:fbprophet:Disabling daily seasonality. Run prophet with daily_seasonality=True to override this.\n"
     ]
    },
    {
     "name": "stdout",
     "output_type": "stream",
     "text": [
      "Test RMSE: 15.562\n",
      "Test SMAPE: 39.844\n",
      "Test MAPE: 0.506\n",
      "BTOB_zh.wikipedia.org_all-access_spider\n"
     ]
    },
    {
     "name": "stderr",
     "output_type": "stream",
     "text": [
      "INFO:fbprophet:Disabling daily seasonality. Run prophet with daily_seasonality=True to override this.\n"
     ]
    },
    {
     "name": "stdout",
     "output_type": "stream",
     "text": [
      "Test RMSE: 34.496\n",
      "Test SMAPE: 47.956\n",
      "Test MAPE: 0.590\n",
      "Beautiful_Mind_zh.wikipedia.org_all-access_spider\n"
     ]
    },
    {
     "name": "stderr",
     "output_type": "stream",
     "text": [
      "INFO:fbprophet:Disabling daily seasonality. Run prophet with daily_seasonality=True to override this.\n"
     ]
    },
    {
     "name": "stdout",
     "output_type": "stream",
     "text": [
      "Test RMSE: 11.575\n",
      "Test SMAPE: 134.580\n",
      "Test MAPE: 0.736\n",
      "Beyond_zh.wikipedia.org_all-access_spider\n"
     ]
    },
    {
     "name": "stderr",
     "output_type": "stream",
     "text": [
      "INFO:fbprophet:Disabling daily seasonality. Run prophet with daily_seasonality=True to override this.\n"
     ]
    },
    {
     "name": "stdout",
     "output_type": "stream",
     "text": [
      "Test RMSE: 11.161\n",
      "Test SMAPE: 23.362\n",
      "Test MAPE: 0.249\n",
      "Big_zh.wikipedia.org_all-access_spider\n"
     ]
    },
    {
     "name": "stderr",
     "output_type": "stream",
     "text": [
      "INFO:fbprophet:Disabling daily seasonality. Run prophet with daily_seasonality=True to override this.\n"
     ]
    },
    {
     "name": "stdout",
     "output_type": "stream",
     "text": [
      "Test RMSE: 6.435\n",
      "Test SMAPE: 37.083\n",
      "Test MAPE: 0.383\n",
      "Block_B_zh.wikipedia.org_all-access_spider\n"
     ]
    },
    {
     "name": "stderr",
     "output_type": "stream",
     "text": [
      "INFO:fbprophet:Disabling daily seasonality. Run prophet with daily_seasonality=True to override this.\n"
     ]
    },
    {
     "name": "stdout",
     "output_type": "stream",
     "text": [
      "Test RMSE: 11.822\n",
      "Test SMAPE: 44.383\n",
      "Test MAPE: 0.342\n",
      "CHAOS;CHILD_zh.wikipedia.org_all-access_spider\n"
     ]
    },
    {
     "name": "stderr",
     "output_type": "stream",
     "text": [
      "<ipython-input-10-744462e54ee1>:21: RuntimeWarning: divide by zero encountered in true_divide\n",
      "  mape = np.mean(np.abs(predictions.values - dftest['y'].values)/np.abs(dftest['y'].values))\n",
      "INFO:fbprophet:Disabling daily seasonality. Run prophet with daily_seasonality=True to override this.\n"
     ]
    },
    {
     "name": "stdout",
     "output_type": "stream",
     "text": [
      "Test RMSE: 8.501\n",
      "Test SMAPE: 61.375\n",
      "Test MAPE: inf\n",
      "CHAOS;HEAD_zh.wikipedia.org_all-access_spider\n"
     ]
    },
    {
     "name": "stderr",
     "output_type": "stream",
     "text": [
      "INFO:fbprophet:Disabling daily seasonality. Run prophet with daily_seasonality=True to override this.\n"
     ]
    },
    {
     "name": "stdout",
     "output_type": "stream",
     "text": [
      "Test RMSE: 5.523\n",
      "Test SMAPE: 40.717\n",
      "Test MAPE: 0.497\n",
      "CLC_zh.wikipedia.org_all-access_spider\n"
     ]
    },
    {
     "name": "stderr",
     "output_type": "stream",
     "text": [
      "INFO:fbprophet:Disabling daily seasonality. Run prophet with daily_seasonality=True to override this.\n"
     ]
    },
    {
     "name": "stdout",
     "output_type": "stream",
     "text": [
      "Test RMSE: 31.775\n",
      "Test SMAPE: 93.046\n",
      "Test MAPE: 1.120\n",
      "CNBLUE_zh.wikipedia.org_all-access_spider\n"
     ]
    },
    {
     "name": "stderr",
     "output_type": "stream",
     "text": [
      "INFO:fbprophet:Disabling daily seasonality. Run prophet with daily_seasonality=True to override this.\n"
     ]
    },
    {
     "name": "stdout",
     "output_type": "stream",
     "text": [
      "Test RMSE: 35.391\n",
      "Test SMAPE: 44.910\n",
      "Test MAPE: 0.507\n",
      "DIA_zh.wikipedia.org_all-access_spider\n"
     ]
    },
    {
     "name": "stderr",
     "output_type": "stream",
     "text": [
      "INFO:fbprophet:Disabling daily seasonality. Run prophet with daily_seasonality=True to override this.\n"
     ]
    },
    {
     "name": "stdout",
     "output_type": "stream",
     "text": [
      "Test RMSE: 30.821\n",
      "Test SMAPE: 90.533\n",
      "Test MAPE: 1.812\n",
      "Daigo_zh.wikipedia.org_all-access_spider\n"
     ]
    },
    {
     "name": "stderr",
     "output_type": "stream",
     "text": [
      "<ipython-input-10-744462e54ee1>:21: RuntimeWarning: divide by zero encountered in true_divide\n",
      "  mape = np.mean(np.abs(predictions.values - dftest['y'].values)/np.abs(dftest['y'].values))\n",
      "INFO:fbprophet:Disabling daily seasonality. Run prophet with daily_seasonality=True to override this.\n"
     ]
    },
    {
     "name": "stdout",
     "output_type": "stream",
     "text": [
      "Test RMSE: 4.407\n",
      "Test SMAPE: 58.162\n",
      "Test MAPE: inf\n",
      "Dear_My_Friends_zh.wikipedia.org_all-access_spider\n"
     ]
    },
    {
     "name": "stderr",
     "output_type": "stream",
     "text": [
      "INFO:fbprophet:Disabling daily seasonality. Run prophet with daily_seasonality=True to override this.\n"
     ]
    },
    {
     "name": "stdout",
     "output_type": "stream",
     "text": [
      "Test RMSE: 11.351\n",
      "Test SMAPE: 102.588\n",
      "Test MAPE: 0.632\n",
      "Doctors_zh.wikipedia.org_all-access_spider\n"
     ]
    },
    {
     "name": "stderr",
     "output_type": "stream",
     "text": [
      "INFO:fbprophet:Disabling daily seasonality. Run prophet with daily_seasonality=True to override this.\n"
     ]
    },
    {
     "name": "stdout",
     "output_type": "stream",
     "text": [
      "Test RMSE: 58.555\n",
      "Test SMAPE: -1501.311\n",
      "Test MAPE: 1.672\n",
      "EGOIST_zh.wikipedia.org_all-access_spider\n"
     ]
    },
    {
     "name": "stderr",
     "output_type": "stream",
     "text": [
      "INFO:fbprophet:Disabling daily seasonality. Run prophet with daily_seasonality=True to override this.\n"
     ]
    },
    {
     "name": "stdout",
     "output_type": "stream",
     "text": [
      "Test RMSE: 8.087\n",
      "Test SMAPE: 59.725\n",
      "Test MAPE: 0.484\n",
      "EXID_zh.wikipedia.org_all-access_spider\n"
     ]
    },
    {
     "name": "stderr",
     "output_type": "stream",
     "text": [
      "INFO:fbprophet:Disabling daily seasonality. Run prophet with daily_seasonality=True to override this.\n"
     ]
    },
    {
     "name": "stdout",
     "output_type": "stream",
     "text": [
      "Test RMSE: 27.923\n",
      "Test SMAPE: 64.252\n",
      "Test MAPE: 1.014\n",
      "EXO_zh.wikipedia.org_all-access_spider\n"
     ]
    },
    {
     "name": "stderr",
     "output_type": "stream",
     "text": [
      "INFO:fbprophet:Disabling daily seasonality. Run prophet with daily_seasonality=True to override this.\n"
     ]
    },
    {
     "name": "stdout",
     "output_type": "stream",
     "text": [
      "Test RMSE: 42.812\n",
      "Test SMAPE: 48.211\n",
      "Test MAPE: 0.716\n",
      "Energy_zh.wikipedia.org_all-access_spider\n"
     ]
    },
    {
     "name": "stderr",
     "output_type": "stream",
     "text": [
      "INFO:fbprophet:Disabling daily seasonality. Run prophet with daily_seasonality=True to override this.\n"
     ]
    },
    {
     "name": "stdout",
     "output_type": "stream",
     "text": [
      "Test RMSE: 6.928\n",
      "Test SMAPE: 51.285\n",
      "Test MAPE: 0.945\n",
      "Eric_Nam_zh.wikipedia.org_all-access_spider\n"
     ]
    },
    {
     "name": "stderr",
     "output_type": "stream",
     "text": [
      "INFO:fbprophet:Disabling daily seasonality. Run prophet with daily_seasonality=True to override this.\n"
     ]
    },
    {
     "name": "stdout",
     "output_type": "stream",
     "text": [
      "Test RMSE: 20.509\n",
      "Test SMAPE: 60.444\n",
      "Test MAPE: 0.506\n",
      "FAIRY_TAIL_zh.wikipedia.org_all-access_spider\n"
     ]
    },
    {
     "name": "stderr",
     "output_type": "stream",
     "text": [
      "INFO:fbprophet:Disabling daily seasonality. Run prophet with daily_seasonality=True to override this.\n"
     ]
    },
    {
     "name": "stdout",
     "output_type": "stream",
     "text": [
      "Test RMSE: 21.911\n",
      "Test SMAPE: 49.305\n",
      "Test MAPE: 0.680\n",
      "FIESTAR_zh.wikipedia.org_all-access_spider\n"
     ]
    },
    {
     "name": "stderr",
     "output_type": "stream",
     "text": [
      "INFO:fbprophet:Disabling daily seasonality. Run prophet with daily_seasonality=True to override this.\n"
     ]
    },
    {
     "name": "stdout",
     "output_type": "stream",
     "text": [
      "Test RMSE: 9.387\n",
      "Test SMAPE: 65.984\n",
      "Test MAPE: 1.439\n",
      "FIRST_CLASS_zh.wikipedia.org_all-access_spider\n"
     ]
    },
    {
     "name": "stderr",
     "output_type": "stream",
     "text": [
      "INFO:fbprophet:Disabling daily seasonality. Run prophet with daily_seasonality=True to override this.\n"
     ]
    },
    {
     "name": "stdout",
     "output_type": "stream",
     "text": [
      "Test RMSE: 4.584\n",
      "Test SMAPE: 45.255\n",
      "Test MAPE: 0.707\n",
      "Facebook_zh.wikipedia.org_all-access_spider\n"
     ]
    },
    {
     "name": "stderr",
     "output_type": "stream",
     "text": [
      "INFO:fbprophet:Disabling daily seasonality. Run prophet with daily_seasonality=True to override this.\n"
     ]
    },
    {
     "name": "stdout",
     "output_type": "stream",
     "text": [
      "Test RMSE: 20.647\n",
      "Test SMAPE: 38.086\n",
      "Test MAPE: 0.314\n",
      "Fantastic_Duo_zh.wikipedia.org_all-access_spider\n"
     ]
    },
    {
     "name": "stderr",
     "output_type": "stream",
     "text": [
      "INFO:fbprophet:Disabling daily seasonality. Run prophet with daily_seasonality=True to override this.\n"
     ]
    },
    {
     "name": "stdout",
     "output_type": "stream",
     "text": [
      "Test RMSE: 12.559\n",
      "Test SMAPE: 77.117\n",
      "Test MAPE: 1.617\n",
      "Fate/Grand_Order_zh.wikipedia.org_all-access_spider\n"
     ]
    },
    {
     "name": "stderr",
     "output_type": "stream",
     "text": [
      "INFO:fbprophet:Disabling daily seasonality. Run prophet with daily_seasonality=True to override this.\n"
     ]
    },
    {
     "name": "stdout",
     "output_type": "stream",
     "text": [
      "Test RMSE: 38.392\n",
      "Test SMAPE: 55.306\n",
      "Test MAPE: 0.419\n",
      "Fate/Zero_zh.wikipedia.org_all-access_spider\n"
     ]
    },
    {
     "name": "stderr",
     "output_type": "stream",
     "text": [
      "INFO:fbprophet:Disabling daily seasonality. Run prophet with daily_seasonality=True to override this.\n"
     ]
    },
    {
     "name": "stdout",
     "output_type": "stream",
     "text": [
      "Test RMSE: 4.418\n",
      "Test SMAPE: 27.766\n",
      "Test MAPE: 0.309\n",
      "Fate/stay_night_zh.wikipedia.org_all-access_spider\n"
     ]
    },
    {
     "name": "stderr",
     "output_type": "stream",
     "text": [
      "INFO:fbprophet:Disabling daily seasonality. Run prophet with daily_seasonality=True to override this.\n"
     ]
    },
    {
     "name": "stdout",
     "output_type": "stream",
     "text": [
      "Test RMSE: 11.315\n",
      "Test SMAPE: 26.423\n",
      "Test MAPE: 0.243\n",
      "File:427FW_126.JPG_zh.wikipedia.org_all-access_spider\n"
     ]
    },
    {
     "name": "stderr",
     "output_type": "stream",
     "text": [
      "<ipython-input-10-744462e54ee1>:21: RuntimeWarning: divide by zero encountered in true_divide\n",
      "  mape = np.mean(np.abs(predictions.values - dftest['y'].values)/np.abs(dftest['y'].values))\n",
      "INFO:fbprophet:Disabling daily seasonality. Run prophet with daily_seasonality=True to override this.\n"
     ]
    },
    {
     "name": "stdout",
     "output_type": "stream",
     "text": [
      "Test RMSE: 9.318\n",
      "Test SMAPE: -482.167\n",
      "Test MAPE: inf\n",
      "File:Ap_F23_20110324114153669.jpg_zh.wikipedia.org_all-access_spider\n"
     ]
    },
    {
     "name": "stderr",
     "output_type": "stream",
     "text": [
      "<ipython-input-10-744462e54ee1>:21: RuntimeWarning: divide by zero encountered in true_divide\n",
      "  mape = np.mean(np.abs(predictions.values - dftest['y'].values)/np.abs(dftest['y'].values))\n",
      "INFO:fbprophet:Disabling daily seasonality. Run prophet with daily_seasonality=True to override this.\n"
     ]
    },
    {
     "name": "stdout",
     "output_type": "stream",
     "text": [
      "Test RMSE: 25.387\n",
      "Test SMAPE: -184.032\n",
      "Test MAPE: inf\n",
      "File:Christian-krohg-leiv-eriksson.jpg_zh.wikipedia.org_all-access_spider\n"
     ]
    },
    {
     "name": "stderr",
     "output_type": "stream",
     "text": [
      "<ipython-input-10-744462e54ee1>:21: RuntimeWarning: divide by zero encountered in true_divide\n",
      "  mape = np.mean(np.abs(predictions.values - dftest['y'].values)/np.abs(dftest['y'].values))\n",
      "INFO:fbprophet:Disabling daily seasonality. Run prophet with daily_seasonality=True to override this.\n"
     ]
    },
    {
     "name": "stdout",
     "output_type": "stream",
     "text": [
      "Test RMSE: 0.762\n",
      "Test SMAPE: 180.513\n",
      "Test MAPE: inf\n",
      "File:Sebastiaosalgado2006.jpg_zh.wikipedia.org_all-access_spider\n"
     ]
    },
    {
     "name": "stderr",
     "output_type": "stream",
     "text": [
      "<ipython-input-10-744462e54ee1>:21: RuntimeWarning: divide by zero encountered in true_divide\n",
      "  mape = np.mean(np.abs(predictions.values - dftest['y'].values)/np.abs(dftest['y'].values))\n",
      "INFO:fbprophet:Disabling daily seasonality. Run prophet with daily_seasonality=True to override this.\n"
     ]
    },
    {
     "name": "stdout",
     "output_type": "stream",
     "text": [
      "Test RMSE: 0.626\n",
      "Test SMAPE: 192.543\n",
      "Test MAPE: inf\n",
      "File:Zhongxiao_West_Road2.JPG_zh.wikipedia.org_all-access_spider\n"
     ]
    },
    {
     "name": "stderr",
     "output_type": "stream",
     "text": [
      "<ipython-input-10-744462e54ee1>:21: RuntimeWarning: divide by zero encountered in true_divide\n",
      "  mape = np.mean(np.abs(predictions.values - dftest['y'].values)/np.abs(dftest['y'].values))\n",
      "INFO:fbprophet:Disabling daily seasonality. Run prophet with daily_seasonality=True to override this.\n"
     ]
    },
    {
     "name": "stdout",
     "output_type": "stream",
     "text": [
      "Test RMSE: 2.845\n",
      "Test SMAPE: -253.260\n",
      "Test MAPE: inf\n",
      "G-Dragon_zh.wikipedia.org_all-access_spider\n"
     ]
    },
    {
     "name": "stderr",
     "output_type": "stream",
     "text": [
      "INFO:fbprophet:Disabling daily seasonality. Run prophet with daily_seasonality=True to override this.\n"
     ]
    },
    {
     "name": "stdout",
     "output_type": "stream",
     "text": [
      "Test RMSE: 19.631\n",
      "Test SMAPE: 46.769\n",
      "Test MAPE: 0.616\n",
      "G.NA_zh.wikipedia.org_all-access_spider\n"
     ]
    },
    {
     "name": "stderr",
     "output_type": "stream",
     "text": [
      "INFO:fbprophet:Disabling daily seasonality. Run prophet with daily_seasonality=True to override this.\n"
     ]
    },
    {
     "name": "stdout",
     "output_type": "stream",
     "text": [
      "Test RMSE: 4.519\n",
      "Test SMAPE: 41.006\n",
      "Test MAPE: 0.449\n",
      "GFRIEND_zh.wikipedia.org_all-access_spider\n"
     ]
    },
    {
     "name": "stderr",
     "output_type": "stream",
     "text": [
      "INFO:fbprophet:Disabling daily seasonality. Run prophet with daily_seasonality=True to override this.\n"
     ]
    },
    {
     "name": "stdout",
     "output_type": "stream",
     "text": [
      "Test RMSE: 79.984\n",
      "Test SMAPE: 1133.663\n",
      "Test MAPE: 1.216\n",
      "GNZ48_zh.wikipedia.org_all-access_spider\n"
     ]
    },
    {
     "name": "stderr",
     "output_type": "stream",
     "text": [
      "INFO:fbprophet:Disabling daily seasonality. Run prophet with daily_seasonality=True to override this.\n"
     ]
    },
    {
     "name": "stdout",
     "output_type": "stream",
     "text": [
      "Test RMSE: 27.159\n",
      "Test SMAPE: 89.881\n",
      "Test MAPE: 1.893\n",
      "GOT7_zh.wikipedia.org_all-access_spider\n"
     ]
    },
    {
     "name": "stderr",
     "output_type": "stream",
     "text": [
      "INFO:fbprophet:Disabling daily seasonality. Run prophet with daily_seasonality=True to override this.\n"
     ]
    },
    {
     "name": "stdout",
     "output_type": "stream",
     "text": [
      "Test RMSE: 38.112\n",
      "Test SMAPE: 54.219\n",
      "Test MAPE: 0.761\n",
      "GUMMY_zh.wikipedia.org_all-access_spider\n"
     ]
    },
    {
     "name": "stderr",
     "output_type": "stream",
     "text": [
      "INFO:fbprophet:Disabling daily seasonality. Run prophet with daily_seasonality=True to override this.\n"
     ]
    },
    {
     "name": "stdout",
     "output_type": "stream",
     "text": [
      "Test RMSE: 8.349\n",
      "Test SMAPE: 49.264\n",
      "Test MAPE: 0.819\n",
      "Girl's_Day_zh.wikipedia.org_all-access_spider\n"
     ]
    },
    {
     "name": "stderr",
     "output_type": "stream",
     "text": [
      "INFO:fbprophet:Disabling daily seasonality. Run prophet with daily_seasonality=True to override this.\n"
     ]
    },
    {
     "name": "stdout",
     "output_type": "stream",
     "text": [
      "Test RMSE: 17.203\n",
      "Test SMAPE: 47.378\n",
      "Test MAPE: 0.557\n",
      "Goodbye_Mr._Black_zh.wikipedia.org_all-access_spider\n"
     ]
    },
    {
     "name": "stderr",
     "output_type": "stream",
     "text": [
      "INFO:fbprophet:Disabling daily seasonality. Run prophet with daily_seasonality=True to override this.\n"
     ]
    },
    {
     "name": "stdout",
     "output_type": "stream",
     "text": [
      "Test RMSE: 19.860\n",
      "Test SMAPE: 160.002\n",
      "Test MAPE: 0.737\n",
      "Google_zh.wikipedia.org_all-access_spider\n"
     ]
    },
    {
     "name": "stderr",
     "output_type": "stream",
     "text": [
      "INFO:fbprophet:Disabling daily seasonality. Run prophet with daily_seasonality=True to override this.\n"
     ]
    },
    {
     "name": "stdout",
     "output_type": "stream",
     "text": [
      "Test RMSE: 35.740\n",
      "Test SMAPE: 42.815\n",
      "Test MAPE: 0.400\n",
      "Gu9udan_zh.wikipedia.org_all-access_spider\n"
     ]
    },
    {
     "name": "stderr",
     "output_type": "stream",
     "text": [
      "INFO:fbprophet:Disabling daily seasonality. Run prophet with daily_seasonality=True to override this.\n"
     ]
    },
    {
     "name": "stdout",
     "output_type": "stream",
     "text": [
      "Test RMSE: 43.912\n",
      "Test SMAPE: 80.404\n",
      "Test MAPE: 1.126\n",
      "HDMI_zh.wikipedia.org_all-access_spider\n"
     ]
    },
    {
     "name": "stderr",
     "output_type": "stream",
     "text": [
      "INFO:fbprophet:Disabling daily seasonality. Run prophet with daily_seasonality=True to override this.\n"
     ]
    },
    {
     "name": "stdout",
     "output_type": "stream",
     "text": [
      "Test RMSE: 7.631\n",
      "Test SMAPE: 28.261\n",
      "Test MAPE: 0.325\n",
      "Hand_Shakers_zh.wikipedia.org_all-access_spider\n"
     ]
    },
    {
     "name": "stderr",
     "output_type": "stream",
     "text": [
      "INFO:fbprophet:Disabling daily seasonality. Run prophet with daily_seasonality=True to override this.\n"
     ]
    },
    {
     "name": "stdout",
     "output_type": "stream",
     "text": [
      "Test RMSE: 5.895\n",
      "Test SMAPE: 53.110\n",
      "Test MAPE: 0.563\n",
      "Hisasi_zh.wikipedia.org_all-access_spider\n"
     ]
    },
    {
     "name": "stderr",
     "output_type": "stream",
     "text": [
      "INFO:fbprophet:Disabling daily seasonality. Run prophet with daily_seasonality=True to override this.\n"
     ]
    },
    {
     "name": "stdout",
     "output_type": "stream",
     "text": [
      "Test RMSE: 2.932\n",
      "Test SMAPE: 42.136\n",
      "Test MAPE: 0.522\n",
      "Hit_The_Stage_zh.wikipedia.org_all-access_spider\n"
     ]
    },
    {
     "name": "stderr",
     "output_type": "stream",
     "text": [
      "INFO:fbprophet:Disabling daily seasonality. Run prophet with daily_seasonality=True to override this.\n"
     ]
    },
    {
     "name": "stdout",
     "output_type": "stream",
     "text": [
      "Test RMSE: 29.418\n",
      "Test SMAPE: 130.326\n",
      "Test MAPE: 4.566\n",
      "Hotel_King_zh.wikipedia.org_all-access_spider\n"
     ]
    },
    {
     "name": "stderr",
     "output_type": "stream",
     "text": [
      "INFO:fbprophet:Disabling daily seasonality. Run prophet with daily_seasonality=True to override this.\n"
     ]
    },
    {
     "name": "stdout",
     "output_type": "stream",
     "text": [
      "Test RMSE: 4.382\n",
      "Test SMAPE: 46.403\n",
      "Test MAPE: 0.739\n",
      "I'm_Home_zh.wikipedia.org_all-access_spider\n"
     ]
    },
    {
     "name": "stderr",
     "output_type": "stream",
     "text": [
      "INFO:fbprophet:Disabling daily seasonality. Run prophet with daily_seasonality=True to override this.\n"
     ]
    },
    {
     "name": "stdout",
     "output_type": "stream",
     "text": [
      "Test RMSE: 4.501\n",
      "Test SMAPE: 40.686\n",
      "Test MAPE: 0.526\n",
      "I.O.I_zh.wikipedia.org_all-access_spider\n"
     ]
    },
    {
     "name": "stderr",
     "output_type": "stream",
     "text": [
      "INFO:fbprophet:Disabling daily seasonality. Run prophet with daily_seasonality=True to override this.\n"
     ]
    },
    {
     "name": "stdout",
     "output_type": "stream",
     "text": [
      "Test RMSE: 83.259\n",
      "Test SMAPE: 53.141\n",
      "Test MAPE: 0.910\n",
      "IKON_zh.wikipedia.org_all-access_spider\n"
     ]
    },
    {
     "name": "stderr",
     "output_type": "stream",
     "text": [
      "INFO:fbprophet:Disabling daily seasonality. Run prophet with daily_seasonality=True to override this.\n"
     ]
    },
    {
     "name": "stdout",
     "output_type": "stream",
     "text": [
      "Test RMSE: 54.299\n",
      "Test SMAPE: 72.933\n",
      "Test MAPE: 0.573\n",
      "INFINITE_zh.wikipedia.org_all-access_spider\n"
     ]
    },
    {
     "name": "stderr",
     "output_type": "stream",
     "text": [
      "INFO:fbprophet:Disabling daily seasonality. Run prophet with daily_seasonality=True to override this.\n"
     ]
    },
    {
     "name": "stdout",
     "output_type": "stream",
     "text": [
      "Test RMSE: 28.537\n",
      "Test SMAPE: 46.219\n",
      "Test MAPE: 0.503\n",
      "IPhone_zh.wikipedia.org_all-access_spider\n"
     ]
    },
    {
     "name": "stderr",
     "output_type": "stream",
     "text": [
      "INFO:fbprophet:Disabling daily seasonality. Run prophet with daily_seasonality=True to override this.\n"
     ]
    },
    {
     "name": "stdout",
     "output_type": "stream",
     "text": [
      "Test RMSE: 15.563\n",
      "Test SMAPE: 25.450\n",
      "Test MAPE: 0.301\n",
      "Ingress_zh.wikipedia.org_all-access_spider\n"
     ]
    },
    {
     "name": "stderr",
     "output_type": "stream",
     "text": [
      "INFO:fbprophet:Disabling daily seasonality. Run prophet with daily_seasonality=True to override this.\n"
     ]
    },
    {
     "name": "stdout",
     "output_type": "stream",
     "text": [
      "Test RMSE: 6.287\n",
      "Test SMAPE: 49.680\n",
      "Test MAPE: 0.729\n",
      "Intel740_zh.wikipedia.org_all-access_spider\n"
     ]
    },
    {
     "name": "stderr",
     "output_type": "stream",
     "text": [
      "<ipython-input-10-744462e54ee1>:21: RuntimeWarning: divide by zero encountered in true_divide\n",
      "  mape = np.mean(np.abs(predictions.values - dftest['y'].values)/np.abs(dftest['y'].values))\n",
      "INFO:fbprophet:Disabling daily seasonality. Run prophet with daily_seasonality=True to override this.\n"
     ]
    },
    {
     "name": "stdout",
     "output_type": "stream",
     "text": [
      "Test RMSE: 4.616\n",
      "Test SMAPE: 148.916\n",
      "Test MAPE: inf\n",
      "Intel_80386_zh.wikipedia.org_all-access_spider\n"
     ]
    },
    {
     "name": "stderr",
     "output_type": "stream",
     "text": [
      "INFO:fbprophet:Disabling daily seasonality. Run prophet with daily_seasonality=True to override this.\n"
     ]
    },
    {
     "name": "stdout",
     "output_type": "stream",
     "text": [
      "Test RMSE: 3.553\n",
      "Test SMAPE: 42.362\n",
      "Test MAPE: 0.655\n",
      "Juksy_zh.wikipedia.org_all-access_spider\n"
     ]
    },
    {
     "name": "stderr",
     "output_type": "stream",
     "text": [
      "<ipython-input-10-744462e54ee1>:21: RuntimeWarning: divide by zero encountered in true_divide\n",
      "  mape = np.mean(np.abs(predictions.values - dftest['y'].values)/np.abs(dftest['y'].values))\n",
      "INFO:fbprophet:Disabling daily seasonality. Run prophet with daily_seasonality=True to override this.\n"
     ]
    },
    {
     "name": "stdout",
     "output_type": "stream",
     "text": [
      "Test RMSE: 2.350\n",
      "Test SMAPE: -259.120\n",
      "Test MAPE: inf\n",
      "K.A.R.D_zh.wikipedia.org_all-access_spider\n"
     ]
    },
    {
     "name": "stderr",
     "output_type": "stream",
     "text": [
      "<ipython-input-10-744462e54ee1>:21: RuntimeWarning: invalid value encountered in true_divide\n",
      "  mape = np.mean(np.abs(predictions.values - dftest['y'].values)/np.abs(dftest['y'].values))\n",
      "INFO:fbprophet:Disabling daily seasonality. Run prophet with daily_seasonality=True to override this.\n"
     ]
    },
    {
     "name": "stdout",
     "output_type": "stream",
     "text": [
      "Test RMSE: 81.006\n",
      "Test SMAPE: 116.000\n",
      "Test MAPE: nan\n",
      "KNK_zh.wikipedia.org_all-access_spider\n"
     ]
    },
    {
     "name": "stderr",
     "output_type": "stream",
     "text": [
      "INFO:fbprophet:Disabling daily seasonality. Run prophet with daily_seasonality=True to override this.\n"
     ]
    },
    {
     "name": "stdout",
     "output_type": "stream",
     "text": [
      "Test RMSE: 14.673\n",
      "Test SMAPE: 72.585\n",
      "Test MAPE: 1.908\n",
      "KUROMUKURO_zh.wikipedia.org_all-access_spider\n"
     ]
    },
    {
     "name": "stderr",
     "output_type": "stream",
     "text": [
      "<ipython-input-10-744462e54ee1>:21: RuntimeWarning: divide by zero encountered in true_divide\n",
      "  mape = np.mean(np.abs(predictions.values - dftest['y'].values)/np.abs(dftest['y'].values))\n",
      "INFO:fbprophet:Disabling daily seasonality. Run prophet with daily_seasonality=True to override this.\n"
     ]
    },
    {
     "name": "stdout",
     "output_type": "stream",
     "text": [
      "Test RMSE: 9.438\n",
      "Test SMAPE: -208.826\n",
      "Test MAPE: inf\n",
      "Kara_zh.wikipedia.org_all-access_spider\n"
     ]
    },
    {
     "name": "stderr",
     "output_type": "stream",
     "text": [
      "INFO:fbprophet:Disabling daily seasonality. Run prophet with daily_seasonality=True to override this.\n"
     ]
    },
    {
     "name": "stdout",
     "output_type": "stream",
     "text": [
      "Test RMSE: 8.674\n",
      "Test SMAPE: 35.817\n",
      "Test MAPE: 0.364\n",
      "Kill_Me_Heal_Me_zh.wikipedia.org_all-access_spider\n"
     ]
    },
    {
     "name": "stderr",
     "output_type": "stream",
     "text": [
      "INFO:fbprophet:Disabling daily seasonality. Run prophet with daily_seasonality=True to override this.\n"
     ]
    },
    {
     "name": "stdout",
     "output_type": "stream",
     "text": [
      "Test RMSE: 8.765\n",
      "Test SMAPE: 43.168\n",
      "Test MAPE: 0.349\n",
      "Lady_Gaga_zh.wikipedia.org_all-access_spider\n"
     ]
    },
    {
     "name": "stderr",
     "output_type": "stream",
     "text": [
      "INFO:fbprophet:Disabling daily seasonality. Run prophet with daily_seasonality=True to override this.\n"
     ]
    },
    {
     "name": "stdout",
     "output_type": "stream",
     "text": [
      "Test RMSE: 9.654\n",
      "Test SMAPE: 32.090\n",
      "Test MAPE: 0.434\n",
      "Legal_high_zh.wikipedia.org_all-access_spider\n"
     ]
    },
    {
     "name": "stderr",
     "output_type": "stream",
     "text": [
      "INFO:fbprophet:Disabling daily seasonality. Run prophet with daily_seasonality=True to override this.\n"
     ]
    },
    {
     "name": "stdout",
     "output_type": "stream",
     "text": [
      "Test RMSE: 9.471\n",
      "Test SMAPE: 37.764\n",
      "Test MAPE: 0.488\n",
      "LoveLive!_zh.wikipedia.org_all-access_spider\n"
     ]
    },
    {
     "name": "stderr",
     "output_type": "stream",
     "text": [
      "INFO:fbprophet:Disabling daily seasonality. Run prophet with daily_seasonality=True to override this.\n"
     ]
    },
    {
     "name": "stdout",
     "output_type": "stream",
     "text": [
      "Test RMSE: 22.138\n",
      "Test SMAPE: 53.975\n",
      "Test MAPE: 0.857\n",
      "LoveLive!_Sunshine!!_zh.wikipedia.org_all-access_spider\n"
     ]
    },
    {
     "name": "stderr",
     "output_type": "stream",
     "text": [
      "INFO:fbprophet:Disabling daily seasonality. Run prophet with daily_seasonality=True to override this.\n"
     ]
    },
    {
     "name": "stdout",
     "output_type": "stream",
     "text": [
      "Test RMSE: 12.566\n",
      "Test SMAPE: 54.097\n",
      "Test MAPE: 0.747\n",
      "Lovelyz_zh.wikipedia.org_all-access_spider\n"
     ]
    },
    {
     "name": "stderr",
     "output_type": "stream",
     "text": [
      "INFO:fbprophet:Disabling daily seasonality. Run prophet with daily_seasonality=True to override this.\n"
     ]
    },
    {
     "name": "stdout",
     "output_type": "stream",
     "text": [
      "Test RMSE: 20.976\n",
      "Test SMAPE: -219.049\n",
      "Test MAPE: 0.895\n",
      "Lulu_zh.wikipedia.org_all-access_spider\n"
     ]
    },
    {
     "name": "stderr",
     "output_type": "stream",
     "text": [
      "<ipython-input-10-744462e54ee1>:21: RuntimeWarning: divide by zero encountered in true_divide\n",
      "  mape = np.mean(np.abs(predictions.values - dftest['y'].values)/np.abs(dftest['y'].values))\n",
      "INFO:fbprophet:Disabling daily seasonality. Run prophet with daily_seasonality=True to override this.\n"
     ]
    },
    {
     "name": "stdout",
     "output_type": "stream",
     "text": [
      "Test RMSE: 3.061\n",
      "Test SMAPE: 100.944\n",
      "Test MAPE: inf\n",
      "MADTOWN_zh.wikipedia.org_all-access_spider\n"
     ]
    },
    {
     "name": "stderr",
     "output_type": "stream",
     "text": [
      "INFO:fbprophet:Disabling daily seasonality. Run prophet with daily_seasonality=True to override this.\n"
     ]
    },
    {
     "name": "stdout",
     "output_type": "stream",
     "text": [
      "Test RMSE: 15.717\n",
      "Test SMAPE: 51.643\n",
      "Test MAPE: 0.460\n",
      "MAMAMOO_zh.wikipedia.org_all-access_spider\n"
     ]
    },
    {
     "name": "stderr",
     "output_type": "stream",
     "text": [
      "<ipython-input-10-744462e54ee1>:21: RuntimeWarning: divide by zero encountered in true_divide\n",
      "  mape = np.mean(np.abs(predictions.values - dftest['y'].values)/np.abs(dftest['y'].values))\n",
      "INFO:fbprophet:Disabling daily seasonality. Run prophet with daily_seasonality=True to override this.\n"
     ]
    },
    {
     "name": "stdout",
     "output_type": "stream",
     "text": [
      "Test RMSE: 5.220\n",
      "Test SMAPE: 99.600\n",
      "Test MAPE: inf\n",
      "MONSTA_X_zh.wikipedia.org_all-access_spider\n"
     ]
    },
    {
     "name": "stderr",
     "output_type": "stream",
     "text": [
      "INFO:fbprophet:Disabling daily seasonality. Run prophet with daily_seasonality=True to override this.\n"
     ]
    },
    {
     "name": "stdout",
     "output_type": "stream",
     "text": [
      "Test RMSE: 64.761\n",
      "Test SMAPE: 75.535\n",
      "Test MAPE: 1.460\n",
      "Madame_Antoine_zh.wikipedia.org_all-access_spider\n"
     ]
    },
    {
     "name": "stderr",
     "output_type": "stream",
     "text": [
      "INFO:fbprophet:Disabling daily seasonality. Run prophet with daily_seasonality=True to override this.\n"
     ]
    },
    {
     "name": "stdout",
     "output_type": "stream",
     "text": [
      "Test RMSE: 6.076\n",
      "Test SMAPE: -1366.512\n",
      "Test MAPE: 1.025\n",
      "Mamamoo_zh.wikipedia.org_all-access_spider\n"
     ]
    },
    {
     "name": "stderr",
     "output_type": "stream",
     "text": [
      "INFO:fbprophet:Disabling daily seasonality. Run prophet with daily_seasonality=True to override this.\n"
     ]
    },
    {
     "name": "stdout",
     "output_type": "stream",
     "text": [
      "Test RMSE: 56.526\n",
      "Test SMAPE: 57.431\n",
      "Test MAPE: 0.720\n",
      "Mike_D._Angelo_zh.wikipedia.org_all-access_spider\n"
     ]
    },
    {
     "name": "stderr",
     "output_type": "stream",
     "text": [
      "INFO:fbprophet:Disabling daily seasonality. Run prophet with daily_seasonality=True to override this.\n"
     ]
    },
    {
     "name": "stdout",
     "output_type": "stream",
     "text": [
      "Test RMSE: 7.512\n",
      "Test SMAPE: 63.222\n",
      "Test MAPE: 0.610\n",
      "Miss_A_zh.wikipedia.org_all-access_spider\n"
     ]
    },
    {
     "name": "stderr",
     "output_type": "stream",
     "text": [
      "INFO:fbprophet:Disabling daily seasonality. Run prophet with daily_seasonality=True to override this.\n"
     ]
    },
    {
     "name": "stdout",
     "output_type": "stream",
     "text": [
      "Test RMSE: 5.871\n",
      "Test SMAPE: 31.658\n",
      "Test MAPE: 0.379\n",
      "Missing9_zh.wikipedia.org_all-access_spider\n",
      "Test RMSE: 21.319\n",
      "Test SMAPE: 75.511\n",
      "Test MAPE: 1.288\n"
     ]
    }
   ],
   "source": [
    "metrics_df = pd.DataFrame(columns=['RMSE','SMAPE','MAPE'])\n",
    "\n",
    "for column in train_1_reduce.columns:\n",
    "    print(column)\n",
    "    df = pd.DataFrame(train_1_reduce[column])\n",
    "    df = df.reset_index()\n",
    "    df.columns = ['ds', 'y']\n",
    "    dftrain = df[0:500]\n",
    "    dftest = df[500:550]\n",
    "    m = Prophet(yearly_seasonality = False)\n",
    "    #m.add_seasonality(name='monthly', period=30.5, fourier_order=5)\n",
    "    m.add_seasonality(name='quarterly', period=90, fourier_order=5)\n",
    "    m.fit(dftrain)\n",
    "    future = m.make_future_dataframe(periods=50)\n",
    "    future.tail()\n",
    "    forecast = m.predict(future)\n",
    "    forecast[['ds', 'yhat', 'yhat_lower', 'yhat_upper']]\n",
    "    predictions = forecast['yhat'][500:550]\n",
    "    rmse = np.sqrt(mean_squared_error(dftest['y'], predictions))\n",
    "    smape = smape_fast(dftest['y'].values, predictions.values)\n",
    "    mape = np.mean(np.abs(predictions.values - dftest['y'].values)/np.abs(dftest['y'].values))\n",
    "    print(\"Test RMSE: %.3f\" % rmse)\n",
    "    print(\"Test SMAPE: %.3f\" % smape)\n",
    "    print(\"Test MAPE: %.3f\" % mape)\n",
    "    metrics_df.loc[column] = [rmse,smape,mape]"
   ]
  },
  {
   "cell_type": "code",
   "execution_count": 6,
   "metadata": {},
   "outputs": [
    {
     "data": {
      "text/html": [
       "<div>\n",
       "<style scoped>\n",
       "    .dataframe tbody tr th:only-of-type {\n",
       "        vertical-align: middle;\n",
       "    }\n",
       "\n",
       "    .dataframe tbody tr th {\n",
       "        vertical-align: top;\n",
       "    }\n",
       "\n",
       "    .dataframe thead th {\n",
       "        text-align: right;\n",
       "    }\n",
       "</style>\n",
       "<table border=\"1\" class=\"dataframe\">\n",
       "  <thead>\n",
       "    <tr style=\"text-align: right;\">\n",
       "      <th></th>\n",
       "      <th>RMSE</th>\n",
       "      <th>SMAPE</th>\n",
       "      <th>MAPE</th>\n",
       "    </tr>\n",
       "  </thead>\n",
       "  <tbody>\n",
       "    <tr>\n",
       "      <th>2NE1_zh.wikipedia.org_all-access_spider</th>\n",
       "      <td>30.735477</td>\n",
       "      <td>65.861115</td>\n",
       "      <td>1.083894</td>\n",
       "    </tr>\n",
       "    <tr>\n",
       "      <th>2PM_zh.wikipedia.org_all-access_spider</th>\n",
       "      <td>85.139280</td>\n",
       "      <td>48.532741</td>\n",
       "      <td>0.589273</td>\n",
       "    </tr>\n",
       "    <tr>\n",
       "      <th>3C_zh.wikipedia.org_all-access_spider</th>\n",
       "      <td>29.162703</td>\n",
       "      <td>59.860367</td>\n",
       "      <td>inf</td>\n",
       "    </tr>\n",
       "    <tr>\n",
       "      <th>4minute_zh.wikipedia.org_all-access_spider</th>\n",
       "      <td>8.434781</td>\n",
       "      <td>38.380748</td>\n",
       "      <td>0.445983</td>\n",
       "    </tr>\n",
       "    <tr>\n",
       "      <th>52_Hz_I_Love_You_zh.wikipedia.org_all-access_spider</th>\n",
       "      <td>26.795707</td>\n",
       "      <td>50.635993</td>\n",
       "      <td>0.421593</td>\n",
       "    </tr>\n",
       "    <tr>\n",
       "      <th>...</th>\n",
       "      <td>...</td>\n",
       "      <td>...</td>\n",
       "      <td>...</td>\n",
       "    </tr>\n",
       "    <tr>\n",
       "      <th>Madame_Antoine_zh.wikipedia.org_all-access_spider</th>\n",
       "      <td>6.202532</td>\n",
       "      <td>73.461402</td>\n",
       "      <td>1.759797</td>\n",
       "    </tr>\n",
       "    <tr>\n",
       "      <th>Mamamoo_zh.wikipedia.org_all-access_spider</th>\n",
       "      <td>58.074119</td>\n",
       "      <td>57.681858</td>\n",
       "      <td>0.581778</td>\n",
       "    </tr>\n",
       "    <tr>\n",
       "      <th>Mike_D._Angelo_zh.wikipedia.org_all-access_spider</th>\n",
       "      <td>21.654388</td>\n",
       "      <td>141.414727</td>\n",
       "      <td>2.482618</td>\n",
       "    </tr>\n",
       "    <tr>\n",
       "      <th>Miss_A_zh.wikipedia.org_all-access_spider</th>\n",
       "      <td>6.514576</td>\n",
       "      <td>34.958909</td>\n",
       "      <td>0.382283</td>\n",
       "    </tr>\n",
       "    <tr>\n",
       "      <th>Missing9_zh.wikipedia.org_all-access_spider</th>\n",
       "      <td>21.174106</td>\n",
       "      <td>75.697380</td>\n",
       "      <td>1.300898</td>\n",
       "    </tr>\n",
       "  </tbody>\n",
       "</table>\n",
       "<p>100 rows × 3 columns</p>\n",
       "</div>"
      ],
      "text/plain": [
       "                                                         RMSE       SMAPE  \\\n",
       "2NE1_zh.wikipedia.org_all-access_spider             30.735477   65.861115   \n",
       "2PM_zh.wikipedia.org_all-access_spider              85.139280   48.532741   \n",
       "3C_zh.wikipedia.org_all-access_spider               29.162703   59.860367   \n",
       "4minute_zh.wikipedia.org_all-access_spider           8.434781   38.380748   \n",
       "52_Hz_I_Love_You_zh.wikipedia.org_all-access_sp...  26.795707   50.635993   \n",
       "...                                                       ...         ...   \n",
       "Madame_Antoine_zh.wikipedia.org_all-access_spider    6.202532   73.461402   \n",
       "Mamamoo_zh.wikipedia.org_all-access_spider          58.074119   57.681858   \n",
       "Mike_D._Angelo_zh.wikipedia.org_all-access_spider   21.654388  141.414727   \n",
       "Miss_A_zh.wikipedia.org_all-access_spider            6.514576   34.958909   \n",
       "Missing9_zh.wikipedia.org_all-access_spider         21.174106   75.697380   \n",
       "\n",
       "                                                        MAPE  \n",
       "2NE1_zh.wikipedia.org_all-access_spider             1.083894  \n",
       "2PM_zh.wikipedia.org_all-access_spider              0.589273  \n",
       "3C_zh.wikipedia.org_all-access_spider                    inf  \n",
       "4minute_zh.wikipedia.org_all-access_spider          0.445983  \n",
       "52_Hz_I_Love_You_zh.wikipedia.org_all-access_sp...  0.421593  \n",
       "...                                                      ...  \n",
       "Madame_Antoine_zh.wikipedia.org_all-access_spider   1.759797  \n",
       "Mamamoo_zh.wikipedia.org_all-access_spider          0.581778  \n",
       "Mike_D._Angelo_zh.wikipedia.org_all-access_spider   2.482618  \n",
       "Miss_A_zh.wikipedia.org_all-access_spider           0.382283  \n",
       "Missing9_zh.wikipedia.org_all-access_spider         1.300898  \n",
       "\n",
       "[100 rows x 3 columns]"
      ]
     },
     "execution_count": 6,
     "metadata": {},
     "output_type": "execute_result"
    }
   ],
   "source": [
    "metrics_df"
   ]
  },
  {
   "cell_type": "code",
   "execution_count": 11,
   "metadata": {},
   "outputs": [],
   "source": [
    "moyenne_RMSE = metrics_df['RMSE'].mean()\n",
    "somme_RMSE = metrics_df['RMSE'].sum()\n",
    "moyenne_SMAPE = metrics_df['SMAPE'].mean()\n",
    "moyenne_MAPE = metrics_df['MAPE'].mean()"
   ]
  },
  {
   "cell_type": "code",
   "execution_count": 8,
   "metadata": {},
   "outputs": [
    {
     "data": {
      "text/plain": [
       "2NE1_zh.wikipedia.org_all-access_spider                1.083894\n",
       "2PM_zh.wikipedia.org_all-access_spider                 0.589273\n",
       "3C_zh.wikipedia.org_all-access_spider                       inf\n",
       "4minute_zh.wikipedia.org_all-access_spider             0.445983\n",
       "52_Hz_I_Love_You_zh.wikipedia.org_all-access_spider    0.421593\n",
       "                                                         ...   \n",
       "Madame_Antoine_zh.wikipedia.org_all-access_spider      1.759797\n",
       "Mamamoo_zh.wikipedia.org_all-access_spider             0.581778\n",
       "Mike_D._Angelo_zh.wikipedia.org_all-access_spider      2.482618\n",
       "Miss_A_zh.wikipedia.org_all-access_spider              0.382283\n",
       "Missing9_zh.wikipedia.org_all-access_spider            1.300898\n",
       "Name: MAPE, Length: 100, dtype: float64"
      ]
     },
     "execution_count": 8,
     "metadata": {},
     "output_type": "execute_result"
    }
   ],
   "source": [
    "metrics_df['MAPE']"
   ]
  },
  {
   "cell_type": "code",
   "execution_count": 24,
   "metadata": {},
   "outputs": [
    {
     "name": "stdout",
     "output_type": "stream",
     "text": [
      "Test moyenne RMSE: 20.977\n",
      "Test somme RMSE: 2097.731\n",
      "Test moyenne SMAPE: 36.670\n",
      "Test moyenne MAPE: inf\n"
     ]
    }
   ],
   "source": [
    "#Pas de saisonalité ajoutée\n",
    "print(\"Test moyenne RMSE: %.3f\" % moyenne_RMSE)\n",
    "print(\"Test somme RMSE: %.3f\" % somme_RMSE)\n",
    "print(\"Test moyenne SMAPE: %.3f\" % moyenne_SMAPE)\n",
    "print(\"Test moyenne MAPE: %.3f\" % moyenne_MAPE)"
   ]
  },
  {
   "cell_type": "code",
   "execution_count": 19,
   "metadata": {},
   "outputs": [
    {
     "name": "stdout",
     "output_type": "stream",
     "text": [
      "Test moyenne RMSE: 21.452\n",
      "Test somme RMSE: 2145.172\n",
      "Test moyenne SMAPE: 77.344\n",
      "Test moyenne MAPE: inf\n"
     ]
    }
   ],
   "source": [
    "#Saisonalité mensuelle\n",
    "print(\"Test moyenne RMSE: %.3f\" % moyenne_RMSE)\n",
    "print(\"Test somme RMSE: %.3f\" % somme_RMSE)\n",
    "print(\"Test moyenne SMAPE: %.3f\" % moyenne_SMAPE)\n",
    "print(\"Test moyenne MAPE: %.3f\" % moyenne_MAPE)"
   ]
  },
  {
   "cell_type": "code",
   "execution_count": 12,
   "metadata": {},
   "outputs": [
    {
     "name": "stdout",
     "output_type": "stream",
     "text": [
      "Test moyenne RMSE: 22.351\n",
      "Test somme RMSE: 2235.063\n",
      "Test moyenne SMAPE: 23.050\n",
      "Test moyenne MAPE: inf\n"
     ]
    }
   ],
   "source": [
    "#Saisonalité trimestrielle\n",
    "ignore_index=True"
   ]
  },
  {
   "cell_type": "code",
   "execution_count": 9,
   "metadata": {},
   "outputs": [
    {
     "name": "stdout",
     "output_type": "stream",
     "text": [
      "Test moyenne RMSE: 22.676\n",
      "Test somme RMSE: 2267.615\n",
      "Test moyenne SMAPE: 57.243\n",
      "Test moyenne MAPE: inf\n"
     ]
    }
   ],
   "source": [
    "#Saisonalité annuelle\n",
    "print(\"Test moyenne RMSE: %.3f\" % moyenne_RMSE)\n",
    "print(\"Test somme RMSE: %.3f\" % somme_RMSE)\n",
    "print(\"Test moyenne SMAPE: %.3f\" % moyenne_SMAPE)\n",
    "print(\"Test moyenne MAPE: %.3f\" % moyenne_MAPE)"
   ]
  }
 ],
 "metadata": {
  "kernelspec": {
   "display_name": "Python 3",
   "language": "python",
   "name": "python3"
  },
  "language_info": {
   "codemirror_mode": {
    "name": "ipython",
    "version": 3
   },
   "file_extension": ".py",
   "mimetype": "text/x-python",
   "name": "python",
   "nbconvert_exporter": "python",
   "pygments_lexer": "ipython3",
   "version": "3.7.6"
  }
 },
 "nbformat": 4,
 "nbformat_minor": 4
}
