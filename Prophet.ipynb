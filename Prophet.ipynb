{
 "cells": [
  {
   "cell_type": "markdown",
   "metadata": {},
   "source": [
    "<h1>Prophet</h1>"
   ]
  },
  {
   "cell_type": "code",
   "execution_count": 1,
   "metadata": {},
   "outputs": [],
   "source": [
    "import numpy as np\n",
    "import pandas as pd\n",
    "import matplotlib.pyplot as plt\n",
    "from fbprophet import Prophet\n",
    "from sklearn.metrics import mean_squared_error\n",
    "from numba import jit\n",
    "import math"
   ]
  },
  {
   "cell_type": "code",
   "execution_count": 2,
   "metadata": {},
   "outputs": [
    {
     "data": {
      "text/html": [
       "<div>\n",
       "<style scoped>\n",
       "    .dataframe tbody tr th:only-of-type {\n",
       "        vertical-align: middle;\n",
       "    }\n",
       "\n",
       "    .dataframe tbody tr th {\n",
       "        vertical-align: top;\n",
       "    }\n",
       "\n",
       "    .dataframe thead th {\n",
       "        text-align: right;\n",
       "    }\n",
       "</style>\n",
       "<table border=\"1\" class=\"dataframe\">\n",
       "  <thead>\n",
       "    <tr style=\"text-align: right;\">\n",
       "      <th></th>\n",
       "      <th>Page</th>\n",
       "      <th>2015-07-01</th>\n",
       "      <th>2015-07-02</th>\n",
       "      <th>2015-07-03</th>\n",
       "      <th>2015-07-04</th>\n",
       "      <th>2015-07-05</th>\n",
       "      <th>2015-07-06</th>\n",
       "      <th>2015-07-07</th>\n",
       "      <th>2015-07-08</th>\n",
       "      <th>2015-07-09</th>\n",
       "      <th>...</th>\n",
       "      <th>2016-12-22</th>\n",
       "      <th>2016-12-23</th>\n",
       "      <th>2016-12-24</th>\n",
       "      <th>2016-12-25</th>\n",
       "      <th>2016-12-26</th>\n",
       "      <th>2016-12-27</th>\n",
       "      <th>2016-12-28</th>\n",
       "      <th>2016-12-29</th>\n",
       "      <th>2016-12-30</th>\n",
       "      <th>2016-12-31</th>\n",
       "    </tr>\n",
       "  </thead>\n",
       "  <tbody>\n",
       "    <tr>\n",
       "      <th>0</th>\n",
       "      <td>2NE1_zh.wikipedia.org_all-access_spider</td>\n",
       "      <td>18.0</td>\n",
       "      <td>11.0</td>\n",
       "      <td>5.0</td>\n",
       "      <td>13.0</td>\n",
       "      <td>14.0</td>\n",
       "      <td>9.0</td>\n",
       "      <td>9.0</td>\n",
       "      <td>22.0</td>\n",
       "      <td>26.0</td>\n",
       "      <td>...</td>\n",
       "      <td>32.0</td>\n",
       "      <td>63.0</td>\n",
       "      <td>15.0</td>\n",
       "      <td>26.0</td>\n",
       "      <td>14.0</td>\n",
       "      <td>20.0</td>\n",
       "      <td>22.0</td>\n",
       "      <td>19.0</td>\n",
       "      <td>18.0</td>\n",
       "      <td>20.0</td>\n",
       "    </tr>\n",
       "    <tr>\n",
       "      <th>1</th>\n",
       "      <td>2PM_zh.wikipedia.org_all-access_spider</td>\n",
       "      <td>11.0</td>\n",
       "      <td>14.0</td>\n",
       "      <td>15.0</td>\n",
       "      <td>18.0</td>\n",
       "      <td>11.0</td>\n",
       "      <td>13.0</td>\n",
       "      <td>22.0</td>\n",
       "      <td>11.0</td>\n",
       "      <td>10.0</td>\n",
       "      <td>...</td>\n",
       "      <td>17.0</td>\n",
       "      <td>42.0</td>\n",
       "      <td>28.0</td>\n",
       "      <td>15.0</td>\n",
       "      <td>9.0</td>\n",
       "      <td>30.0</td>\n",
       "      <td>52.0</td>\n",
       "      <td>45.0</td>\n",
       "      <td>26.0</td>\n",
       "      <td>20.0</td>\n",
       "    </tr>\n",
       "    <tr>\n",
       "      <th>2</th>\n",
       "      <td>3C_zh.wikipedia.org_all-access_spider</td>\n",
       "      <td>1.0</td>\n",
       "      <td>0.0</td>\n",
       "      <td>1.0</td>\n",
       "      <td>1.0</td>\n",
       "      <td>0.0</td>\n",
       "      <td>4.0</td>\n",
       "      <td>0.0</td>\n",
       "      <td>3.0</td>\n",
       "      <td>4.0</td>\n",
       "      <td>...</td>\n",
       "      <td>3.0</td>\n",
       "      <td>1.0</td>\n",
       "      <td>1.0</td>\n",
       "      <td>7.0</td>\n",
       "      <td>4.0</td>\n",
       "      <td>4.0</td>\n",
       "      <td>6.0</td>\n",
       "      <td>3.0</td>\n",
       "      <td>4.0</td>\n",
       "      <td>17.0</td>\n",
       "    </tr>\n",
       "    <tr>\n",
       "      <th>3</th>\n",
       "      <td>4minute_zh.wikipedia.org_all-access_spider</td>\n",
       "      <td>35.0</td>\n",
       "      <td>13.0</td>\n",
       "      <td>10.0</td>\n",
       "      <td>94.0</td>\n",
       "      <td>4.0</td>\n",
       "      <td>26.0</td>\n",
       "      <td>14.0</td>\n",
       "      <td>9.0</td>\n",
       "      <td>11.0</td>\n",
       "      <td>...</td>\n",
       "      <td>32.0</td>\n",
       "      <td>10.0</td>\n",
       "      <td>26.0</td>\n",
       "      <td>27.0</td>\n",
       "      <td>16.0</td>\n",
       "      <td>11.0</td>\n",
       "      <td>17.0</td>\n",
       "      <td>19.0</td>\n",
       "      <td>10.0</td>\n",
       "      <td>11.0</td>\n",
       "    </tr>\n",
       "    <tr>\n",
       "      <th>4</th>\n",
       "      <td>52_Hz_I_Love_You_zh.wikipedia.org_all-access_s...</td>\n",
       "      <td>NaN</td>\n",
       "      <td>NaN</td>\n",
       "      <td>NaN</td>\n",
       "      <td>NaN</td>\n",
       "      <td>NaN</td>\n",
       "      <td>NaN</td>\n",
       "      <td>NaN</td>\n",
       "      <td>NaN</td>\n",
       "      <td>NaN</td>\n",
       "      <td>...</td>\n",
       "      <td>48.0</td>\n",
       "      <td>9.0</td>\n",
       "      <td>25.0</td>\n",
       "      <td>13.0</td>\n",
       "      <td>3.0</td>\n",
       "      <td>11.0</td>\n",
       "      <td>27.0</td>\n",
       "      <td>13.0</td>\n",
       "      <td>36.0</td>\n",
       "      <td>10.0</td>\n",
       "    </tr>\n",
       "  </tbody>\n",
       "</table>\n",
       "<p>5 rows × 551 columns</p>\n",
       "</div>"
      ],
      "text/plain": [
       "                                                Page  2015-07-01  2015-07-02  \\\n",
       "0            2NE1_zh.wikipedia.org_all-access_spider        18.0        11.0   \n",
       "1             2PM_zh.wikipedia.org_all-access_spider        11.0        14.0   \n",
       "2              3C_zh.wikipedia.org_all-access_spider         1.0         0.0   \n",
       "3         4minute_zh.wikipedia.org_all-access_spider        35.0        13.0   \n",
       "4  52_Hz_I_Love_You_zh.wikipedia.org_all-access_s...         NaN         NaN   \n",
       "\n",
       "   2015-07-03  2015-07-04  2015-07-05  2015-07-06  2015-07-07  2015-07-08  \\\n",
       "0         5.0        13.0        14.0         9.0         9.0        22.0   \n",
       "1        15.0        18.0        11.0        13.0        22.0        11.0   \n",
       "2         1.0         1.0         0.0         4.0         0.0         3.0   \n",
       "3        10.0        94.0         4.0        26.0        14.0         9.0   \n",
       "4         NaN         NaN         NaN         NaN         NaN         NaN   \n",
       "\n",
       "   2015-07-09  ...  2016-12-22  2016-12-23  2016-12-24  2016-12-25  \\\n",
       "0        26.0  ...        32.0        63.0        15.0        26.0   \n",
       "1        10.0  ...        17.0        42.0        28.0        15.0   \n",
       "2         4.0  ...         3.0         1.0         1.0         7.0   \n",
       "3        11.0  ...        32.0        10.0        26.0        27.0   \n",
       "4         NaN  ...        48.0         9.0        25.0        13.0   \n",
       "\n",
       "   2016-12-26  2016-12-27  2016-12-28  2016-12-29  2016-12-30  2016-12-31  \n",
       "0        14.0        20.0        22.0        19.0        18.0        20.0  \n",
       "1         9.0        30.0        52.0        45.0        26.0        20.0  \n",
       "2         4.0         4.0         6.0         3.0         4.0        17.0  \n",
       "3        16.0        11.0        17.0        19.0        10.0        11.0  \n",
       "4         3.0        11.0        27.0        13.0        36.0        10.0  \n",
       "\n",
       "[5 rows x 551 columns]"
      ]
     },
     "execution_count": 2,
     "metadata": {},
     "output_type": "execute_result"
    }
   ],
   "source": [
    "train_1 = pd.read_csv('../Data/train_1.csv')\n",
    "train_1.head()"
   ]
  },
  {
   "cell_type": "code",
   "execution_count": 3,
   "metadata": {},
   "outputs": [
    {
     "data": {
      "text/html": [
       "<div>\n",
       "<style scoped>\n",
       "    .dataframe tbody tr th:only-of-type {\n",
       "        vertical-align: middle;\n",
       "    }\n",
       "\n",
       "    .dataframe tbody tr th {\n",
       "        vertical-align: top;\n",
       "    }\n",
       "\n",
       "    .dataframe thead th {\n",
       "        text-align: right;\n",
       "    }\n",
       "</style>\n",
       "<table border=\"1\" class=\"dataframe\">\n",
       "  <thead>\n",
       "    <tr style=\"text-align: right;\">\n",
       "      <th>Page</th>\n",
       "      <th>2NE1_zh.wikipedia.org_all-access_spider</th>\n",
       "      <th>2PM_zh.wikipedia.org_all-access_spider</th>\n",
       "      <th>3C_zh.wikipedia.org_all-access_spider</th>\n",
       "      <th>4minute_zh.wikipedia.org_all-access_spider</th>\n",
       "      <th>52_Hz_I_Love_You_zh.wikipedia.org_all-access_spider</th>\n",
       "      <th>5566_zh.wikipedia.org_all-access_spider</th>\n",
       "      <th>91Days_zh.wikipedia.org_all-access_spider</th>\n",
       "      <th>A'N'D_zh.wikipedia.org_all-access_spider</th>\n",
       "      <th>AKB48_zh.wikipedia.org_all-access_spider</th>\n",
       "      <th>ASCII_zh.wikipedia.org_all-access_spider</th>\n",
       "      <th>...</th>\n",
       "      <th>EXID_zh.wikipedia.org_all-access_spider</th>\n",
       "      <th>EXO_zh.wikipedia.org_all-access_spider</th>\n",
       "      <th>Energy_zh.wikipedia.org_all-access_spider</th>\n",
       "      <th>Eric_Nam_zh.wikipedia.org_all-access_spider</th>\n",
       "      <th>FAIRY_TAIL_zh.wikipedia.org_all-access_spider</th>\n",
       "      <th>FIESTAR_zh.wikipedia.org_all-access_spider</th>\n",
       "      <th>FIRST_CLASS_zh.wikipedia.org_all-access_spider</th>\n",
       "      <th>Facebook_zh.wikipedia.org_all-access_spider</th>\n",
       "      <th>Fantastic_Duo_zh.wikipedia.org_all-access_spider</th>\n",
       "      <th>Fate/Grand_Order_zh.wikipedia.org_all-access_spider</th>\n",
       "    </tr>\n",
       "    <tr>\n",
       "      <th>Dates</th>\n",
       "      <th></th>\n",
       "      <th></th>\n",
       "      <th></th>\n",
       "      <th></th>\n",
       "      <th></th>\n",
       "      <th></th>\n",
       "      <th></th>\n",
       "      <th></th>\n",
       "      <th></th>\n",
       "      <th></th>\n",
       "      <th></th>\n",
       "      <th></th>\n",
       "      <th></th>\n",
       "      <th></th>\n",
       "      <th></th>\n",
       "      <th></th>\n",
       "      <th></th>\n",
       "      <th></th>\n",
       "      <th></th>\n",
       "      <th></th>\n",
       "      <th></th>\n",
       "    </tr>\n",
       "  </thead>\n",
       "  <tbody>\n",
       "    <tr>\n",
       "      <th>2015-07-01</th>\n",
       "      <td>18.0</td>\n",
       "      <td>11.0</td>\n",
       "      <td>1.0</td>\n",
       "      <td>35.0</td>\n",
       "      <td>0.0</td>\n",
       "      <td>12.0</td>\n",
       "      <td>0.0</td>\n",
       "      <td>118.0</td>\n",
       "      <td>5.0</td>\n",
       "      <td>6.0</td>\n",
       "      <td>...</td>\n",
       "      <td>40.0</td>\n",
       "      <td>35.0</td>\n",
       "      <td>16.0</td>\n",
       "      <td>7.0</td>\n",
       "      <td>8.0</td>\n",
       "      <td>9.0</td>\n",
       "      <td>20.0</td>\n",
       "      <td>65.0</td>\n",
       "      <td>0.0</td>\n",
       "      <td>4.0</td>\n",
       "    </tr>\n",
       "    <tr>\n",
       "      <th>2015-07-02</th>\n",
       "      <td>11.0</td>\n",
       "      <td>14.0</td>\n",
       "      <td>0.0</td>\n",
       "      <td>13.0</td>\n",
       "      <td>0.0</td>\n",
       "      <td>7.0</td>\n",
       "      <td>0.0</td>\n",
       "      <td>26.0</td>\n",
       "      <td>23.0</td>\n",
       "      <td>3.0</td>\n",
       "      <td>...</td>\n",
       "      <td>9.0</td>\n",
       "      <td>6.0</td>\n",
       "      <td>7.0</td>\n",
       "      <td>5.0</td>\n",
       "      <td>6.0</td>\n",
       "      <td>4.0</td>\n",
       "      <td>9.0</td>\n",
       "      <td>42.0</td>\n",
       "      <td>0.0</td>\n",
       "      <td>9.0</td>\n",
       "    </tr>\n",
       "    <tr>\n",
       "      <th>2015-07-03</th>\n",
       "      <td>5.0</td>\n",
       "      <td>15.0</td>\n",
       "      <td>1.0</td>\n",
       "      <td>10.0</td>\n",
       "      <td>0.0</td>\n",
       "      <td>4.0</td>\n",
       "      <td>0.0</td>\n",
       "      <td>30.0</td>\n",
       "      <td>14.0</td>\n",
       "      <td>5.0</td>\n",
       "      <td>...</td>\n",
       "      <td>10.0</td>\n",
       "      <td>41.0</td>\n",
       "      <td>3.0</td>\n",
       "      <td>11.0</td>\n",
       "      <td>10.0</td>\n",
       "      <td>3.0</td>\n",
       "      <td>5.0</td>\n",
       "      <td>30.0</td>\n",
       "      <td>0.0</td>\n",
       "      <td>2.0</td>\n",
       "    </tr>\n",
       "    <tr>\n",
       "      <th>2015-07-04</th>\n",
       "      <td>13.0</td>\n",
       "      <td>18.0</td>\n",
       "      <td>1.0</td>\n",
       "      <td>94.0</td>\n",
       "      <td>0.0</td>\n",
       "      <td>5.0</td>\n",
       "      <td>0.0</td>\n",
       "      <td>24.0</td>\n",
       "      <td>12.0</td>\n",
       "      <td>12.0</td>\n",
       "      <td>...</td>\n",
       "      <td>6.0</td>\n",
       "      <td>35.0</td>\n",
       "      <td>3.0</td>\n",
       "      <td>2.0</td>\n",
       "      <td>22.0</td>\n",
       "      <td>7.0</td>\n",
       "      <td>10.0</td>\n",
       "      <td>36.0</td>\n",
       "      <td>0.0</td>\n",
       "      <td>3.0</td>\n",
       "    </tr>\n",
       "    <tr>\n",
       "      <th>2015-07-05</th>\n",
       "      <td>14.0</td>\n",
       "      <td>11.0</td>\n",
       "      <td>0.0</td>\n",
       "      <td>4.0</td>\n",
       "      <td>0.0</td>\n",
       "      <td>20.0</td>\n",
       "      <td>0.0</td>\n",
       "      <td>29.0</td>\n",
       "      <td>9.0</td>\n",
       "      <td>6.0</td>\n",
       "      <td>...</td>\n",
       "      <td>28.0</td>\n",
       "      <td>31.0</td>\n",
       "      <td>3.0</td>\n",
       "      <td>7.0</td>\n",
       "      <td>11.0</td>\n",
       "      <td>4.0</td>\n",
       "      <td>7.0</td>\n",
       "      <td>41.0</td>\n",
       "      <td>0.0</td>\n",
       "      <td>2.0</td>\n",
       "    </tr>\n",
       "  </tbody>\n",
       "</table>\n",
       "<p>5 rows × 50 columns</p>\n",
       "</div>"
      ],
      "text/plain": [
       "Page        2NE1_zh.wikipedia.org_all-access_spider  \\\n",
       "Dates                                                 \n",
       "2015-07-01                                     18.0   \n",
       "2015-07-02                                     11.0   \n",
       "2015-07-03                                      5.0   \n",
       "2015-07-04                                     13.0   \n",
       "2015-07-05                                     14.0   \n",
       "\n",
       "Page        2PM_zh.wikipedia.org_all-access_spider  \\\n",
       "Dates                                                \n",
       "2015-07-01                                    11.0   \n",
       "2015-07-02                                    14.0   \n",
       "2015-07-03                                    15.0   \n",
       "2015-07-04                                    18.0   \n",
       "2015-07-05                                    11.0   \n",
       "\n",
       "Page        3C_zh.wikipedia.org_all-access_spider  \\\n",
       "Dates                                               \n",
       "2015-07-01                                    1.0   \n",
       "2015-07-02                                    0.0   \n",
       "2015-07-03                                    1.0   \n",
       "2015-07-04                                    1.0   \n",
       "2015-07-05                                    0.0   \n",
       "\n",
       "Page        4minute_zh.wikipedia.org_all-access_spider  \\\n",
       "Dates                                                    \n",
       "2015-07-01                                        35.0   \n",
       "2015-07-02                                        13.0   \n",
       "2015-07-03                                        10.0   \n",
       "2015-07-04                                        94.0   \n",
       "2015-07-05                                         4.0   \n",
       "\n",
       "Page        52_Hz_I_Love_You_zh.wikipedia.org_all-access_spider  \\\n",
       "Dates                                                             \n",
       "2015-07-01                                                0.0     \n",
       "2015-07-02                                                0.0     \n",
       "2015-07-03                                                0.0     \n",
       "2015-07-04                                                0.0     \n",
       "2015-07-05                                                0.0     \n",
       "\n",
       "Page        5566_zh.wikipedia.org_all-access_spider  \\\n",
       "Dates                                                 \n",
       "2015-07-01                                     12.0   \n",
       "2015-07-02                                      7.0   \n",
       "2015-07-03                                      4.0   \n",
       "2015-07-04                                      5.0   \n",
       "2015-07-05                                     20.0   \n",
       "\n",
       "Page        91Days_zh.wikipedia.org_all-access_spider  \\\n",
       "Dates                                                   \n",
       "2015-07-01                                        0.0   \n",
       "2015-07-02                                        0.0   \n",
       "2015-07-03                                        0.0   \n",
       "2015-07-04                                        0.0   \n",
       "2015-07-05                                        0.0   \n",
       "\n",
       "Page        A'N'D_zh.wikipedia.org_all-access_spider  \\\n",
       "Dates                                                  \n",
       "2015-07-01                                     118.0   \n",
       "2015-07-02                                      26.0   \n",
       "2015-07-03                                      30.0   \n",
       "2015-07-04                                      24.0   \n",
       "2015-07-05                                      29.0   \n",
       "\n",
       "Page        AKB48_zh.wikipedia.org_all-access_spider  \\\n",
       "Dates                                                  \n",
       "2015-07-01                                       5.0   \n",
       "2015-07-02                                      23.0   \n",
       "2015-07-03                                      14.0   \n",
       "2015-07-04                                      12.0   \n",
       "2015-07-05                                       9.0   \n",
       "\n",
       "Page        ASCII_zh.wikipedia.org_all-access_spider  ...  \\\n",
       "Dates                                                 ...   \n",
       "2015-07-01                                       6.0  ...   \n",
       "2015-07-02                                       3.0  ...   \n",
       "2015-07-03                                       5.0  ...   \n",
       "2015-07-04                                      12.0  ...   \n",
       "2015-07-05                                       6.0  ...   \n",
       "\n",
       "Page        EXID_zh.wikipedia.org_all-access_spider  \\\n",
       "Dates                                                 \n",
       "2015-07-01                                     40.0   \n",
       "2015-07-02                                      9.0   \n",
       "2015-07-03                                     10.0   \n",
       "2015-07-04                                      6.0   \n",
       "2015-07-05                                     28.0   \n",
       "\n",
       "Page        EXO_zh.wikipedia.org_all-access_spider  \\\n",
       "Dates                                                \n",
       "2015-07-01                                    35.0   \n",
       "2015-07-02                                     6.0   \n",
       "2015-07-03                                    41.0   \n",
       "2015-07-04                                    35.0   \n",
       "2015-07-05                                    31.0   \n",
       "\n",
       "Page        Energy_zh.wikipedia.org_all-access_spider  \\\n",
       "Dates                                                   \n",
       "2015-07-01                                       16.0   \n",
       "2015-07-02                                        7.0   \n",
       "2015-07-03                                        3.0   \n",
       "2015-07-04                                        3.0   \n",
       "2015-07-05                                        3.0   \n",
       "\n",
       "Page        Eric_Nam_zh.wikipedia.org_all-access_spider  \\\n",
       "Dates                                                     \n",
       "2015-07-01                                          7.0   \n",
       "2015-07-02                                          5.0   \n",
       "2015-07-03                                         11.0   \n",
       "2015-07-04                                          2.0   \n",
       "2015-07-05                                          7.0   \n",
       "\n",
       "Page        FAIRY_TAIL_zh.wikipedia.org_all-access_spider  \\\n",
       "Dates                                                       \n",
       "2015-07-01                                            8.0   \n",
       "2015-07-02                                            6.0   \n",
       "2015-07-03                                           10.0   \n",
       "2015-07-04                                           22.0   \n",
       "2015-07-05                                           11.0   \n",
       "\n",
       "Page        FIESTAR_zh.wikipedia.org_all-access_spider  \\\n",
       "Dates                                                    \n",
       "2015-07-01                                         9.0   \n",
       "2015-07-02                                         4.0   \n",
       "2015-07-03                                         3.0   \n",
       "2015-07-04                                         7.0   \n",
       "2015-07-05                                         4.0   \n",
       "\n",
       "Page        FIRST_CLASS_zh.wikipedia.org_all-access_spider  \\\n",
       "Dates                                                        \n",
       "2015-07-01                                            20.0   \n",
       "2015-07-02                                             9.0   \n",
       "2015-07-03                                             5.0   \n",
       "2015-07-04                                            10.0   \n",
       "2015-07-05                                             7.0   \n",
       "\n",
       "Page        Facebook_zh.wikipedia.org_all-access_spider  \\\n",
       "Dates                                                     \n",
       "2015-07-01                                         65.0   \n",
       "2015-07-02                                         42.0   \n",
       "2015-07-03                                         30.0   \n",
       "2015-07-04                                         36.0   \n",
       "2015-07-05                                         41.0   \n",
       "\n",
       "Page        Fantastic_Duo_zh.wikipedia.org_all-access_spider  \\\n",
       "Dates                                                          \n",
       "2015-07-01                                               0.0   \n",
       "2015-07-02                                               0.0   \n",
       "2015-07-03                                               0.0   \n",
       "2015-07-04                                               0.0   \n",
       "2015-07-05                                               0.0   \n",
       "\n",
       "Page        Fate/Grand_Order_zh.wikipedia.org_all-access_spider  \n",
       "Dates                                                            \n",
       "2015-07-01                                                4.0    \n",
       "2015-07-02                                                9.0    \n",
       "2015-07-03                                                2.0    \n",
       "2015-07-04                                                3.0    \n",
       "2015-07-05                                                2.0    \n",
       "\n",
       "[5 rows x 50 columns]"
      ]
     },
     "execution_count": 3,
     "metadata": {},
     "output_type": "execute_result"
    }
   ],
   "source": [
    "train_1_reduce = train_1[0:100]\n",
    "train_1_reduce = train_1_reduce.fillna(0)\n",
    "train_1_reduce = train_1_reduce.set_index('Page')\n",
    "train_1_reduce = train_1_reduce.T.rename_axis('Dates')\n",
    "train_1_reduce.head()"
   ]
  },
  {
   "cell_type": "code",
   "execution_count": 4,
   "metadata": {},
   "outputs": [],
   "source": [
    "def smape_fast(y_true, y_pred):\n",
    "    out = 0\n",
    "    for i in range(y_true.shape[0]):\n",
    "        a = y_true[i]\n",
    "        b = y_pred[i]\n",
    "        c = a+b\n",
    "        if c == 0:\n",
    "            continue\n",
    "        out += math.fabs(a - b) / c\n",
    "    out *= (200.0 / y_true.shape[0])\n",
    "    return out"
   ]
  },
  {
   "cell_type": "code",
   "execution_count": 5,
   "metadata": {},
   "outputs": [
    {
     "name": "stdout",
     "output_type": "stream",
     "text": [
      "2NE1_zh.wikipedia.org_all-access_spider\n"
     ]
    },
    {
     "name": "stderr",
     "output_type": "stream",
     "text": [
      "INFO:numexpr.utils:NumExpr defaulting to 8 threads.\n",
      "INFO:fbprophet:Disabling yearly seasonality. Run prophet with yearly_seasonality=True to override this.\n",
      "INFO:fbprophet:Disabling daily seasonality. Run prophet with daily_seasonality=True to override this.\n",
      "INFO:fbprophet:Disabling yearly seasonality. Run prophet with yearly_seasonality=True to override this.\n",
      "INFO:fbprophet:Disabling daily seasonality. Run prophet with daily_seasonality=True to override this.\n"
     ]
    },
    {
     "name": "stdout",
     "output_type": "stream",
     "text": [
      "Test RMSE: 29.651\n",
      "Test SMAPE: 44.070\n",
      "2PM_zh.wikipedia.org_all-access_spider\n"
     ]
    },
    {
     "name": "stderr",
     "output_type": "stream",
     "text": [
      "INFO:fbprophet:Disabling yearly seasonality. Run prophet with yearly_seasonality=True to override this.\n",
      "INFO:fbprophet:Disabling daily seasonality. Run prophet with daily_seasonality=True to override this.\n"
     ]
    },
    {
     "name": "stdout",
     "output_type": "stream",
     "text": [
      "Test RMSE: 85.190\n",
      "Test SMAPE: 65.973\n",
      "3C_zh.wikipedia.org_all-access_spider\n"
     ]
    },
    {
     "name": "stderr",
     "output_type": "stream",
     "text": [
      "INFO:fbprophet:Disabling yearly seasonality. Run prophet with yearly_seasonality=True to override this.\n",
      "INFO:fbprophet:Disabling daily seasonality. Run prophet with daily_seasonality=True to override this.\n"
     ]
    },
    {
     "name": "stdout",
     "output_type": "stream",
     "text": [
      "Test RMSE: 29.410\n",
      "Test SMAPE: 55.641\n",
      "4minute_zh.wikipedia.org_all-access_spider\n"
     ]
    },
    {
     "name": "stderr",
     "output_type": "stream",
     "text": [
      "INFO:fbprophet:Disabling yearly seasonality. Run prophet with yearly_seasonality=True to override this.\n",
      "INFO:fbprophet:Disabling daily seasonality. Run prophet with daily_seasonality=True to override this.\n"
     ]
    },
    {
     "name": "stdout",
     "output_type": "stream",
     "text": [
      "Test RMSE: 8.782\n",
      "Test SMAPE: 42.137\n",
      "52_Hz_I_Love_You_zh.wikipedia.org_all-access_spider\n"
     ]
    },
    {
     "name": "stderr",
     "output_type": "stream",
     "text": [
      "INFO:fbprophet:Disabling yearly seasonality. Run prophet with yearly_seasonality=True to override this.\n",
      "INFO:fbprophet:Disabling daily seasonality. Run prophet with daily_seasonality=True to override this.\n"
     ]
    },
    {
     "name": "stdout",
     "output_type": "stream",
     "text": [
      "Test RMSE: 26.067\n",
      "Test SMAPE: 46.243\n",
      "5566_zh.wikipedia.org_all-access_spider\n"
     ]
    },
    {
     "name": "stderr",
     "output_type": "stream",
     "text": [
      "INFO:fbprophet:Disabling yearly seasonality. Run prophet with yearly_seasonality=True to override this.\n",
      "INFO:fbprophet:Disabling daily seasonality. Run prophet with daily_seasonality=True to override this.\n"
     ]
    },
    {
     "name": "stdout",
     "output_type": "stream",
     "text": [
      "Test RMSE: 22.875\n",
      "Test SMAPE: 51.907\n",
      "91Days_zh.wikipedia.org_all-access_spider\n"
     ]
    },
    {
     "name": "stderr",
     "output_type": "stream",
     "text": [
      "INFO:fbprophet:Disabling yearly seasonality. Run prophet with yearly_seasonality=True to override this.\n",
      "INFO:fbprophet:Disabling daily seasonality. Run prophet with daily_seasonality=True to override this.\n"
     ]
    },
    {
     "name": "stdout",
     "output_type": "stream",
     "text": [
      "Test RMSE: 24.412\n",
      "Test SMAPE: 117.392\n",
      "A'N'D_zh.wikipedia.org_all-access_spider\n"
     ]
    },
    {
     "name": "stderr",
     "output_type": "stream",
     "text": [
      "INFO:fbprophet:Disabling yearly seasonality. Run prophet with yearly_seasonality=True to override this.\n",
      "INFO:fbprophet:Disabling daily seasonality. Run prophet with daily_seasonality=True to override this.\n"
     ]
    },
    {
     "name": "stdout",
     "output_type": "stream",
     "text": [
      "Test RMSE: 51.868\n",
      "Test SMAPE: 74.066\n",
      "AKB48_zh.wikipedia.org_all-access_spider\n"
     ]
    },
    {
     "name": "stderr",
     "output_type": "stream",
     "text": [
      "INFO:fbprophet:Disabling yearly seasonality. Run prophet with yearly_seasonality=True to override this.\n",
      "INFO:fbprophet:Disabling daily seasonality. Run prophet with daily_seasonality=True to override this.\n"
     ]
    },
    {
     "name": "stdout",
     "output_type": "stream",
     "text": [
      "Test RMSE: 30.012\n",
      "Test SMAPE: 37.020\n",
      "ASCII_zh.wikipedia.org_all-access_spider\n"
     ]
    },
    {
     "name": "stderr",
     "output_type": "stream",
     "text": [
      "INFO:fbprophet:Disabling yearly seasonality. Run prophet with yearly_seasonality=True to override this.\n",
      "INFO:fbprophet:Disabling daily seasonality. Run prophet with daily_seasonality=True to override this.\n"
     ]
    },
    {
     "name": "stdout",
     "output_type": "stream",
     "text": [
      "Test RMSE: 9.353\n",
      "Test SMAPE: 24.208\n",
      "ASTRO_zh.wikipedia.org_all-access_spider\n"
     ]
    },
    {
     "name": "stderr",
     "output_type": "stream",
     "text": [
      "INFO:fbprophet:Disabling yearly seasonality. Run prophet with yearly_seasonality=True to override this.\n",
      "INFO:fbprophet:Disabling daily seasonality. Run prophet with daily_seasonality=True to override this.\n"
     ]
    },
    {
     "name": "stdout",
     "output_type": "stream",
     "text": [
      "Test RMSE: 24.080\n",
      "Test SMAPE: 63.552\n",
      "Ahq_e-Sports_Club_zh.wikipedia.org_all-access_spider\n"
     ]
    },
    {
     "name": "stderr",
     "output_type": "stream",
     "text": [
      "INFO:fbprophet:Disabling yearly seasonality. Run prophet with yearly_seasonality=True to override this.\n",
      "INFO:fbprophet:Disabling daily seasonality. Run prophet with daily_seasonality=True to override this.\n"
     ]
    },
    {
     "name": "stdout",
     "output_type": "stream",
     "text": [
      "Test RMSE: 14.057\n",
      "Test SMAPE: 47.867\n",
      "All_your_base_are_belong_to_us_zh.wikipedia.org_all-access_spider\n"
     ]
    },
    {
     "name": "stderr",
     "output_type": "stream",
     "text": [
      "INFO:fbprophet:Disabling yearly seasonality. Run prophet with yearly_seasonality=True to override this.\n",
      "INFO:fbprophet:Disabling daily seasonality. Run prophet with daily_seasonality=True to override this.\n"
     ]
    },
    {
     "name": "stdout",
     "output_type": "stream",
     "text": [
      "Test RMSE: 2.774\n",
      "Test SMAPE: 54.375\n",
      "AlphaGo_zh.wikipedia.org_all-access_spider\n"
     ]
    },
    {
     "name": "stderr",
     "output_type": "stream",
     "text": [
      "INFO:fbprophet:Disabling yearly seasonality. Run prophet with yearly_seasonality=True to override this.\n",
      "INFO:fbprophet:Disabling daily seasonality. Run prophet with daily_seasonality=True to override this.\n"
     ]
    },
    {
     "name": "stdout",
     "output_type": "stream",
     "text": [
      "Test RMSE: 17.197\n",
      "Test SMAPE: 241.287\n",
      "Android_zh.wikipedia.org_all-access_spider\n"
     ]
    },
    {
     "name": "stderr",
     "output_type": "stream",
     "text": [
      "INFO:fbprophet:Disabling yearly seasonality. Run prophet with yearly_seasonality=True to override this.\n",
      "INFO:fbprophet:Disabling daily seasonality. Run prophet with daily_seasonality=True to override this.\n"
     ]
    },
    {
     "name": "stdout",
     "output_type": "stream",
     "text": [
      "Test RMSE: 19.348\n",
      "Test SMAPE: 32.082\n",
      "Angelababy_zh.wikipedia.org_all-access_spider\n"
     ]
    },
    {
     "name": "stderr",
     "output_type": "stream",
     "text": [
      "INFO:fbprophet:Disabling yearly seasonality. Run prophet with yearly_seasonality=True to override this.\n",
      "INFO:fbprophet:Disabling daily seasonality. Run prophet with daily_seasonality=True to override this.\n"
     ]
    },
    {
     "name": "stdout",
     "output_type": "stream",
     "text": [
      "Test RMSE: 23.068\n",
      "Test SMAPE: 58.759\n",
      "Apink_zh.wikipedia.org_all-access_spider\n"
     ]
    },
    {
     "name": "stderr",
     "output_type": "stream",
     "text": [
      "INFO:fbprophet:Disabling yearly seasonality. Run prophet with yearly_seasonality=True to override this.\n",
      "INFO:fbprophet:Disabling daily seasonality. Run prophet with daily_seasonality=True to override this.\n"
     ]
    },
    {
     "name": "stdout",
     "output_type": "stream",
     "text": [
      "Test RMSE: 64.600\n",
      "Test SMAPE: 65.287\n",
      "Apple_II_zh.wikipedia.org_all-access_spider\n"
     ]
    },
    {
     "name": "stderr",
     "output_type": "stream",
     "text": [
      "INFO:fbprophet:Disabling yearly seasonality. Run prophet with yearly_seasonality=True to override this.\n",
      "INFO:fbprophet:Disabling daily seasonality. Run prophet with daily_seasonality=True to override this.\n"
     ]
    },
    {
     "name": "stdout",
     "output_type": "stream",
     "text": [
      "Test RMSE: 3.991\n",
      "Test SMAPE: 36.198\n",
      "As_One_zh.wikipedia.org_all-access_spider\n"
     ]
    },
    {
     "name": "stderr",
     "output_type": "stream",
     "text": [
      "INFO:fbprophet:Disabling yearly seasonality. Run prophet with yearly_seasonality=True to override this.\n",
      "INFO:fbprophet:Disabling daily seasonality. Run prophet with daily_seasonality=True to override this.\n"
     ]
    },
    {
     "name": "stdout",
     "output_type": "stream",
     "text": [
      "Test RMSE: 8.184\n",
      "Test SMAPE: 51.310\n",
      "B-PROJECT_zh.wikipedia.org_all-access_spider\n"
     ]
    },
    {
     "name": "stderr",
     "output_type": "stream",
     "text": [
      "INFO:fbprophet:Disabling yearly seasonality. Run prophet with yearly_seasonality=True to override this.\n",
      "INFO:fbprophet:Disabling daily seasonality. Run prophet with daily_seasonality=True to override this.\n"
     ]
    },
    {
     "name": "stdout",
     "output_type": "stream",
     "text": [
      "Test RMSE: 16.273\n",
      "Test SMAPE: 88.566\n",
      "B1A4_zh.wikipedia.org_all-access_spider\n"
     ]
    },
    {
     "name": "stderr",
     "output_type": "stream",
     "text": [
      "INFO:fbprophet:Disabling yearly seasonality. Run prophet with yearly_seasonality=True to override this.\n",
      "INFO:fbprophet:Disabling daily seasonality. Run prophet with daily_seasonality=True to override this.\n"
     ]
    },
    {
     "name": "stdout",
     "output_type": "stream",
     "text": [
      "Test RMSE: 53.221\n",
      "Test SMAPE: 56.155\n",
      "BDSM_zh.wikipedia.org_all-access_spider\n"
     ]
    },
    {
     "name": "stderr",
     "output_type": "stream",
     "text": [
      "INFO:fbprophet:Disabling yearly seasonality. Run prophet with yearly_seasonality=True to override this.\n",
      "INFO:fbprophet:Disabling daily seasonality. Run prophet with daily_seasonality=True to override this.\n"
     ]
    },
    {
     "name": "stdout",
     "output_type": "stream",
     "text": [
      "Test RMSE: 8.808\n",
      "Test SMAPE: 32.093\n",
      "BEAST_zh.wikipedia.org_all-access_spider\n"
     ]
    },
    {
     "name": "stderr",
     "output_type": "stream",
     "text": [
      "INFO:fbprophet:Disabling yearly seasonality. Run prophet with yearly_seasonality=True to override this.\n",
      "INFO:fbprophet:Disabling daily seasonality. Run prophet with daily_seasonality=True to override this.\n"
     ]
    },
    {
     "name": "stdout",
     "output_type": "stream",
     "text": [
      "Test RMSE: 33.766\n",
      "Test SMAPE: 45.767\n",
      "BIGBANG_zh.wikipedia.org_all-access_spider\n"
     ]
    },
    {
     "name": "stderr",
     "output_type": "stream",
     "text": [
      "INFO:fbprophet:Disabling yearly seasonality. Run prophet with yearly_seasonality=True to override this.\n",
      "INFO:fbprophet:Disabling daily seasonality. Run prophet with daily_seasonality=True to override this.\n"
     ]
    },
    {
     "name": "stdout",
     "output_type": "stream",
     "text": [
      "Test RMSE: 25.769\n",
      "Test SMAPE: 48.747\n",
      "BLACK_PINK_zh.wikipedia.org_all-access_spider\n"
     ]
    },
    {
     "name": "stderr",
     "output_type": "stream",
     "text": [
      "INFO:fbprophet:Disabling yearly seasonality. Run prophet with yearly_seasonality=True to override this.\n",
      "INFO:fbprophet:Disabling daily seasonality. Run prophet with daily_seasonality=True to override this.\n"
     ]
    },
    {
     "name": "stdout",
     "output_type": "stream",
     "text": [
      "Test RMSE: 107.105\n",
      "Test SMAPE: 66.756\n",
      "BLEACH_zh.wikipedia.org_all-access_spider\n"
     ]
    },
    {
     "name": "stderr",
     "output_type": "stream",
     "text": [
      "INFO:fbprophet:Disabling yearly seasonality. Run prophet with yearly_seasonality=True to override this.\n",
      "INFO:fbprophet:Disabling daily seasonality. Run prophet with daily_seasonality=True to override this.\n"
     ]
    },
    {
     "name": "stdout",
     "output_type": "stream",
     "text": [
      "Test RMSE: 14.638\n",
      "Test SMAPE: 36.538\n",
      "BTOB_zh.wikipedia.org_all-access_spider\n"
     ]
    },
    {
     "name": "stderr",
     "output_type": "stream",
     "text": [
      "INFO:fbprophet:Disabling yearly seasonality. Run prophet with yearly_seasonality=True to override this.\n",
      "INFO:fbprophet:Disabling daily seasonality. Run prophet with daily_seasonality=True to override this.\n"
     ]
    },
    {
     "name": "stdout",
     "output_type": "stream",
     "text": [
      "Test RMSE: 33.546\n",
      "Test SMAPE: 52.673\n",
      "Beautiful_Mind_zh.wikipedia.org_all-access_spider\n"
     ]
    },
    {
     "name": "stderr",
     "output_type": "stream",
     "text": [
      "INFO:fbprophet:Disabling yearly seasonality. Run prophet with yearly_seasonality=True to override this.\n",
      "INFO:fbprophet:Disabling daily seasonality. Run prophet with daily_seasonality=True to override this.\n"
     ]
    },
    {
     "name": "stdout",
     "output_type": "stream",
     "text": [
      "Test RMSE: 9.580\n",
      "Test SMAPE: 90.872\n",
      "Beyond_zh.wikipedia.org_all-access_spider\n"
     ]
    },
    {
     "name": "stderr",
     "output_type": "stream",
     "text": [
      "INFO:fbprophet:Disabling yearly seasonality. Run prophet with yearly_seasonality=True to override this.\n",
      "INFO:fbprophet:Disabling daily seasonality. Run prophet with daily_seasonality=True to override this.\n"
     ]
    },
    {
     "name": "stdout",
     "output_type": "stream",
     "text": [
      "Test RMSE: 11.054\n",
      "Test SMAPE: 23.454\n",
      "Big_zh.wikipedia.org_all-access_spider\n"
     ]
    },
    {
     "name": "stderr",
     "output_type": "stream",
     "text": [
      "INFO:fbprophet:Disabling yearly seasonality. Run prophet with yearly_seasonality=True to override this.\n",
      "INFO:fbprophet:Disabling daily seasonality. Run prophet with daily_seasonality=True to override this.\n"
     ]
    },
    {
     "name": "stdout",
     "output_type": "stream",
     "text": [
      "Test RMSE: 6.637\n",
      "Test SMAPE: 38.249\n",
      "Block_B_zh.wikipedia.org_all-access_spider\n"
     ]
    },
    {
     "name": "stderr",
     "output_type": "stream",
     "text": [
      "INFO:fbprophet:Disabling yearly seasonality. Run prophet with yearly_seasonality=True to override this.\n",
      "INFO:fbprophet:Disabling daily seasonality. Run prophet with daily_seasonality=True to override this.\n"
     ]
    },
    {
     "name": "stdout",
     "output_type": "stream",
     "text": [
      "Test RMSE: 9.865\n",
      "Test SMAPE: 34.980\n",
      "CHAOS;CHILD_zh.wikipedia.org_all-access_spider\n"
     ]
    },
    {
     "name": "stderr",
     "output_type": "stream",
     "text": [
      "INFO:fbprophet:Disabling yearly seasonality. Run prophet with yearly_seasonality=True to override this.\n",
      "INFO:fbprophet:Disabling daily seasonality. Run prophet with daily_seasonality=True to override this.\n"
     ]
    },
    {
     "name": "stdout",
     "output_type": "stream",
     "text": [
      "Test RMSE: 8.249\n",
      "Test SMAPE: 56.604\n",
      "CHAOS;HEAD_zh.wikipedia.org_all-access_spider\n"
     ]
    },
    {
     "name": "stderr",
     "output_type": "stream",
     "text": [
      "INFO:fbprophet:Disabling yearly seasonality. Run prophet with yearly_seasonality=True to override this.\n",
      "INFO:fbprophet:Disabling daily seasonality. Run prophet with daily_seasonality=True to override this.\n"
     ]
    },
    {
     "name": "stdout",
     "output_type": "stream",
     "text": [
      "Test RMSE: 4.757\n",
      "Test SMAPE: 34.267\n",
      "CLC_zh.wikipedia.org_all-access_spider\n"
     ]
    },
    {
     "name": "stderr",
     "output_type": "stream",
     "text": [
      "INFO:fbprophet:Disabling yearly seasonality. Run prophet with yearly_seasonality=True to override this.\n",
      "INFO:fbprophet:Disabling daily seasonality. Run prophet with daily_seasonality=True to override this.\n"
     ]
    },
    {
     "name": "stdout",
     "output_type": "stream",
     "text": [
      "Test RMSE: 22.887\n",
      "Test SMAPE: 74.666\n",
      "CNBLUE_zh.wikipedia.org_all-access_spider\n"
     ]
    },
    {
     "name": "stderr",
     "output_type": "stream",
     "text": [
      "INFO:fbprophet:Disabling yearly seasonality. Run prophet with yearly_seasonality=True to override this.\n",
      "INFO:fbprophet:Disabling daily seasonality. Run prophet with daily_seasonality=True to override this.\n"
     ]
    },
    {
     "name": "stdout",
     "output_type": "stream",
     "text": [
      "Test RMSE: 34.705\n",
      "Test SMAPE: 59.300\n",
      "DIA_zh.wikipedia.org_all-access_spider\n"
     ]
    },
    {
     "name": "stderr",
     "output_type": "stream",
     "text": [
      "INFO:fbprophet:Disabling yearly seasonality. Run prophet with yearly_seasonality=True to override this.\n",
      "INFO:fbprophet:Disabling daily seasonality. Run prophet with daily_seasonality=True to override this.\n"
     ]
    },
    {
     "name": "stdout",
     "output_type": "stream",
     "text": [
      "Test RMSE: 21.656\n",
      "Test SMAPE: 62.620\n",
      "Daigo_zh.wikipedia.org_all-access_spider\n"
     ]
    },
    {
     "name": "stderr",
     "output_type": "stream",
     "text": [
      "INFO:fbprophet:Disabling yearly seasonality. Run prophet with yearly_seasonality=True to override this.\n",
      "INFO:fbprophet:Disabling daily seasonality. Run prophet with daily_seasonality=True to override this.\n"
     ]
    },
    {
     "name": "stdout",
     "output_type": "stream",
     "text": [
      "Test RMSE: 4.266\n",
      "Test SMAPE: 46.705\n",
      "Dear_My_Friends_zh.wikipedia.org_all-access_spider\n"
     ]
    },
    {
     "name": "stderr",
     "output_type": "stream",
     "text": [
      "INFO:fbprophet:Disabling yearly seasonality. Run prophet with yearly_seasonality=True to override this.\n",
      "INFO:fbprophet:Disabling daily seasonality. Run prophet with daily_seasonality=True to override this.\n"
     ]
    },
    {
     "name": "stdout",
     "output_type": "stream",
     "text": [
      "Test RMSE: 11.991\n",
      "Test SMAPE: 120.291\n",
      "Doctors_zh.wikipedia.org_all-access_spider\n"
     ]
    },
    {
     "name": "stderr",
     "output_type": "stream",
     "text": [
      "INFO:fbprophet:Disabling yearly seasonality. Run prophet with yearly_seasonality=True to override this.\n",
      "INFO:fbprophet:Disabling daily seasonality. Run prophet with daily_seasonality=True to override this.\n"
     ]
    },
    {
     "name": "stdout",
     "output_type": "stream",
     "text": [
      "Test RMSE: 46.866\n",
      "Test SMAPE: -2428.947\n",
      "EGOIST_zh.wikipedia.org_all-access_spider\n"
     ]
    },
    {
     "name": "stderr",
     "output_type": "stream",
     "text": [
      "INFO:fbprophet:Disabling yearly seasonality. Run prophet with yearly_seasonality=True to override this.\n",
      "INFO:fbprophet:Disabling daily seasonality. Run prophet with daily_seasonality=True to override this.\n"
     ]
    },
    {
     "name": "stdout",
     "output_type": "stream",
     "text": [
      "Test RMSE: 7.750\n",
      "Test SMAPE: 56.347\n",
      "EXID_zh.wikipedia.org_all-access_spider\n"
     ]
    },
    {
     "name": "stderr",
     "output_type": "stream",
     "text": [
      "INFO:fbprophet:Disabling yearly seasonality. Run prophet with yearly_seasonality=True to override this.\n",
      "INFO:fbprophet:Disabling daily seasonality. Run prophet with daily_seasonality=True to override this.\n"
     ]
    },
    {
     "name": "stdout",
     "output_type": "stream",
     "text": [
      "Test RMSE: 28.052\n",
      "Test SMAPE: 65.878\n",
      "EXO_zh.wikipedia.org_all-access_spider\n"
     ]
    },
    {
     "name": "stderr",
     "output_type": "stream",
     "text": [
      "INFO:fbprophet:Disabling yearly seasonality. Run prophet with yearly_seasonality=True to override this.\n",
      "INFO:fbprophet:Disabling daily seasonality. Run prophet with daily_seasonality=True to override this.\n"
     ]
    },
    {
     "name": "stdout",
     "output_type": "stream",
     "text": [
      "Test RMSE: 38.627\n",
      "Test SMAPE: 45.167\n",
      "Energy_zh.wikipedia.org_all-access_spider\n"
     ]
    },
    {
     "name": "stderr",
     "output_type": "stream",
     "text": [
      "INFO:fbprophet:Disabling yearly seasonality. Run prophet with yearly_seasonality=True to override this.\n",
      "INFO:fbprophet:Disabling daily seasonality. Run prophet with daily_seasonality=True to override this.\n"
     ]
    },
    {
     "name": "stdout",
     "output_type": "stream",
     "text": [
      "Test RMSE: 5.027\n",
      "Test SMAPE: 46.098\n",
      "Eric_Nam_zh.wikipedia.org_all-access_spider\n"
     ]
    },
    {
     "name": "stderr",
     "output_type": "stream",
     "text": [
      "INFO:fbprophet:Disabling yearly seasonality. Run prophet with yearly_seasonality=True to override this.\n",
      "INFO:fbprophet:Disabling daily seasonality. Run prophet with daily_seasonality=True to override this.\n"
     ]
    },
    {
     "name": "stdout",
     "output_type": "stream",
     "text": [
      "Test RMSE: 19.219\n",
      "Test SMAPE: 46.761\n",
      "FAIRY_TAIL_zh.wikipedia.org_all-access_spider\n"
     ]
    },
    {
     "name": "stderr",
     "output_type": "stream",
     "text": [
      "INFO:fbprophet:Disabling yearly seasonality. Run prophet with yearly_seasonality=True to override this.\n",
      "INFO:fbprophet:Disabling daily seasonality. Run prophet with daily_seasonality=True to override this.\n"
     ]
    },
    {
     "name": "stdout",
     "output_type": "stream",
     "text": [
      "Test RMSE: 22.299\n",
      "Test SMAPE: 53.095\n",
      "FIESTAR_zh.wikipedia.org_all-access_spider\n"
     ]
    },
    {
     "name": "stderr",
     "output_type": "stream",
     "text": [
      "INFO:fbprophet:Disabling yearly seasonality. Run prophet with yearly_seasonality=True to override this.\n",
      "INFO:fbprophet:Disabling daily seasonality. Run prophet with daily_seasonality=True to override this.\n"
     ]
    },
    {
     "name": "stdout",
     "output_type": "stream",
     "text": [
      "Test RMSE: 8.782\n",
      "Test SMAPE: 59.166\n",
      "FIRST_CLASS_zh.wikipedia.org_all-access_spider\n"
     ]
    },
    {
     "name": "stderr",
     "output_type": "stream",
     "text": [
      "INFO:fbprophet:Disabling yearly seasonality. Run prophet with yearly_seasonality=True to override this.\n",
      "INFO:fbprophet:Disabling daily seasonality. Run prophet with daily_seasonality=True to override this.\n"
     ]
    },
    {
     "name": "stdout",
     "output_type": "stream",
     "text": [
      "Test RMSE: 4.445\n",
      "Test SMAPE: 44.141\n",
      "Facebook_zh.wikipedia.org_all-access_spider\n"
     ]
    },
    {
     "name": "stderr",
     "output_type": "stream",
     "text": [
      "INFO:fbprophet:Disabling yearly seasonality. Run prophet with yearly_seasonality=True to override this.\n",
      "INFO:fbprophet:Disabling daily seasonality. Run prophet with daily_seasonality=True to override this.\n"
     ]
    },
    {
     "name": "stdout",
     "output_type": "stream",
     "text": [
      "Test RMSE: 21.749\n",
      "Test SMAPE: 44.008\n",
      "Fantastic_Duo_zh.wikipedia.org_all-access_spider\n"
     ]
    },
    {
     "name": "stderr",
     "output_type": "stream",
     "text": [
      "INFO:fbprophet:Disabling yearly seasonality. Run prophet with yearly_seasonality=True to override this.\n",
      "INFO:fbprophet:Disabling daily seasonality. Run prophet with daily_seasonality=True to override this.\n"
     ]
    },
    {
     "name": "stdout",
     "output_type": "stream",
     "text": [
      "Test RMSE: 12.510\n",
      "Test SMAPE: 76.820\n",
      "Fate/Grand_Order_zh.wikipedia.org_all-access_spider\n",
      "Test RMSE: 38.293\n",
      "Test SMAPE: 51.180\n"
     ]
    }
   ],
   "source": [
    "metrics_df = pd.DataFrame(columns=['RMSE','SMAPE'])\n",
    "\n",
    "for column in train_1_reduce.columns:\n",
    "    print(column)\n",
    "    df = pd.DataFrame(train_1_reduce[column])\n",
    "    df = df.reset_index()\n",
    "    df.columns = ['ds', 'y']\n",
    "    dftrain = df[0:500]\n",
    "    dftest = df[500:550]\n",
    "    m = Prophet()\n",
    "    m.fit(dftrain)\n",
    "    future = m.make_future_dataframe(periods=50)\n",
    "    future.tail()\n",
    "    forecast = m.predict(future)\n",
    "    forecast[['ds', 'yhat', 'yhat_lower', 'yhat_upper']]\n",
    "    predictions = forecast['yhat'][500:550]\n",
    "    rmse = np.sqrt(mean_squared_error(dftest['y'], predictions))\n",
    "    smape = smape_fast(dftest['y'].values, predictions.values)\n",
    "    print(\"Test RMSE: %.3f\" % rmse)\n",
    "    print(\"Test SMAPE: %.3f\" % smape)\n",
    "    metrics_df.loc[column] = [rmse,smape]"
   ]
  },
  {
   "cell_type": "code",
   "execution_count": 6,
   "metadata": {},
   "outputs": [
    {
     "data": {
      "text/html": [
       "<div>\n",
       "<style scoped>\n",
       "    .dataframe tbody tr th:only-of-type {\n",
       "        vertical-align: middle;\n",
       "    }\n",
       "\n",
       "    .dataframe tbody tr th {\n",
       "        vertical-align: top;\n",
       "    }\n",
       "\n",
       "    .dataframe thead th {\n",
       "        text-align: right;\n",
       "    }\n",
       "</style>\n",
       "<table border=\"1\" class=\"dataframe\">\n",
       "  <thead>\n",
       "    <tr style=\"text-align: right;\">\n",
       "      <th></th>\n",
       "      <th>RMSE</th>\n",
       "      <th>SMAPE</th>\n",
       "    </tr>\n",
       "  </thead>\n",
       "  <tbody>\n",
       "    <tr>\n",
       "      <th>2NE1_zh.wikipedia.org_all-access_spider</th>\n",
       "      <td>29.650920</td>\n",
       "      <td>44.069894</td>\n",
       "    </tr>\n",
       "    <tr>\n",
       "      <th>2PM_zh.wikipedia.org_all-access_spider</th>\n",
       "      <td>85.189853</td>\n",
       "      <td>65.973280</td>\n",
       "    </tr>\n",
       "    <tr>\n",
       "      <th>3C_zh.wikipedia.org_all-access_spider</th>\n",
       "      <td>29.410125</td>\n",
       "      <td>55.640537</td>\n",
       "    </tr>\n",
       "    <tr>\n",
       "      <th>4minute_zh.wikipedia.org_all-access_spider</th>\n",
       "      <td>8.782234</td>\n",
       "      <td>42.136536</td>\n",
       "    </tr>\n",
       "    <tr>\n",
       "      <th>52_Hz_I_Love_You_zh.wikipedia.org_all-access_spider</th>\n",
       "      <td>26.066972</td>\n",
       "      <td>46.243170</td>\n",
       "    </tr>\n",
       "    <tr>\n",
       "      <th>5566_zh.wikipedia.org_all-access_spider</th>\n",
       "      <td>22.874516</td>\n",
       "      <td>51.907413</td>\n",
       "    </tr>\n",
       "    <tr>\n",
       "      <th>91Days_zh.wikipedia.org_all-access_spider</th>\n",
       "      <td>24.412211</td>\n",
       "      <td>117.391997</td>\n",
       "    </tr>\n",
       "    <tr>\n",
       "      <th>A'N'D_zh.wikipedia.org_all-access_spider</th>\n",
       "      <td>51.867851</td>\n",
       "      <td>74.066307</td>\n",
       "    </tr>\n",
       "    <tr>\n",
       "      <th>AKB48_zh.wikipedia.org_all-access_spider</th>\n",
       "      <td>30.012446</td>\n",
       "      <td>37.020266</td>\n",
       "    </tr>\n",
       "    <tr>\n",
       "      <th>ASCII_zh.wikipedia.org_all-access_spider</th>\n",
       "      <td>9.353296</td>\n",
       "      <td>24.207763</td>\n",
       "    </tr>\n",
       "    <tr>\n",
       "      <th>ASTRO_zh.wikipedia.org_all-access_spider</th>\n",
       "      <td>24.079536</td>\n",
       "      <td>63.552345</td>\n",
       "    </tr>\n",
       "    <tr>\n",
       "      <th>Ahq_e-Sports_Club_zh.wikipedia.org_all-access_spider</th>\n",
       "      <td>14.057212</td>\n",
       "      <td>47.867385</td>\n",
       "    </tr>\n",
       "    <tr>\n",
       "      <th>All_your_base_are_belong_to_us_zh.wikipedia.org_all-access_spider</th>\n",
       "      <td>2.774355</td>\n",
       "      <td>54.375337</td>\n",
       "    </tr>\n",
       "    <tr>\n",
       "      <th>AlphaGo_zh.wikipedia.org_all-access_spider</th>\n",
       "      <td>17.197041</td>\n",
       "      <td>241.286638</td>\n",
       "    </tr>\n",
       "    <tr>\n",
       "      <th>Android_zh.wikipedia.org_all-access_spider</th>\n",
       "      <td>19.348448</td>\n",
       "      <td>32.082319</td>\n",
       "    </tr>\n",
       "    <tr>\n",
       "      <th>Angelababy_zh.wikipedia.org_all-access_spider</th>\n",
       "      <td>23.068399</td>\n",
       "      <td>58.759376</td>\n",
       "    </tr>\n",
       "    <tr>\n",
       "      <th>Apink_zh.wikipedia.org_all-access_spider</th>\n",
       "      <td>64.599633</td>\n",
       "      <td>65.286604</td>\n",
       "    </tr>\n",
       "    <tr>\n",
       "      <th>Apple_II_zh.wikipedia.org_all-access_spider</th>\n",
       "      <td>3.990857</td>\n",
       "      <td>36.197867</td>\n",
       "    </tr>\n",
       "    <tr>\n",
       "      <th>As_One_zh.wikipedia.org_all-access_spider</th>\n",
       "      <td>8.184357</td>\n",
       "      <td>51.310288</td>\n",
       "    </tr>\n",
       "    <tr>\n",
       "      <th>B-PROJECT_zh.wikipedia.org_all-access_spider</th>\n",
       "      <td>16.272677</td>\n",
       "      <td>88.565598</td>\n",
       "    </tr>\n",
       "    <tr>\n",
       "      <th>B1A4_zh.wikipedia.org_all-access_spider</th>\n",
       "      <td>53.221120</td>\n",
       "      <td>56.155392</td>\n",
       "    </tr>\n",
       "    <tr>\n",
       "      <th>BDSM_zh.wikipedia.org_all-access_spider</th>\n",
       "      <td>8.807710</td>\n",
       "      <td>32.092537</td>\n",
       "    </tr>\n",
       "    <tr>\n",
       "      <th>BEAST_zh.wikipedia.org_all-access_spider</th>\n",
       "      <td>33.765675</td>\n",
       "      <td>45.767269</td>\n",
       "    </tr>\n",
       "    <tr>\n",
       "      <th>BIGBANG_zh.wikipedia.org_all-access_spider</th>\n",
       "      <td>25.769327</td>\n",
       "      <td>48.747077</td>\n",
       "    </tr>\n",
       "    <tr>\n",
       "      <th>BLACK_PINK_zh.wikipedia.org_all-access_spider</th>\n",
       "      <td>107.105405</td>\n",
       "      <td>66.755551</td>\n",
       "    </tr>\n",
       "    <tr>\n",
       "      <th>BLEACH_zh.wikipedia.org_all-access_spider</th>\n",
       "      <td>14.638424</td>\n",
       "      <td>36.538412</td>\n",
       "    </tr>\n",
       "    <tr>\n",
       "      <th>BTOB_zh.wikipedia.org_all-access_spider</th>\n",
       "      <td>33.546464</td>\n",
       "      <td>52.672821</td>\n",
       "    </tr>\n",
       "    <tr>\n",
       "      <th>Beautiful_Mind_zh.wikipedia.org_all-access_spider</th>\n",
       "      <td>9.579701</td>\n",
       "      <td>90.872422</td>\n",
       "    </tr>\n",
       "    <tr>\n",
       "      <th>Beyond_zh.wikipedia.org_all-access_spider</th>\n",
       "      <td>11.053872</td>\n",
       "      <td>23.453851</td>\n",
       "    </tr>\n",
       "    <tr>\n",
       "      <th>Big_zh.wikipedia.org_all-access_spider</th>\n",
       "      <td>6.636812</td>\n",
       "      <td>38.248924</td>\n",
       "    </tr>\n",
       "    <tr>\n",
       "      <th>Block_B_zh.wikipedia.org_all-access_spider</th>\n",
       "      <td>9.865175</td>\n",
       "      <td>34.980319</td>\n",
       "    </tr>\n",
       "    <tr>\n",
       "      <th>CHAOS;CHILD_zh.wikipedia.org_all-access_spider</th>\n",
       "      <td>8.248607</td>\n",
       "      <td>56.603674</td>\n",
       "    </tr>\n",
       "    <tr>\n",
       "      <th>CHAOS;HEAD_zh.wikipedia.org_all-access_spider</th>\n",
       "      <td>4.756899</td>\n",
       "      <td>34.267261</td>\n",
       "    </tr>\n",
       "    <tr>\n",
       "      <th>CLC_zh.wikipedia.org_all-access_spider</th>\n",
       "      <td>22.887114</td>\n",
       "      <td>74.665589</td>\n",
       "    </tr>\n",
       "    <tr>\n",
       "      <th>CNBLUE_zh.wikipedia.org_all-access_spider</th>\n",
       "      <td>34.704883</td>\n",
       "      <td>59.300380</td>\n",
       "    </tr>\n",
       "    <tr>\n",
       "      <th>DIA_zh.wikipedia.org_all-access_spider</th>\n",
       "      <td>21.655504</td>\n",
       "      <td>62.619732</td>\n",
       "    </tr>\n",
       "    <tr>\n",
       "      <th>Daigo_zh.wikipedia.org_all-access_spider</th>\n",
       "      <td>4.266128</td>\n",
       "      <td>46.704622</td>\n",
       "    </tr>\n",
       "    <tr>\n",
       "      <th>Dear_My_Friends_zh.wikipedia.org_all-access_spider</th>\n",
       "      <td>11.990560</td>\n",
       "      <td>120.290631</td>\n",
       "    </tr>\n",
       "    <tr>\n",
       "      <th>Doctors_zh.wikipedia.org_all-access_spider</th>\n",
       "      <td>46.865956</td>\n",
       "      <td>-2428.946889</td>\n",
       "    </tr>\n",
       "    <tr>\n",
       "      <th>EGOIST_zh.wikipedia.org_all-access_spider</th>\n",
       "      <td>7.750146</td>\n",
       "      <td>56.347479</td>\n",
       "    </tr>\n",
       "    <tr>\n",
       "      <th>EXID_zh.wikipedia.org_all-access_spider</th>\n",
       "      <td>28.052065</td>\n",
       "      <td>65.877667</td>\n",
       "    </tr>\n",
       "    <tr>\n",
       "      <th>EXO_zh.wikipedia.org_all-access_spider</th>\n",
       "      <td>38.626576</td>\n",
       "      <td>45.166724</td>\n",
       "    </tr>\n",
       "    <tr>\n",
       "      <th>Energy_zh.wikipedia.org_all-access_spider</th>\n",
       "      <td>5.027422</td>\n",
       "      <td>46.097653</td>\n",
       "    </tr>\n",
       "    <tr>\n",
       "      <th>Eric_Nam_zh.wikipedia.org_all-access_spider</th>\n",
       "      <td>19.218738</td>\n",
       "      <td>46.760568</td>\n",
       "    </tr>\n",
       "    <tr>\n",
       "      <th>FAIRY_TAIL_zh.wikipedia.org_all-access_spider</th>\n",
       "      <td>22.299300</td>\n",
       "      <td>53.094655</td>\n",
       "    </tr>\n",
       "    <tr>\n",
       "      <th>FIESTAR_zh.wikipedia.org_all-access_spider</th>\n",
       "      <td>8.781506</td>\n",
       "      <td>59.166406</td>\n",
       "    </tr>\n",
       "    <tr>\n",
       "      <th>FIRST_CLASS_zh.wikipedia.org_all-access_spider</th>\n",
       "      <td>4.445232</td>\n",
       "      <td>44.141195</td>\n",
       "    </tr>\n",
       "    <tr>\n",
       "      <th>Facebook_zh.wikipedia.org_all-access_spider</th>\n",
       "      <td>21.749010</td>\n",
       "      <td>44.007867</td>\n",
       "    </tr>\n",
       "    <tr>\n",
       "      <th>Fantastic_Duo_zh.wikipedia.org_all-access_spider</th>\n",
       "      <td>12.509761</td>\n",
       "      <td>76.819618</td>\n",
       "    </tr>\n",
       "    <tr>\n",
       "      <th>Fate/Grand_Order_zh.wikipedia.org_all-access_spider</th>\n",
       "      <td>38.292727</td>\n",
       "      <td>51.179695</td>\n",
       "    </tr>\n",
       "  </tbody>\n",
       "</table>\n",
       "</div>"
      ],
      "text/plain": [
       "                                                          RMSE        SMAPE\n",
       "2NE1_zh.wikipedia.org_all-access_spider              29.650920    44.069894\n",
       "2PM_zh.wikipedia.org_all-access_spider               85.189853    65.973280\n",
       "3C_zh.wikipedia.org_all-access_spider                29.410125    55.640537\n",
       "4minute_zh.wikipedia.org_all-access_spider            8.782234    42.136536\n",
       "52_Hz_I_Love_You_zh.wikipedia.org_all-access_sp...   26.066972    46.243170\n",
       "5566_zh.wikipedia.org_all-access_spider              22.874516    51.907413\n",
       "91Days_zh.wikipedia.org_all-access_spider            24.412211   117.391997\n",
       "A'N'D_zh.wikipedia.org_all-access_spider             51.867851    74.066307\n",
       "AKB48_zh.wikipedia.org_all-access_spider             30.012446    37.020266\n",
       "ASCII_zh.wikipedia.org_all-access_spider              9.353296    24.207763\n",
       "ASTRO_zh.wikipedia.org_all-access_spider             24.079536    63.552345\n",
       "Ahq_e-Sports_Club_zh.wikipedia.org_all-access_s...   14.057212    47.867385\n",
       "All_your_base_are_belong_to_us_zh.wikipedia.org...    2.774355    54.375337\n",
       "AlphaGo_zh.wikipedia.org_all-access_spider           17.197041   241.286638\n",
       "Android_zh.wikipedia.org_all-access_spider           19.348448    32.082319\n",
       "Angelababy_zh.wikipedia.org_all-access_spider        23.068399    58.759376\n",
       "Apink_zh.wikipedia.org_all-access_spider             64.599633    65.286604\n",
       "Apple_II_zh.wikipedia.org_all-access_spider           3.990857    36.197867\n",
       "As_One_zh.wikipedia.org_all-access_spider             8.184357    51.310288\n",
       "B-PROJECT_zh.wikipedia.org_all-access_spider         16.272677    88.565598\n",
       "B1A4_zh.wikipedia.org_all-access_spider              53.221120    56.155392\n",
       "BDSM_zh.wikipedia.org_all-access_spider               8.807710    32.092537\n",
       "BEAST_zh.wikipedia.org_all-access_spider             33.765675    45.767269\n",
       "BIGBANG_zh.wikipedia.org_all-access_spider           25.769327    48.747077\n",
       "BLACK_PINK_zh.wikipedia.org_all-access_spider       107.105405    66.755551\n",
       "BLEACH_zh.wikipedia.org_all-access_spider            14.638424    36.538412\n",
       "BTOB_zh.wikipedia.org_all-access_spider              33.546464    52.672821\n",
       "Beautiful_Mind_zh.wikipedia.org_all-access_spider     9.579701    90.872422\n",
       "Beyond_zh.wikipedia.org_all-access_spider            11.053872    23.453851\n",
       "Big_zh.wikipedia.org_all-access_spider                6.636812    38.248924\n",
       "Block_B_zh.wikipedia.org_all-access_spider            9.865175    34.980319\n",
       "CHAOS;CHILD_zh.wikipedia.org_all-access_spider        8.248607    56.603674\n",
       "CHAOS;HEAD_zh.wikipedia.org_all-access_spider         4.756899    34.267261\n",
       "CLC_zh.wikipedia.org_all-access_spider               22.887114    74.665589\n",
       "CNBLUE_zh.wikipedia.org_all-access_spider            34.704883    59.300380\n",
       "DIA_zh.wikipedia.org_all-access_spider               21.655504    62.619732\n",
       "Daigo_zh.wikipedia.org_all-access_spider              4.266128    46.704622\n",
       "Dear_My_Friends_zh.wikipedia.org_all-access_spider   11.990560   120.290631\n",
       "Doctors_zh.wikipedia.org_all-access_spider           46.865956 -2428.946889\n",
       "EGOIST_zh.wikipedia.org_all-access_spider             7.750146    56.347479\n",
       "EXID_zh.wikipedia.org_all-access_spider              28.052065    65.877667\n",
       "EXO_zh.wikipedia.org_all-access_spider               38.626576    45.166724\n",
       "Energy_zh.wikipedia.org_all-access_spider             5.027422    46.097653\n",
       "Eric_Nam_zh.wikipedia.org_all-access_spider          19.218738    46.760568\n",
       "FAIRY_TAIL_zh.wikipedia.org_all-access_spider        22.299300    53.094655\n",
       "FIESTAR_zh.wikipedia.org_all-access_spider            8.781506    59.166406\n",
       "FIRST_CLASS_zh.wikipedia.org_all-access_spider        4.445232    44.141195\n",
       "Facebook_zh.wikipedia.org_all-access_spider          21.749010    44.007867\n",
       "Fantastic_Duo_zh.wikipedia.org_all-access_spider     12.509761    76.819618\n",
       "Fate/Grand_Order_zh.wikipedia.org_all-access_sp...   38.292727    51.179695"
      ]
     },
     "execution_count": 6,
     "metadata": {},
     "output_type": "execute_result"
    }
   ],
   "source": [
    "metrics_df"
   ]
  },
  {
   "cell_type": "code",
   "execution_count": 7,
   "metadata": {},
   "outputs": [],
   "source": [
    "moyenne_RMSE = metrics_df['RMSE'].mean()\n",
    "somme_RMSE = metrics_df['RMSE'].sum()\n",
    "moyenne_SMAPE = metrics_df['SMAPE'].mean()"
   ]
  },
  {
   "cell_type": "code",
   "execution_count": 8,
   "metadata": {},
   "outputs": [
    {
     "name": "stdout",
     "output_type": "stream",
     "text": [
      "Test moyenne RMSE: 23.746\n",
      "Test somme RMSE: 1187.311\n",
      "Test moyenne SMAPE: 8.768\n"
     ]
    }
   ],
   "source": [
    "print(\"Test moyenne RMSE: %.3f\" % moyenne_RMSE)\n",
    "print(\"Test somme RMSE: %.3f\" % somme_RMSE)\n",
    "print(\"Test moyenne SMAPE: %.3f\" % moyenne_SMAPE)"
   ]
  }
 ],
 "metadata": {
  "kernelspec": {
   "display_name": "Python 3",
   "language": "python",
   "name": "python3"
  },
  "language_info": {
   "codemirror_mode": {
    "name": "ipython",
    "version": 3
   },
   "file_extension": ".py",
   "mimetype": "text/x-python",
   "name": "python",
   "nbconvert_exporter": "python",
   "pygments_lexer": "ipython3",
   "version": "3.8.3"
  }
 },
 "nbformat": 4,
 "nbformat_minor": 4
}
