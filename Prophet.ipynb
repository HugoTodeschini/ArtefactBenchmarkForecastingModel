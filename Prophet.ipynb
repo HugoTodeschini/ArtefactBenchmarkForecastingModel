{
 "cells": [
  {
   "cell_type": "markdown",
   "metadata": {},
   "source": [
    "<h1>Prophet</h1>"
   ]
  },
  {
   "cell_type": "code",
   "execution_count": 2,
   "metadata": {},
   "outputs": [],
   "source": [
    "import numpy as np\n",
    "import pandas as pd\n",
    "import matplotlib.pyplot as plt\n",
    "from fbprophet import Prophet\n",
    "from sklearn.metrics import mean_squared_error\n",
    "from numba import jit\n",
    "import math"
   ]
  },
  {
   "cell_type": "code",
   "execution_count": 3,
   "metadata": {},
   "outputs": [
    {
     "data": {
      "text/html": [
       "<div>\n",
       "<style scoped>\n",
       "    .dataframe tbody tr th:only-of-type {\n",
       "        vertical-align: middle;\n",
       "    }\n",
       "\n",
       "    .dataframe tbody tr th {\n",
       "        vertical-align: top;\n",
       "    }\n",
       "\n",
       "    .dataframe thead th {\n",
       "        text-align: right;\n",
       "    }\n",
       "</style>\n",
       "<table border=\"1\" class=\"dataframe\">\n",
       "  <thead>\n",
       "    <tr style=\"text-align: right;\">\n",
       "      <th></th>\n",
       "      <th>Page</th>\n",
       "      <th>2015-07-01</th>\n",
       "      <th>2015-07-02</th>\n",
       "      <th>2015-07-03</th>\n",
       "      <th>2015-07-04</th>\n",
       "      <th>2015-07-05</th>\n",
       "      <th>2015-07-06</th>\n",
       "      <th>2015-07-07</th>\n",
       "      <th>2015-07-08</th>\n",
       "      <th>2015-07-09</th>\n",
       "      <th>...</th>\n",
       "      <th>2016-12-22</th>\n",
       "      <th>2016-12-23</th>\n",
       "      <th>2016-12-24</th>\n",
       "      <th>2016-12-25</th>\n",
       "      <th>2016-12-26</th>\n",
       "      <th>2016-12-27</th>\n",
       "      <th>2016-12-28</th>\n",
       "      <th>2016-12-29</th>\n",
       "      <th>2016-12-30</th>\n",
       "      <th>2016-12-31</th>\n",
       "    </tr>\n",
       "  </thead>\n",
       "  <tbody>\n",
       "    <tr>\n",
       "      <th>0</th>\n",
       "      <td>2NE1_zh.wikipedia.org_all-access_spider</td>\n",
       "      <td>18.0</td>\n",
       "      <td>11.0</td>\n",
       "      <td>5.0</td>\n",
       "      <td>13.0</td>\n",
       "      <td>14.0</td>\n",
       "      <td>9.0</td>\n",
       "      <td>9.0</td>\n",
       "      <td>22.0</td>\n",
       "      <td>26.0</td>\n",
       "      <td>...</td>\n",
       "      <td>32.0</td>\n",
       "      <td>63.0</td>\n",
       "      <td>15.0</td>\n",
       "      <td>26.0</td>\n",
       "      <td>14.0</td>\n",
       "      <td>20.0</td>\n",
       "      <td>22.0</td>\n",
       "      <td>19.0</td>\n",
       "      <td>18.0</td>\n",
       "      <td>20.0</td>\n",
       "    </tr>\n",
       "    <tr>\n",
       "      <th>1</th>\n",
       "      <td>2PM_zh.wikipedia.org_all-access_spider</td>\n",
       "      <td>11.0</td>\n",
       "      <td>14.0</td>\n",
       "      <td>15.0</td>\n",
       "      <td>18.0</td>\n",
       "      <td>11.0</td>\n",
       "      <td>13.0</td>\n",
       "      <td>22.0</td>\n",
       "      <td>11.0</td>\n",
       "      <td>10.0</td>\n",
       "      <td>...</td>\n",
       "      <td>17.0</td>\n",
       "      <td>42.0</td>\n",
       "      <td>28.0</td>\n",
       "      <td>15.0</td>\n",
       "      <td>9.0</td>\n",
       "      <td>30.0</td>\n",
       "      <td>52.0</td>\n",
       "      <td>45.0</td>\n",
       "      <td>26.0</td>\n",
       "      <td>20.0</td>\n",
       "    </tr>\n",
       "    <tr>\n",
       "      <th>2</th>\n",
       "      <td>3C_zh.wikipedia.org_all-access_spider</td>\n",
       "      <td>1.0</td>\n",
       "      <td>0.0</td>\n",
       "      <td>1.0</td>\n",
       "      <td>1.0</td>\n",
       "      <td>0.0</td>\n",
       "      <td>4.0</td>\n",
       "      <td>0.0</td>\n",
       "      <td>3.0</td>\n",
       "      <td>4.0</td>\n",
       "      <td>...</td>\n",
       "      <td>3.0</td>\n",
       "      <td>1.0</td>\n",
       "      <td>1.0</td>\n",
       "      <td>7.0</td>\n",
       "      <td>4.0</td>\n",
       "      <td>4.0</td>\n",
       "      <td>6.0</td>\n",
       "      <td>3.0</td>\n",
       "      <td>4.0</td>\n",
       "      <td>17.0</td>\n",
       "    </tr>\n",
       "    <tr>\n",
       "      <th>3</th>\n",
       "      <td>4minute_zh.wikipedia.org_all-access_spider</td>\n",
       "      <td>35.0</td>\n",
       "      <td>13.0</td>\n",
       "      <td>10.0</td>\n",
       "      <td>94.0</td>\n",
       "      <td>4.0</td>\n",
       "      <td>26.0</td>\n",
       "      <td>14.0</td>\n",
       "      <td>9.0</td>\n",
       "      <td>11.0</td>\n",
       "      <td>...</td>\n",
       "      <td>32.0</td>\n",
       "      <td>10.0</td>\n",
       "      <td>26.0</td>\n",
       "      <td>27.0</td>\n",
       "      <td>16.0</td>\n",
       "      <td>11.0</td>\n",
       "      <td>17.0</td>\n",
       "      <td>19.0</td>\n",
       "      <td>10.0</td>\n",
       "      <td>11.0</td>\n",
       "    </tr>\n",
       "    <tr>\n",
       "      <th>4</th>\n",
       "      <td>52_Hz_I_Love_You_zh.wikipedia.org_all-access_s...</td>\n",
       "      <td>NaN</td>\n",
       "      <td>NaN</td>\n",
       "      <td>NaN</td>\n",
       "      <td>NaN</td>\n",
       "      <td>NaN</td>\n",
       "      <td>NaN</td>\n",
       "      <td>NaN</td>\n",
       "      <td>NaN</td>\n",
       "      <td>NaN</td>\n",
       "      <td>...</td>\n",
       "      <td>48.0</td>\n",
       "      <td>9.0</td>\n",
       "      <td>25.0</td>\n",
       "      <td>13.0</td>\n",
       "      <td>3.0</td>\n",
       "      <td>11.0</td>\n",
       "      <td>27.0</td>\n",
       "      <td>13.0</td>\n",
       "      <td>36.0</td>\n",
       "      <td>10.0</td>\n",
       "    </tr>\n",
       "  </tbody>\n",
       "</table>\n",
       "<p>5 rows × 551 columns</p>\n",
       "</div>"
      ],
      "text/plain": [
       "                                                Page  2015-07-01  2015-07-02  \\\n",
       "0            2NE1_zh.wikipedia.org_all-access_spider        18.0        11.0   \n",
       "1             2PM_zh.wikipedia.org_all-access_spider        11.0        14.0   \n",
       "2              3C_zh.wikipedia.org_all-access_spider         1.0         0.0   \n",
       "3         4minute_zh.wikipedia.org_all-access_spider        35.0        13.0   \n",
       "4  52_Hz_I_Love_You_zh.wikipedia.org_all-access_s...         NaN         NaN   \n",
       "\n",
       "   2015-07-03  2015-07-04  2015-07-05  2015-07-06  2015-07-07  2015-07-08  \\\n",
       "0         5.0        13.0        14.0         9.0         9.0        22.0   \n",
       "1        15.0        18.0        11.0        13.0        22.0        11.0   \n",
       "2         1.0         1.0         0.0         4.0         0.0         3.0   \n",
       "3        10.0        94.0         4.0        26.0        14.0         9.0   \n",
       "4         NaN         NaN         NaN         NaN         NaN         NaN   \n",
       "\n",
       "   2015-07-09  ...  2016-12-22  2016-12-23  2016-12-24  2016-12-25  \\\n",
       "0        26.0  ...        32.0        63.0        15.0        26.0   \n",
       "1        10.0  ...        17.0        42.0        28.0        15.0   \n",
       "2         4.0  ...         3.0         1.0         1.0         7.0   \n",
       "3        11.0  ...        32.0        10.0        26.0        27.0   \n",
       "4         NaN  ...        48.0         9.0        25.0        13.0   \n",
       "\n",
       "   2016-12-26  2016-12-27  2016-12-28  2016-12-29  2016-12-30  2016-12-31  \n",
       "0        14.0        20.0        22.0        19.0        18.0        20.0  \n",
       "1         9.0        30.0        52.0        45.0        26.0        20.0  \n",
       "2         4.0         4.0         6.0         3.0         4.0        17.0  \n",
       "3        16.0        11.0        17.0        19.0        10.0        11.0  \n",
       "4         3.0        11.0        27.0        13.0        36.0        10.0  \n",
       "\n",
       "[5 rows x 551 columns]"
      ]
     },
     "execution_count": 3,
     "metadata": {},
     "output_type": "execute_result"
    }
   ],
   "source": [
    "train_1 = pd.read_csv('../Data/train_1.csv')\n",
    "train_1.head()"
   ]
  },
  {
   "cell_type": "code",
   "execution_count": 4,
   "metadata": {},
   "outputs": [
    {
     "data": {
      "text/html": [
       "<div>\n",
       "<style scoped>\n",
       "    .dataframe tbody tr th:only-of-type {\n",
       "        vertical-align: middle;\n",
       "    }\n",
       "\n",
       "    .dataframe tbody tr th {\n",
       "        vertical-align: top;\n",
       "    }\n",
       "\n",
       "    .dataframe thead th {\n",
       "        text-align: right;\n",
       "    }\n",
       "</style>\n",
       "<table border=\"1\" class=\"dataframe\">\n",
       "  <thead>\n",
       "    <tr style=\"text-align: right;\">\n",
       "      <th>Page</th>\n",
       "      <th>2NE1_zh.wikipedia.org_all-access_spider</th>\n",
       "      <th>2PM_zh.wikipedia.org_all-access_spider</th>\n",
       "      <th>3C_zh.wikipedia.org_all-access_spider</th>\n",
       "      <th>4minute_zh.wikipedia.org_all-access_spider</th>\n",
       "      <th>52_Hz_I_Love_You_zh.wikipedia.org_all-access_spider</th>\n",
       "      <th>5566_zh.wikipedia.org_all-access_spider</th>\n",
       "      <th>91Days_zh.wikipedia.org_all-access_spider</th>\n",
       "      <th>A'N'D_zh.wikipedia.org_all-access_spider</th>\n",
       "      <th>AKB48_zh.wikipedia.org_all-access_spider</th>\n",
       "      <th>ASCII_zh.wikipedia.org_all-access_spider</th>\n",
       "      <th>...</th>\n",
       "      <th>Lovelyz_zh.wikipedia.org_all-access_spider</th>\n",
       "      <th>Lulu_zh.wikipedia.org_all-access_spider</th>\n",
       "      <th>MADTOWN_zh.wikipedia.org_all-access_spider</th>\n",
       "      <th>MAMAMOO_zh.wikipedia.org_all-access_spider</th>\n",
       "      <th>MONSTA_X_zh.wikipedia.org_all-access_spider</th>\n",
       "      <th>Madame_Antoine_zh.wikipedia.org_all-access_spider</th>\n",
       "      <th>Mamamoo_zh.wikipedia.org_all-access_spider</th>\n",
       "      <th>Mike_D._Angelo_zh.wikipedia.org_all-access_spider</th>\n",
       "      <th>Miss_A_zh.wikipedia.org_all-access_spider</th>\n",
       "      <th>Missing9_zh.wikipedia.org_all-access_spider</th>\n",
       "    </tr>\n",
       "    <tr>\n",
       "      <th>Dates</th>\n",
       "      <th></th>\n",
       "      <th></th>\n",
       "      <th></th>\n",
       "      <th></th>\n",
       "      <th></th>\n",
       "      <th></th>\n",
       "      <th></th>\n",
       "      <th></th>\n",
       "      <th></th>\n",
       "      <th></th>\n",
       "      <th></th>\n",
       "      <th></th>\n",
       "      <th></th>\n",
       "      <th></th>\n",
       "      <th></th>\n",
       "      <th></th>\n",
       "      <th></th>\n",
       "      <th></th>\n",
       "      <th></th>\n",
       "      <th></th>\n",
       "      <th></th>\n",
       "    </tr>\n",
       "  </thead>\n",
       "  <tbody>\n",
       "    <tr>\n",
       "      <th>2015-07-01</th>\n",
       "      <td>18.0</td>\n",
       "      <td>11.0</td>\n",
       "      <td>1.0</td>\n",
       "      <td>35.0</td>\n",
       "      <td>0.0</td>\n",
       "      <td>12.0</td>\n",
       "      <td>0.0</td>\n",
       "      <td>118.0</td>\n",
       "      <td>5.0</td>\n",
       "      <td>6.0</td>\n",
       "      <td>...</td>\n",
       "      <td>2.0</td>\n",
       "      <td>0.0</td>\n",
       "      <td>0.0</td>\n",
       "      <td>8.0</td>\n",
       "      <td>0.0</td>\n",
       "      <td>0.0</td>\n",
       "      <td>0.0</td>\n",
       "      <td>0.0</td>\n",
       "      <td>3.0</td>\n",
       "      <td>0.0</td>\n",
       "    </tr>\n",
       "    <tr>\n",
       "      <th>2015-07-02</th>\n",
       "      <td>11.0</td>\n",
       "      <td>14.0</td>\n",
       "      <td>0.0</td>\n",
       "      <td>13.0</td>\n",
       "      <td>0.0</td>\n",
       "      <td>7.0</td>\n",
       "      <td>0.0</td>\n",
       "      <td>26.0</td>\n",
       "      <td>23.0</td>\n",
       "      <td>3.0</td>\n",
       "      <td>...</td>\n",
       "      <td>6.0</td>\n",
       "      <td>0.0</td>\n",
       "      <td>0.0</td>\n",
       "      <td>7.0</td>\n",
       "      <td>0.0</td>\n",
       "      <td>0.0</td>\n",
       "      <td>0.0</td>\n",
       "      <td>0.0</td>\n",
       "      <td>9.0</td>\n",
       "      <td>0.0</td>\n",
       "    </tr>\n",
       "    <tr>\n",
       "      <th>2015-07-03</th>\n",
       "      <td>5.0</td>\n",
       "      <td>15.0</td>\n",
       "      <td>1.0</td>\n",
       "      <td>10.0</td>\n",
       "      <td>0.0</td>\n",
       "      <td>4.0</td>\n",
       "      <td>0.0</td>\n",
       "      <td>30.0</td>\n",
       "      <td>14.0</td>\n",
       "      <td>5.0</td>\n",
       "      <td>...</td>\n",
       "      <td>5.0</td>\n",
       "      <td>0.0</td>\n",
       "      <td>1.0</td>\n",
       "      <td>17.0</td>\n",
       "      <td>0.0</td>\n",
       "      <td>0.0</td>\n",
       "      <td>0.0</td>\n",
       "      <td>0.0</td>\n",
       "      <td>12.0</td>\n",
       "      <td>0.0</td>\n",
       "    </tr>\n",
       "    <tr>\n",
       "      <th>2015-07-04</th>\n",
       "      <td>13.0</td>\n",
       "      <td>18.0</td>\n",
       "      <td>1.0</td>\n",
       "      <td>94.0</td>\n",
       "      <td>0.0</td>\n",
       "      <td>5.0</td>\n",
       "      <td>0.0</td>\n",
       "      <td>24.0</td>\n",
       "      <td>12.0</td>\n",
       "      <td>12.0</td>\n",
       "      <td>...</td>\n",
       "      <td>21.0</td>\n",
       "      <td>0.0</td>\n",
       "      <td>0.0</td>\n",
       "      <td>11.0</td>\n",
       "      <td>0.0</td>\n",
       "      <td>0.0</td>\n",
       "      <td>0.0</td>\n",
       "      <td>0.0</td>\n",
       "      <td>14.0</td>\n",
       "      <td>0.0</td>\n",
       "    </tr>\n",
       "    <tr>\n",
       "      <th>2015-07-05</th>\n",
       "      <td>14.0</td>\n",
       "      <td>11.0</td>\n",
       "      <td>0.0</td>\n",
       "      <td>4.0</td>\n",
       "      <td>0.0</td>\n",
       "      <td>20.0</td>\n",
       "      <td>0.0</td>\n",
       "      <td>29.0</td>\n",
       "      <td>9.0</td>\n",
       "      <td>6.0</td>\n",
       "      <td>...</td>\n",
       "      <td>4.0</td>\n",
       "      <td>0.0</td>\n",
       "      <td>0.0</td>\n",
       "      <td>8.0</td>\n",
       "      <td>0.0</td>\n",
       "      <td>0.0</td>\n",
       "      <td>0.0</td>\n",
       "      <td>0.0</td>\n",
       "      <td>6.0</td>\n",
       "      <td>0.0</td>\n",
       "    </tr>\n",
       "  </tbody>\n",
       "</table>\n",
       "<p>5 rows × 100 columns</p>\n",
       "</div>"
      ],
      "text/plain": [
       "Page        2NE1_zh.wikipedia.org_all-access_spider  \\\n",
       "Dates                                                 \n",
       "2015-07-01                                     18.0   \n",
       "2015-07-02                                     11.0   \n",
       "2015-07-03                                      5.0   \n",
       "2015-07-04                                     13.0   \n",
       "2015-07-05                                     14.0   \n",
       "\n",
       "Page        2PM_zh.wikipedia.org_all-access_spider  \\\n",
       "Dates                                                \n",
       "2015-07-01                                    11.0   \n",
       "2015-07-02                                    14.0   \n",
       "2015-07-03                                    15.0   \n",
       "2015-07-04                                    18.0   \n",
       "2015-07-05                                    11.0   \n",
       "\n",
       "Page        3C_zh.wikipedia.org_all-access_spider  \\\n",
       "Dates                                               \n",
       "2015-07-01                                    1.0   \n",
       "2015-07-02                                    0.0   \n",
       "2015-07-03                                    1.0   \n",
       "2015-07-04                                    1.0   \n",
       "2015-07-05                                    0.0   \n",
       "\n",
       "Page        4minute_zh.wikipedia.org_all-access_spider  \\\n",
       "Dates                                                    \n",
       "2015-07-01                                        35.0   \n",
       "2015-07-02                                        13.0   \n",
       "2015-07-03                                        10.0   \n",
       "2015-07-04                                        94.0   \n",
       "2015-07-05                                         4.0   \n",
       "\n",
       "Page        52_Hz_I_Love_You_zh.wikipedia.org_all-access_spider  \\\n",
       "Dates                                                             \n",
       "2015-07-01                                                0.0     \n",
       "2015-07-02                                                0.0     \n",
       "2015-07-03                                                0.0     \n",
       "2015-07-04                                                0.0     \n",
       "2015-07-05                                                0.0     \n",
       "\n",
       "Page        5566_zh.wikipedia.org_all-access_spider  \\\n",
       "Dates                                                 \n",
       "2015-07-01                                     12.0   \n",
       "2015-07-02                                      7.0   \n",
       "2015-07-03                                      4.0   \n",
       "2015-07-04                                      5.0   \n",
       "2015-07-05                                     20.0   \n",
       "\n",
       "Page        91Days_zh.wikipedia.org_all-access_spider  \\\n",
       "Dates                                                   \n",
       "2015-07-01                                        0.0   \n",
       "2015-07-02                                        0.0   \n",
       "2015-07-03                                        0.0   \n",
       "2015-07-04                                        0.0   \n",
       "2015-07-05                                        0.0   \n",
       "\n",
       "Page        A'N'D_zh.wikipedia.org_all-access_spider  \\\n",
       "Dates                                                  \n",
       "2015-07-01                                     118.0   \n",
       "2015-07-02                                      26.0   \n",
       "2015-07-03                                      30.0   \n",
       "2015-07-04                                      24.0   \n",
       "2015-07-05                                      29.0   \n",
       "\n",
       "Page        AKB48_zh.wikipedia.org_all-access_spider  \\\n",
       "Dates                                                  \n",
       "2015-07-01                                       5.0   \n",
       "2015-07-02                                      23.0   \n",
       "2015-07-03                                      14.0   \n",
       "2015-07-04                                      12.0   \n",
       "2015-07-05                                       9.0   \n",
       "\n",
       "Page        ASCII_zh.wikipedia.org_all-access_spider  ...  \\\n",
       "Dates                                                 ...   \n",
       "2015-07-01                                       6.0  ...   \n",
       "2015-07-02                                       3.0  ...   \n",
       "2015-07-03                                       5.0  ...   \n",
       "2015-07-04                                      12.0  ...   \n",
       "2015-07-05                                       6.0  ...   \n",
       "\n",
       "Page        Lovelyz_zh.wikipedia.org_all-access_spider  \\\n",
       "Dates                                                    \n",
       "2015-07-01                                         2.0   \n",
       "2015-07-02                                         6.0   \n",
       "2015-07-03                                         5.0   \n",
       "2015-07-04                                        21.0   \n",
       "2015-07-05                                         4.0   \n",
       "\n",
       "Page        Lulu_zh.wikipedia.org_all-access_spider  \\\n",
       "Dates                                                 \n",
       "2015-07-01                                      0.0   \n",
       "2015-07-02                                      0.0   \n",
       "2015-07-03                                      0.0   \n",
       "2015-07-04                                      0.0   \n",
       "2015-07-05                                      0.0   \n",
       "\n",
       "Page        MADTOWN_zh.wikipedia.org_all-access_spider  \\\n",
       "Dates                                                    \n",
       "2015-07-01                                         0.0   \n",
       "2015-07-02                                         0.0   \n",
       "2015-07-03                                         1.0   \n",
       "2015-07-04                                         0.0   \n",
       "2015-07-05                                         0.0   \n",
       "\n",
       "Page        MAMAMOO_zh.wikipedia.org_all-access_spider  \\\n",
       "Dates                                                    \n",
       "2015-07-01                                         8.0   \n",
       "2015-07-02                                         7.0   \n",
       "2015-07-03                                        17.0   \n",
       "2015-07-04                                        11.0   \n",
       "2015-07-05                                         8.0   \n",
       "\n",
       "Page        MONSTA_X_zh.wikipedia.org_all-access_spider  \\\n",
       "Dates                                                     \n",
       "2015-07-01                                          0.0   \n",
       "2015-07-02                                          0.0   \n",
       "2015-07-03                                          0.0   \n",
       "2015-07-04                                          0.0   \n",
       "2015-07-05                                          0.0   \n",
       "\n",
       "Page        Madame_Antoine_zh.wikipedia.org_all-access_spider  \\\n",
       "Dates                                                           \n",
       "2015-07-01                                                0.0   \n",
       "2015-07-02                                                0.0   \n",
       "2015-07-03                                                0.0   \n",
       "2015-07-04                                                0.0   \n",
       "2015-07-05                                                0.0   \n",
       "\n",
       "Page        Mamamoo_zh.wikipedia.org_all-access_spider  \\\n",
       "Dates                                                    \n",
       "2015-07-01                                         0.0   \n",
       "2015-07-02                                         0.0   \n",
       "2015-07-03                                         0.0   \n",
       "2015-07-04                                         0.0   \n",
       "2015-07-05                                         0.0   \n",
       "\n",
       "Page        Mike_D._Angelo_zh.wikipedia.org_all-access_spider  \\\n",
       "Dates                                                           \n",
       "2015-07-01                                                0.0   \n",
       "2015-07-02                                                0.0   \n",
       "2015-07-03                                                0.0   \n",
       "2015-07-04                                                0.0   \n",
       "2015-07-05                                                0.0   \n",
       "\n",
       "Page        Miss_A_zh.wikipedia.org_all-access_spider  \\\n",
       "Dates                                                   \n",
       "2015-07-01                                        3.0   \n",
       "2015-07-02                                        9.0   \n",
       "2015-07-03                                       12.0   \n",
       "2015-07-04                                       14.0   \n",
       "2015-07-05                                        6.0   \n",
       "\n",
       "Page        Missing9_zh.wikipedia.org_all-access_spider  \n",
       "Dates                                                    \n",
       "2015-07-01                                          0.0  \n",
       "2015-07-02                                          0.0  \n",
       "2015-07-03                                          0.0  \n",
       "2015-07-04                                          0.0  \n",
       "2015-07-05                                          0.0  \n",
       "\n",
       "[5 rows x 100 columns]"
      ]
     },
     "execution_count": 4,
     "metadata": {},
     "output_type": "execute_result"
    }
   ],
   "source": [
    "train_1_reduce = train_1[0:100]\n",
    "train_1_reduce = train_1_reduce.fillna(0)\n",
    "train_1_reduce = train_1_reduce.set_index('Page')\n",
    "train_1_reduce = train_1_reduce.T.rename_axis('Dates')\n",
    "train_1_reduce.head()"
   ]
  },
  {
   "cell_type": "code",
   "execution_count": 5,
   "metadata": {},
   "outputs": [],
   "source": [
    "def smape_fast(y_true, y_pred):\n",
    "    out = 0\n",
    "    for i in range(y_true.shape[0]):\n",
    "        a = y_true[i]\n",
    "        b = y_pred[i]\n",
    "        c = a+b\n",
    "        if c == 0:\n",
    "            continue\n",
    "        out += math.fabs(a - b) / c\n",
    "    out *= (200.0 / y_true.shape[0])\n",
    "    return out"
   ]
  },
  {
   "cell_type": "code",
   "execution_count": 6,
   "metadata": {},
   "outputs": [
    {
     "name": "stdout",
     "output_type": "stream",
     "text": [
      "2NE1_zh.wikipedia.org_all-access_spider\n"
     ]
    },
    {
     "name": "stderr",
     "output_type": "stream",
     "text": [
      "INFO:numexpr.utils:NumExpr defaulting to 8 threads.\n",
      "INFO:fbprophet:Disabling yearly seasonality. Run prophet with yearly_seasonality=True to override this.\n",
      "INFO:fbprophet:Disabling daily seasonality. Run prophet with daily_seasonality=True to override this.\n",
      "INFO:fbprophet:Disabling yearly seasonality. Run prophet with yearly_seasonality=True to override this.\n",
      "INFO:fbprophet:Disabling daily seasonality. Run prophet with daily_seasonality=True to override this.\n"
     ]
    },
    {
     "name": "stdout",
     "output_type": "stream",
     "text": [
      "Test RMSE: 29.651\n",
      "Test SMAPE: 44.070\n",
      "Test MAPE: 0.504\n",
      "2PM_zh.wikipedia.org_all-access_spider\n"
     ]
    },
    {
     "name": "stderr",
     "output_type": "stream",
     "text": [
      "INFO:fbprophet:Disabling yearly seasonality. Run prophet with yearly_seasonality=True to override this.\n",
      "INFO:fbprophet:Disabling daily seasonality. Run prophet with daily_seasonality=True to override this.\n"
     ]
    },
    {
     "name": "stdout",
     "output_type": "stream",
     "text": [
      "Test RMSE: 85.190\n",
      "Test SMAPE: 65.973\n",
      "Test MAPE: 1.054\n",
      "3C_zh.wikipedia.org_all-access_spider\n"
     ]
    },
    {
     "name": "stderr",
     "output_type": "stream",
     "text": [
      "<ipython-input-6-6ff66b60195e>:19: RuntimeWarning: divide by zero encountered in true_divide\n",
      "  mape = np.mean(np.abs(predictions.values - dftest['y'].values)/np.abs(dftest['y'].values))\n",
      "INFO:fbprophet:Disabling yearly seasonality. Run prophet with yearly_seasonality=True to override this.\n",
      "INFO:fbprophet:Disabling daily seasonality. Run prophet with daily_seasonality=True to override this.\n"
     ]
    },
    {
     "name": "stdout",
     "output_type": "stream",
     "text": [
      "Test RMSE: 29.410\n",
      "Test SMAPE: 55.641\n",
      "Test MAPE: inf\n",
      "4minute_zh.wikipedia.org_all-access_spider\n"
     ]
    },
    {
     "name": "stderr",
     "output_type": "stream",
     "text": [
      "INFO:fbprophet:Disabling yearly seasonality. Run prophet with yearly_seasonality=True to override this.\n",
      "INFO:fbprophet:Disabling daily seasonality. Run prophet with daily_seasonality=True to override this.\n"
     ]
    },
    {
     "name": "stdout",
     "output_type": "stream",
     "text": [
      "Test RMSE: 8.782\n",
      "Test SMAPE: 42.137\n",
      "Test MAPE: 0.552\n",
      "52_Hz_I_Love_You_zh.wikipedia.org_all-access_spider\n"
     ]
    },
    {
     "name": "stderr",
     "output_type": "stream",
     "text": [
      "INFO:fbprophet:Disabling yearly seasonality. Run prophet with yearly_seasonality=True to override this.\n",
      "INFO:fbprophet:Disabling daily seasonality. Run prophet with daily_seasonality=True to override this.\n"
     ]
    },
    {
     "name": "stdout",
     "output_type": "stream",
     "text": [
      "Test RMSE: 26.067\n",
      "Test SMAPE: 46.243\n",
      "Test MAPE: 0.528\n",
      "5566_zh.wikipedia.org_all-access_spider\n"
     ]
    },
    {
     "name": "stderr",
     "output_type": "stream",
     "text": [
      "INFO:fbprophet:Disabling yearly seasonality. Run prophet with yearly_seasonality=True to override this.\n",
      "INFO:fbprophet:Disabling daily seasonality. Run prophet with daily_seasonality=True to override this.\n"
     ]
    },
    {
     "name": "stdout",
     "output_type": "stream",
     "text": [
      "Test RMSE: 22.875\n",
      "Test SMAPE: 51.907\n",
      "Test MAPE: 0.770\n",
      "91Days_zh.wikipedia.org_all-access_spider\n"
     ]
    },
    {
     "name": "stderr",
     "output_type": "stream",
     "text": [
      "INFO:fbprophet:Disabling yearly seasonality. Run prophet with yearly_seasonality=True to override this.\n",
      "INFO:fbprophet:Disabling daily seasonality. Run prophet with daily_seasonality=True to override this.\n"
     ]
    },
    {
     "name": "stdout",
     "output_type": "stream",
     "text": [
      "Test RMSE: 24.412\n",
      "Test SMAPE: 117.392\n",
      "Test MAPE: 4.241\n",
      "A'N'D_zh.wikipedia.org_all-access_spider\n"
     ]
    },
    {
     "name": "stderr",
     "output_type": "stream",
     "text": [
      "INFO:fbprophet:Disabling yearly seasonality. Run prophet with yearly_seasonality=True to override this.\n",
      "INFO:fbprophet:Disabling daily seasonality. Run prophet with daily_seasonality=True to override this.\n"
     ]
    },
    {
     "name": "stdout",
     "output_type": "stream",
     "text": [
      "Test RMSE: 51.868\n",
      "Test SMAPE: 74.066\n",
      "Test MAPE: 1.580\n",
      "AKB48_zh.wikipedia.org_all-access_spider\n"
     ]
    },
    {
     "name": "stderr",
     "output_type": "stream",
     "text": [
      "INFO:fbprophet:Disabling yearly seasonality. Run prophet with yearly_seasonality=True to override this.\n",
      "INFO:fbprophet:Disabling daily seasonality. Run prophet with daily_seasonality=True to override this.\n"
     ]
    },
    {
     "name": "stdout",
     "output_type": "stream",
     "text": [
      "Test RMSE: 30.012\n",
      "Test SMAPE: 37.020\n",
      "Test MAPE: 0.312\n",
      "ASCII_zh.wikipedia.org_all-access_spider\n"
     ]
    },
    {
     "name": "stderr",
     "output_type": "stream",
     "text": [
      "INFO:fbprophet:Disabling yearly seasonality. Run prophet with yearly_seasonality=True to override this.\n",
      "INFO:fbprophet:Disabling daily seasonality. Run prophet with daily_seasonality=True to override this.\n"
     ]
    },
    {
     "name": "stdout",
     "output_type": "stream",
     "text": [
      "Test RMSE: 9.353\n",
      "Test SMAPE: 24.208\n",
      "Test MAPE: 0.244\n",
      "ASTRO_zh.wikipedia.org_all-access_spider\n"
     ]
    },
    {
     "name": "stderr",
     "output_type": "stream",
     "text": [
      "INFO:fbprophet:Disabling yearly seasonality. Run prophet with yearly_seasonality=True to override this.\n",
      "INFO:fbprophet:Disabling daily seasonality. Run prophet with daily_seasonality=True to override this.\n"
     ]
    },
    {
     "name": "stdout",
     "output_type": "stream",
     "text": [
      "Test RMSE: 24.080\n",
      "Test SMAPE: 63.552\n",
      "Test MAPE: 1.137\n",
      "Ahq_e-Sports_Club_zh.wikipedia.org_all-access_spider\n"
     ]
    },
    {
     "name": "stderr",
     "output_type": "stream",
     "text": [
      "INFO:fbprophet:Disabling yearly seasonality. Run prophet with yearly_seasonality=True to override this.\n",
      "INFO:fbprophet:Disabling daily seasonality. Run prophet with daily_seasonality=True to override this.\n"
     ]
    },
    {
     "name": "stdout",
     "output_type": "stream",
     "text": [
      "Test RMSE: 14.057\n",
      "Test SMAPE: 47.867\n",
      "Test MAPE: 0.548\n",
      "All_your_base_are_belong_to_us_zh.wikipedia.org_all-access_spider\n"
     ]
    },
    {
     "name": "stderr",
     "output_type": "stream",
     "text": [
      "<ipython-input-6-6ff66b60195e>:19: RuntimeWarning: divide by zero encountered in true_divide\n",
      "  mape = np.mean(np.abs(predictions.values - dftest['y'].values)/np.abs(dftest['y'].values))\n",
      "INFO:fbprophet:Disabling yearly seasonality. Run prophet with yearly_seasonality=True to override this.\n",
      "INFO:fbprophet:Disabling daily seasonality. Run prophet with daily_seasonality=True to override this.\n"
     ]
    },
    {
     "name": "stdout",
     "output_type": "stream",
     "text": [
      "Test RMSE: 2.774\n",
      "Test SMAPE: 54.375\n",
      "Test MAPE: inf\n",
      "AlphaGo_zh.wikipedia.org_all-access_spider\n"
     ]
    },
    {
     "name": "stderr",
     "output_type": "stream",
     "text": [
      "INFO:fbprophet:Disabling yearly seasonality. Run prophet with yearly_seasonality=True to override this.\n",
      "INFO:fbprophet:Disabling daily seasonality. Run prophet with daily_seasonality=True to override this.\n"
     ]
    },
    {
     "name": "stdout",
     "output_type": "stream",
     "text": [
      "Test RMSE: 17.197\n",
      "Test SMAPE: 241.287\n",
      "Test MAPE: 1.026\n",
      "Android_zh.wikipedia.org_all-access_spider\n"
     ]
    },
    {
     "name": "stderr",
     "output_type": "stream",
     "text": [
      "INFO:fbprophet:Disabling yearly seasonality. Run prophet with yearly_seasonality=True to override this.\n",
      "INFO:fbprophet:Disabling daily seasonality. Run prophet with daily_seasonality=True to override this.\n"
     ]
    },
    {
     "name": "stdout",
     "output_type": "stream",
     "text": [
      "Test RMSE: 19.348\n",
      "Test SMAPE: 32.082\n",
      "Test MAPE: 0.287\n",
      "Angelababy_zh.wikipedia.org_all-access_spider\n"
     ]
    },
    {
     "name": "stderr",
     "output_type": "stream",
     "text": [
      "INFO:fbprophet:Disabling yearly seasonality. Run prophet with yearly_seasonality=True to override this.\n",
      "INFO:fbprophet:Disabling daily seasonality. Run prophet with daily_seasonality=True to override this.\n"
     ]
    },
    {
     "name": "stdout",
     "output_type": "stream",
     "text": [
      "Test RMSE: 23.068\n",
      "Test SMAPE: 58.759\n",
      "Test MAPE: 0.955\n",
      "Apink_zh.wikipedia.org_all-access_spider\n"
     ]
    },
    {
     "name": "stderr",
     "output_type": "stream",
     "text": [
      "INFO:fbprophet:Disabling yearly seasonality. Run prophet with yearly_seasonality=True to override this.\n",
      "INFO:fbprophet:Disabling daily seasonality. Run prophet with daily_seasonality=True to override this.\n"
     ]
    },
    {
     "name": "stdout",
     "output_type": "stream",
     "text": [
      "Test RMSE: 64.600\n",
      "Test SMAPE: 65.287\n",
      "Test MAPE: 0.844\n",
      "Apple_II_zh.wikipedia.org_all-access_spider\n"
     ]
    },
    {
     "name": "stderr",
     "output_type": "stream",
     "text": [
      "INFO:fbprophet:Disabling yearly seasonality. Run prophet with yearly_seasonality=True to override this.\n",
      "INFO:fbprophet:Disabling daily seasonality. Run prophet with daily_seasonality=True to override this.\n"
     ]
    },
    {
     "name": "stdout",
     "output_type": "stream",
     "text": [
      "Test RMSE: 3.991\n",
      "Test SMAPE: 36.198\n",
      "Test MAPE: 0.677\n",
      "As_One_zh.wikipedia.org_all-access_spider\n"
     ]
    },
    {
     "name": "stderr",
     "output_type": "stream",
     "text": [
      "INFO:fbprophet:Disabling yearly seasonality. Run prophet with yearly_seasonality=True to override this.\n",
      "INFO:fbprophet:Disabling daily seasonality. Run prophet with daily_seasonality=True to override this.\n"
     ]
    },
    {
     "name": "stdout",
     "output_type": "stream",
     "text": [
      "Test RMSE: 8.184\n",
      "Test SMAPE: 51.310\n",
      "Test MAPE: 0.575\n",
      "B-PROJECT_zh.wikipedia.org_all-access_spider\n"
     ]
    },
    {
     "name": "stderr",
     "output_type": "stream",
     "text": [
      "INFO:fbprophet:Disabling yearly seasonality. Run prophet with yearly_seasonality=True to override this.\n",
      "INFO:fbprophet:Disabling daily seasonality. Run prophet with daily_seasonality=True to override this.\n"
     ]
    },
    {
     "name": "stdout",
     "output_type": "stream",
     "text": [
      "Test RMSE: 16.273\n",
      "Test SMAPE: 88.566\n",
      "Test MAPE: 2.310\n",
      "B1A4_zh.wikipedia.org_all-access_spider\n"
     ]
    },
    {
     "name": "stderr",
     "output_type": "stream",
     "text": [
      "INFO:fbprophet:Disabling yearly seasonality. Run prophet with yearly_seasonality=True to override this.\n",
      "INFO:fbprophet:Disabling daily seasonality. Run prophet with daily_seasonality=True to override this.\n"
     ]
    },
    {
     "name": "stdout",
     "output_type": "stream",
     "text": [
      "Test RMSE: 53.221\n",
      "Test SMAPE: 56.155\n",
      "Test MAPE: 0.503\n",
      "BDSM_zh.wikipedia.org_all-access_spider\n"
     ]
    },
    {
     "name": "stderr",
     "output_type": "stream",
     "text": [
      "INFO:fbprophet:Disabling yearly seasonality. Run prophet with yearly_seasonality=True to override this.\n",
      "INFO:fbprophet:Disabling daily seasonality. Run prophet with daily_seasonality=True to override this.\n"
     ]
    },
    {
     "name": "stdout",
     "output_type": "stream",
     "text": [
      "Test RMSE: 8.808\n",
      "Test SMAPE: 32.093\n",
      "Test MAPE: 0.383\n",
      "BEAST_zh.wikipedia.org_all-access_spider\n"
     ]
    },
    {
     "name": "stderr",
     "output_type": "stream",
     "text": [
      "INFO:fbprophet:Disabling yearly seasonality. Run prophet with yearly_seasonality=True to override this.\n",
      "INFO:fbprophet:Disabling daily seasonality. Run prophet with daily_seasonality=True to override this.\n"
     ]
    },
    {
     "name": "stdout",
     "output_type": "stream",
     "text": [
      "Test RMSE: 33.766\n",
      "Test SMAPE: 45.767\n",
      "Test MAPE: 0.516\n",
      "BIGBANG_zh.wikipedia.org_all-access_spider\n"
     ]
    },
    {
     "name": "stderr",
     "output_type": "stream",
     "text": [
      "INFO:fbprophet:Disabling yearly seasonality. Run prophet with yearly_seasonality=True to override this.\n",
      "INFO:fbprophet:Disabling daily seasonality. Run prophet with daily_seasonality=True to override this.\n"
     ]
    },
    {
     "name": "stdout",
     "output_type": "stream",
     "text": [
      "Test RMSE: 25.769\n",
      "Test SMAPE: 48.747\n",
      "Test MAPE: 0.483\n",
      "BLACK_PINK_zh.wikipedia.org_all-access_spider\n"
     ]
    },
    {
     "name": "stderr",
     "output_type": "stream",
     "text": [
      "INFO:fbprophet:Disabling yearly seasonality. Run prophet with yearly_seasonality=True to override this.\n",
      "INFO:fbprophet:Disabling daily seasonality. Run prophet with daily_seasonality=True to override this.\n"
     ]
    },
    {
     "name": "stdout",
     "output_type": "stream",
     "text": [
      "Test RMSE: 107.105\n",
      "Test SMAPE: 66.756\n",
      "Test MAPE: 1.126\n",
      "BLEACH_zh.wikipedia.org_all-access_spider\n"
     ]
    },
    {
     "name": "stderr",
     "output_type": "stream",
     "text": [
      "INFO:fbprophet:Disabling yearly seasonality. Run prophet with yearly_seasonality=True to override this.\n",
      "INFO:fbprophet:Disabling daily seasonality. Run prophet with daily_seasonality=True to override this.\n"
     ]
    },
    {
     "name": "stdout",
     "output_type": "stream",
     "text": [
      "Test RMSE: 14.638\n",
      "Test SMAPE: 36.538\n",
      "Test MAPE: 0.472\n",
      "BTOB_zh.wikipedia.org_all-access_spider\n"
     ]
    },
    {
     "name": "stderr",
     "output_type": "stream",
     "text": [
      "INFO:fbprophet:Disabling yearly seasonality. Run prophet with yearly_seasonality=True to override this.\n",
      "INFO:fbprophet:Disabling daily seasonality. Run prophet with daily_seasonality=True to override this.\n"
     ]
    },
    {
     "name": "stdout",
     "output_type": "stream",
     "text": [
      "Test RMSE: 33.546\n",
      "Test SMAPE: 52.673\n",
      "Test MAPE: 0.778\n",
      "Beautiful_Mind_zh.wikipedia.org_all-access_spider\n"
     ]
    },
    {
     "name": "stderr",
     "output_type": "stream",
     "text": [
      "INFO:fbprophet:Disabling yearly seasonality. Run prophet with yearly_seasonality=True to override this.\n",
      "INFO:fbprophet:Disabling daily seasonality. Run prophet with daily_seasonality=True to override this.\n"
     ]
    },
    {
     "name": "stdout",
     "output_type": "stream",
     "text": [
      "Test RMSE: 9.580\n",
      "Test SMAPE: 90.872\n",
      "Test MAPE: 0.572\n",
      "Beyond_zh.wikipedia.org_all-access_spider\n"
     ]
    },
    {
     "name": "stderr",
     "output_type": "stream",
     "text": [
      "INFO:fbprophet:Disabling yearly seasonality. Run prophet with yearly_seasonality=True to override this.\n",
      "INFO:fbprophet:Disabling daily seasonality. Run prophet with daily_seasonality=True to override this.\n"
     ]
    },
    {
     "name": "stdout",
     "output_type": "stream",
     "text": [
      "Test RMSE: 11.054\n",
      "Test SMAPE: 23.454\n",
      "Test MAPE: 0.239\n",
      "Big_zh.wikipedia.org_all-access_spider\n"
     ]
    },
    {
     "name": "stderr",
     "output_type": "stream",
     "text": [
      "INFO:fbprophet:Disabling yearly seasonality. Run prophet with yearly_seasonality=True to override this.\n",
      "INFO:fbprophet:Disabling daily seasonality. Run prophet with daily_seasonality=True to override this.\n"
     ]
    },
    {
     "name": "stdout",
     "output_type": "stream",
     "text": [
      "Test RMSE: 6.637\n",
      "Test SMAPE: 38.249\n",
      "Test MAPE: 0.385\n",
      "Block_B_zh.wikipedia.org_all-access_spider\n"
     ]
    },
    {
     "name": "stderr",
     "output_type": "stream",
     "text": [
      "INFO:fbprophet:Disabling yearly seasonality. Run prophet with yearly_seasonality=True to override this.\n",
      "INFO:fbprophet:Disabling daily seasonality. Run prophet with daily_seasonality=True to override this.\n"
     ]
    },
    {
     "name": "stdout",
     "output_type": "stream",
     "text": [
      "Test RMSE: 9.865\n",
      "Test SMAPE: 34.980\n",
      "Test MAPE: 0.347\n",
      "CHAOS;CHILD_zh.wikipedia.org_all-access_spider\n"
     ]
    },
    {
     "name": "stderr",
     "output_type": "stream",
     "text": [
      "<ipython-input-6-6ff66b60195e>:19: RuntimeWarning: divide by zero encountered in true_divide\n",
      "  mape = np.mean(np.abs(predictions.values - dftest['y'].values)/np.abs(dftest['y'].values))\n",
      "INFO:fbprophet:Disabling yearly seasonality. Run prophet with yearly_seasonality=True to override this.\n",
      "INFO:fbprophet:Disabling daily seasonality. Run prophet with daily_seasonality=True to override this.\n"
     ]
    },
    {
     "name": "stdout",
     "output_type": "stream",
     "text": [
      "Test RMSE: 8.249\n",
      "Test SMAPE: 56.604\n",
      "Test MAPE: inf\n",
      "CHAOS;HEAD_zh.wikipedia.org_all-access_spider\n"
     ]
    },
    {
     "name": "stderr",
     "output_type": "stream",
     "text": [
      "INFO:fbprophet:Disabling yearly seasonality. Run prophet with yearly_seasonality=True to override this.\n",
      "INFO:fbprophet:Disabling daily seasonality. Run prophet with daily_seasonality=True to override this.\n"
     ]
    },
    {
     "name": "stdout",
     "output_type": "stream",
     "text": [
      "Test RMSE: 4.757\n",
      "Test SMAPE: 34.267\n",
      "Test MAPE: 0.369\n",
      "CLC_zh.wikipedia.org_all-access_spider\n"
     ]
    },
    {
     "name": "stderr",
     "output_type": "stream",
     "text": [
      "INFO:fbprophet:Disabling yearly seasonality. Run prophet with yearly_seasonality=True to override this.\n",
      "INFO:fbprophet:Disabling daily seasonality. Run prophet with daily_seasonality=True to override this.\n"
     ]
    },
    {
     "name": "stdout",
     "output_type": "stream",
     "text": [
      "Test RMSE: 22.887\n",
      "Test SMAPE: 74.666\n",
      "Test MAPE: 0.502\n",
      "CNBLUE_zh.wikipedia.org_all-access_spider\n"
     ]
    },
    {
     "name": "stderr",
     "output_type": "stream",
     "text": [
      "INFO:fbprophet:Disabling yearly seasonality. Run prophet with yearly_seasonality=True to override this.\n",
      "INFO:fbprophet:Disabling daily seasonality. Run prophet with daily_seasonality=True to override this.\n"
     ]
    },
    {
     "name": "stdout",
     "output_type": "stream",
     "text": [
      "Test RMSE: 34.705\n",
      "Test SMAPE: 59.300\n",
      "Test MAPE: 0.859\n",
      "DIA_zh.wikipedia.org_all-access_spider\n"
     ]
    },
    {
     "name": "stderr",
     "output_type": "stream",
     "text": [
      "INFO:fbprophet:Disabling yearly seasonality. Run prophet with yearly_seasonality=True to override this.\n",
      "INFO:fbprophet:Disabling daily seasonality. Run prophet with daily_seasonality=True to override this.\n"
     ]
    },
    {
     "name": "stdout",
     "output_type": "stream",
     "text": [
      "Test RMSE: 21.656\n",
      "Test SMAPE: 62.620\n",
      "Test MAPE: 1.072\n",
      "Daigo_zh.wikipedia.org_all-access_spider\n"
     ]
    },
    {
     "name": "stderr",
     "output_type": "stream",
     "text": [
      "<ipython-input-6-6ff66b60195e>:19: RuntimeWarning: divide by zero encountered in true_divide\n",
      "  mape = np.mean(np.abs(predictions.values - dftest['y'].values)/np.abs(dftest['y'].values))\n",
      "INFO:fbprophet:Disabling yearly seasonality. Run prophet with yearly_seasonality=True to override this.\n",
      "INFO:fbprophet:Disabling daily seasonality. Run prophet with daily_seasonality=True to override this.\n"
     ]
    },
    {
     "name": "stdout",
     "output_type": "stream",
     "text": [
      "Test RMSE: 4.266\n",
      "Test SMAPE: 46.705\n",
      "Test MAPE: inf\n",
      "Dear_My_Friends_zh.wikipedia.org_all-access_spider\n"
     ]
    },
    {
     "name": "stderr",
     "output_type": "stream",
     "text": [
      "INFO:fbprophet:Disabling yearly seasonality. Run prophet with yearly_seasonality=True to override this.\n",
      "INFO:fbprophet:Disabling daily seasonality. Run prophet with daily_seasonality=True to override this.\n"
     ]
    },
    {
     "name": "stdout",
     "output_type": "stream",
     "text": [
      "Test RMSE: 11.991\n",
      "Test SMAPE: 120.291\n",
      "Test MAPE: 0.694\n",
      "Doctors_zh.wikipedia.org_all-access_spider\n"
     ]
    },
    {
     "name": "stderr",
     "output_type": "stream",
     "text": [
      "INFO:fbprophet:Disabling yearly seasonality. Run prophet with yearly_seasonality=True to override this.\n",
      "INFO:fbprophet:Disabling daily seasonality. Run prophet with daily_seasonality=True to override this.\n"
     ]
    },
    {
     "name": "stdout",
     "output_type": "stream",
     "text": [
      "Test RMSE: 46.866\n",
      "Test SMAPE: -2428.947\n",
      "Test MAPE: 0.939\n",
      "EGOIST_zh.wikipedia.org_all-access_spider\n"
     ]
    },
    {
     "name": "stderr",
     "output_type": "stream",
     "text": [
      "INFO:fbprophet:Disabling yearly seasonality. Run prophet with yearly_seasonality=True to override this.\n",
      "INFO:fbprophet:Disabling daily seasonality. Run prophet with daily_seasonality=True to override this.\n"
     ]
    },
    {
     "name": "stdout",
     "output_type": "stream",
     "text": [
      "Test RMSE: 7.750\n",
      "Test SMAPE: 56.347\n",
      "Test MAPE: 0.502\n",
      "EXID_zh.wikipedia.org_all-access_spider\n"
     ]
    },
    {
     "name": "stderr",
     "output_type": "stream",
     "text": [
      "INFO:fbprophet:Disabling yearly seasonality. Run prophet with yearly_seasonality=True to override this.\n",
      "INFO:fbprophet:Disabling daily seasonality. Run prophet with daily_seasonality=True to override this.\n"
     ]
    },
    {
     "name": "stdout",
     "output_type": "stream",
     "text": [
      "Test RMSE: 28.052\n",
      "Test SMAPE: 65.878\n",
      "Test MAPE: 1.014\n",
      "EXO_zh.wikipedia.org_all-access_spider\n"
     ]
    },
    {
     "name": "stderr",
     "output_type": "stream",
     "text": [
      "INFO:fbprophet:Disabling yearly seasonality. Run prophet with yearly_seasonality=True to override this.\n",
      "INFO:fbprophet:Disabling daily seasonality. Run prophet with daily_seasonality=True to override this.\n"
     ]
    },
    {
     "name": "stdout",
     "output_type": "stream",
     "text": [
      "Test RMSE: 38.627\n",
      "Test SMAPE: 45.167\n",
      "Test MAPE: 0.645\n",
      "Energy_zh.wikipedia.org_all-access_spider\n"
     ]
    },
    {
     "name": "stderr",
     "output_type": "stream",
     "text": [
      "INFO:fbprophet:Disabling yearly seasonality. Run prophet with yearly_seasonality=True to override this.\n",
      "INFO:fbprophet:Disabling daily seasonality. Run prophet with daily_seasonality=True to override this.\n"
     ]
    },
    {
     "name": "stdout",
     "output_type": "stream",
     "text": [
      "Test RMSE: 5.027\n",
      "Test SMAPE: 46.098\n",
      "Test MAPE: 0.721\n",
      "Eric_Nam_zh.wikipedia.org_all-access_spider\n"
     ]
    },
    {
     "name": "stderr",
     "output_type": "stream",
     "text": [
      "INFO:fbprophet:Disabling yearly seasonality. Run prophet with yearly_seasonality=True to override this.\n",
      "INFO:fbprophet:Disabling daily seasonality. Run prophet with daily_seasonality=True to override this.\n"
     ]
    },
    {
     "name": "stdout",
     "output_type": "stream",
     "text": [
      "Test RMSE: 19.219\n",
      "Test SMAPE: 46.761\n",
      "Test MAPE: 0.549\n",
      "FAIRY_TAIL_zh.wikipedia.org_all-access_spider\n"
     ]
    },
    {
     "name": "stderr",
     "output_type": "stream",
     "text": [
      "INFO:fbprophet:Disabling yearly seasonality. Run prophet with yearly_seasonality=True to override this.\n",
      "INFO:fbprophet:Disabling daily seasonality. Run prophet with daily_seasonality=True to override this.\n"
     ]
    },
    {
     "name": "stdout",
     "output_type": "stream",
     "text": [
      "Test RMSE: 22.299\n",
      "Test SMAPE: 53.095\n",
      "Test MAPE: 0.776\n",
      "FIESTAR_zh.wikipedia.org_all-access_spider\n"
     ]
    },
    {
     "name": "stderr",
     "output_type": "stream",
     "text": [
      "INFO:fbprophet:Disabling yearly seasonality. Run prophet with yearly_seasonality=True to override this.\n",
      "INFO:fbprophet:Disabling daily seasonality. Run prophet with daily_seasonality=True to override this.\n"
     ]
    },
    {
     "name": "stdout",
     "output_type": "stream",
     "text": [
      "Test RMSE: 8.782\n",
      "Test SMAPE: 59.166\n",
      "Test MAPE: 1.143\n",
      "FIRST_CLASS_zh.wikipedia.org_all-access_spider\n"
     ]
    },
    {
     "name": "stderr",
     "output_type": "stream",
     "text": [
      "INFO:fbprophet:Disabling yearly seasonality. Run prophet with yearly_seasonality=True to override this.\n",
      "INFO:fbprophet:Disabling daily seasonality. Run prophet with daily_seasonality=True to override this.\n"
     ]
    },
    {
     "name": "stdout",
     "output_type": "stream",
     "text": [
      "Test RMSE: 4.445\n",
      "Test SMAPE: 44.141\n",
      "Test MAPE: 0.701\n",
      "Facebook_zh.wikipedia.org_all-access_spider\n"
     ]
    },
    {
     "name": "stderr",
     "output_type": "stream",
     "text": [
      "INFO:fbprophet:Disabling yearly seasonality. Run prophet with yearly_seasonality=True to override this.\n",
      "INFO:fbprophet:Disabling daily seasonality. Run prophet with daily_seasonality=True to override this.\n"
     ]
    },
    {
     "name": "stdout",
     "output_type": "stream",
     "text": [
      "Test RMSE: 21.749\n",
      "Test SMAPE: 44.008\n",
      "Test MAPE: 0.354\n",
      "Fantastic_Duo_zh.wikipedia.org_all-access_spider\n"
     ]
    },
    {
     "name": "stderr",
     "output_type": "stream",
     "text": [
      "INFO:fbprophet:Disabling yearly seasonality. Run prophet with yearly_seasonality=True to override this.\n",
      "INFO:fbprophet:Disabling daily seasonality. Run prophet with daily_seasonality=True to override this.\n"
     ]
    },
    {
     "name": "stdout",
     "output_type": "stream",
     "text": [
      "Test RMSE: 12.510\n",
      "Test SMAPE: 76.820\n",
      "Test MAPE: 1.612\n",
      "Fate/Grand_Order_zh.wikipedia.org_all-access_spider\n"
     ]
    },
    {
     "name": "stderr",
     "output_type": "stream",
     "text": [
      "INFO:fbprophet:Disabling yearly seasonality. Run prophet with yearly_seasonality=True to override this.\n",
      "INFO:fbprophet:Disabling daily seasonality. Run prophet with daily_seasonality=True to override this.\n"
     ]
    },
    {
     "name": "stdout",
     "output_type": "stream",
     "text": [
      "Test RMSE: 38.293\n",
      "Test SMAPE: 51.180\n",
      "Test MAPE: 0.407\n",
      "Fate/Zero_zh.wikipedia.org_all-access_spider\n"
     ]
    },
    {
     "name": "stderr",
     "output_type": "stream",
     "text": [
      "INFO:fbprophet:Disabling yearly seasonality. Run prophet with yearly_seasonality=True to override this.\n",
      "INFO:fbprophet:Disabling daily seasonality. Run prophet with daily_seasonality=True to override this.\n"
     ]
    },
    {
     "name": "stdout",
     "output_type": "stream",
     "text": [
      "Test RMSE: 4.408\n",
      "Test SMAPE: 28.871\n",
      "Test MAPE: 0.353\n",
      "Fate/stay_night_zh.wikipedia.org_all-access_spider\n"
     ]
    },
    {
     "name": "stderr",
     "output_type": "stream",
     "text": [
      "INFO:fbprophet:Disabling yearly seasonality. Run prophet with yearly_seasonality=True to override this.\n",
      "INFO:fbprophet:Disabling daily seasonality. Run prophet with daily_seasonality=True to override this.\n"
     ]
    },
    {
     "name": "stdout",
     "output_type": "stream",
     "text": [
      "Test RMSE: 10.856\n",
      "Test SMAPE: 24.830\n",
      "Test MAPE: 0.236\n",
      "File:427FW_126.JPG_zh.wikipedia.org_all-access_spider\n"
     ]
    },
    {
     "name": "stderr",
     "output_type": "stream",
     "text": [
      "<ipython-input-6-6ff66b60195e>:19: RuntimeWarning: divide by zero encountered in true_divide\n",
      "  mape = np.mean(np.abs(predictions.values - dftest['y'].values)/np.abs(dftest['y'].values))\n",
      "INFO:fbprophet:Disabling yearly seasonality. Run prophet with yearly_seasonality=True to override this.\n",
      "INFO:fbprophet:Disabling daily seasonality. Run prophet with daily_seasonality=True to override this.\n"
     ]
    },
    {
     "name": "stdout",
     "output_type": "stream",
     "text": [
      "Test RMSE: 8.826\n",
      "Test SMAPE: 124.468\n",
      "Test MAPE: inf\n",
      "File:Ap_F23_20110324114153669.jpg_zh.wikipedia.org_all-access_spider\n"
     ]
    },
    {
     "name": "stderr",
     "output_type": "stream",
     "text": [
      "<ipython-input-6-6ff66b60195e>:19: RuntimeWarning: divide by zero encountered in true_divide\n",
      "  mape = np.mean(np.abs(predictions.values - dftest['y'].values)/np.abs(dftest['y'].values))\n",
      "INFO:fbprophet:Disabling yearly seasonality. Run prophet with yearly_seasonality=True to override this.\n",
      "INFO:fbprophet:Disabling daily seasonality. Run prophet with daily_seasonality=True to override this.\n"
     ]
    },
    {
     "name": "stdout",
     "output_type": "stream",
     "text": [
      "Test RMSE: 15.179\n",
      "Test SMAPE: -184.044\n",
      "Test MAPE: inf\n",
      "File:Christian-krohg-leiv-eriksson.jpg_zh.wikipedia.org_all-access_spider\n"
     ]
    },
    {
     "name": "stderr",
     "output_type": "stream",
     "text": [
      "<ipython-input-6-6ff66b60195e>:19: RuntimeWarning: divide by zero encountered in true_divide\n",
      "  mape = np.mean(np.abs(predictions.values - dftest['y'].values)/np.abs(dftest['y'].values))\n",
      "INFO:fbprophet:Disabling yearly seasonality. Run prophet with yearly_seasonality=True to override this.\n",
      "INFO:fbprophet:Disabling daily seasonality. Run prophet with daily_seasonality=True to override this.\n"
     ]
    },
    {
     "name": "stdout",
     "output_type": "stream",
     "text": [
      "Test RMSE: 0.753\n",
      "Test SMAPE: 176.523\n",
      "Test MAPE: inf\n",
      "File:Sebastiaosalgado2006.jpg_zh.wikipedia.org_all-access_spider\n"
     ]
    },
    {
     "name": "stderr",
     "output_type": "stream",
     "text": [
      "<ipython-input-6-6ff66b60195e>:19: RuntimeWarning: divide by zero encountered in true_divide\n",
      "  mape = np.mean(np.abs(predictions.values - dftest['y'].values)/np.abs(dftest['y'].values))\n",
      "INFO:fbprophet:Disabling yearly seasonality. Run prophet with yearly_seasonality=True to override this.\n",
      "INFO:fbprophet:Disabling daily seasonality. Run prophet with daily_seasonality=True to override this.\n"
     ]
    },
    {
     "name": "stdout",
     "output_type": "stream",
     "text": [
      "Test RMSE: 0.617\n",
      "Test SMAPE: 190.372\n",
      "Test MAPE: inf\n",
      "File:Zhongxiao_West_Road2.JPG_zh.wikipedia.org_all-access_spider\n"
     ]
    },
    {
     "name": "stderr",
     "output_type": "stream",
     "text": [
      "<ipython-input-6-6ff66b60195e>:19: RuntimeWarning: divide by zero encountered in true_divide\n",
      "  mape = np.mean(np.abs(predictions.values - dftest['y'].values)/np.abs(dftest['y'].values))\n",
      "INFO:fbprophet:Disabling yearly seasonality. Run prophet with yearly_seasonality=True to override this.\n",
      "INFO:fbprophet:Disabling daily seasonality. Run prophet with daily_seasonality=True to override this.\n"
     ]
    },
    {
     "name": "stdout",
     "output_type": "stream",
     "text": [
      "Test RMSE: 1.879\n",
      "Test SMAPE: -215.109\n",
      "Test MAPE: inf\n",
      "G-Dragon_zh.wikipedia.org_all-access_spider\n"
     ]
    },
    {
     "name": "stderr",
     "output_type": "stream",
     "text": [
      "INFO:fbprophet:Disabling yearly seasonality. Run prophet with yearly_seasonality=True to override this.\n",
      "INFO:fbprophet:Disabling daily seasonality. Run prophet with daily_seasonality=True to override this.\n"
     ]
    },
    {
     "name": "stdout",
     "output_type": "stream",
     "text": [
      "Test RMSE: 18.829\n",
      "Test SMAPE: 44.735\n",
      "Test MAPE: 0.588\n",
      "G.NA_zh.wikipedia.org_all-access_spider\n"
     ]
    },
    {
     "name": "stderr",
     "output_type": "stream",
     "text": [
      "INFO:fbprophet:Disabling yearly seasonality. Run prophet with yearly_seasonality=True to override this.\n",
      "INFO:fbprophet:Disabling daily seasonality. Run prophet with daily_seasonality=True to override this.\n"
     ]
    },
    {
     "name": "stdout",
     "output_type": "stream",
     "text": [
      "Test RMSE: 4.195\n",
      "Test SMAPE: 38.936\n",
      "Test MAPE: 0.491\n",
      "GFRIEND_zh.wikipedia.org_all-access_spider\n"
     ]
    },
    {
     "name": "stderr",
     "output_type": "stream",
     "text": [
      "INFO:fbprophet:Disabling yearly seasonality. Run prophet with yearly_seasonality=True to override this.\n",
      "INFO:fbprophet:Disabling daily seasonality. Run prophet with daily_seasonality=True to override this.\n"
     ]
    },
    {
     "name": "stdout",
     "output_type": "stream",
     "text": [
      "Test RMSE: 48.582\n",
      "Test SMAPE: 54.215\n",
      "Test MAPE: 0.714\n",
      "GNZ48_zh.wikipedia.org_all-access_spider\n"
     ]
    },
    {
     "name": "stderr",
     "output_type": "stream",
     "text": [
      "INFO:fbprophet:Disabling yearly seasonality. Run prophet with yearly_seasonality=True to override this.\n",
      "INFO:fbprophet:Disabling daily seasonality. Run prophet with daily_seasonality=True to override this.\n"
     ]
    },
    {
     "name": "stdout",
     "output_type": "stream",
     "text": [
      "Test RMSE: 26.085\n",
      "Test SMAPE: 89.796\n",
      "Test MAPE: 1.865\n",
      "GOT7_zh.wikipedia.org_all-access_spider\n"
     ]
    },
    {
     "name": "stderr",
     "output_type": "stream",
     "text": [
      "INFO:fbprophet:Disabling yearly seasonality. Run prophet with yearly_seasonality=True to override this.\n",
      "INFO:fbprophet:Disabling daily seasonality. Run prophet with daily_seasonality=True to override this.\n"
     ]
    },
    {
     "name": "stdout",
     "output_type": "stream",
     "text": [
      "Test RMSE: 40.637\n",
      "Test SMAPE: 58.234\n",
      "Test MAPE: 0.934\n",
      "GUMMY_zh.wikipedia.org_all-access_spider\n"
     ]
    },
    {
     "name": "stderr",
     "output_type": "stream",
     "text": [
      "INFO:fbprophet:Disabling yearly seasonality. Run prophet with yearly_seasonality=True to override this.\n",
      "INFO:fbprophet:Disabling daily seasonality. Run prophet with daily_seasonality=True to override this.\n"
     ]
    },
    {
     "name": "stdout",
     "output_type": "stream",
     "text": [
      "Test RMSE: 8.244\n",
      "Test SMAPE: 51.736\n",
      "Test MAPE: 0.863\n",
      "Girl's_Day_zh.wikipedia.org_all-access_spider\n"
     ]
    },
    {
     "name": "stderr",
     "output_type": "stream",
     "text": [
      "INFO:fbprophet:Disabling yearly seasonality. Run prophet with yearly_seasonality=True to override this.\n",
      "INFO:fbprophet:Disabling daily seasonality. Run prophet with daily_seasonality=True to override this.\n"
     ]
    },
    {
     "name": "stdout",
     "output_type": "stream",
     "text": [
      "Test RMSE: 15.948\n",
      "Test SMAPE: 48.700\n",
      "Test MAPE: 0.644\n",
      "Goodbye_Mr._Black_zh.wikipedia.org_all-access_spider\n"
     ]
    },
    {
     "name": "stderr",
     "output_type": "stream",
     "text": [
      "INFO:fbprophet:Disabling yearly seasonality. Run prophet with yearly_seasonality=True to override this.\n",
      "INFO:fbprophet:Disabling daily seasonality. Run prophet with daily_seasonality=True to override this.\n"
     ]
    },
    {
     "name": "stdout",
     "output_type": "stream",
     "text": [
      "Test RMSE: 19.505\n",
      "Test SMAPE: 101.707\n",
      "Test MAPE: 0.633\n",
      "Google_zh.wikipedia.org_all-access_spider\n"
     ]
    },
    {
     "name": "stderr",
     "output_type": "stream",
     "text": [
      "INFO:fbprophet:Disabling yearly seasonality. Run prophet with yearly_seasonality=True to override this.\n",
      "INFO:fbprophet:Disabling daily seasonality. Run prophet with daily_seasonality=True to override this.\n"
     ]
    },
    {
     "name": "stdout",
     "output_type": "stream",
     "text": [
      "Test RMSE: 28.379\n",
      "Test SMAPE: 29.931\n",
      "Test MAPE: 0.286\n",
      "Gu9udan_zh.wikipedia.org_all-access_spider\n"
     ]
    },
    {
     "name": "stderr",
     "output_type": "stream",
     "text": [
      "INFO:fbprophet:Disabling yearly seasonality. Run prophet with yearly_seasonality=True to override this.\n",
      "INFO:fbprophet:Disabling daily seasonality. Run prophet with daily_seasonality=True to override this.\n"
     ]
    },
    {
     "name": "stdout",
     "output_type": "stream",
     "text": [
      "Test RMSE: 37.359\n",
      "Test SMAPE: 66.037\n",
      "Test MAPE: 0.993\n",
      "HDMI_zh.wikipedia.org_all-access_spider\n"
     ]
    },
    {
     "name": "stderr",
     "output_type": "stream",
     "text": [
      "INFO:fbprophet:Disabling yearly seasonality. Run prophet with yearly_seasonality=True to override this.\n",
      "INFO:fbprophet:Disabling daily seasonality. Run prophet with daily_seasonality=True to override this.\n"
     ]
    },
    {
     "name": "stdout",
     "output_type": "stream",
     "text": [
      "Test RMSE: 7.538\n",
      "Test SMAPE: 27.655\n",
      "Test MAPE: 0.324\n",
      "Hand_Shakers_zh.wikipedia.org_all-access_spider\n"
     ]
    },
    {
     "name": "stderr",
     "output_type": "stream",
     "text": [
      "INFO:fbprophet:Disabling yearly seasonality. Run prophet with yearly_seasonality=True to override this.\n",
      "INFO:fbprophet:Disabling daily seasonality. Run prophet with daily_seasonality=True to override this.\n"
     ]
    },
    {
     "name": "stdout",
     "output_type": "stream",
     "text": [
      "Test RMSE: 5.817\n",
      "Test SMAPE: 52.762\n",
      "Test MAPE: 0.601\n",
      "Hisasi_zh.wikipedia.org_all-access_spider\n"
     ]
    },
    {
     "name": "stderr",
     "output_type": "stream",
     "text": [
      "INFO:fbprophet:Disabling yearly seasonality. Run prophet with yearly_seasonality=True to override this.\n",
      "INFO:fbprophet:Disabling daily seasonality. Run prophet with daily_seasonality=True to override this.\n"
     ]
    },
    {
     "name": "stdout",
     "output_type": "stream",
     "text": [
      "Test RMSE: 2.963\n",
      "Test SMAPE: 44.200\n",
      "Test MAPE: 0.641\n",
      "Hit_The_Stage_zh.wikipedia.org_all-access_spider\n"
     ]
    },
    {
     "name": "stderr",
     "output_type": "stream",
     "text": [
      "INFO:fbprophet:Disabling yearly seasonality. Run prophet with yearly_seasonality=True to override this.\n",
      "INFO:fbprophet:Disabling daily seasonality. Run prophet with daily_seasonality=True to override this.\n"
     ]
    },
    {
     "name": "stdout",
     "output_type": "stream",
     "text": [
      "Test RMSE: 25.120\n",
      "Test SMAPE: 122.488\n",
      "Test MAPE: 3.958\n",
      "Hotel_King_zh.wikipedia.org_all-access_spider\n"
     ]
    },
    {
     "name": "stderr",
     "output_type": "stream",
     "text": [
      "INFO:fbprophet:Disabling yearly seasonality. Run prophet with yearly_seasonality=True to override this.\n",
      "INFO:fbprophet:Disabling daily seasonality. Run prophet with daily_seasonality=True to override this.\n"
     ]
    },
    {
     "name": "stdout",
     "output_type": "stream",
     "text": [
      "Test RMSE: 3.746\n",
      "Test SMAPE: 42.383\n",
      "Test MAPE: 0.642\n",
      "I'm_Home_zh.wikipedia.org_all-access_spider\n"
     ]
    },
    {
     "name": "stderr",
     "output_type": "stream",
     "text": [
      "INFO:fbprophet:Disabling yearly seasonality. Run prophet with yearly_seasonality=True to override this.\n",
      "INFO:fbprophet:Disabling daily seasonality. Run prophet with daily_seasonality=True to override this.\n"
     ]
    },
    {
     "name": "stdout",
     "output_type": "stream",
     "text": [
      "Test RMSE: 4.434\n",
      "Test SMAPE: 39.056\n",
      "Test MAPE: 0.450\n",
      "I.O.I_zh.wikipedia.org_all-access_spider\n"
     ]
    },
    {
     "name": "stderr",
     "output_type": "stream",
     "text": [
      "INFO:fbprophet:Disabling yearly seasonality. Run prophet with yearly_seasonality=True to override this.\n",
      "INFO:fbprophet:Disabling daily seasonality. Run prophet with daily_seasonality=True to override this.\n"
     ]
    },
    {
     "name": "stdout",
     "output_type": "stream",
     "text": [
      "Test RMSE: 87.778\n",
      "Test SMAPE: 55.593\n",
      "Test MAPE: 1.012\n",
      "IKON_zh.wikipedia.org_all-access_spider\n"
     ]
    },
    {
     "name": "stderr",
     "output_type": "stream",
     "text": [
      "INFO:fbprophet:Disabling yearly seasonality. Run prophet with yearly_seasonality=True to override this.\n",
      "INFO:fbprophet:Disabling daily seasonality. Run prophet with daily_seasonality=True to override this.\n"
     ]
    },
    {
     "name": "stdout",
     "output_type": "stream",
     "text": [
      "Test RMSE: 54.919\n",
      "Test SMAPE: 54.443\n",
      "Test MAPE: 0.436\n",
      "INFINITE_zh.wikipedia.org_all-access_spider\n"
     ]
    },
    {
     "name": "stderr",
     "output_type": "stream",
     "text": [
      "INFO:fbprophet:Disabling yearly seasonality. Run prophet with yearly_seasonality=True to override this.\n",
      "INFO:fbprophet:Disabling daily seasonality. Run prophet with daily_seasonality=True to override this.\n"
     ]
    },
    {
     "name": "stdout",
     "output_type": "stream",
     "text": [
      "Test RMSE: 29.265\n",
      "Test SMAPE: 52.709\n",
      "Test MAPE: 0.670\n",
      "IPhone_zh.wikipedia.org_all-access_spider\n"
     ]
    },
    {
     "name": "stderr",
     "output_type": "stream",
     "text": [
      "INFO:fbprophet:Disabling yearly seasonality. Run prophet with yearly_seasonality=True to override this.\n",
      "INFO:fbprophet:Disabling daily seasonality. Run prophet with daily_seasonality=True to override this.\n"
     ]
    },
    {
     "name": "stdout",
     "output_type": "stream",
     "text": [
      "Test RMSE: 14.212\n",
      "Test SMAPE: 21.657\n",
      "Test MAPE: 0.219\n",
      "Ingress_zh.wikipedia.org_all-access_spider\n"
     ]
    },
    {
     "name": "stderr",
     "output_type": "stream",
     "text": [
      "INFO:fbprophet:Disabling yearly seasonality. Run prophet with yearly_seasonality=True to override this.\n",
      "INFO:fbprophet:Disabling daily seasonality. Run prophet with daily_seasonality=True to override this.\n"
     ]
    },
    {
     "name": "stdout",
     "output_type": "stream",
     "text": [
      "Test RMSE: 5.739\n",
      "Test SMAPE: 44.127\n",
      "Test MAPE: 0.715\n",
      "Intel740_zh.wikipedia.org_all-access_spider\n"
     ]
    },
    {
     "name": "stderr",
     "output_type": "stream",
     "text": [
      "<ipython-input-6-6ff66b60195e>:19: RuntimeWarning: divide by zero encountered in true_divide\n",
      "  mape = np.mean(np.abs(predictions.values - dftest['y'].values)/np.abs(dftest['y'].values))\n",
      "INFO:fbprophet:Disabling yearly seasonality. Run prophet with yearly_seasonality=True to override this.\n",
      "INFO:fbprophet:Disabling daily seasonality. Run prophet with daily_seasonality=True to override this.\n"
     ]
    },
    {
     "name": "stdout",
     "output_type": "stream",
     "text": [
      "Test RMSE: 3.837\n",
      "Test SMAPE: 135.099\n",
      "Test MAPE: inf\n",
      "Intel_80386_zh.wikipedia.org_all-access_spider\n"
     ]
    },
    {
     "name": "stderr",
     "output_type": "stream",
     "text": [
      "INFO:fbprophet:Disabling yearly seasonality. Run prophet with yearly_seasonality=True to override this.\n",
      "INFO:fbprophet:Disabling daily seasonality. Run prophet with daily_seasonality=True to override this.\n"
     ]
    },
    {
     "name": "stdout",
     "output_type": "stream",
     "text": [
      "Test RMSE: 3.591\n",
      "Test SMAPE: 41.360\n",
      "Test MAPE: 0.681\n",
      "Juksy_zh.wikipedia.org_all-access_spider\n"
     ]
    },
    {
     "name": "stderr",
     "output_type": "stream",
     "text": [
      "<ipython-input-6-6ff66b60195e>:19: RuntimeWarning: divide by zero encountered in true_divide\n",
      "  mape = np.mean(np.abs(predictions.values - dftest['y'].values)/np.abs(dftest['y'].values))\n",
      "INFO:fbprophet:Disabling yearly seasonality. Run prophet with yearly_seasonality=True to override this.\n",
      "INFO:fbprophet:Disabling daily seasonality. Run prophet with daily_seasonality=True to override this.\n"
     ]
    },
    {
     "name": "stdout",
     "output_type": "stream",
     "text": [
      "Test RMSE: 1.626\n",
      "Test SMAPE: 100.366\n",
      "Test MAPE: inf\n",
      "K.A.R.D_zh.wikipedia.org_all-access_spider\n"
     ]
    },
    {
     "name": "stderr",
     "output_type": "stream",
     "text": [
      "<ipython-input-6-6ff66b60195e>:19: RuntimeWarning: invalid value encountered in true_divide\n",
      "  mape = np.mean(np.abs(predictions.values - dftest['y'].values)/np.abs(dftest['y'].values))\n",
      "INFO:fbprophet:Disabling yearly seasonality. Run prophet with yearly_seasonality=True to override this.\n",
      "INFO:fbprophet:Disabling daily seasonality. Run prophet with daily_seasonality=True to override this.\n"
     ]
    },
    {
     "name": "stdout",
     "output_type": "stream",
     "text": [
      "Test RMSE: 81.006\n",
      "Test SMAPE: 116.000\n",
      "Test MAPE: nan\n",
      "KNK_zh.wikipedia.org_all-access_spider\n"
     ]
    },
    {
     "name": "stderr",
     "output_type": "stream",
     "text": [
      "INFO:fbprophet:Disabling yearly seasonality. Run prophet with yearly_seasonality=True to override this.\n",
      "INFO:fbprophet:Disabling daily seasonality. Run prophet with daily_seasonality=True to override this.\n"
     ]
    },
    {
     "name": "stdout",
     "output_type": "stream",
     "text": [
      "Test RMSE: 11.776\n",
      "Test SMAPE: 65.287\n",
      "Test MAPE: 1.506\n",
      "KUROMUKURO_zh.wikipedia.org_all-access_spider\n"
     ]
    },
    {
     "name": "stderr",
     "output_type": "stream",
     "text": [
      "<ipython-input-6-6ff66b60195e>:19: RuntimeWarning: divide by zero encountered in true_divide\n",
      "  mape = np.mean(np.abs(predictions.values - dftest['y'].values)/np.abs(dftest['y'].values))\n",
      "INFO:fbprophet:Disabling yearly seasonality. Run prophet with yearly_seasonality=True to override this.\n",
      "INFO:fbprophet:Disabling daily seasonality. Run prophet with daily_seasonality=True to override this.\n"
     ]
    },
    {
     "name": "stdout",
     "output_type": "stream",
     "text": [
      "Test RMSE: 7.597\n",
      "Test SMAPE: 572.754\n",
      "Test MAPE: inf\n",
      "Kara_zh.wikipedia.org_all-access_spider\n"
     ]
    },
    {
     "name": "stderr",
     "output_type": "stream",
     "text": [
      "INFO:fbprophet:Disabling yearly seasonality. Run prophet with yearly_seasonality=True to override this.\n",
      "INFO:fbprophet:Disabling daily seasonality. Run prophet with daily_seasonality=True to override this.\n"
     ]
    },
    {
     "name": "stdout",
     "output_type": "stream",
     "text": [
      "Test RMSE: 8.876\n",
      "Test SMAPE: 33.278\n",
      "Test MAPE: 0.381\n",
      "Kill_Me_Heal_Me_zh.wikipedia.org_all-access_spider\n"
     ]
    },
    {
     "name": "stderr",
     "output_type": "stream",
     "text": [
      "INFO:fbprophet:Disabling yearly seasonality. Run prophet with yearly_seasonality=True to override this.\n",
      "INFO:fbprophet:Disabling daily seasonality. Run prophet with daily_seasonality=True to override this.\n"
     ]
    },
    {
     "name": "stdout",
     "output_type": "stream",
     "text": [
      "Test RMSE: 7.243\n",
      "Test SMAPE: 33.808\n",
      "Test MAPE: 0.319\n",
      "Lady_Gaga_zh.wikipedia.org_all-access_spider\n"
     ]
    },
    {
     "name": "stderr",
     "output_type": "stream",
     "text": [
      "INFO:fbprophet:Disabling yearly seasonality. Run prophet with yearly_seasonality=True to override this.\n",
      "INFO:fbprophet:Disabling daily seasonality. Run prophet with daily_seasonality=True to override this.\n"
     ]
    },
    {
     "name": "stdout",
     "output_type": "stream",
     "text": [
      "Test RMSE: 9.968\n",
      "Test SMAPE: 34.544\n",
      "Test MAPE: 0.466\n",
      "Legal_high_zh.wikipedia.org_all-access_spider\n"
     ]
    },
    {
     "name": "stderr",
     "output_type": "stream",
     "text": [
      "INFO:fbprophet:Disabling yearly seasonality. Run prophet with yearly_seasonality=True to override this.\n",
      "INFO:fbprophet:Disabling daily seasonality. Run prophet with daily_seasonality=True to override this.\n"
     ]
    },
    {
     "name": "stdout",
     "output_type": "stream",
     "text": [
      "Test RMSE: 9.504\n",
      "Test SMAPE: 38.460\n",
      "Test MAPE: 0.508\n",
      "LoveLive!_zh.wikipedia.org_all-access_spider\n"
     ]
    },
    {
     "name": "stderr",
     "output_type": "stream",
     "text": [
      "INFO:fbprophet:Disabling yearly seasonality. Run prophet with yearly_seasonality=True to override this.\n",
      "INFO:fbprophet:Disabling daily seasonality. Run prophet with daily_seasonality=True to override this.\n"
     ]
    },
    {
     "name": "stdout",
     "output_type": "stream",
     "text": [
      "Test RMSE: 20.697\n",
      "Test SMAPE: 52.864\n",
      "Test MAPE: 0.805\n",
      "LoveLive!_Sunshine!!_zh.wikipedia.org_all-access_spider\n"
     ]
    },
    {
     "name": "stderr",
     "output_type": "stream",
     "text": [
      "INFO:fbprophet:Disabling yearly seasonality. Run prophet with yearly_seasonality=True to override this.\n",
      "INFO:fbprophet:Disabling daily seasonality. Run prophet with daily_seasonality=True to override this.\n"
     ]
    },
    {
     "name": "stdout",
     "output_type": "stream",
     "text": [
      "Test RMSE: 13.323\n",
      "Test SMAPE: 54.790\n",
      "Test MAPE: 0.903\n",
      "Lovelyz_zh.wikipedia.org_all-access_spider\n"
     ]
    },
    {
     "name": "stderr",
     "output_type": "stream",
     "text": [
      "INFO:fbprophet:Disabling yearly seasonality. Run prophet with yearly_seasonality=True to override this.\n",
      "INFO:fbprophet:Disabling daily seasonality. Run prophet with daily_seasonality=True to override this.\n"
     ]
    },
    {
     "name": "stdout",
     "output_type": "stream",
     "text": [
      "Test RMSE: 16.374\n",
      "Test SMAPE: 48.407\n",
      "Test MAPE: 0.459\n",
      "Lulu_zh.wikipedia.org_all-access_spider\n"
     ]
    },
    {
     "name": "stderr",
     "output_type": "stream",
     "text": [
      "<ipython-input-6-6ff66b60195e>:19: RuntimeWarning: divide by zero encountered in true_divide\n",
      "  mape = np.mean(np.abs(predictions.values - dftest['y'].values)/np.abs(dftest['y'].values))\n",
      "INFO:fbprophet:Disabling yearly seasonality. Run prophet with yearly_seasonality=True to override this.\n",
      "INFO:fbprophet:Disabling daily seasonality. Run prophet with daily_seasonality=True to override this.\n"
     ]
    },
    {
     "name": "stdout",
     "output_type": "stream",
     "text": [
      "Test RMSE: 2.453\n",
      "Test SMAPE: 64.058\n",
      "Test MAPE: inf\n",
      "MADTOWN_zh.wikipedia.org_all-access_spider\n"
     ]
    },
    {
     "name": "stderr",
     "output_type": "stream",
     "text": [
      "INFO:fbprophet:Disabling yearly seasonality. Run prophet with yearly_seasonality=True to override this.\n",
      "INFO:fbprophet:Disabling daily seasonality. Run prophet with daily_seasonality=True to override this.\n"
     ]
    },
    {
     "name": "stdout",
     "output_type": "stream",
     "text": [
      "Test RMSE: 14.940\n",
      "Test SMAPE: 47.031\n",
      "Test MAPE: 0.471\n",
      "MAMAMOO_zh.wikipedia.org_all-access_spider\n"
     ]
    },
    {
     "name": "stderr",
     "output_type": "stream",
     "text": [
      "<ipython-input-6-6ff66b60195e>:19: RuntimeWarning: divide by zero encountered in true_divide\n",
      "  mape = np.mean(np.abs(predictions.values - dftest['y'].values)/np.abs(dftest['y'].values))\n",
      "INFO:fbprophet:Disabling yearly seasonality. Run prophet with yearly_seasonality=True to override this.\n",
      "INFO:fbprophet:Disabling daily seasonality. Run prophet with daily_seasonality=True to override this.\n"
     ]
    },
    {
     "name": "stdout",
     "output_type": "stream",
     "text": [
      "Test RMSE: 5.174\n",
      "Test SMAPE: 84.076\n",
      "Test MAPE: inf\n",
      "MONSTA_X_zh.wikipedia.org_all-access_spider\n"
     ]
    },
    {
     "name": "stderr",
     "output_type": "stream",
     "text": [
      "INFO:fbprophet:Disabling yearly seasonality. Run prophet with yearly_seasonality=True to override this.\n",
      "INFO:fbprophet:Disabling daily seasonality. Run prophet with daily_seasonality=True to override this.\n"
     ]
    },
    {
     "name": "stdout",
     "output_type": "stream",
     "text": [
      "Test RMSE: 62.539\n",
      "Test SMAPE: 80.075\n",
      "Test MAPE: 1.569\n",
      "Madame_Antoine_zh.wikipedia.org_all-access_spider\n"
     ]
    },
    {
     "name": "stderr",
     "output_type": "stream",
     "text": [
      "INFO:fbprophet:Disabling yearly seasonality. Run prophet with yearly_seasonality=True to override this.\n",
      "INFO:fbprophet:Disabling daily seasonality. Run prophet with daily_seasonality=True to override this.\n"
     ]
    },
    {
     "name": "stdout",
     "output_type": "stream",
     "text": [
      "Test RMSE: 5.137\n",
      "Test SMAPE: 126.467\n",
      "Test MAPE: 0.752\n",
      "Mamamoo_zh.wikipedia.org_all-access_spider\n"
     ]
    },
    {
     "name": "stderr",
     "output_type": "stream",
     "text": [
      "INFO:fbprophet:Disabling yearly seasonality. Run prophet with yearly_seasonality=True to override this.\n",
      "INFO:fbprophet:Disabling daily seasonality. Run prophet with daily_seasonality=True to override this.\n"
     ]
    },
    {
     "name": "stdout",
     "output_type": "stream",
     "text": [
      "Test RMSE: 56.936\n",
      "Test SMAPE: 56.844\n",
      "Test MAPE: 0.661\n",
      "Mike_D._Angelo_zh.wikipedia.org_all-access_spider\n"
     ]
    },
    {
     "name": "stderr",
     "output_type": "stream",
     "text": [
      "INFO:fbprophet:Disabling yearly seasonality. Run prophet with yearly_seasonality=True to override this.\n",
      "INFO:fbprophet:Disabling daily seasonality. Run prophet with daily_seasonality=True to override this.\n"
     ]
    },
    {
     "name": "stdout",
     "output_type": "stream",
     "text": [
      "Test RMSE: 8.831\n",
      "Test SMAPE: 50.495\n",
      "Test MAPE: 0.566\n",
      "Miss_A_zh.wikipedia.org_all-access_spider\n"
     ]
    },
    {
     "name": "stderr",
     "output_type": "stream",
     "text": [
      "INFO:fbprophet:Disabling yearly seasonality. Run prophet with yearly_seasonality=True to override this.\n",
      "INFO:fbprophet:Disabling daily seasonality. Run prophet with daily_seasonality=True to override this.\n"
     ]
    },
    {
     "name": "stdout",
     "output_type": "stream",
     "text": [
      "Test RMSE: 5.804\n",
      "Test SMAPE: 28.881\n",
      "Test MAPE: 0.349\n",
      "Missing9_zh.wikipedia.org_all-access_spider\n",
      "Test RMSE: 21.376\n",
      "Test SMAPE: 76.662\n",
      "Test MAPE: 1.312\n"
     ]
    }
   ],
   "source": [
    "metrics_df = pd.DataFrame(columns=['RMSE','SMAPE','MAPE'])\n",
    "\n",
    "for column in train_1_reduce.columns:\n",
    "    print(column)\n",
    "    df = pd.DataFrame(train_1_reduce[column])\n",
    "    df = df.reset_index()\n",
    "    df.columns = ['ds', 'y']\n",
    "    dftrain = df[0:500]\n",
    "    dftest = df[500:550]\n",
    "    m = Prophet()\n",
    "    m.fit(dftrain)\n",
    "    future = m.make_future_dataframe(periods=50)\n",
    "    future.tail()\n",
    "    forecast = m.predict(future)\n",
    "    forecast[['ds', 'yhat', 'yhat_lower', 'yhat_upper']]\n",
    "    predictions = forecast['yhat'][500:550]\n",
    "    rmse = np.sqrt(mean_squared_error(dftest['y'], predictions))\n",
    "    smape = smape_fast(dftest['y'].values, predictions.values)\n",
    "    mape = np.mean(np.abs(predictions.values - dftest['y'].values)/np.abs(dftest['y'].values))\n",
    "    print(\"Test RMSE: %.3f\" % rmse)\n",
    "    print(\"Test SMAPE: %.3f\" % smape)\n",
    "    print(\"Test MAPE: %.3f\" % mape)\n",
    "    metrics_df.loc[column] = [rmse,smape,mape]"
   ]
  },
  {
   "cell_type": "code",
   "execution_count": 7,
   "metadata": {},
   "outputs": [
    {
     "data": {
      "text/html": [
       "<div>\n",
       "<style scoped>\n",
       "    .dataframe tbody tr th:only-of-type {\n",
       "        vertical-align: middle;\n",
       "    }\n",
       "\n",
       "    .dataframe tbody tr th {\n",
       "        vertical-align: top;\n",
       "    }\n",
       "\n",
       "    .dataframe thead th {\n",
       "        text-align: right;\n",
       "    }\n",
       "</style>\n",
       "<table border=\"1\" class=\"dataframe\">\n",
       "  <thead>\n",
       "    <tr style=\"text-align: right;\">\n",
       "      <th></th>\n",
       "      <th>RMSE</th>\n",
       "      <th>SMAPE</th>\n",
       "      <th>MAPE</th>\n",
       "    </tr>\n",
       "  </thead>\n",
       "  <tbody>\n",
       "    <tr>\n",
       "      <th>2NE1_zh.wikipedia.org_all-access_spider</th>\n",
       "      <td>29.650920</td>\n",
       "      <td>44.069894</td>\n",
       "      <td>0.504006</td>\n",
       "    </tr>\n",
       "    <tr>\n",
       "      <th>2PM_zh.wikipedia.org_all-access_spider</th>\n",
       "      <td>85.189853</td>\n",
       "      <td>65.973280</td>\n",
       "      <td>1.054314</td>\n",
       "    </tr>\n",
       "    <tr>\n",
       "      <th>3C_zh.wikipedia.org_all-access_spider</th>\n",
       "      <td>29.410125</td>\n",
       "      <td>55.640537</td>\n",
       "      <td>inf</td>\n",
       "    </tr>\n",
       "    <tr>\n",
       "      <th>4minute_zh.wikipedia.org_all-access_spider</th>\n",
       "      <td>8.782234</td>\n",
       "      <td>42.136536</td>\n",
       "      <td>0.552176</td>\n",
       "    </tr>\n",
       "    <tr>\n",
       "      <th>52_Hz_I_Love_You_zh.wikipedia.org_all-access_spider</th>\n",
       "      <td>26.066972</td>\n",
       "      <td>46.243170</td>\n",
       "      <td>0.528003</td>\n",
       "    </tr>\n",
       "    <tr>\n",
       "      <th>...</th>\n",
       "      <td>...</td>\n",
       "      <td>...</td>\n",
       "      <td>...</td>\n",
       "    </tr>\n",
       "    <tr>\n",
       "      <th>Madame_Antoine_zh.wikipedia.org_all-access_spider</th>\n",
       "      <td>5.137325</td>\n",
       "      <td>126.467054</td>\n",
       "      <td>0.751732</td>\n",
       "    </tr>\n",
       "    <tr>\n",
       "      <th>Mamamoo_zh.wikipedia.org_all-access_spider</th>\n",
       "      <td>56.936363</td>\n",
       "      <td>56.843627</td>\n",
       "      <td>0.660532</td>\n",
       "    </tr>\n",
       "    <tr>\n",
       "      <th>Mike_D._Angelo_zh.wikipedia.org_all-access_spider</th>\n",
       "      <td>8.831422</td>\n",
       "      <td>50.494681</td>\n",
       "      <td>0.565722</td>\n",
       "    </tr>\n",
       "    <tr>\n",
       "      <th>Miss_A_zh.wikipedia.org_all-access_spider</th>\n",
       "      <td>5.803914</td>\n",
       "      <td>28.880674</td>\n",
       "      <td>0.349314</td>\n",
       "    </tr>\n",
       "    <tr>\n",
       "      <th>Missing9_zh.wikipedia.org_all-access_spider</th>\n",
       "      <td>21.375775</td>\n",
       "      <td>76.662383</td>\n",
       "      <td>1.311642</td>\n",
       "    </tr>\n",
       "  </tbody>\n",
       "</table>\n",
       "<p>100 rows × 3 columns</p>\n",
       "</div>"
      ],
      "text/plain": [
       "                                                         RMSE       SMAPE  \\\n",
       "2NE1_zh.wikipedia.org_all-access_spider             29.650920   44.069894   \n",
       "2PM_zh.wikipedia.org_all-access_spider              85.189853   65.973280   \n",
       "3C_zh.wikipedia.org_all-access_spider               29.410125   55.640537   \n",
       "4minute_zh.wikipedia.org_all-access_spider           8.782234   42.136536   \n",
       "52_Hz_I_Love_You_zh.wikipedia.org_all-access_sp...  26.066972   46.243170   \n",
       "...                                                       ...         ...   \n",
       "Madame_Antoine_zh.wikipedia.org_all-access_spider    5.137325  126.467054   \n",
       "Mamamoo_zh.wikipedia.org_all-access_spider          56.936363   56.843627   \n",
       "Mike_D._Angelo_zh.wikipedia.org_all-access_spider    8.831422   50.494681   \n",
       "Miss_A_zh.wikipedia.org_all-access_spider            5.803914   28.880674   \n",
       "Missing9_zh.wikipedia.org_all-access_spider         21.375775   76.662383   \n",
       "\n",
       "                                                        MAPE  \n",
       "2NE1_zh.wikipedia.org_all-access_spider             0.504006  \n",
       "2PM_zh.wikipedia.org_all-access_spider              1.054314  \n",
       "3C_zh.wikipedia.org_all-access_spider                    inf  \n",
       "4minute_zh.wikipedia.org_all-access_spider          0.552176  \n",
       "52_Hz_I_Love_You_zh.wikipedia.org_all-access_sp...  0.528003  \n",
       "...                                                      ...  \n",
       "Madame_Antoine_zh.wikipedia.org_all-access_spider   0.751732  \n",
       "Mamamoo_zh.wikipedia.org_all-access_spider          0.660532  \n",
       "Mike_D._Angelo_zh.wikipedia.org_all-access_spider   0.565722  \n",
       "Miss_A_zh.wikipedia.org_all-access_spider           0.349314  \n",
       "Missing9_zh.wikipedia.org_all-access_spider         1.311642  \n",
       "\n",
       "[100 rows x 3 columns]"
      ]
     },
     "execution_count": 7,
     "metadata": {},
     "output_type": "execute_result"
    }
   ],
   "source": [
    "metrics_df"
   ]
  },
  {
   "cell_type": "code",
   "execution_count": 8,
   "metadata": {},
   "outputs": [],
   "source": [
    "moyenne_RMSE = metrics_df['RMSE'].mean()\n",
    "somme_RMSE = metrics_df['RMSE'].sum()\n",
    "moyenne_SMAPE = metrics_df['SMAPE'].mean()\n",
    "moyenne_MAPE = metrics_df['MAPE'].mean()"
   ]
  },
  {
   "cell_type": "code",
   "execution_count": 10,
   "metadata": {},
   "outputs": [
    {
     "data": {
      "text/plain": [
       "2NE1_zh.wikipedia.org_all-access_spider                0.504006\n",
       "2PM_zh.wikipedia.org_all-access_spider                 1.054314\n",
       "3C_zh.wikipedia.org_all-access_spider                       inf\n",
       "4minute_zh.wikipedia.org_all-access_spider             0.552176\n",
       "52_Hz_I_Love_You_zh.wikipedia.org_all-access_spider    0.528003\n",
       "                                                         ...   \n",
       "Madame_Antoine_zh.wikipedia.org_all-access_spider      0.751732\n",
       "Mamamoo_zh.wikipedia.org_all-access_spider             0.660532\n",
       "Mike_D._Angelo_zh.wikipedia.org_all-access_spider      0.565722\n",
       "Miss_A_zh.wikipedia.org_all-access_spider              0.349314\n",
       "Missing9_zh.wikipedia.org_all-access_spider            1.311642\n",
       "Name: MAPE, Length: 100, dtype: float64"
      ]
     },
     "execution_count": 10,
     "metadata": {},
     "output_type": "execute_result"
    }
   ],
   "source": [
    "metrics_df['MAPE']"
   ]
  },
  {
   "cell_type": "code",
   "execution_count": 9,
   "metadata": {},
   "outputs": [
    {
     "name": "stdout",
     "output_type": "stream",
     "text": [
      "Test moyenne RMSE: 20.977\n",
      "Test somme RMSE: 2097.731\n",
      "Test moyenne SMAPE: 36.670\n",
      "Test moyenne MAPE: inf\n"
     ]
    }
   ],
   "source": [
    "print(\"Test moyenne RMSE: %.3f\" % moyenne_RMSE)\n",
    "print(\"Test somme RMSE: %.3f\" % somme_RMSE)\n",
    "print(\"Test moyenne SMAPE: %.3f\" % moyenne_SMAPE)\n",
    "print(\"Test moyenne MAPE: %.3f\" % moyenne_MAPE)"
   ]
  }
 ],
 "metadata": {
  "kernelspec": {
   "display_name": "Python 3",
   "language": "python",
   "name": "python3"
  },
  "language_info": {
   "codemirror_mode": {
    "name": "ipython",
    "version": 3
   },
   "file_extension": ".py",
   "mimetype": "text/x-python",
   "name": "python",
   "nbconvert_exporter": "python",
   "pygments_lexer": "ipython3",
   "version": "3.8.3"
  }
 },
 "nbformat": 4,
 "nbformat_minor": 4
}
