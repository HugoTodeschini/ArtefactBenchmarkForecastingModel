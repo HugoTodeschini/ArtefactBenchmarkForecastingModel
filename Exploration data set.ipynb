{
 "cells": [
  {
   "cell_type": "markdown",
   "metadata": {},
   "source": [
    "<h1>Benchmark de modèles pour l'expertise forecasting</h1>"
   ]
  },
  {
   "cell_type": "markdown",
   "metadata": {},
   "source": [
    "<p>L'objectif est d'effectuer un benchmark du maximum de modèles afin de pourvoir alimenter le nautilus en données et permettre aux datascientists de l'utiliser pour choisir leurs modèles. Pour cela nous allons utiliser les données provenant d'une compétion Kaggle ayant pour objectif de prédire le future traffic d'une page Wikipedia. Nous allons effectuer la même préparation des données pour tout les modèles et les tester sur ces données.</p>\n",
    "<p>Kaggle https://www.kaggle.com/c/web-traffic-time-series-forecasting</p>\n",
    "<p>Nautilus https://artefactory.github.io/nautilus_forecasting/core.where_to_start/index.html</p>"
   ]
  },
  {
   "cell_type": "code",
   "execution_count": 1,
   "metadata": {},
   "outputs": [],
   "source": [
    "import numpy as np\n",
    "import pandas as pd\n",
    "import matplotlib.pyplot as plt"
   ]
  },
  {
   "cell_type": "markdown",
   "metadata": {},
   "source": [
    "<h2>Exploration des données</h2>"
   ]
  },
  {
   "cell_type": "markdown",
   "metadata": {},
   "source": [
    "<p>La compétition Kaggle nous propose 6 fichiers csv qui contiennent les visites quotidiennes de 145000 pages wikipedia.</p>"
   ]
  },
  {
   "cell_type": "code",
   "execution_count": 2,
   "metadata": {},
   "outputs": [],
   "source": [
    "key_1 = pd.read_csv('../Data/key_1.csv')\n",
    "key_2 = pd.read_csv('../Data/key_2.csv')\n",
    "sample_submission_1 = pd.read_csv('../Data/sample_submission_1.csv')\n",
    "sample_submission_2 = pd.read_csv('../Data/sample_submission_2.csv')\n",
    "train_1 = pd.read_csv('../Data/train_1.csv')\n",
    "train_2 = pd.read_csv('../Data/train_2.csv')"
   ]
  },
  {
   "cell_type": "code",
   "execution_count": 3,
   "metadata": {},
   "outputs": [
    {
     "name": "stdout",
     "output_type": "stream",
     "text": [
      "key_1 (8703780, 2)\n",
      "                                                Page            Id\n",
      "0  !vote_en.wikipedia.org_all-access_all-agents_2...  bf4edcf969af\n",
      "1  !vote_en.wikipedia.org_all-access_all-agents_2...  929ed2bf52b9\n",
      "2  !vote_en.wikipedia.org_all-access_all-agents_2...  ff29d0f51d5c\n",
      "3  !vote_en.wikipedia.org_all-access_all-agents_2...  e98873359be6\n",
      "4  !vote_en.wikipedia.org_all-access_all-agents_2...  fa012434263a\n",
      "\n",
      "key_2 (8993906, 2)\n",
      "                                                Page            Id\n",
      "0  007_スペクター_ja.wikipedia.org_all-access_all-agen...  0b293039387a\n",
      "1  007_スペクター_ja.wikipedia.org_all-access_all-agen...  7114389dd824\n",
      "2  007_スペクター_ja.wikipedia.org_all-access_all-agen...  057b02ff1f09\n",
      "3  007_スペクター_ja.wikipedia.org_all-access_all-agen...  bd2aca21caa3\n",
      "4  007_スペクター_ja.wikipedia.org_all-access_all-agen...  c0effb42cdd5\n",
      "\n",
      "sample_submission_1 (8703780, 2)\n",
      "             Id  Visits\n",
      "0  bf4edcf969af       0\n",
      "1  929ed2bf52b9       0\n",
      "2  ff29d0f51d5c       0\n",
      "3  e98873359be6       0\n",
      "4  fa012434263a       0\n",
      "\n",
      "sample_submission_2 (8993906, 2)\n",
      "             Id  Visits\n",
      "0  0b293039387a       0\n",
      "1  7114389dd824       0\n",
      "2  057b02ff1f09       0\n",
      "3  bd2aca21caa3       0\n",
      "4  c0effb42cdd5       0\n",
      "\n",
      "train_1 (145063, 551)\n",
      "                                                Page  2015-07-01  2015-07-02\n",
      "0            2NE1_zh.wikipedia.org_all-access_spider        18.0        11.0\n",
      "1             2PM_zh.wikipedia.org_all-access_spider        11.0        14.0\n",
      "2              3C_zh.wikipedia.org_all-access_spider         1.0         0.0\n",
      "3         4minute_zh.wikipedia.org_all-access_spider        35.0        13.0\n",
      "4  52_Hz_I_Love_You_zh.wikipedia.org_all-access_s...         NaN         NaN\n",
      "\n",
      "train_2 (145063, 804)\n",
      "                                                Page  2015-07-01  2015-07-02\n",
      "0            2NE1_zh.wikipedia.org_all-access_spider        18.0        11.0\n",
      "1             2PM_zh.wikipedia.org_all-access_spider        11.0        14.0\n",
      "2              3C_zh.wikipedia.org_all-access_spider         1.0         0.0\n",
      "3         4minute_zh.wikipedia.org_all-access_spider        35.0        13.0\n",
      "4  52_Hz_I_Love_You_zh.wikipedia.org_all-access_s...         NaN         NaN\n"
     ]
    }
   ],
   "source": [
    "print(\"key_1 \" + str(key_1.shape))\n",
    "print(key_1.head())\n",
    "print(\"\\nkey_2 \" + str(key_2.shape))\n",
    "print(key_2.head())\n",
    "print(\"\\nsample_submission_1 \" + str(sample_submission_1.shape))\n",
    "print(sample_submission_1.head())\n",
    "print(\"\\nsample_submission_2 \" + str(sample_submission_2.shape))\n",
    "print(sample_submission_2.head())\n",
    "print(\"\\ntrain_1 \" + str(train_1.shape))\n",
    "print(train_1.iloc[:,0:3].head())\n",
    "print(\"\\ntrain_2 \" + str(train_2.shape))\n",
    "print(train_2.iloc[:,0:3].head())"
   ]
  },
  {
   "cell_type": "markdown",
   "metadata": {},
   "source": [
    "<p>Les fichiers train contiennent le nombre de visite quotidienne pour chaque page. Le fichier key permet de faire le lien entre les nomes des page et les identifiants qui leurs sont donneés et qui sont utilisés pour uploader nos prédictions sur Kaggle. Les fichiers sample_submission sont eux des exemples de prédictions à soumettre sur Kaggle. Il y a deux versions dechaque fichiers car la compétion se faisaient en deux étapes: une première où on prédit les visites passé jusqu'au 12 septembre 2017 et la deuxième où on prédit les visites futurs 13 septembre 2017 jusqu'au 13 Novembre 2017.</p>\n",
    "<p>Nous allons travailler uniquement avec le fichier train_1</p>"
   ]
  },
  {
   "cell_type": "code",
   "execution_count": 4,
   "metadata": {},
   "outputs": [
    {
     "data": {
      "text/html": [
       "<div>\n",
       "<style scoped>\n",
       "    .dataframe tbody tr th:only-of-type {\n",
       "        vertical-align: middle;\n",
       "    }\n",
       "\n",
       "    .dataframe tbody tr th {\n",
       "        vertical-align: top;\n",
       "    }\n",
       "\n",
       "    .dataframe thead th {\n",
       "        text-align: right;\n",
       "    }\n",
       "</style>\n",
       "<table border=\"1\" class=\"dataframe\">\n",
       "  <thead>\n",
       "    <tr style=\"text-align: right;\">\n",
       "      <th></th>\n",
       "      <th>Page</th>\n",
       "      <th>2015-07-01</th>\n",
       "      <th>2015-07-02</th>\n",
       "      <th>2015-07-03</th>\n",
       "      <th>2015-07-04</th>\n",
       "      <th>2015-07-05</th>\n",
       "      <th>2015-07-06</th>\n",
       "      <th>2015-07-07</th>\n",
       "      <th>2015-07-08</th>\n",
       "      <th>2015-07-09</th>\n",
       "      <th>...</th>\n",
       "      <th>2016-12-22</th>\n",
       "      <th>2016-12-23</th>\n",
       "      <th>2016-12-24</th>\n",
       "      <th>2016-12-25</th>\n",
       "      <th>2016-12-26</th>\n",
       "      <th>2016-12-27</th>\n",
       "      <th>2016-12-28</th>\n",
       "      <th>2016-12-29</th>\n",
       "      <th>2016-12-30</th>\n",
       "      <th>2016-12-31</th>\n",
       "    </tr>\n",
       "  </thead>\n",
       "  <tbody>\n",
       "    <tr>\n",
       "      <th>0</th>\n",
       "      <td>2NE1_zh.wikipedia.org_all-access_spider</td>\n",
       "      <td>18.0</td>\n",
       "      <td>11.0</td>\n",
       "      <td>5.0</td>\n",
       "      <td>13.0</td>\n",
       "      <td>14.0</td>\n",
       "      <td>9.0</td>\n",
       "      <td>9.0</td>\n",
       "      <td>22.0</td>\n",
       "      <td>26.0</td>\n",
       "      <td>...</td>\n",
       "      <td>32.0</td>\n",
       "      <td>63.0</td>\n",
       "      <td>15.0</td>\n",
       "      <td>26.0</td>\n",
       "      <td>14.0</td>\n",
       "      <td>20.0</td>\n",
       "      <td>22.0</td>\n",
       "      <td>19.0</td>\n",
       "      <td>18.0</td>\n",
       "      <td>20.0</td>\n",
       "    </tr>\n",
       "    <tr>\n",
       "      <th>1</th>\n",
       "      <td>2PM_zh.wikipedia.org_all-access_spider</td>\n",
       "      <td>11.0</td>\n",
       "      <td>14.0</td>\n",
       "      <td>15.0</td>\n",
       "      <td>18.0</td>\n",
       "      <td>11.0</td>\n",
       "      <td>13.0</td>\n",
       "      <td>22.0</td>\n",
       "      <td>11.0</td>\n",
       "      <td>10.0</td>\n",
       "      <td>...</td>\n",
       "      <td>17.0</td>\n",
       "      <td>42.0</td>\n",
       "      <td>28.0</td>\n",
       "      <td>15.0</td>\n",
       "      <td>9.0</td>\n",
       "      <td>30.0</td>\n",
       "      <td>52.0</td>\n",
       "      <td>45.0</td>\n",
       "      <td>26.0</td>\n",
       "      <td>20.0</td>\n",
       "    </tr>\n",
       "    <tr>\n",
       "      <th>2</th>\n",
       "      <td>3C_zh.wikipedia.org_all-access_spider</td>\n",
       "      <td>1.0</td>\n",
       "      <td>0.0</td>\n",
       "      <td>1.0</td>\n",
       "      <td>1.0</td>\n",
       "      <td>0.0</td>\n",
       "      <td>4.0</td>\n",
       "      <td>0.0</td>\n",
       "      <td>3.0</td>\n",
       "      <td>4.0</td>\n",
       "      <td>...</td>\n",
       "      <td>3.0</td>\n",
       "      <td>1.0</td>\n",
       "      <td>1.0</td>\n",
       "      <td>7.0</td>\n",
       "      <td>4.0</td>\n",
       "      <td>4.0</td>\n",
       "      <td>6.0</td>\n",
       "      <td>3.0</td>\n",
       "      <td>4.0</td>\n",
       "      <td>17.0</td>\n",
       "    </tr>\n",
       "    <tr>\n",
       "      <th>3</th>\n",
       "      <td>4minute_zh.wikipedia.org_all-access_spider</td>\n",
       "      <td>35.0</td>\n",
       "      <td>13.0</td>\n",
       "      <td>10.0</td>\n",
       "      <td>94.0</td>\n",
       "      <td>4.0</td>\n",
       "      <td>26.0</td>\n",
       "      <td>14.0</td>\n",
       "      <td>9.0</td>\n",
       "      <td>11.0</td>\n",
       "      <td>...</td>\n",
       "      <td>32.0</td>\n",
       "      <td>10.0</td>\n",
       "      <td>26.0</td>\n",
       "      <td>27.0</td>\n",
       "      <td>16.0</td>\n",
       "      <td>11.0</td>\n",
       "      <td>17.0</td>\n",
       "      <td>19.0</td>\n",
       "      <td>10.0</td>\n",
       "      <td>11.0</td>\n",
       "    </tr>\n",
       "    <tr>\n",
       "      <th>4</th>\n",
       "      <td>52_Hz_I_Love_You_zh.wikipedia.org_all-access_s...</td>\n",
       "      <td>NaN</td>\n",
       "      <td>NaN</td>\n",
       "      <td>NaN</td>\n",
       "      <td>NaN</td>\n",
       "      <td>NaN</td>\n",
       "      <td>NaN</td>\n",
       "      <td>NaN</td>\n",
       "      <td>NaN</td>\n",
       "      <td>NaN</td>\n",
       "      <td>...</td>\n",
       "      <td>48.0</td>\n",
       "      <td>9.0</td>\n",
       "      <td>25.0</td>\n",
       "      <td>13.0</td>\n",
       "      <td>3.0</td>\n",
       "      <td>11.0</td>\n",
       "      <td>27.0</td>\n",
       "      <td>13.0</td>\n",
       "      <td>36.0</td>\n",
       "      <td>10.0</td>\n",
       "    </tr>\n",
       "  </tbody>\n",
       "</table>\n",
       "<p>5 rows × 551 columns</p>\n",
       "</div>"
      ],
      "text/plain": [
       "                                                Page  2015-07-01  2015-07-02  \\\n",
       "0            2NE1_zh.wikipedia.org_all-access_spider        18.0        11.0   \n",
       "1             2PM_zh.wikipedia.org_all-access_spider        11.0        14.0   \n",
       "2              3C_zh.wikipedia.org_all-access_spider         1.0         0.0   \n",
       "3         4minute_zh.wikipedia.org_all-access_spider        35.0        13.0   \n",
       "4  52_Hz_I_Love_You_zh.wikipedia.org_all-access_s...         NaN         NaN   \n",
       "\n",
       "   2015-07-03  2015-07-04  2015-07-05  2015-07-06  2015-07-07  2015-07-08  \\\n",
       "0         5.0        13.0        14.0         9.0         9.0        22.0   \n",
       "1        15.0        18.0        11.0        13.0        22.0        11.0   \n",
       "2         1.0         1.0         0.0         4.0         0.0         3.0   \n",
       "3        10.0        94.0         4.0        26.0        14.0         9.0   \n",
       "4         NaN         NaN         NaN         NaN         NaN         NaN   \n",
       "\n",
       "   2015-07-09  ...  2016-12-22  2016-12-23  2016-12-24  2016-12-25  \\\n",
       "0        26.0  ...        32.0        63.0        15.0        26.0   \n",
       "1        10.0  ...        17.0        42.0        28.0        15.0   \n",
       "2         4.0  ...         3.0         1.0         1.0         7.0   \n",
       "3        11.0  ...        32.0        10.0        26.0        27.0   \n",
       "4         NaN  ...        48.0         9.0        25.0        13.0   \n",
       "\n",
       "   2016-12-26  2016-12-27  2016-12-28  2016-12-29  2016-12-30  2016-12-31  \n",
       "0        14.0        20.0        22.0        19.0        18.0        20.0  \n",
       "1         9.0        30.0        52.0        45.0        26.0        20.0  \n",
       "2         4.0         4.0         6.0         3.0         4.0        17.0  \n",
       "3        16.0        11.0        17.0        19.0        10.0        11.0  \n",
       "4         3.0        11.0        27.0        13.0        36.0        10.0  \n",
       "\n",
       "[5 rows x 551 columns]"
      ]
     },
     "execution_count": 4,
     "metadata": {},
     "output_type": "execute_result"
    }
   ],
   "source": [
    "train_1 = pd.read_csv('../Data/train_1.csv')\n",
    "train_1.head()"
   ]
  },
  {
   "cell_type": "code",
   "execution_count": 5,
   "metadata": {},
   "outputs": [
    {
     "data": {
      "text/html": [
       "<div>\n",
       "<style scoped>\n",
       "    .dataframe tbody tr th:only-of-type {\n",
       "        vertical-align: middle;\n",
       "    }\n",
       "\n",
       "    .dataframe tbody tr th {\n",
       "        vertical-align: top;\n",
       "    }\n",
       "\n",
       "    .dataframe thead th {\n",
       "        text-align: right;\n",
       "    }\n",
       "</style>\n",
       "<table border=\"1\" class=\"dataframe\">\n",
       "  <thead>\n",
       "    <tr style=\"text-align: right;\">\n",
       "      <th>Page</th>\n",
       "      <th>2NE1_zh.wikipedia.org_all-access_spider</th>\n",
       "      <th>2PM_zh.wikipedia.org_all-access_spider</th>\n",
       "      <th>3C_zh.wikipedia.org_all-access_spider</th>\n",
       "    </tr>\n",
       "    <tr>\n",
       "      <th>Dates</th>\n",
       "      <th></th>\n",
       "      <th></th>\n",
       "      <th></th>\n",
       "    </tr>\n",
       "  </thead>\n",
       "  <tbody>\n",
       "    <tr>\n",
       "      <th>2015-07-01</th>\n",
       "      <td>18.0</td>\n",
       "      <td>11.0</td>\n",
       "      <td>1.0</td>\n",
       "    </tr>\n",
       "    <tr>\n",
       "      <th>2015-07-02</th>\n",
       "      <td>11.0</td>\n",
       "      <td>14.0</td>\n",
       "      <td>0.0</td>\n",
       "    </tr>\n",
       "    <tr>\n",
       "      <th>2015-07-03</th>\n",
       "      <td>5.0</td>\n",
       "      <td>15.0</td>\n",
       "      <td>1.0</td>\n",
       "    </tr>\n",
       "    <tr>\n",
       "      <th>2015-07-04</th>\n",
       "      <td>13.0</td>\n",
       "      <td>18.0</td>\n",
       "      <td>1.0</td>\n",
       "    </tr>\n",
       "    <tr>\n",
       "      <th>2015-07-05</th>\n",
       "      <td>14.0</td>\n",
       "      <td>11.0</td>\n",
       "      <td>0.0</td>\n",
       "    </tr>\n",
       "  </tbody>\n",
       "</table>\n",
       "</div>"
      ],
      "text/plain": [
       "Page        2NE1_zh.wikipedia.org_all-access_spider  \\\n",
       "Dates                                                 \n",
       "2015-07-01                                     18.0   \n",
       "2015-07-02                                     11.0   \n",
       "2015-07-03                                      5.0   \n",
       "2015-07-04                                     13.0   \n",
       "2015-07-05                                     14.0   \n",
       "\n",
       "Page        2PM_zh.wikipedia.org_all-access_spider  \\\n",
       "Dates                                                \n",
       "2015-07-01                                    11.0   \n",
       "2015-07-02                                    14.0   \n",
       "2015-07-03                                    15.0   \n",
       "2015-07-04                                    18.0   \n",
       "2015-07-05                                    11.0   \n",
       "\n",
       "Page        3C_zh.wikipedia.org_all-access_spider  \n",
       "Dates                                              \n",
       "2015-07-01                                    1.0  \n",
       "2015-07-02                                    0.0  \n",
       "2015-07-03                                    1.0  \n",
       "2015-07-04                                    1.0  \n",
       "2015-07-05                                    0.0  "
      ]
     },
     "execution_count": 5,
     "metadata": {},
     "output_type": "execute_result"
    }
   ],
   "source": [
    "train_1_reduce = train_1[0:3]\n",
    "train_1_reduce = train_1_reduce.fillna(0)\n",
    "train_1_reduce = train_1_reduce.set_index('Page')\n",
    "train_1_reduce = train_1_reduce.T.rename_axis('Dates')\n",
    "train_1_reduce.head()"
   ]
  },
  {
   "cell_type": "code",
   "execution_count": 6,
   "metadata": {},
   "outputs": [
    {
     "data": {
      "text/plain": [
       "dtype('O')"
      ]
     },
     "execution_count": 6,
     "metadata": {},
     "output_type": "execute_result"
    }
   ],
   "source": [
    "train_1_reduce.index.dtype"
   ]
  },
  {
   "cell_type": "code",
   "execution_count": 67,
   "metadata": {
    "scrolled": true
   },
   "outputs": [
    {
     "name": "stdout",
     "output_type": "stream",
     "text": [
      "count    550.000000\n",
      "mean       5.203636\n",
      "std       13.505932\n",
      "min        0.000000\n",
      "25%        2.000000\n",
      "50%        4.000000\n",
      "75%        5.000000\n",
      "max      210.000000\n",
      "Name: 3C_zh.wikipedia.org_all-access_spider, dtype: float64\n"
     ]
    },
    {
     "data": {
      "text/plain": [
       "<matplotlib.axes._subplots.AxesSubplot at 0x28dd479c7c0>"
      ]
     },
     "execution_count": 67,
     "metadata": {},
     "output_type": "execute_result"
    },
    {
     "data": {
      "image/png": "[encoded data removed]",
      "text/plain": [
       "<Figure size 432x288 with 1 Axes>"
      ]
     },
     "metadata": {
      "needs_background": "light"
     },
     "output_type": "display_data"
    }
   ],
   "source": [
    "print(train_1_reduce['3C_zh.wikipedia.org_all-access_spider'].describe())\n",
    "train_1_reduce['3C_zh.wikipedia.org_all-access_spider'].plot()"
   ]
  },
  {
   "cell_type": "markdown",
   "metadata": {},
   "source": [
    "<h2>Modèles ARIMA</h2>"
   ]
  },
  {
   "cell_type": "code",
   "execution_count": 29,
   "metadata": {},
   "outputs": [],
   "source": [
    "# https://www.machinelearningplus.com/time-series/arima-model-time-series-forecasting-python/\n",
    "from statsmodels.tsa.arima_model import ARIMA\n",
    "import pmdarima as pm\n",
    "from sklearn.metrics import mean_squared_error"
   ]
  },
  {
   "cell_type": "code",
   "execution_count": 44,
   "metadata": {},
   "outputs": [],
   "source": [
    "train = train_1_reduce[:500]\n",
    "test = train_1_reduce[500:550]"
   ]
  },
  {
   "cell_type": "code",
   "execution_count": 21,
   "metadata": {},
   "outputs": [
    {
     "data": {
      "text/html": [
       "<div>\n",
       "<style scoped>\n",
       "    .dataframe tbody tr th:only-of-type {\n",
       "        vertical-align: middle;\n",
       "    }\n",
       "\n",
       "    .dataframe tbody tr th {\n",
       "        vertical-align: top;\n",
       "    }\n",
       "\n",
       "    .dataframe thead th {\n",
       "        text-align: right;\n",
       "    }\n",
       "</style>\n",
       "<table border=\"1\" class=\"dataframe\">\n",
       "  <thead>\n",
       "    <tr style=\"text-align: right;\">\n",
       "      <th>Page</th>\n",
       "      <th>2NE1_zh.wikipedia.org_all-access_spider</th>\n",
       "      <th>2PM_zh.wikipedia.org_all-access_spider</th>\n",
       "      <th>3C_zh.wikipedia.org_all-access_spider</th>\n",
       "    </tr>\n",
       "    <tr>\n",
       "      <th>Dates</th>\n",
       "      <th></th>\n",
       "      <th></th>\n",
       "      <th></th>\n",
       "    </tr>\n",
       "  </thead>\n",
       "  <tbody>\n",
       "    <tr>\n",
       "      <th>2015-07-01</th>\n",
       "      <td>18.0</td>\n",
       "      <td>11.0</td>\n",
       "      <td>1.0</td>\n",
       "    </tr>\n",
       "    <tr>\n",
       "      <th>2015-07-02</th>\n",
       "      <td>11.0</td>\n",
       "      <td>14.0</td>\n",
       "      <td>0.0</td>\n",
       "    </tr>\n",
       "    <tr>\n",
       "      <th>2015-07-03</th>\n",
       "      <td>5.0</td>\n",
       "      <td>15.0</td>\n",
       "      <td>1.0</td>\n",
       "    </tr>\n",
       "    <tr>\n",
       "      <th>2015-07-04</th>\n",
       "      <td>13.0</td>\n",
       "      <td>18.0</td>\n",
       "      <td>1.0</td>\n",
       "    </tr>\n",
       "    <tr>\n",
       "      <th>2015-07-05</th>\n",
       "      <td>14.0</td>\n",
       "      <td>11.0</td>\n",
       "      <td>0.0</td>\n",
       "    </tr>\n",
       "  </tbody>\n",
       "</table>\n",
       "</div>"
      ],
      "text/plain": [
       "Page        2NE1_zh.wikipedia.org_all-access_spider  \\\n",
       "Dates                                                 \n",
       "2015-07-01                                     18.0   \n",
       "2015-07-02                                     11.0   \n",
       "2015-07-03                                      5.0   \n",
       "2015-07-04                                     13.0   \n",
       "2015-07-05                                     14.0   \n",
       "\n",
       "Page        2PM_zh.wikipedia.org_all-access_spider  \\\n",
       "Dates                                                \n",
       "2015-07-01                                    11.0   \n",
       "2015-07-02                                    14.0   \n",
       "2015-07-03                                    15.0   \n",
       "2015-07-04                                    18.0   \n",
       "2015-07-05                                    11.0   \n",
       "\n",
       "Page        3C_zh.wikipedia.org_all-access_spider  \n",
       "Dates                                              \n",
       "2015-07-01                                    1.0  \n",
       "2015-07-02                                    0.0  \n",
       "2015-07-03                                    1.0  \n",
       "2015-07-04                                    1.0  \n",
       "2015-07-05                                    0.0  "
      ]
     },
     "execution_count": 21,
     "metadata": {},
     "output_type": "execute_result"
    }
   ],
   "source": [
    "train.head()"
   ]
  },
  {
   "cell_type": "code",
   "execution_count": 68,
   "metadata": {},
   "outputs": [
    {
     "name": "stdout",
     "output_type": "stream",
     "text": [
      "Performing stepwise search to minimize aic\n",
      " ARIMA(1,0,1)(0,0,0)[0]             : AIC=3465.586, Time=0.08 sec\n",
      " ARIMA(0,0,0)(0,0,0)[0]             : AIC=3889.110, Time=0.01 sec\n",
      " ARIMA(1,0,0)(0,0,0)[0]             : AIC=3487.759, Time=0.04 sec\n",
      " ARIMA(0,0,1)(0,0,0)[0]             : AIC=3572.038, Time=0.06 sec\n",
      " ARIMA(2,0,1)(0,0,0)[0]             : AIC=3465.928, Time=0.19 sec\n",
      " ARIMA(1,0,2)(0,0,0)[0]             : AIC=3464.576, Time=0.07 sec\n",
      " ARIMA(0,0,2)(0,0,0)[0]             : AIC=3498.928, Time=0.12 sec\n",
      " ARIMA(2,0,2)(0,0,0)[0]             : AIC=inf, Time=0.55 sec\n",
      " ARIMA(1,0,3)(0,0,0)[0]             : AIC=3462.721, Time=0.27 sec\n",
      " ARIMA(0,0,3)(0,0,0)[0]             : AIC=3485.608, Time=0.14 sec\n",
      " ARIMA(2,0,3)(0,0,0)[0]             : AIC=inf, Time=0.71 sec\n",
      " ARIMA(1,0,3)(0,0,0)[0] intercept   : AIC=3448.955, Time=0.43 sec\n",
      " ARIMA(0,0,3)(0,0,0)[0] intercept   : AIC=3454.386, Time=0.31 sec\n",
      " ARIMA(1,0,2)(0,0,0)[0] intercept   : AIC=3447.157, Time=0.30 sec\n",
      " ARIMA(0,0,2)(0,0,0)[0] intercept   : AIC=3460.551, Time=0.26 sec\n",
      " ARIMA(1,0,1)(0,0,0)[0] intercept   : AIC=3445.441, Time=0.18 sec\n",
      " ARIMA(0,0,1)(0,0,0)[0] intercept   : AIC=3513.822, Time=0.20 sec\n",
      " ARIMA(1,0,0)(0,0,0)[0] intercept   : AIC=3474.305, Time=0.12 sec\n",
      " ARIMA(2,0,1)(0,0,0)[0] intercept   : AIC=3447.219, Time=0.28 sec\n",
      " ARIMA(0,0,0)(0,0,0)[0] intercept   : AIC=3797.338, Time=0.02 sec\n",
      " ARIMA(2,0,0)(0,0,0)[0] intercept   : AIC=3451.781, Time=0.18 sec\n",
      " ARIMA(2,0,2)(0,0,0)[0] intercept   : AIC=3449.088, Time=0.63 sec\n",
      "\n",
      "Best model:  ARIMA(1,0,1)(0,0,0)[0] intercept\n",
      "Total fit time: 5.162 seconds\n",
      "                               SARIMAX Results                                \n",
      "==============================================================================\n",
      "Dep. Variable:                      y   No. Observations:                  500\n",
      "Model:               SARIMAX(1, 0, 1)   Log Likelihood               -1718.721\n",
      "Date:                Wed, 26 Aug 2020   AIC                           3445.441\n",
      "Time:                        17:55:42   BIC                           3462.299\n",
      "Sample:                             0   HQIC                          3452.056\n",
      "                                - 500                                         \n",
      "Covariance Type:                  opg                                         \n",
      "==============================================================================\n",
      "                 coef    std err          z      P>|z|      [0.025      0.975]\n",
      "------------------------------------------------------------------------------\n",
      "intercept      2.3818      1.148      2.075      0.038       0.132       4.632\n",
      "ar.L1          0.5100      0.075      6.832      0.000       0.364       0.656\n",
      "ma.L1          0.3655      0.076      4.795      0.000       0.216       0.515\n",
      "sigma2        56.5674      0.689     82.063      0.000      55.216      57.918\n",
      "===================================================================================\n",
      "Ljung-Box (Q):                       11.10   Jarque-Bera (JB):           2046833.76\n",
      "Prob(Q):                              1.00   Prob(JB):                         0.00\n",
      "Heteroskedasticity (H):               1.78   Skew:                            15.84\n",
      "Prob(H) (two-sided):                  0.00   Kurtosis:                       314.84\n",
      "===================================================================================\n",
      "\n",
      "Warnings:\n",
      "[1] Covariance matrix calculated using the outer product of gradients (complex-step).\n"
     ]
    }
   ],
   "source": [
    "model = pm.auto_arima(train['3C_zh.wikipedia.org_all-access_spider'], start_p=1, start_q=1,\n",
    "                      test='adf',       # use adftest to find optimal 'd'\n",
    "                      max_p=3, max_q=3, # maximum p and q\n",
    "                      m=1,              # frequency of series\n",
    "                      d=None,           # let model determine 'd'\n",
    "                      seasonal=False,   # No Seasonality\n",
    "                      start_P=0, \n",
    "                      D=0, \n",
    "                      trace=True,\n",
    "                      error_action='ignore',  \n",
    "                      suppress_warnings=True, \n",
    "                      stepwise=True)\n",
    "\n",
    "print(model.summary())"
   ]
  },
  {
   "cell_type": "code",
   "execution_count": 69,
   "metadata": {},
   "outputs": [
    {
     "name": "stdout",
     "output_type": "stream",
     "text": [
      "[2.2557249  3.53210933 4.18301907 4.51495941 4.68423693 4.77056232\n",
      " 4.81458514 4.83703518 4.84848389 4.85432231 4.8572997  4.85881805\n",
      " 4.85959236 4.85998723 4.8601886  4.86029129 4.86034366 4.86037036\n",
      " 4.86038398 4.86039093 4.86039447 4.86039628 4.8603972  4.86039767\n",
      " 4.86039791 4.86039803 4.86039809 4.86039812 4.86039814 4.86039815\n",
      " 4.86039815 4.86039815 4.86039815 4.86039816 4.86039816 4.86039816\n",
      " 4.86039816 4.86039816 4.86039816 4.86039816 4.86039816 4.86039816\n",
      " 4.86039816 4.86039816 4.86039816 4.86039816 4.86039816 4.86039816\n",
      " 4.86039816 4.86039816]\n",
      "                   0\n",
      "Dates               \n",
      "2016-11-12  2.255725\n",
      "2016-11-13  3.532109\n",
      "2016-11-14  4.183019\n",
      "2016-11-15  4.514959\n",
      "2016-11-16  4.684237\n",
      "2016-11-17  4.770562\n",
      "2016-11-18  4.814585\n",
      "2016-11-19  4.837035\n",
      "2016-11-20  4.848484\n",
      "2016-11-21  4.854322\n",
      "2016-11-22  4.857300\n",
      "2016-11-23  4.858818\n",
      "2016-11-24  4.859592\n",
      "2016-11-25  4.859987\n",
      "2016-11-26  4.860189\n",
      "2016-11-27  4.860291\n",
      "2016-11-28  4.860344\n",
      "2016-11-29  4.860370\n",
      "2016-11-30  4.860384\n",
      "2016-12-01  4.860391\n",
      "2016-12-02  4.860394\n",
      "2016-12-03  4.860396\n",
      "2016-12-04  4.860397\n",
      "2016-12-05  4.860398\n",
      "2016-12-06  4.860398\n",
      "2016-12-07  4.860398\n",
      "2016-12-08  4.860398\n",
      "2016-12-09  4.860398\n",
      "2016-12-10  4.860398\n",
      "2016-12-11  4.860398\n",
      "2016-12-12  4.860398\n",
      "2016-12-13  4.860398\n",
      "2016-12-14  4.860398\n",
      "2016-12-15  4.860398\n",
      "2016-12-16  4.860398\n",
      "2016-12-17  4.860398\n",
      "2016-12-18  4.860398\n",
      "2016-12-19  4.860398\n",
      "2016-12-20  4.860398\n",
      "2016-12-21  4.860398\n",
      "2016-12-22  4.860398\n",
      "2016-12-23  4.860398\n",
      "2016-12-24  4.860398\n",
      "2016-12-25  4.860398\n",
      "2016-12-26  4.860398\n",
      "2016-12-27  4.860398\n",
      "2016-12-28  4.860398\n",
      "2016-12-29  4.860398\n",
      "2016-12-30  4.860398\n",
      "2016-12-31  4.860398\n",
      "Test RMSE: 29.153\n"
     ]
    }
   ],
   "source": [
    "preds, conf = model.predict(n_periods=test.shape[0], return_conf_int=True) # renvoie prédiction et intervalles de confiances\n",
    "print(preds)\n",
    "predictions = pd.DataFrame(preds, index = test.index)\n",
    "print(predictions)\n",
    "lower_series = pd.Series(conf[:, 0], index=test.index)\n",
    "upper_series = pd.Series(conf[:, 1], index=test.index)\n",
    "print(\"Test RMSE: %.3f\" % np.sqrt(mean_squared_error(valid['3C_zh.wikipedia.org_all-access_spider'], preds)))"
   ]
  },
  {
   "cell_type": "code",
   "execution_count": null,
   "metadata": {},
   "outputs": [],
   "source": [
    "# Accuracy metrics\n",
    "'''def forecast_accuracy(forecast, actual):\n",
    "    mape = np.mean(np.abs(forecast - actual)/np.abs(actual))  # MAPE\n",
    "    me = np.mean(forecast - actual)             # ME\n",
    "    mae = np.mean(np.abs(forecast - actual))    # MAE\n",
    "    mpe = np.mean((forecast - actual)/actual)   # MPE\n",
    "    rmse = np.mean((forecast - actual)**2)**.5  # RMSE\n",
    "    corr = np.corrcoef(forecast, actual)[0,1]   # corr\n",
    "    mins = np.amin(np.hstack([forecast[:,None], \n",
    "                              actual[:,None]]), axis=1)\n",
    "    maxs = np.amax(np.hstack([forecast[:,None], \n",
    "                              actual[:,None]]), axis=1)\n",
    "    minmax = 1 - np.mean(mins/maxs)             # minmax\n",
    "    acf1 = acf(fc-test)[1]                      # ACF1\n",
    "    return({'mape':mape, 'me':me, 'mae': mae, \n",
    "            'mpe': mpe, 'rmse':rmse, 'acf1':acf1, \n",
    "            'corr':corr, 'minmax':minmax})\n",
    "\n",
    "forecast_accuracy(fc, test.values)'''"
   ]
  },
  {
   "cell_type": "code",
   "execution_count": 70,
   "metadata": {},
   "outputs": [
    {
     "data": {
      "image/png": "[encoded data removed]",
      "text/plain": [
       "<Figure size 432x288 with 1 Axes>"
      ]
     },
     "metadata": {
      "needs_background": "light"
     },
     "output_type": "display_data"
    }
   ],
   "source": [
    "#plot the predictions for validation set\n",
    "plt.plot(train['3C_zh.wikipedia.org_all-access_spider'], label='Train')\n",
    "plt.plot(test['3C_zh.wikipedia.org_all-access_spider'], label='Valid')\n",
    "plt.plot(predictions, label='Prediction')\n",
    "plt.fill_between(lower_series.index, lower_series, upper_series, color='k', alpha=.15)\n",
    "plt.ylabel('views')\n",
    "plt.show()"
   ]
  },
  {
   "cell_type": "markdown",
   "metadata": {},
   "source": [
    "<h2>Modèles de boosting</h2>"
   ]
  },
  {
   "cell_type": "markdown",
   "metadata": {},
   "source": [
    "<h2>Prophète</h2>"
   ]
  },
  {
   "cell_type": "code",
   "execution_count": null,
   "metadata": {},
   "outputs": [],
   "source": []
  },
  {
   "cell_type": "code",
   "execution_count": null,
   "metadata": {},
   "outputs": [],
   "source": []
  },
  {
   "cell_type": "code",
   "execution_count": null,
   "metadata": {},
   "outputs": [],
   "source": []
  },
  {
   "cell_type": "code",
   "execution_count": null,
   "metadata": {},
   "outputs": [],
   "source": []
  }
 ],
 "metadata": {
  "kernelspec": {
   "display_name": "Python 3",
   "language": "python",
   "name": "python3"
  },
  "language_info": {
   "codemirror_mode": {
    "name": "ipython",
    "version": 3
   },
   "file_extension": ".py",
   "mimetype": "text/x-python",
   "name": "python",
   "nbconvert_exporter": "python",
   "pygments_lexer": "ipython3",
   "version": "3.8.3"
  }
 },
 "nbformat": 4,
 "nbformat_minor": 2
}
