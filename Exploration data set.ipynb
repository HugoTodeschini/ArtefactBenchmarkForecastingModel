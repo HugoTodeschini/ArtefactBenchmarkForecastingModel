{
 "cells": [
  {
   "cell_type": "markdown",
   "metadata": {},
   "source": [
    "<h1>Benchmark de modèles pour l'expertise forecasting</h1>"
   ]
  },
  {
   "cell_type": "markdown",
   "metadata": {},
   "source": [
    "<p>L'objectif est d'effectuer un benchmark du maximum de modèles afin de pourvoir alimenter le nautilus en données et permettre aux datascientists de l'utiliser pour choisir leurs modèles. Pour cela nous allons utiliser les données provenant d'une compétion Kaggle ayant pour objectif de prédire le future traffic d'une page Wikipedia. Nous allons effectuer la même préparation des données pour tout les modèles et les tester sur ces données.</p>\n",
    "<p>Kaggle https://www.kaggle.com/c/web-traffic-time-series-forecasting</p>\n",
    "<p>Nautilus https://artefactory.github.io/nautilus_forecasting/core.where_to_start/index.html</p>"
   ]
  },
  {
   "cell_type": "code",
   "execution_count": 1,
   "metadata": {},
   "outputs": [],
   "source": [
    "import numpy as np\n",
    "import pandas as pd\n",
    "import matplotlib.pyplot as plt"
   ]
  },
  {
   "cell_type": "markdown",
   "metadata": {},
   "source": [
    "<h2>Exploration des données</h2>"
   ]
  },
  {
   "cell_type": "markdown",
   "metadata": {},
   "source": [
    "<p>La compétition Kaggle nous propose 6 fichiers csv qui contiennent les visites quotidiennes de 145000 pages wikipedia.</p>"
   ]
  },
  {
   "cell_type": "code",
   "execution_count": 4,
   "metadata": {},
   "outputs": [],
   "source": [
    "key_1 = pd.read_csv('../Data/key_1.csv')\n",
    "key_2 = pd.read_csv('../Data/key_2.csv')\n",
    "sample_submission_1 = pd.read_csv('../Data/sample_submission_1.csv')\n",
    "sample_submission_2 = pd.read_csv('../Data/sample_submission_2.csv')\n",
    "train_1 = pd.read_csv('../Data/train_1.csv')\n",
    "train_2 = pd.read_csv('../Data/train_2.csv')"
   ]
  },
  {
   "cell_type": "code",
   "execution_count": 24,
   "metadata": {},
   "outputs": [
    {
     "name": "stdout",
     "output_type": "stream",
     "text": [
      "key_1 (8703780, 2)\n",
      "                                                Page            Id\n",
      "0  !vote_en.wikipedia.org_all-access_all-agents_2...  bf4edcf969af\n",
      "1  !vote_en.wikipedia.org_all-access_all-agents_2...  929ed2bf52b9\n",
      "2  !vote_en.wikipedia.org_all-access_all-agents_2...  ff29d0f51d5c\n",
      "3  !vote_en.wikipedia.org_all-access_all-agents_2...  e98873359be6\n",
      "4  !vote_en.wikipedia.org_all-access_all-agents_2...  fa012434263a\n",
      "\n",
      "key_2 (8993906, 2)\n",
      "                                                Page            Id\n",
      "0  007_スペクター_ja.wikipedia.org_all-access_all-agen...  0b293039387a\n",
      "1  007_スペクター_ja.wikipedia.org_all-access_all-agen...  7114389dd824\n",
      "2  007_スペクター_ja.wikipedia.org_all-access_all-agen...  057b02ff1f09\n",
      "3  007_スペクター_ja.wikipedia.org_all-access_all-agen...  bd2aca21caa3\n",
      "4  007_スペクター_ja.wikipedia.org_all-access_all-agen...  c0effb42cdd5\n",
      "\n",
      "sample_submission_1 (8703780, 2)\n",
      "             Id  Visits\n",
      "0  bf4edcf969af       0\n",
      "1  929ed2bf52b9       0\n",
      "2  ff29d0f51d5c       0\n",
      "3  e98873359be6       0\n",
      "4  fa012434263a       0\n",
      "\n",
      "sample_submission_2 (8993906, 2)\n",
      "             Id  Visits\n",
      "0  0b293039387a       0\n",
      "1  7114389dd824       0\n",
      "2  057b02ff1f09       0\n",
      "3  bd2aca21caa3       0\n",
      "4  c0effb42cdd5       0\n",
      "\n",
      "train_1 (145063, 551)\n",
      "                                                Page  2015-07-01  2015-07-02\n",
      "0            2NE1_zh.wikipedia.org_all-access_spider        18.0        11.0\n",
      "1             2PM_zh.wikipedia.org_all-access_spider        11.0        14.0\n",
      "2              3C_zh.wikipedia.org_all-access_spider         1.0         0.0\n",
      "3         4minute_zh.wikipedia.org_all-access_spider        35.0        13.0\n",
      "4  52_Hz_I_Love_You_zh.wikipedia.org_all-access_s...         NaN         NaN\n",
      "\n",
      "train_2 (145063, 804)\n",
      "                                                Page  2015-07-01  2015-07-02\n",
      "0            2NE1_zh.wikipedia.org_all-access_spider        18.0        11.0\n",
      "1             2PM_zh.wikipedia.org_all-access_spider        11.0        14.0\n",
      "2              3C_zh.wikipedia.org_all-access_spider         1.0         0.0\n",
      "3         4minute_zh.wikipedia.org_all-access_spider        35.0        13.0\n",
      "4  52_Hz_I_Love_You_zh.wikipedia.org_all-access_s...         NaN         NaN\n"
     ]
    }
   ],
   "source": [
    "print(\"key_1 \" + str(key_1.shape))\n",
    "print(key_1.head())\n",
    "print(\"\\nkey_2 \" + str(key_2.shape))\n",
    "print(key_2.head())\n",
    "print(\"\\nsample_submission_1 \" + str(sample_submission_1.shape))\n",
    "print(sample_submission_1.head())\n",
    "print(\"\\nsample_submission_2 \" + str(sample_submission_2.shape))\n",
    "print(sample_submission_2.head())\n",
    "print(\"\\ntrain_1 \" + str(train_1.shape))\n",
    "print(train_1.iloc[:,0:3].head())\n",
    "print(\"\\ntrain_2 \" + str(train_2.shape))\n",
    "print(train_2.iloc[:,0:3].head())"
   ]
  },
  {
   "cell_type": "markdown",
   "metadata": {},
   "source": [
    "<p>Les fichiers train contiennent le nombre de visite quotidienne pour chaque page. Le fichier key permet de faire le lien entre les nomes des page et les identifiants qui leurs sont donneés et qui sont utilisés pour uploader nos prédictions sur Kaggle. Les fichiers sample_submission sont eux des exemples de prédictions à soumettre sur Kaggle. Il y a deux versions dechaque fichiers car la compétion se faisaient en deux étapes: une première où on prédit les visites passé jusqu'au 12 septembre 2017 et la deuxième où on prédit les visites futurs 13 septembre 2017 jusqu'au 13 Novembre 2017.</p>\n",
    "<p>Nous allons travailler uniquement avec le fichier train_1</p>"
   ]
  },
  {
   "cell_type": "code",
   "execution_count": 4,
   "metadata": {},
   "outputs": [],
   "source": [
    "train_1 = pd.read_csv('../Data/train_1.csv')]"
   ]
  },
  {
   "cell_type": "code",
   "execution_count": 11,
   "metadata": {},
   "outputs": [
    {
     "data": {
      "text/html": [
       "<div>\n",
       "<style scoped>\n",
       "    .dataframe tbody tr th:only-of-type {\n",
       "        vertical-align: middle;\n",
       "    }\n",
       "\n",
       "    .dataframe tbody tr th {\n",
       "        vertical-align: top;\n",
       "    }\n",
       "\n",
       "    .dataframe thead th {\n",
       "        text-align: right;\n",
       "    }\n",
       "</style>\n",
       "<table border=\"1\" class=\"dataframe\">\n",
       "  <thead>\n",
       "    <tr style=\"text-align: right;\">\n",
       "      <th>Page</th>\n",
       "      <th>2NE1_zh.wikipedia.org_all-access_spider</th>\n",
       "      <th>2PM_zh.wikipedia.org_all-access_spider</th>\n",
       "      <th>3C_zh.wikipedia.org_all-access_spider</th>\n",
       "    </tr>\n",
       "    <tr>\n",
       "      <th>Dates</th>\n",
       "      <th></th>\n",
       "      <th></th>\n",
       "      <th></th>\n",
       "    </tr>\n",
       "  </thead>\n",
       "  <tbody>\n",
       "    <tr>\n",
       "      <th>2015-07-01</th>\n",
       "      <td>18.0</td>\n",
       "      <td>11.0</td>\n",
       "      <td>1.0</td>\n",
       "    </tr>\n",
       "    <tr>\n",
       "      <th>2015-07-02</th>\n",
       "      <td>11.0</td>\n",
       "      <td>14.0</td>\n",
       "      <td>0.0</td>\n",
       "    </tr>\n",
       "    <tr>\n",
       "      <th>2015-07-03</th>\n",
       "      <td>5.0</td>\n",
       "      <td>15.0</td>\n",
       "      <td>1.0</td>\n",
       "    </tr>\n",
       "    <tr>\n",
       "      <th>2015-07-04</th>\n",
       "      <td>13.0</td>\n",
       "      <td>18.0</td>\n",
       "      <td>1.0</td>\n",
       "    </tr>\n",
       "    <tr>\n",
       "      <th>2015-07-05</th>\n",
       "      <td>14.0</td>\n",
       "      <td>11.0</td>\n",
       "      <td>0.0</td>\n",
       "    </tr>\n",
       "  </tbody>\n",
       "</table>\n",
       "</div>"
      ],
      "text/plain": [
       "Page        2NE1_zh.wikipedia.org_all-access_spider  \\\n",
       "Dates                                                 \n",
       "2015-07-01                                     18.0   \n",
       "2015-07-02                                     11.0   \n",
       "2015-07-03                                      5.0   \n",
       "2015-07-04                                     13.0   \n",
       "2015-07-05                                     14.0   \n",
       "\n",
       "Page        2PM_zh.wikipedia.org_all-access_spider  \\\n",
       "Dates                                                \n",
       "2015-07-01                                    11.0   \n",
       "2015-07-02                                    14.0   \n",
       "2015-07-03                                    15.0   \n",
       "2015-07-04                                    18.0   \n",
       "2015-07-05                                    11.0   \n",
       "\n",
       "Page        3C_zh.wikipedia.org_all-access_spider  \n",
       "Dates                                              \n",
       "2015-07-01                                    1.0  \n",
       "2015-07-02                                    0.0  \n",
       "2015-07-03                                    1.0  \n",
       "2015-07-04                                    1.0  \n",
       "2015-07-05                                    0.0  "
      ]
     },
     "execution_count": 11,
     "metadata": {},
     "output_type": "execute_result"
    }
   ],
   "source": [
    "train_1_reduce = train_1[0:3]\n",
    "train_1_reduce = train_1_reduce.fillna(0)\n",
    "train_1_reduce = train_1_reduce.set_index('Page')\n",
    "train_1_reduce = train_1_reduce.T.rename_axis('Dates')\n",
    "train_1_reduce.head()"
   ]
  },
  {
   "cell_type": "code",
   "execution_count": 14,
   "metadata": {
    "scrolled": true
   },
   "outputs": [
    {
     "data": {
      "text/plain": [
       "<matplotlib.axes._subplots.AxesSubplot at 0x1480a937978>"
      ]
     },
     "execution_count": 14,
     "metadata": {},
     "output_type": "execute_result"
    },
    {
     "data": {
      "image/png": "[encoded data removed]",
      "text/plain": [
       "<Figure size 432x288 with 1 Axes>"
      ]
     },
     "metadata": {
      "needs_background": "light"
     },
     "output_type": "display_data"
    }
   ],
   "source": [
    "train_1_reduce['2PM_zh.wikipedia.org_all-access_spider'].plot()"
   ]
  },
  {
   "cell_type": "markdown",
   "metadata": {},
   "source": [
    "<h2>Modèles ARIMA</h2>"
   ]
  },
  {
   "cell_type": "markdown",
   "metadata": {},
   "source": [
    "<h2>Modèles de boosting</h2>"
   ]
  },
  {
   "cell_type": "markdown",
   "metadata": {},
   "source": [
    "<h2>Prophète</h2>"
   ]
  },
  {
   "cell_type": "code",
   "execution_count": null,
   "metadata": {},
   "outputs": [],
   "source": []
  },
  {
   "cell_type": "code",
   "execution_count": null,
   "metadata": {},
   "outputs": [],
   "source": []
  },
  {
   "cell_type": "code",
   "execution_count": null,
   "metadata": {},
   "outputs": [],
   "source": []
  },
  {
   "cell_type": "code",
   "execution_count": null,
   "metadata": {},
   "outputs": [],
   "source": []
  }
 ],
 "metadata": {
  "kernelspec": {
   "display_name": "Python 3",
   "language": "python",
   "name": "python3"
  },
  "language_info": {
   "codemirror_mode": {
    "name": "ipython",
    "version": 3
   },
   "file_extension": ".py",
   "mimetype": "text/x-python",
   "name": "python",
   "nbconvert_exporter": "python",
   "pygments_lexer": "ipython3",
   "version": "3.6.7"
  }
 },
 "nbformat": 4,
 "nbformat_minor": 2
}
